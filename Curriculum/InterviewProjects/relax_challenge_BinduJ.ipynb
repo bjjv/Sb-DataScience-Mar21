{
 "cells": [
  {
   "cell_type": "markdown",
   "id": "cf13054d",
   "metadata": {},
   "source": [
    "# Relax Inc. Take-Home Challenge"
   ]
  },
  {
   "cell_type": "markdown",
   "id": "6e5aeeb2",
   "metadata": {},
   "source": [
    "## Overview\n",
    "\n",
    "The data has two tables:\n",
    "\n",
    "* A user table (\"takehome_users\") with data on 12,000 users who signed up for the product in the last two years.\n",
    "* A usage summary table (\"takehome_user_engagement\") that has a row for each day that a user logged into the product.\n",
    "\n",
    "Defining  an  \"adopted  user\"   as  a  user  who   has  logged  into  the  product  on  three  separate days  in  at  least  one  seven-day  period ,  **identify  which  factors  predict  future  user adoption.**\n",
    "\n",
    "A user table includes:\n",
    "* name:  the  user's  name\n",
    "* object_id:   the  user's  id\n",
    "* email:  email  address\n",
    "* creation_source:   how  their  account  was  created.  This  takes  on  one of  5  values:\n",
    "  * PERSONAL_PROJECTS:  invited  to  join  another  user's personal  workspace\n",
    "  * GUEST_INVITE:  invited  to  an  organization  as  a  guest (limited  permissions)\n",
    "  * ORG_INVITE:  invited  to  an  organization  (as  a  full  member)\n",
    "  * SIGNUP:  signed  up  via  the  website\n",
    "  * SIGNUP_GOOGLE_AUTH:  signed  up  using  Google Authentication  (using  a  Google  email  account  for  their  login id)\n",
    "* creation_time:  when  they  created  their  account\n",
    "* last_session_creation_time:   unix  timestamp  of  last  login\n",
    "* opted_in_to_mailing_list:  whether  they  have  opted  into  receiving marketing  emails\n",
    "* enabled_for_marketing_drip:  whether  they  are  on  the  regular marketing  email  drip\n",
    "* org_id:   the  organization  (group  of  users)  they  belong  to \n",
    "* invited_by_user_id:   which  user  invited  them  to  join  (if  applicable).\n"
   ]
  },
  {
   "cell_type": "markdown",
   "id": "2d7519d1",
   "metadata": {},
   "source": [
    "## Import Libraries"
   ]
  },
  {
   "cell_type": "code",
   "execution_count": 1,
   "id": "ac856a04",
   "metadata": {},
   "outputs": [],
   "source": [
    "import pandas as pd\n",
    "import numpy as np\n",
    "import matplotlib.pyplot as plt\n",
    "import seaborn as sns\n",
    "%matplotlib inline"
   ]
  },
  {
   "cell_type": "markdown",
   "id": "ad0f2e41",
   "metadata": {},
   "source": [
    "## Load Data"
   ]
  },
  {
   "cell_type": "markdown",
   "id": "dd3e399c",
   "metadata": {},
   "source": [
    "### Loading a  user  table  ( \"takehome_users\" )  with  data  on  12,000  users  who  signed  up  for  the product  in  the  last  two  years"
   ]
  },
  {
   "cell_type": "code",
   "execution_count": 2,
   "id": "96ae6f5e",
   "metadata": {},
   "outputs": [
    {
     "data": {
      "text/html": [
       "<div>\n",
       "<style scoped>\n",
       "    .dataframe tbody tr th:only-of-type {\n",
       "        vertical-align: middle;\n",
       "    }\n",
       "\n",
       "    .dataframe tbody tr th {\n",
       "        vertical-align: top;\n",
       "    }\n",
       "\n",
       "    .dataframe thead th {\n",
       "        text-align: right;\n",
       "    }\n",
       "</style>\n",
       "<table border=\"1\" class=\"dataframe\">\n",
       "  <thead>\n",
       "    <tr style=\"text-align: right;\">\n",
       "      <th></th>\n",
       "      <th>object_id</th>\n",
       "      <th>creation_time</th>\n",
       "      <th>name</th>\n",
       "      <th>email</th>\n",
       "      <th>creation_source</th>\n",
       "      <th>last_session_creation_time</th>\n",
       "      <th>opted_in_to_mailing_list</th>\n",
       "      <th>enabled_for_marketing_drip</th>\n",
       "      <th>org_id</th>\n",
       "      <th>invited_by_user_id</th>\n",
       "    </tr>\n",
       "  </thead>\n",
       "  <tbody>\n",
       "    <tr>\n",
       "      <th>0</th>\n",
       "      <td>1</td>\n",
       "      <td>2014-04-22 03:53:30</td>\n",
       "      <td>Clausen August</td>\n",
       "      <td>AugustCClausen@yahoo.com</td>\n",
       "      <td>GUEST_INVITE</td>\n",
       "      <td>1.398139e+09</td>\n",
       "      <td>1</td>\n",
       "      <td>0</td>\n",
       "      <td>11</td>\n",
       "      <td>10803.0</td>\n",
       "    </tr>\n",
       "    <tr>\n",
       "      <th>1</th>\n",
       "      <td>2</td>\n",
       "      <td>2013-11-15 03:45:04</td>\n",
       "      <td>Poole Matthew</td>\n",
       "      <td>MatthewPoole@gustr.com</td>\n",
       "      <td>ORG_INVITE</td>\n",
       "      <td>1.396238e+09</td>\n",
       "      <td>0</td>\n",
       "      <td>0</td>\n",
       "      <td>1</td>\n",
       "      <td>316.0</td>\n",
       "    </tr>\n",
       "    <tr>\n",
       "      <th>2</th>\n",
       "      <td>3</td>\n",
       "      <td>2013-03-19 23:14:52</td>\n",
       "      <td>Bottrill Mitchell</td>\n",
       "      <td>MitchellBottrill@gustr.com</td>\n",
       "      <td>ORG_INVITE</td>\n",
       "      <td>1.363735e+09</td>\n",
       "      <td>0</td>\n",
       "      <td>0</td>\n",
       "      <td>94</td>\n",
       "      <td>1525.0</td>\n",
       "    </tr>\n",
       "    <tr>\n",
       "      <th>3</th>\n",
       "      <td>4</td>\n",
       "      <td>2013-05-21 08:09:28</td>\n",
       "      <td>Clausen Nicklas</td>\n",
       "      <td>NicklasSClausen@yahoo.com</td>\n",
       "      <td>GUEST_INVITE</td>\n",
       "      <td>1.369210e+09</td>\n",
       "      <td>0</td>\n",
       "      <td>0</td>\n",
       "      <td>1</td>\n",
       "      <td>5151.0</td>\n",
       "    </tr>\n",
       "    <tr>\n",
       "      <th>4</th>\n",
       "      <td>5</td>\n",
       "      <td>2013-01-17 10:14:20</td>\n",
       "      <td>Raw Grace</td>\n",
       "      <td>GraceRaw@yahoo.com</td>\n",
       "      <td>GUEST_INVITE</td>\n",
       "      <td>1.358850e+09</td>\n",
       "      <td>0</td>\n",
       "      <td>0</td>\n",
       "      <td>193</td>\n",
       "      <td>5240.0</td>\n",
       "    </tr>\n",
       "  </tbody>\n",
       "</table>\n",
       "</div>"
      ],
      "text/plain": [
       "   object_id        creation_time               name  \\\n",
       "0          1  2014-04-22 03:53:30     Clausen August   \n",
       "1          2  2013-11-15 03:45:04      Poole Matthew   \n",
       "2          3  2013-03-19 23:14:52  Bottrill Mitchell   \n",
       "3          4  2013-05-21 08:09:28    Clausen Nicklas   \n",
       "4          5  2013-01-17 10:14:20          Raw Grace   \n",
       "\n",
       "                        email creation_source  last_session_creation_time  \\\n",
       "0    AugustCClausen@yahoo.com    GUEST_INVITE                1.398139e+09   \n",
       "1      MatthewPoole@gustr.com      ORG_INVITE                1.396238e+09   \n",
       "2  MitchellBottrill@gustr.com      ORG_INVITE                1.363735e+09   \n",
       "3   NicklasSClausen@yahoo.com    GUEST_INVITE                1.369210e+09   \n",
       "4          GraceRaw@yahoo.com    GUEST_INVITE                1.358850e+09   \n",
       "\n",
       "   opted_in_to_mailing_list  enabled_for_marketing_drip  org_id  \\\n",
       "0                         1                           0      11   \n",
       "1                         0                           0       1   \n",
       "2                         0                           0      94   \n",
       "3                         0                           0       1   \n",
       "4                         0                           0     193   \n",
       "\n",
       "   invited_by_user_id  \n",
       "0             10803.0  \n",
       "1               316.0  \n",
       "2              1525.0  \n",
       "3              5151.0  \n",
       "4              5240.0  "
      ]
     },
     "execution_count": 2,
     "metadata": {},
     "output_type": "execute_result"
    }
   ],
   "source": [
    "users = pd.read_csv('takehome_users.csv', encoding='latin-1')\n",
    "users.head()"
   ]
  },
  {
   "cell_type": "markdown",
   "id": "16cf0eee",
   "metadata": {},
   "source": [
    "### Loading a  usage  summary  table  ( \"takehome_user_engagement\" )  that  has  a  row  for  each  day that  a  user  logged  into  the  product."
   ]
  },
  {
   "cell_type": "code",
   "execution_count": 3,
   "id": "0714b5ff",
   "metadata": {},
   "outputs": [
    {
     "data": {
      "text/html": [
       "<div>\n",
       "<style scoped>\n",
       "    .dataframe tbody tr th:only-of-type {\n",
       "        vertical-align: middle;\n",
       "    }\n",
       "\n",
       "    .dataframe tbody tr th {\n",
       "        vertical-align: top;\n",
       "    }\n",
       "\n",
       "    .dataframe thead th {\n",
       "        text-align: right;\n",
       "    }\n",
       "</style>\n",
       "<table border=\"1\" class=\"dataframe\">\n",
       "  <thead>\n",
       "    <tr style=\"text-align: right;\">\n",
       "      <th></th>\n",
       "      <th>time_stamp</th>\n",
       "      <th>user_id</th>\n",
       "      <th>visited</th>\n",
       "    </tr>\n",
       "  </thead>\n",
       "  <tbody>\n",
       "    <tr>\n",
       "      <th>0</th>\n",
       "      <td>2014-04-22 03:53:30</td>\n",
       "      <td>1</td>\n",
       "      <td>1</td>\n",
       "    </tr>\n",
       "    <tr>\n",
       "      <th>1</th>\n",
       "      <td>2013-11-15 03:45:04</td>\n",
       "      <td>2</td>\n",
       "      <td>1</td>\n",
       "    </tr>\n",
       "    <tr>\n",
       "      <th>2</th>\n",
       "      <td>2013-11-29 03:45:04</td>\n",
       "      <td>2</td>\n",
       "      <td>1</td>\n",
       "    </tr>\n",
       "    <tr>\n",
       "      <th>3</th>\n",
       "      <td>2013-12-09 03:45:04</td>\n",
       "      <td>2</td>\n",
       "      <td>1</td>\n",
       "    </tr>\n",
       "    <tr>\n",
       "      <th>4</th>\n",
       "      <td>2013-12-25 03:45:04</td>\n",
       "      <td>2</td>\n",
       "      <td>1</td>\n",
       "    </tr>\n",
       "  </tbody>\n",
       "</table>\n",
       "</div>"
      ],
      "text/plain": [
       "            time_stamp  user_id  visited\n",
       "0  2014-04-22 03:53:30        1        1\n",
       "1  2013-11-15 03:45:04        2        1\n",
       "2  2013-11-29 03:45:04        2        1\n",
       "3  2013-12-09 03:45:04        2        1\n",
       "4  2013-12-25 03:45:04        2        1"
      ]
     },
     "execution_count": 3,
     "metadata": {},
     "output_type": "execute_result"
    }
   ],
   "source": [
    "user_engage = pd.read_csv('takehome_user_engagement.csv', encoding='latin-1')\n",
    "user_engage.head()"
   ]
  },
  {
   "cell_type": "code",
   "execution_count": 4,
   "id": "7c4e6ba7",
   "metadata": {},
   "outputs": [
    {
     "name": "stdout",
     "output_type": "stream",
     "text": [
      "The users dataset dimensions are : (12000, 10)\n",
      "The usage summary dataset dimensions are : (207917, 3)\n"
     ]
    }
   ],
   "source": [
    "print(f'The users dataset dimensions are : {users.shape}')\n",
    "print(f'The usage summary dataset dimensions are : {user_engage.shape}')"
   ]
  },
  {
   "cell_type": "code",
   "execution_count": 5,
   "id": "b7d8f430",
   "metadata": {},
   "outputs": [
    {
     "name": "stdout",
     "output_type": "stream",
     "text": [
      "<class 'pandas.core.frame.DataFrame'>\n",
      "RangeIndex: 12000 entries, 0 to 11999\n",
      "Data columns (total 10 columns):\n",
      " #   Column                      Non-Null Count  Dtype  \n",
      "---  ------                      --------------  -----  \n",
      " 0   object_id                   12000 non-null  int64  \n",
      " 1   creation_time               12000 non-null  object \n",
      " 2   name                        12000 non-null  object \n",
      " 3   email                       12000 non-null  object \n",
      " 4   creation_source             12000 non-null  object \n",
      " 5   last_session_creation_time  8823 non-null   float64\n",
      " 6   opted_in_to_mailing_list    12000 non-null  int64  \n",
      " 7   enabled_for_marketing_drip  12000 non-null  int64  \n",
      " 8   org_id                      12000 non-null  int64  \n",
      " 9   invited_by_user_id          6417 non-null   float64\n",
      "dtypes: float64(2), int64(4), object(4)\n",
      "memory usage: 937.6+ KB\n"
     ]
    }
   ],
   "source": [
    "users.info()"
   ]
  },
  {
   "cell_type": "code",
   "execution_count": 6,
   "id": "e801d38f",
   "metadata": {},
   "outputs": [
    {
     "name": "stdout",
     "output_type": "stream",
     "text": [
      "<class 'pandas.core.frame.DataFrame'>\n",
      "RangeIndex: 207917 entries, 0 to 207916\n",
      "Data columns (total 3 columns):\n",
      " #   Column      Non-Null Count   Dtype \n",
      "---  ------      --------------   ----- \n",
      " 0   time_stamp  207917 non-null  object\n",
      " 1   user_id     207917 non-null  int64 \n",
      " 2   visited     207917 non-null  int64 \n",
      "dtypes: int64(2), object(1)\n",
      "memory usage: 4.8+ MB\n"
     ]
    }
   ],
   "source": [
    "user_engage.info()"
   ]
  },
  {
   "cell_type": "markdown",
   "id": "2b33d10b",
   "metadata": {},
   "source": [
    "## Data Wrangling"
   ]
  },
  {
   "cell_type": "code",
   "execution_count": 7,
   "id": "1a99fb61",
   "metadata": {},
   "outputs": [],
   "source": [
    "# Rename object id in users dataset\n",
    "users.rename(columns = {'object_id':'user_id'}, inplace = True)"
   ]
  },
  {
   "cell_type": "markdown",
   "id": "1b29f4ff",
   "metadata": {},
   "source": [
    "#### Check if all the user_ids is present in user_engage"
   ]
  },
  {
   "cell_type": "code",
   "execution_count": 8,
   "id": "fed8f069",
   "metadata": {},
   "outputs": [
    {
     "name": "stdout",
     "output_type": "stream",
     "text": [
      "Is user_id unique : True\n",
      "Is user name unique : False\n",
      "Is user email unique : False\n"
     ]
    }
   ],
   "source": [
    "print(f'Is user_id unique : {users[\"user_id\"].is_unique}')\n",
    "print(f'Is user name unique : {users[\"name\"].is_unique}')\n",
    "print(f'Is user email unique : {users[\"email\"].is_unique}')"
   ]
  },
  {
   "cell_type": "code",
   "execution_count": 9,
   "id": "d71de16b",
   "metadata": {},
   "outputs": [
    {
     "data": {
      "text/plain": [
       "(12000, 8823)"
      ]
     },
     "execution_count": 9,
     "metadata": {},
     "output_type": "execute_result"
    }
   ],
   "source": [
    "len(users.user_id.unique()), len(user_engage.user_id.unique())"
   ]
  },
  {
   "cell_type": "markdown",
   "id": "808fb5a2",
   "metadata": {},
   "source": [
    "There are 12000 unique user_ids and only about 8823 user_ids are logged to use the product. So 3177 users have not used the product and so we cannot test whether they adopted the product or not. "
   ]
  },
  {
   "cell_type": "markdown",
   "id": "d1e976eb",
   "metadata": {},
   "source": [
    "#### Convert to datatimes"
   ]
  },
  {
   "cell_type": "code",
   "execution_count": 10,
   "id": "6e8a0e51",
   "metadata": {},
   "outputs": [],
   "source": [
    "users['creation_time'] = pd.to_datetime(users['creation_time'], format=\"%Y-%m-%d %H:%M:%S\")\n",
    "users['last_session_creation_time'] = pd.to_datetime(users['last_session_creation_time'], unit='s')\n",
    "user_engage['time_stamp'] = pd.to_datetime(user_engage['time_stamp'], format=\"%Y-%m-%d\")"
   ]
  },
  {
   "cell_type": "markdown",
   "id": "51de623b",
   "metadata": {},
   "source": [
    "#### Convert the columns to boolean and categorical"
   ]
  },
  {
   "cell_type": "code",
   "execution_count": 11,
   "id": "7870d1b9",
   "metadata": {},
   "outputs": [],
   "source": [
    "users['opted_in_to_mailing_list'] = users['opted_in_to_mailing_list'].astype('bool')\n",
    "users['enabled_for_marketing_drip'] = users['enabled_for_marketing_drip'].astype('bool')\n",
    "\n",
    "#Convert to categorical\n",
    "users['creation_source']= users['creation_source'].astype('category')"
   ]
  },
  {
   "cell_type": "markdown",
   "id": "18ed3d33",
   "metadata": {},
   "source": [
    "## Exploratory Data Analysis"
   ]
  },
  {
   "cell_type": "code",
   "execution_count": 12,
   "id": "f8643a0d",
   "metadata": {},
   "outputs": [
    {
     "name": "stdout",
     "output_type": "stream",
     "text": [
      "<class 'pandas.core.frame.DataFrame'>\n",
      "RangeIndex: 12000 entries, 0 to 11999\n",
      "Data columns (total 10 columns):\n",
      " #   Column                      Non-Null Count  Dtype         \n",
      "---  ------                      --------------  -----         \n",
      " 0   user_id                     12000 non-null  int64         \n",
      " 1   creation_time               12000 non-null  datetime64[ns]\n",
      " 2   name                        12000 non-null  object        \n",
      " 3   email                       12000 non-null  object        \n",
      " 4   creation_source             12000 non-null  category      \n",
      " 5   last_session_creation_time  8823 non-null   datetime64[ns]\n",
      " 6   opted_in_to_mailing_list    12000 non-null  bool          \n",
      " 7   enabled_for_marketing_drip  12000 non-null  bool          \n",
      " 8   org_id                      12000 non-null  int64         \n",
      " 9   invited_by_user_id          6417 non-null   float64       \n",
      "dtypes: bool(2), category(1), datetime64[ns](2), float64(1), int64(2), object(2)\n",
      "memory usage: 691.7+ KB\n"
     ]
    }
   ],
   "source": [
    "users.info()"
   ]
  },
  {
   "cell_type": "markdown",
   "id": "96ab8c6e",
   "metadata": {},
   "source": [
    "### Determine an adopted user"
   ]
  },
  {
   "cell_type": "code",
   "execution_count": 13,
   "id": "a2112244",
   "metadata": {},
   "outputs": [],
   "source": [
    "user_engage_df = user_engage.copy()\n",
    "user_engage_df['week_year'] = user_engage_df['time_stamp'].dt.strftime('%W-%Y') #converting each day into week of year\n",
    "df1 = user_engage_df.groupby(['user_id', 'week_year']).count().reset_index()    #counting the total of each week \n",
    "df2 = df1.groupby(['user_id']).max()                                            #taking the maximum value\n",
    "df2['adopted_user'] = df2['visited'].apply(lambda x : x >= 3)                   #checking if each value is greater or equal to 3"
   ]
  },
  {
   "cell_type": "code",
   "execution_count": 14,
   "id": "38a77817",
   "metadata": {},
   "outputs": [
    {
     "data": {
      "text/plain": [
       "False    7379\n",
       "True     1444\n",
       "Name: adopted_user, dtype: int64"
      ]
     },
     "execution_count": 14,
     "metadata": {},
     "output_type": "execute_result"
    }
   ],
   "source": [
    "df2['adopted_user'].value_counts()"
   ]
  },
  {
   "cell_type": "code",
   "execution_count": 15,
   "id": "12c67f38",
   "metadata": {},
   "outputs": [
    {
     "data": {
      "image/png": "[encoded data removed]",
      "text/plain": [
       "<Figure size 432x288 with 1 Axes>"
      ]
     },
     "metadata": {
      "needs_background": "light"
     },
     "output_type": "display_data"
    }
   ],
   "source": [
    "sns.countplot(x='adopted_user', data=df2);"
   ]
  },
  {
   "cell_type": "markdown",
   "id": "5af01138",
   "metadata": {},
   "source": [
    "About 1444 users (adopted users) out of a total 8823 have logged into the product on three separate days in at least one seven-day period. The data is unbalanced between adopted users and not adopted users."
   ]
  },
  {
   "cell_type": "markdown",
   "id": "7467568d",
   "metadata": {},
   "source": [
    "### What is the adoption rate?"
   ]
  },
  {
   "cell_type": "code",
   "execution_count": 16,
   "id": "86380532",
   "metadata": {},
   "outputs": [
    {
     "name": "stdout",
     "output_type": "stream",
     "text": [
      "Total users who signed up for the product in the last two years : 12,000\n",
      "Total users who has logged into to the product : 8823 or 74%\n",
      "Users who have not logged into the product : 3177 or 26%\n",
      "Users who has logged into the product on three separate days in at least one seven-day period (Adopted) : 1444\n",
      "The adoption rate for these logged users is : 16%\n"
     ]
    }
   ],
   "source": [
    "print(f'Total users who signed up for the product in the last two years : 12,000')\n",
    "print(f'Total users who has logged into to the product : 8823 or {8823/12000:0.0%}')\n",
    "print(f'Users who have not logged into the product : {12000 - 8823} or {(12000 - 8823)/12000:0.0%}')\n",
    "print(f'Users who has logged into the product on three separate days in at least one seven-day period (Adopted) : 1444')\n",
    "print(f'The adoption rate for these logged users is : {1444/8823:0.0%}')"
   ]
  },
  {
   "cell_type": "markdown",
   "id": "8edbf097",
   "metadata": {},
   "source": [
    "#### Merge the adopted user information to users dataset"
   ]
  },
  {
   "cell_type": "code",
   "execution_count": 17,
   "id": "c1d1b04a",
   "metadata": {},
   "outputs": [
    {
     "data": {
      "text/html": [
       "<div>\n",
       "<style scoped>\n",
       "    .dataframe tbody tr th:only-of-type {\n",
       "        vertical-align: middle;\n",
       "    }\n",
       "\n",
       "    .dataframe tbody tr th {\n",
       "        vertical-align: top;\n",
       "    }\n",
       "\n",
       "    .dataframe thead th {\n",
       "        text-align: right;\n",
       "    }\n",
       "</style>\n",
       "<table border=\"1\" class=\"dataframe\">\n",
       "  <thead>\n",
       "    <tr style=\"text-align: right;\">\n",
       "      <th></th>\n",
       "      <th>week_year</th>\n",
       "      <th>time_stamp</th>\n",
       "      <th>visited</th>\n",
       "      <th>adopted_user</th>\n",
       "    </tr>\n",
       "    <tr>\n",
       "      <th>user_id</th>\n",
       "      <th></th>\n",
       "      <th></th>\n",
       "      <th></th>\n",
       "      <th></th>\n",
       "    </tr>\n",
       "  </thead>\n",
       "  <tbody>\n",
       "    <tr>\n",
       "      <th>1</th>\n",
       "      <td>16-2014</td>\n",
       "      <td>1</td>\n",
       "      <td>1</td>\n",
       "      <td>False</td>\n",
       "    </tr>\n",
       "    <tr>\n",
       "      <th>2</th>\n",
       "      <td>52-2013</td>\n",
       "      <td>3</td>\n",
       "      <td>3</td>\n",
       "      <td>True</td>\n",
       "    </tr>\n",
       "    <tr>\n",
       "      <th>3</th>\n",
       "      <td>11-2013</td>\n",
       "      <td>1</td>\n",
       "      <td>1</td>\n",
       "      <td>False</td>\n",
       "    </tr>\n",
       "    <tr>\n",
       "      <th>4</th>\n",
       "      <td>20-2013</td>\n",
       "      <td>1</td>\n",
       "      <td>1</td>\n",
       "      <td>False</td>\n",
       "    </tr>\n",
       "    <tr>\n",
       "      <th>5</th>\n",
       "      <td>03-2013</td>\n",
       "      <td>1</td>\n",
       "      <td>1</td>\n",
       "      <td>False</td>\n",
       "    </tr>\n",
       "  </tbody>\n",
       "</table>\n",
       "</div>"
      ],
      "text/plain": [
       "        week_year  time_stamp  visited  adopted_user\n",
       "user_id                                             \n",
       "1         16-2014           1        1         False\n",
       "2         52-2013           3        3          True\n",
       "3         11-2013           1        1         False\n",
       "4         20-2013           1        1         False\n",
       "5         03-2013           1        1         False"
      ]
     },
     "execution_count": 17,
     "metadata": {},
     "output_type": "execute_result"
    }
   ],
   "source": [
    "df2.head()"
   ]
  },
  {
   "cell_type": "code",
   "execution_count": 18,
   "id": "3ec65741",
   "metadata": {},
   "outputs": [
    {
     "data": {
      "text/html": [
       "<div>\n",
       "<style scoped>\n",
       "    .dataframe tbody tr th:only-of-type {\n",
       "        vertical-align: middle;\n",
       "    }\n",
       "\n",
       "    .dataframe tbody tr th {\n",
       "        vertical-align: top;\n",
       "    }\n",
       "\n",
       "    .dataframe thead th {\n",
       "        text-align: right;\n",
       "    }\n",
       "</style>\n",
       "<table border=\"1\" class=\"dataframe\">\n",
       "  <thead>\n",
       "    <tr style=\"text-align: right;\">\n",
       "      <th></th>\n",
       "      <th>user_id</th>\n",
       "      <th>creation_time</th>\n",
       "      <th>name</th>\n",
       "      <th>email</th>\n",
       "      <th>creation_source</th>\n",
       "      <th>last_session_creation_time</th>\n",
       "      <th>opted_in_to_mailing_list</th>\n",
       "      <th>enabled_for_marketing_drip</th>\n",
       "      <th>org_id</th>\n",
       "      <th>invited_by_user_id</th>\n",
       "      <th>adopted_user</th>\n",
       "    </tr>\n",
       "  </thead>\n",
       "  <tbody>\n",
       "    <tr>\n",
       "      <th>0</th>\n",
       "      <td>1</td>\n",
       "      <td>2014-04-22 03:53:30</td>\n",
       "      <td>Clausen August</td>\n",
       "      <td>AugustCClausen@yahoo.com</td>\n",
       "      <td>GUEST_INVITE</td>\n",
       "      <td>2014-04-22 03:53:30</td>\n",
       "      <td>True</td>\n",
       "      <td>False</td>\n",
       "      <td>11</td>\n",
       "      <td>10803.0</td>\n",
       "      <td>False</td>\n",
       "    </tr>\n",
       "    <tr>\n",
       "      <th>1</th>\n",
       "      <td>2</td>\n",
       "      <td>2013-11-15 03:45:04</td>\n",
       "      <td>Poole Matthew</td>\n",
       "      <td>MatthewPoole@gustr.com</td>\n",
       "      <td>ORG_INVITE</td>\n",
       "      <td>2014-03-31 03:45:04</td>\n",
       "      <td>False</td>\n",
       "      <td>False</td>\n",
       "      <td>1</td>\n",
       "      <td>316.0</td>\n",
       "      <td>True</td>\n",
       "    </tr>\n",
       "    <tr>\n",
       "      <th>2</th>\n",
       "      <td>3</td>\n",
       "      <td>2013-03-19 23:14:52</td>\n",
       "      <td>Bottrill Mitchell</td>\n",
       "      <td>MitchellBottrill@gustr.com</td>\n",
       "      <td>ORG_INVITE</td>\n",
       "      <td>2013-03-19 23:14:52</td>\n",
       "      <td>False</td>\n",
       "      <td>False</td>\n",
       "      <td>94</td>\n",
       "      <td>1525.0</td>\n",
       "      <td>False</td>\n",
       "    </tr>\n",
       "    <tr>\n",
       "      <th>3</th>\n",
       "      <td>4</td>\n",
       "      <td>2013-05-21 08:09:28</td>\n",
       "      <td>Clausen Nicklas</td>\n",
       "      <td>NicklasSClausen@yahoo.com</td>\n",
       "      <td>GUEST_INVITE</td>\n",
       "      <td>2013-05-22 08:09:28</td>\n",
       "      <td>False</td>\n",
       "      <td>False</td>\n",
       "      <td>1</td>\n",
       "      <td>5151.0</td>\n",
       "      <td>False</td>\n",
       "    </tr>\n",
       "    <tr>\n",
       "      <th>4</th>\n",
       "      <td>5</td>\n",
       "      <td>2013-01-17 10:14:20</td>\n",
       "      <td>Raw Grace</td>\n",
       "      <td>GraceRaw@yahoo.com</td>\n",
       "      <td>GUEST_INVITE</td>\n",
       "      <td>2013-01-22 10:14:20</td>\n",
       "      <td>False</td>\n",
       "      <td>False</td>\n",
       "      <td>193</td>\n",
       "      <td>5240.0</td>\n",
       "      <td>False</td>\n",
       "    </tr>\n",
       "  </tbody>\n",
       "</table>\n",
       "</div>"
      ],
      "text/plain": [
       "   user_id       creation_time               name                       email  \\\n",
       "0        1 2014-04-22 03:53:30     Clausen August    AugustCClausen@yahoo.com   \n",
       "1        2 2013-11-15 03:45:04      Poole Matthew      MatthewPoole@gustr.com   \n",
       "2        3 2013-03-19 23:14:52  Bottrill Mitchell  MitchellBottrill@gustr.com   \n",
       "3        4 2013-05-21 08:09:28    Clausen Nicklas   NicklasSClausen@yahoo.com   \n",
       "4        5 2013-01-17 10:14:20          Raw Grace          GraceRaw@yahoo.com   \n",
       "\n",
       "  creation_source last_session_creation_time  opted_in_to_mailing_list  \\\n",
       "0    GUEST_INVITE        2014-04-22 03:53:30                      True   \n",
       "1      ORG_INVITE        2014-03-31 03:45:04                     False   \n",
       "2      ORG_INVITE        2013-03-19 23:14:52                     False   \n",
       "3    GUEST_INVITE        2013-05-22 08:09:28                     False   \n",
       "4    GUEST_INVITE        2013-01-22 10:14:20                     False   \n",
       "\n",
       "   enabled_for_marketing_drip  org_id  invited_by_user_id  adopted_user  \n",
       "0                       False      11             10803.0         False  \n",
       "1                       False       1               316.0          True  \n",
       "2                       False      94              1525.0         False  \n",
       "3                       False       1              5151.0         False  \n",
       "4                       False     193              5240.0         False  "
      ]
     },
     "execution_count": 18,
     "metadata": {},
     "output_type": "execute_result"
    }
   ],
   "source": [
    "merged_users = pd.merge(users, df2[['adopted_user']], how='inner', on='user_id')\n",
    "merged_users.head()"
   ]
  },
  {
   "cell_type": "code",
   "execution_count": 19,
   "id": "7b922580",
   "metadata": {},
   "outputs": [
    {
     "name": "stdout",
     "output_type": "stream",
     "text": [
      "<class 'pandas.core.frame.DataFrame'>\n",
      "Int64Index: 8823 entries, 0 to 8822\n",
      "Data columns (total 11 columns):\n",
      " #   Column                      Non-Null Count  Dtype         \n",
      "---  ------                      --------------  -----         \n",
      " 0   user_id                     8823 non-null   int64         \n",
      " 1   creation_time               8823 non-null   datetime64[ns]\n",
      " 2   name                        8823 non-null   object        \n",
      " 3   email                       8823 non-null   object        \n",
      " 4   creation_source             8823 non-null   category      \n",
      " 5   last_session_creation_time  8823 non-null   datetime64[ns]\n",
      " 6   opted_in_to_mailing_list    8823 non-null   bool          \n",
      " 7   enabled_for_marketing_drip  8823 non-null   bool          \n",
      " 8   org_id                      8823 non-null   int64         \n",
      " 9   invited_by_user_id          4776 non-null   float64       \n",
      " 10  adopted_user                8823 non-null   bool          \n",
      "dtypes: bool(3), category(1), datetime64[ns](2), float64(1), int64(2), object(2)\n",
      "memory usage: 586.1+ KB\n"
     ]
    }
   ],
   "source": [
    "merged_users.info()"
   ]
  },
  {
   "cell_type": "markdown",
   "id": "d4bcb4d1",
   "metadata": {},
   "source": [
    "Attribute 'invited_by_user_id' is missing some values. We will fill it with value '0' as it does not denote any valid user id."
   ]
  },
  {
   "cell_type": "markdown",
   "id": "9ff145ca",
   "metadata": {},
   "source": [
    "#### Missing values"
   ]
  },
  {
   "cell_type": "code",
   "execution_count": 20,
   "id": "a3ec07c3",
   "metadata": {},
   "outputs": [],
   "source": [
    "# Fill missing values with 0\n",
    "merged_users['invited_by_user_id'].fillna(0, inplace=True)\n",
    "merged_users['invited_by_user_id'] = merged_users['invited_by_user_id'].astype(int)"
   ]
  },
  {
   "cell_type": "markdown",
   "id": "a5153f45",
   "metadata": {},
   "source": [
    "### predictive power score matrix"
   ]
  },
  {
   "cell_type": "code",
   "execution_count": 21,
   "id": "d9e5bdc9",
   "metadata": {},
   "outputs": [],
   "source": [
    "# Import package for predictive power score matrix\n",
    "import ppscore as pps\n",
    "import warnings\n",
    "warnings.filterwarnings(\"ignore\")"
   ]
  },
  {
   "cell_type": "code",
   "execution_count": 22,
   "id": "d04f53d5",
   "metadata": {},
   "outputs": [
    {
     "data": {
      "image/png": "[encoded data removed]",
      "text/plain": [
       "<Figure size 1800x1800 with 2 Axes>"
      ]
     },
     "metadata": {
      "needs_background": "light"
     },
     "output_type": "display_data"
    }
   ],
   "source": [
    "# Plot\n",
    "plt.figure(figsize=(25, 25))\n",
    "matrix_df = pps.matrix(merged_users).pivot(columns='x', index='y',  values='ppscore')\n",
    "sns.heatmap(matrix_df, annot=True, fmt=\".2f\", cmap='coolwarm')\n",
    "plt.title(\"Predictive Power Score Matrix\");"
   ]
  },
  {
   "cell_type": "markdown",
   "id": "c84b773a",
   "metadata": {},
   "source": [
    "From the Predictive Power Score Matrix, we can deduce the following:\n",
    "* creation_source can predict 'invited_by_user_id', so can remove invited_by_user_id from our model\n",
    "* enabled_for_marketing_drip and 'opted_in_to_mailing_list' are related, so we will use enabled_for_marketing_drip in our modeling\n",
    "* last_session_creation_time can predict adopter user. So we need to use this information in our modeling\n",
    "* user_id, name can be dropped from our modeling as they are personal information and do not add any value\n",
    "\n",
    "Final features that will be used further for predictive modeling are:\n",
    "* label - adopted_user\n",
    "* columns - creation_source, 'enabled_for_marketing_drip', org_id, last_session_creation_time"
   ]
  },
  {
   "cell_type": "markdown",
   "id": "fbef70f8",
   "metadata": {},
   "source": [
    "### Exploring the data further with adopted user label"
   ]
  },
  {
   "cell_type": "code",
   "execution_count": 23,
   "id": "11222aad",
   "metadata": {},
   "outputs": [
    {
     "data": {
      "image/png": "[encoded data removed]",
      "text/plain": [
       "<Figure size 864x216 with 2 Axes>"
      ]
     },
     "metadata": {
      "needs_background": "light"
     },
     "output_type": "display_data"
    },
    {
     "data": {
      "image/png": "[encoded data removed]",
      "text/plain": [
       "<Figure size 864x216 with 2 Axes>"
      ]
     },
     "metadata": {
      "needs_background": "light"
     },
     "output_type": "display_data"
    },
    {
     "data": {
      "image/png": "[encoded data removed]",
      "text/plain": [
       "<Figure size 864x216 with 2 Axes>"
      ]
     },
     "metadata": {
      "needs_background": "light"
     },
     "output_type": "display_data"
    }
   ],
   "source": [
    "category1 = ['creation_source', 'opted_in_to_mailing_list', 'enabled_for_marketing_drip']\n",
    "for var in category1:\n",
    "    fig, ax = plt.subplots(1, 2, figsize=(12, 3)) \n",
    "    sns.countplot(x=var, data=merged_users, ax=ax[0])\n",
    "    ax[0].set_title(f\"Counts of {var}\")\n",
    "    ax[0].set_xlabel('')\n",
    "    ax[0].set_ylabel('')\n",
    "    ax[0].set_xticklabels(ax[0].get_xticklabels(),rotation = 75)\n",
    "    \n",
    "    sns.countplot(x=var, data=merged_users, hue = 'adopted_user', ax=ax[1])\n",
    "    ax[1].set_title(f\"Counts of {var} with adopted user label\")\n",
    "    ax[1].set_xlabel('')\n",
    "    ax[1].set_ylabel('')\n",
    "    ax[1].set_xticklabels(ax[1].get_xticklabels(),rotation = 75)"
   ]
  },
  {
   "cell_type": "markdown",
   "id": "7d85a319",
   "metadata": {},
   "source": [
    "Majority of the users account was created by invitation to the organization. Personal projects was the least preferred way used to create users account.\n",
    "Among the adopted users - Invitation to the organization rank the highest followed by Guest Invite.  Personal projects is the least favorite among the adopted users. \n",
    "\n",
    "Majority of the users did not opt to receive marketing emails and they are not on the regular marketing email drip"
   ]
  },
  {
   "cell_type": "code",
   "execution_count": 24,
   "id": "a2900b64",
   "metadata": {},
   "outputs": [
    {
     "data": {
      "image/png": "[encoded data removed]",
      "text/plain": [
       "<Figure size 864x288 with 2 Axes>"
      ]
     },
     "metadata": {
      "needs_background": "light"
     },
     "output_type": "display_data"
    },
    {
     "data": {
      "image/png": "[encoded data removed]",
      "text/plain": [
       "<Figure size 864x288 with 2 Axes>"
      ]
     },
     "metadata": {
      "needs_background": "light"
     },
     "output_type": "display_data"
    }
   ],
   "source": [
    "#Create list of numerical column names\n",
    "numerical = ['org_id','invited_by_user_id']\n",
    "\n",
    "for var in numerical:\n",
    "    fig, ax = plt.subplots(1, 2, figsize=(12, 4))\n",
    "    sns.histplot(x=var, bins=50, data=merged_users ,ax=ax[0])\n",
    "    ax[0].set_title(f\"Histogram for {var}\")\n",
    "    \n",
    "    sns.histplot(x=var, hue='adopted_user', data=merged_users, ax=ax[1], alpha=0.5)  \n",
    "    ax[1].set_title(f\"Plotted with adopted_user data for {var}\")"
   ]
  },
  {
   "cell_type": "markdown",
   "id": "ac315af2",
   "metadata": {},
   "source": [
    "The organization (group of users) each user belong to is plotted above. Most of the users belong to 0-50 organization id.\n",
    "invited_by_user_id with value 0 shows that atleast half the users had missing information regarding who invited them."
   ]
  },
  {
   "cell_type": "code",
   "execution_count": 25,
   "id": "a7cf10ff",
   "metadata": {
    "scrolled": true
   },
   "outputs": [
    {
     "data": {
      "text/plain": [
       "0        4047\n",
       "4612       10\n",
       "11770       9\n",
       "2308        9\n",
       "730         8\n",
       "         ... \n",
       "6455        1\n",
       "3689        1\n",
       "1255        1\n",
       "6420        1\n",
       "5093        1\n",
       "Name: invited_by_user_id, Length: 2230, dtype: int64"
      ]
     },
     "execution_count": 25,
     "metadata": {},
     "output_type": "execute_result"
    }
   ],
   "source": [
    "merged_users['invited_by_user_id'].value_counts()"
   ]
  },
  {
   "cell_type": "code",
   "execution_count": 26,
   "id": "8e478fc6",
   "metadata": {},
   "outputs": [
    {
     "data": {
      "text/plain": [
       "0     228\n",
       "1     172\n",
       "2     150\n",
       "3     125\n",
       "4     122\n",
       "6     102\n",
       "9      91\n",
       "7      88\n",
       "5      87\n",
       "10     68\n",
       "8      67\n",
       "14     66\n",
       "17     58\n",
       "12     57\n",
       "11     56\n",
       "18     54\n",
       "20     50\n",
       "13     50\n",
       "33     47\n",
       "15     47\n",
       "Name: org_id, dtype: int64"
      ]
     },
     "execution_count": 26,
     "metadata": {},
     "output_type": "execute_result"
    }
   ],
   "source": [
    "merged_users['org_id'].value_counts()[:20]"
   ]
  },
  {
   "cell_type": "markdown",
   "id": "965f52e1",
   "metadata": {},
   "source": [
    "#### Binning Data  - org_id"
   ]
  },
  {
   "cell_type": "code",
   "execution_count": 27,
   "id": "09bd8202",
   "metadata": {},
   "outputs": [],
   "source": [
    "bins = [-np.inf, 100, 200, 300, merged_users['org_id'].max()]\n",
    "labels =['upto 100', 'upto 200', 'upto 300', 'upto 400']\n",
    "merged_users['org_id_binned'] = pd.cut(merged_users['org_id'], bins,labels=labels)"
   ]
  },
  {
   "cell_type": "code",
   "execution_count": 28,
   "id": "2afd01b0",
   "metadata": {},
   "outputs": [
    {
     "data": {
      "text/plain": [
       "upto 100    4225\n",
       "upto 200    1797\n",
       "upto 300    1424\n",
       "upto 400    1377\n",
       "Name: org_id_binned, dtype: int64"
      ]
     },
     "execution_count": 28,
     "metadata": {},
     "output_type": "execute_result"
    }
   ],
   "source": [
    "merged_users['org_id_binned'].value_counts()"
   ]
  },
  {
   "cell_type": "code",
   "execution_count": 29,
   "id": "332d207f",
   "metadata": {},
   "outputs": [
    {
     "data": {
      "image/png": "[encoded data removed]",
      "text/plain": [
       "<Figure size 864x288 with 2 Axes>"
      ]
     },
     "metadata": {
      "needs_background": "light"
     },
     "output_type": "display_data"
    }
   ],
   "source": [
    "fig, ax = plt.subplots(1, 2, figsize=(12, 4))\n",
    "sns.countplot(x='org_id_binned', data=merged_users ,ax=ax[0])\n",
    "ax[0].set_title(f\"Histogram for org_id_binned\");\n",
    "    \n",
    "sns.countplot(x='org_id_binned', hue='adopted_user', data=merged_users, ax=ax[1], alpha=0.5)  \n",
    "ax[1].set_title(f\"Plotted with adopted_user data for org_id_binned\");"
   ]
  },
  {
   "cell_type": "markdown",
   "id": "c742ae95",
   "metadata": {},
   "source": [
    "Most of the users belong to org id that falls within 0-100. The adopted users are distributed almost equally between each group of 100 org ids"
   ]
  },
  {
   "cell_type": "markdown",
   "id": "b6f28567",
   "metadata": {},
   "source": [
    "#### Email Address\n",
    "\n",
    "Since the user account is also created using website signups, it may be useful to capture the most common email domains of the users."
   ]
  },
  {
   "cell_type": "code",
   "execution_count": 30,
   "id": "5385903a",
   "metadata": {},
   "outputs": [],
   "source": [
    "def get_email_domain(email):\n",
    "    email_domain = email.split('@')[1]\n",
    "    return email_domain\n",
    "   \n",
    "merged_users['email_domain'] = merged_users['email'].apply(get_email_domain)"
   ]
  },
  {
   "cell_type": "code",
   "execution_count": 31,
   "id": "c862bd79",
   "metadata": {},
   "outputs": [
    {
     "data": {
      "text/plain": [
       "gmail.com         2930\n",
       "yahoo.com         1726\n",
       "jourrapide.com     883\n",
       "gustr.com          842\n",
       "cuvox.de           828\n",
       "hotmail.com        803\n",
       "luque.com            2\n",
       "mumdc.com            2\n",
       "oqpze.com            2\n",
       "xybhi.com            2\n",
       "xvnbr.com            2\n",
       "tgaim.com            1\n",
       "yhnuj.com            1\n",
       "upqhn.com            1\n",
       "mngrr.com            1\n",
       "Name: email_domain, dtype: int64"
      ]
     },
     "execution_count": 31,
     "metadata": {},
     "output_type": "execute_result"
    }
   ],
   "source": [
    "merged_users['email_domain'].value_counts()[:15]"
   ]
  },
  {
   "cell_type": "code",
   "execution_count": 32,
   "id": "f7078583",
   "metadata": {},
   "outputs": [],
   "source": [
    "# taking only the top email domains counts\n",
    "top_email_domain = ['gmail.com','yahoo.com', 'jourrapide.com','gustr.com','cuvox.de','hotmail.com']\n",
    "\n",
    "#new medical_specialty column\n",
    "merged_users['new_email_domain'] = merged_users['email_domain'].copy()\n",
    "\n",
    "#replace all email domain not in top with 'Other' category\n",
    "merged_users.loc[~merged_users.new_email_domain.isin(top_email_domain),'new_email_domain'] = 'Other'"
   ]
  },
  {
   "cell_type": "code",
   "execution_count": 33,
   "id": "fe4a63f4",
   "metadata": {},
   "outputs": [
    {
     "data": {
      "text/plain": [
       "gmail.com         2930\n",
       "yahoo.com         1726\n",
       "jourrapide.com     883\n",
       "gustr.com          842\n",
       "cuvox.de           828\n",
       "Other              811\n",
       "hotmail.com        803\n",
       "Name: new_email_domain, dtype: int64"
      ]
     },
     "execution_count": 33,
     "metadata": {},
     "output_type": "execute_result"
    }
   ],
   "source": [
    "merged_users['new_email_domain'].value_counts()"
   ]
  },
  {
   "cell_type": "code",
   "execution_count": 34,
   "id": "0bb8b8de",
   "metadata": {},
   "outputs": [
    {
     "data": {
      "image/png": "[encoded data removed]",
      "text/plain": [
       "<Figure size 864x216 with 2 Axes>"
      ]
     },
     "metadata": {
      "needs_background": "light"
     },
     "output_type": "display_data"
    }
   ],
   "source": [
    "fig, ax = plt.subplots(1, 2, figsize=(12, 3)) \n",
    "sns.countplot(x='new_email_domain', data=merged_users, ax=ax[0])\n",
    "ax[0].set_title(f\"Counts of new_email_domain\")\n",
    "ax[0].set_xlabel('')\n",
    "ax[0].set_ylabel('')\n",
    "ax[0].set_xticklabels(ax[0].get_xticklabels(),rotation = 75);\n",
    "    \n",
    "sns.countplot(x='new_email_domain', data=merged_users, hue = 'adopted_user', ax=ax[1])\n",
    "ax[1].set_title(f\"Counts of new_email_domain with adopted user label\")\n",
    "ax[1].set_xlabel('')\n",
    "ax[1].set_ylabel('')\n",
    "ax[1].set_xticklabels(ax[1].get_xticklabels(),rotation = 75);"
   ]
  },
  {
   "cell_type": "markdown",
   "id": "70c52b96",
   "metadata": {},
   "source": [
    "Users having gmail accounts are using it the most for account creation. This account is also used by the adopted users to sign up for their account creation"
   ]
  },
  {
   "cell_type": "markdown",
   "id": "e87a3fc8",
   "metadata": {},
   "source": [
    "#### Creation Time"
   ]
  },
  {
   "cell_type": "code",
   "execution_count": 35,
   "id": "924ed488",
   "metadata": {},
   "outputs": [],
   "source": [
    "merged_users['month_year'] =merged_users['creation_time'].dt.to_period('M')"
   ]
  },
  {
   "cell_type": "code",
   "execution_count": 36,
   "id": "dd5617f4",
   "metadata": {},
   "outputs": [
    {
     "data": {
      "text/plain": [
       "2014-05    701\n",
       "2014-04    542\n",
       "2014-03    530\n",
       "2014-02    411\n",
       "2014-01    441\n",
       "2013-12    382\n",
       "2013-11    385\n",
       "2013-10    396\n",
       "2013-09    376\n",
       "2013-08    375\n",
       "2013-07    318\n",
       "2013-06    318\n",
       "2013-05    332\n",
       "2013-04    325\n",
       "2013-03    345\n",
       "2013-02    301\n",
       "2013-01    315\n",
       "2012-12    302\n",
       "2012-11    292\n",
       "2012-10    305\n",
       "2012-09    280\n",
       "2012-08    269\n",
       "2012-07    282\n",
       "2012-06    287\n",
       "2012-05     13\n",
       "Freq: M, Name: month_year, dtype: int64"
      ]
     },
     "execution_count": 36,
     "metadata": {},
     "output_type": "execute_result"
    }
   ],
   "source": [
    "merged_users['month_year'].value_counts().sort_index(ascending=False)"
   ]
  },
  {
   "cell_type": "code",
   "execution_count": 37,
   "id": "47dedde4",
   "metadata": {},
   "outputs": [
    {
     "data": {
      "image/png": "[encoded data removed]",
      "text/plain": [
       "<Figure size 1080x360 with 2 Axes>"
      ]
     },
     "metadata": {
      "needs_background": "light"
     },
     "output_type": "display_data"
    }
   ],
   "source": [
    "order_by_month = merged_users['month_year'].value_counts().sort_index(ascending=False).index\n",
    "#order_by_month = merged_users['month_year'].value_counts().index\n",
    "\n",
    "fig, ax = plt.subplots(1, 2, figsize=(15, 5)) \n",
    "sns.countplot(x='month_year', data=merged_users, color='steelblue', order = order_by_month, ax=ax[0])\n",
    "ax[0].set_title(f\"Counts of month_year\")\n",
    "ax[0].set_xlabel('')\n",
    "ax[0].set_ylabel('')\n",
    "ax[0].set_xticklabels(ax[0].get_xticklabels(),rotation = 75);\n",
    "    \n",
    "sns.countplot(x='month_year', data=merged_users, hue = 'adopted_user', order = order_by_month, ax=ax[1])\n",
    "ax[1].set_title(f\"Counts of month_year with adopted user label\")\n",
    "ax[1].set_xlabel('')\n",
    "ax[1].set_ylabel('')\n",
    "ax[1].set_xticklabels(ax[1].get_xticklabels(),rotation = 75);"
   ]
  },
  {
   "cell_type": "markdown",
   "id": "0f74dfd1",
   "metadata": {},
   "source": [
    "The accounts were created from May 2012 to May 2014 (2 years). The lowest account creation was in May 2012 and the highest was in May 2014. We can see a ready increase in account creation from January 2014\n",
    "\n",
    "Although the account creation was increasing, user adoption was decreasing by May 2014 (which was the lowest from previous years).This can be because there was less time to capture the data that determines who is an adopted user."
   ]
  },
  {
   "cell_type": "code",
   "execution_count": 38,
   "id": "7e1e4f68",
   "metadata": {},
   "outputs": [
    {
     "data": {
      "image/png": "[encoded data removed]",
      "text/plain": [
       "<Figure size 1080x360 with 1 Axes>"
      ]
     },
     "metadata": {
      "needs_background": "light"
     },
     "output_type": "display_data"
    }
   ],
   "source": [
    "fig, ax = plt.subplots(figsize=(15, 5)) \n",
    "sns.countplot(x='month_year', data=merged_users, hue = 'creation_source', order = order_by_month, ax=ax)\n",
    "ax.set_title(f\"Counts of month_year with adopted user label\")\n",
    "ax.set_xlabel('')\n",
    "ax.set_ylabel('')\n",
    "ax.set_xticklabels(ax.get_xticklabels(),rotation = 75);"
   ]
  },
  {
   "cell_type": "markdown",
   "id": "b99054a4",
   "metadata": {},
   "source": [
    "From the above graph we can see that Organization Invite to be a full member is the highest among the user account creation. Signups are also another popular way for user creation"
   ]
  },
  {
   "cell_type": "code",
   "execution_count": 39,
   "id": "d2eb71f8",
   "metadata": {},
   "outputs": [
    {
     "data": {
      "image/png": "[encoded data removed]",
      "text/plain": [
       "<Figure size 1152x576 with 2 Axes>"
      ]
     },
     "metadata": {
      "needs_background": "light"
     },
     "output_type": "display_data"
    }
   ],
   "source": [
    "g = sns.catplot(x=\"month_year\", row=\"adopted_user\",height=4, aspect=4,\n",
    "            kind=\"count\",  color='steelblue', order = order_by_month, data=merged_users)\n",
    "g.set_xticklabels(rotation = 75);"
   ]
  },
  {
   "cell_type": "markdown",
   "id": "eef86533",
   "metadata": {},
   "source": [
    "By separating by month and year and between adopted users/not adopted users, we can see that users adopted the most in October 2013. And from 2014 January to May 2014 the adopted users were decreasing while new account creations were increasing during this time period. \n",
    "We can also see that the rate of adoption among the users were steady from June 2012 to March 2014."
   ]
  },
  {
   "cell_type": "markdown",
   "id": "84414476",
   "metadata": {},
   "source": [
    "#### last_session_creation_time"
   ]
  },
  {
   "cell_type": "code",
   "execution_count": 40,
   "id": "9e3a4913",
   "metadata": {},
   "outputs": [
    {
     "data": {
      "text/plain": [
       "2014-06     708\n",
       "2014-05    1412\n",
       "2014-04     476\n",
       "2014-03     419\n",
       "2014-02     357\n",
       "2014-01     360\n",
       "2013-12     318\n",
       "2013-11     319\n",
       "2013-10     329\n",
       "2013-09     309\n",
       "2013-08     319\n",
       "2013-07     279\n",
       "2013-06     278\n",
       "2013-05     274\n",
       "2013-04     290\n",
       "2013-03     284\n",
       "2013-02     243\n",
       "2013-01     266\n",
       "2012-12     248\n",
       "2012-11     229\n",
       "2012-10     251\n",
       "2012-09     236\n",
       "2012-08     199\n",
       "2012-07     218\n",
       "2012-06     200\n",
       "2012-05       2\n",
       "Freq: M, Name: last_session_month_year, dtype: int64"
      ]
     },
     "execution_count": 40,
     "metadata": {},
     "output_type": "execute_result"
    }
   ],
   "source": [
    "merged_users['last_session_month_year'] =merged_users['last_session_creation_time'].dt.to_period('M')\n",
    "merged_users['last_session_month_year'].value_counts().sort_index(ascending=False)"
   ]
  },
  {
   "cell_type": "code",
   "execution_count": 41,
   "id": "1960d572",
   "metadata": {},
   "outputs": [
    {
     "data": {
      "image/png": "[encoded data removed]",
      "text/plain": [
       "<Figure size 1080x360 with 2 Axes>"
      ]
     },
     "metadata": {
      "needs_background": "light"
     },
     "output_type": "display_data"
    }
   ],
   "source": [
    "order_months =  merged_users['last_session_month_year'].value_counts().sort_index(ascending=False).index\n",
    "\n",
    "fig, ax = plt.subplots(1, 2, figsize=(15, 5)) \n",
    "sns.countplot(x='last_session_month_year', data=merged_users, color='steelblue', order = order_months, ax=ax[0])\n",
    "ax[0].set_title(f\"Counts of last_session_month_year\")\n",
    "ax[0].set_xlabel('')\n",
    "ax[0].set_ylabel('')\n",
    "ax[0].set_xticklabels(ax[0].get_xticklabels(),rotation = 75);\n",
    "    \n",
    "sns.countplot(x='last_session_month_year', data=merged_users, hue = 'adopted_user', order = order_months, ax=ax[1])\n",
    "ax[1].set_title(f\"Counts of last_session_month_year with adopted user label\")\n",
    "ax[1].set_xlabel('')\n",
    "ax[1].set_ylabel('')\n",
    "ax[1].set_xticklabels(ax[1].get_xticklabels(),rotation = 75);"
   ]
  },
  {
   "cell_type": "markdown",
   "id": "9041e4ec",
   "metadata": {},
   "source": [
    "More users have last logged in May 2014 and we can also see that more adopted users have last logged in during May and June 2014. The adopted users' last login sessions are almost at the same level in the previous months"
   ]
  },
  {
   "cell_type": "markdown",
   "id": "20777777",
   "metadata": {},
   "source": [
    "### Difference between creation time and last session time"
   ]
  },
  {
   "cell_type": "code",
   "execution_count": 42,
   "id": "d8ed452d",
   "metadata": {},
   "outputs": [
    {
     "data": {
      "text/plain": [
       "0      3027\n",
       "1      1617\n",
       "2       822\n",
       "3       405\n",
       "4       195\n",
       "       ... \n",
       "552       1\n",
       "424       1\n",
       "176       1\n",
       "550       1\n",
       "425       1\n",
       "Name: diff_created_lastsession, Length: 512, dtype: int64"
      ]
     },
     "execution_count": 42,
     "metadata": {},
     "output_type": "execute_result"
    }
   ],
   "source": [
    "merged_users['diff_created_lastsession'] = (merged_users['last_session_creation_time'] - merged_users['creation_time']).dt.days\n",
    "merged_users['diff_created_lastsession'].value_counts()"
   ]
  },
  {
   "cell_type": "code",
   "execution_count": 43,
   "id": "42bc6ea9",
   "metadata": {},
   "outputs": [
    {
     "data": {
      "image/png": "[encoded data removed]",
      "text/plain": [
       "<Figure size 1804x576 with 1 Axes>"
      ]
     },
     "metadata": {
      "needs_background": "light"
     },
     "output_type": "display_data"
    }
   ],
   "source": [
    "sns.displot(x='diff_created_lastsession', hue='adopted_user', bins = 50, data = merged_users, height = 8, aspect=3);"
   ]
  },
  {
   "cell_type": "markdown",
   "id": "29836aa6",
   "metadata": {},
   "source": [
    "The difference between user account creation time and last login session for most users is 0 to 1 days. So these users cannot meet the criteria of being an adopted user."
   ]
  },
  {
   "cell_type": "markdown",
   "id": "b27f1e49",
   "metadata": {},
   "source": [
    "### Binning data - difference between creation time and last session login"
   ]
  },
  {
   "cell_type": "code",
   "execution_count": 44,
   "id": "ed387021",
   "metadata": {},
   "outputs": [],
   "source": [
    "bins = [-np.inf, 100, merged_users['diff_created_lastsession'].max()]\n",
    "labels =['upto 100 days', 'above 100 days']\n",
    "merged_users['history'] = pd.cut(merged_users['diff_created_lastsession'], bins,labels=labels)"
   ]
  },
  {
   "cell_type": "code",
   "execution_count": 45,
   "id": "6c07b866",
   "metadata": {},
   "outputs": [
    {
     "data": {
      "text/plain": [
       "upto 100 days     7484\n",
       "above 100 days    1339\n",
       "Name: history, dtype: int64"
      ]
     },
     "execution_count": 45,
     "metadata": {},
     "output_type": "execute_result"
    }
   ],
   "source": [
    "merged_users['history'].value_counts()"
   ]
  },
  {
   "cell_type": "code",
   "execution_count": 46,
   "id": "01a5087d",
   "metadata": {},
   "outputs": [
    {
     "data": {
      "image/png": "[encoded data removed]",
      "text/plain": [
       "<Figure size 432x288 with 1 Axes>"
      ]
     },
     "metadata": {
      "needs_background": "light"
     },
     "output_type": "display_data"
    }
   ],
   "source": [
    "sns.countplot('history', hue='adopted_user', data=merged_users);"
   ]
  },
  {
   "cell_type": "markdown",
   "id": "b143ee73",
   "metadata": {},
   "source": [
    "#### Relation between 'invited_by_user_id' and 'creation_source'"
   ]
  },
  {
   "cell_type": "code",
   "execution_count": 47,
   "id": "8162c9d8",
   "metadata": {},
   "outputs": [
    {
     "data": {
      "image/png": "[encoded data removed]",
      "text/plain": [
       "<Figure size 432x288 with 1 Axes>"
      ]
     },
     "metadata": {
      "needs_background": "light"
     },
     "output_type": "display_data"
    }
   ],
   "source": [
    "sns.scatterplot(x='creation_source', y='invited_by_user_id', data=merged_users)\n",
    "plt.xticks(rotation=45);"
   ]
  },
  {
   "cell_type": "markdown",
   "id": "09701858",
   "metadata": {
    "hideCode": true
   },
   "source": [
    "Invited_by_user_id had a lot of missing values because personal_projects, signup and signup_google_auth did not require any invitation by users. invited_by_user_id is required only for Guest invite and Org_invite."
   ]
  },
  {
   "cell_type": "markdown",
   "id": "f7340687",
   "metadata": {},
   "source": [
    "#### Relation between 'enabled_for_marketing_drip' ,'opted_in_to_mailing_list' and 'adopted_user'"
   ]
  },
  {
   "cell_type": "code",
   "execution_count": 48,
   "id": "bf096249",
   "metadata": {
    "scrolled": true
   },
   "outputs": [
    {
     "data": {
      "image/png": "[encoded data removed]",
      "text/plain": [
       "<Figure size 723.5x288 with 2 Axes>"
      ]
     },
     "metadata": {
      "needs_background": "light"
     },
     "output_type": "display_data"
    }
   ],
   "source": [
    "g = sns.catplot(x=\"opted_in_to_mailing_list\",col = 'adopted_user', hue = 'enabled_for_marketing_drip', height=4, aspect=1,\n",
    "            kind=\"count\", data=merged_users)\n",
    "g.set_xticklabels(rotation = 75);"
   ]
  },
  {
   "cell_type": "markdown",
   "id": "0e6de746",
   "metadata": {
    "hidePrompt": false
   },
   "source": [
    "Whether an user is an adopted user or not, those who have opted into mailing list are also enabled for marketing drip"
   ]
  },
  {
   "cell_type": "markdown",
   "id": "d2d1dc7e",
   "metadata": {},
   "source": [
    "## Modeling"
   ]
  },
  {
   "cell_type": "code",
   "execution_count": 50,
   "id": "34d74f06",
   "metadata": {},
   "outputs": [
    {
     "name": "stdout",
     "output_type": "stream",
     "text": [
      "<class 'pandas.core.frame.DataFrame'>\n",
      "Int64Index: 8823 entries, 0 to 8822\n",
      "Data columns (total 18 columns):\n",
      " #   Column                      Non-Null Count  Dtype         \n",
      "---  ------                      --------------  -----         \n",
      " 0   user_id                     8823 non-null   int64         \n",
      " 1   creation_time               8823 non-null   datetime64[ns]\n",
      " 2   name                        8823 non-null   object        \n",
      " 3   email                       8823 non-null   object        \n",
      " 4   creation_source             8823 non-null   category      \n",
      " 5   last_session_creation_time  8823 non-null   datetime64[ns]\n",
      " 6   opted_in_to_mailing_list    8823 non-null   bool          \n",
      " 7   enabled_for_marketing_drip  8823 non-null   bool          \n",
      " 8   org_id                      8823 non-null   int64         \n",
      " 9   invited_by_user_id          8823 non-null   int32         \n",
      " 10  adopted_user                8823 non-null   bool          \n",
      " 11  org_id_binned               8823 non-null   category      \n",
      " 12  email_domain                8823 non-null   object        \n",
      " 13  new_email_domain            8823 non-null   object        \n",
      " 14  month_year                  8823 non-null   period[M]     \n",
      " 15  last_session_month_year     8823 non-null   period[M]     \n",
      " 16  diff_created_lastsession    8823 non-null   int64         \n",
      " 17  history                     8823 non-null   category      \n",
      "dtypes: bool(3), category(3), datetime64[ns](2), int32(1), int64(3), object(4), period[M](2)\n",
      "memory usage: 1.1+ MB\n"
     ]
    }
   ],
   "source": [
    "dfm = merged_users.copy()\n",
    "dfm.info()"
   ]
  },
  {
   "cell_type": "code",
   "execution_count": 51,
   "id": "761aba4f",
   "metadata": {},
   "outputs": [
    {
     "name": "stdout",
     "output_type": "stream",
     "text": [
      "<class 'pandas.core.frame.DataFrame'>\n",
      "Int64Index: 8823 entries, 0 to 8822\n",
      "Data columns (total 5 columns):\n",
      " #   Column                      Non-Null Count  Dtype   \n",
      "---  ------                      --------------  -----   \n",
      " 0   creation_source             8823 non-null   category\n",
      " 1   enabled_for_marketing_drip  8823 non-null   bool    \n",
      " 2   org_id                      8823 non-null   int64   \n",
      " 3   adopted_user                8823 non-null   bool    \n",
      " 4   history                     8823 non-null   category\n",
      "dtypes: bool(2), category(2), int64(1)\n",
      "memory usage: 430.7 KB\n"
     ]
    }
   ],
   "source": [
    "# with org_id not binned\n",
    "dfm.drop(['user_id', 'creation_time', 'name', 'email', 'last_session_creation_time',\n",
    "          'opted_in_to_mailing_list', 'invited_by_user_id', 'org_id_binned', 'email_domain',\n",
    "          'new_email_domain', 'month_year', 'last_session_month_year', 'diff_created_lastsession'\n",
    "          ], axis=1, inplace=True)\n",
    "dfm.info()"
   ]
  },
  {
   "cell_type": "code",
   "execution_count": 52,
   "id": "9606bdc7",
   "metadata": {},
   "outputs": [
    {
     "data": {
      "text/html": [
       "<div>\n",
       "<style scoped>\n",
       "    .dataframe tbody tr th:only-of-type {\n",
       "        vertical-align: middle;\n",
       "    }\n",
       "\n",
       "    .dataframe tbody tr th {\n",
       "        vertical-align: top;\n",
       "    }\n",
       "\n",
       "    .dataframe thead th {\n",
       "        text-align: right;\n",
       "    }\n",
       "</style>\n",
       "<table border=\"1\" class=\"dataframe\">\n",
       "  <thead>\n",
       "    <tr style=\"text-align: right;\">\n",
       "      <th></th>\n",
       "      <th>creation_source</th>\n",
       "      <th>enabled_for_marketing_drip</th>\n",
       "      <th>org_id</th>\n",
       "      <th>adopted_user</th>\n",
       "      <th>history</th>\n",
       "    </tr>\n",
       "  </thead>\n",
       "  <tbody>\n",
       "    <tr>\n",
       "      <th>0</th>\n",
       "      <td>GUEST_INVITE</td>\n",
       "      <td>False</td>\n",
       "      <td>11</td>\n",
       "      <td>False</td>\n",
       "      <td>upto 100 days</td>\n",
       "    </tr>\n",
       "    <tr>\n",
       "      <th>1</th>\n",
       "      <td>ORG_INVITE</td>\n",
       "      <td>False</td>\n",
       "      <td>1</td>\n",
       "      <td>True</td>\n",
       "      <td>above 100 days</td>\n",
       "    </tr>\n",
       "    <tr>\n",
       "      <th>2</th>\n",
       "      <td>ORG_INVITE</td>\n",
       "      <td>False</td>\n",
       "      <td>94</td>\n",
       "      <td>False</td>\n",
       "      <td>upto 100 days</td>\n",
       "    </tr>\n",
       "    <tr>\n",
       "      <th>3</th>\n",
       "      <td>GUEST_INVITE</td>\n",
       "      <td>False</td>\n",
       "      <td>1</td>\n",
       "      <td>False</td>\n",
       "      <td>upto 100 days</td>\n",
       "    </tr>\n",
       "    <tr>\n",
       "      <th>4</th>\n",
       "      <td>GUEST_INVITE</td>\n",
       "      <td>False</td>\n",
       "      <td>193</td>\n",
       "      <td>False</td>\n",
       "      <td>upto 100 days</td>\n",
       "    </tr>\n",
       "  </tbody>\n",
       "</table>\n",
       "</div>"
      ],
      "text/plain": [
       "  creation_source  enabled_for_marketing_drip  org_id  adopted_user  \\\n",
       "0    GUEST_INVITE                       False      11         False   \n",
       "1      ORG_INVITE                       False       1          True   \n",
       "2      ORG_INVITE                       False      94         False   \n",
       "3    GUEST_INVITE                       False       1         False   \n",
       "4    GUEST_INVITE                       False     193         False   \n",
       "\n",
       "          history  \n",
       "0   upto 100 days  \n",
       "1  above 100 days  \n",
       "2   upto 100 days  \n",
       "3   upto 100 days  \n",
       "4   upto 100 days  "
      ]
     },
     "execution_count": 52,
     "metadata": {},
     "output_type": "execute_result"
    }
   ],
   "source": [
    "dfm.head()"
   ]
  },
  {
   "cell_type": "code",
   "execution_count": 53,
   "id": "ab716fac",
   "metadata": {},
   "outputs": [
    {
     "data": {
      "text/html": [
       "<div>\n",
       "<style scoped>\n",
       "    .dataframe tbody tr th:only-of-type {\n",
       "        vertical-align: middle;\n",
       "    }\n",
       "\n",
       "    .dataframe tbody tr th {\n",
       "        vertical-align: top;\n",
       "    }\n",
       "\n",
       "    .dataframe thead th {\n",
       "        text-align: right;\n",
       "    }\n",
       "</style>\n",
       "<table border=\"1\" class=\"dataframe\">\n",
       "  <thead>\n",
       "    <tr style=\"text-align: right;\">\n",
       "      <th></th>\n",
       "      <th>enabled_for_marketing_drip</th>\n",
       "      <th>org_id</th>\n",
       "      <th>adopted_user</th>\n",
       "      <th>creation_source_ORG_INVITE</th>\n",
       "      <th>creation_source_PERSONAL_PROJECTS</th>\n",
       "      <th>creation_source_SIGNUP</th>\n",
       "      <th>creation_source_SIGNUP_GOOGLE_AUTH</th>\n",
       "      <th>history_above 100 days</th>\n",
       "    </tr>\n",
       "  </thead>\n",
       "  <tbody>\n",
       "    <tr>\n",
       "      <th>0</th>\n",
       "      <td>False</td>\n",
       "      <td>11</td>\n",
       "      <td>False</td>\n",
       "      <td>0</td>\n",
       "      <td>0</td>\n",
       "      <td>0</td>\n",
       "      <td>0</td>\n",
       "      <td>0</td>\n",
       "    </tr>\n",
       "    <tr>\n",
       "      <th>1</th>\n",
       "      <td>False</td>\n",
       "      <td>1</td>\n",
       "      <td>True</td>\n",
       "      <td>1</td>\n",
       "      <td>0</td>\n",
       "      <td>0</td>\n",
       "      <td>0</td>\n",
       "      <td>1</td>\n",
       "    </tr>\n",
       "    <tr>\n",
       "      <th>2</th>\n",
       "      <td>False</td>\n",
       "      <td>94</td>\n",
       "      <td>False</td>\n",
       "      <td>1</td>\n",
       "      <td>0</td>\n",
       "      <td>0</td>\n",
       "      <td>0</td>\n",
       "      <td>0</td>\n",
       "    </tr>\n",
       "    <tr>\n",
       "      <th>3</th>\n",
       "      <td>False</td>\n",
       "      <td>1</td>\n",
       "      <td>False</td>\n",
       "      <td>0</td>\n",
       "      <td>0</td>\n",
       "      <td>0</td>\n",
       "      <td>0</td>\n",
       "      <td>0</td>\n",
       "    </tr>\n",
       "    <tr>\n",
       "      <th>4</th>\n",
       "      <td>False</td>\n",
       "      <td>193</td>\n",
       "      <td>False</td>\n",
       "      <td>0</td>\n",
       "      <td>0</td>\n",
       "      <td>0</td>\n",
       "      <td>0</td>\n",
       "      <td>0</td>\n",
       "    </tr>\n",
       "  </tbody>\n",
       "</table>\n",
       "</div>"
      ],
      "text/plain": [
       "   enabled_for_marketing_drip  org_id  adopted_user  \\\n",
       "0                       False      11         False   \n",
       "1                       False       1          True   \n",
       "2                       False      94         False   \n",
       "3                       False       1         False   \n",
       "4                       False     193         False   \n",
       "\n",
       "   creation_source_ORG_INVITE  creation_source_PERSONAL_PROJECTS  \\\n",
       "0                           0                                  0   \n",
       "1                           1                                  0   \n",
       "2                           1                                  0   \n",
       "3                           0                                  0   \n",
       "4                           0                                  0   \n",
       "\n",
       "   creation_source_SIGNUP  creation_source_SIGNUP_GOOGLE_AUTH  \\\n",
       "0                       0                                   0   \n",
       "1                       0                                   0   \n",
       "2                       0                                   0   \n",
       "3                       0                                   0   \n",
       "4                       0                                   0   \n",
       "\n",
       "   history_above 100 days  \n",
       "0                       0  \n",
       "1                       1  \n",
       "2                       0  \n",
       "3                       0  \n",
       "4                       0  "
      ]
     },
     "execution_count": 53,
     "metadata": {},
     "output_type": "execute_result"
    }
   ],
   "source": [
    "#Convert all categorical columns\n",
    "data = pd.get_dummies(dfm, drop_first=True)\n",
    "data.head()"
   ]
  },
  {
   "cell_type": "code",
   "execution_count": 54,
   "id": "4a093910",
   "metadata": {},
   "outputs": [],
   "source": [
    "# Divide into X and y\n",
    "X = data.drop(columns = {'adopted_user'}, axis = 1).values\n",
    "y = data['adopted_user'].values"
   ]
  },
  {
   "cell_type": "code",
   "execution_count": 55,
   "id": "63728925",
   "metadata": {},
   "outputs": [
    {
     "name": "stdout",
     "output_type": "stream",
     "text": [
      "X: (8823, 7) \n",
      "y: (8823,)\n"
     ]
    }
   ],
   "source": [
    "print(f'X: {X.shape} \\ny: {y.shape}')"
   ]
  },
  {
   "cell_type": "markdown",
   "id": "e1d5723b",
   "metadata": {},
   "source": [
    "## 1. Logistic Regression"
   ]
  },
  {
   "cell_type": "code",
   "execution_count": 56,
   "id": "9f1ee1bd",
   "metadata": {},
   "outputs": [],
   "source": [
    "# Import the necessary libraries\n",
    "from sklearn.model_selection import train_test_split\n",
    "from sklearn.pipeline import Pipeline\n",
    "from sklearn.linear_model import LogisticRegression"
   ]
  },
  {
   "cell_type": "code",
   "execution_count": 57,
   "id": "43cf5011",
   "metadata": {},
   "outputs": [],
   "source": [
    "# Apply the train_test_split\n",
    "X_train, X_test, y_train, y_test = train_test_split(X, y, test_size = 0.25, random_state = 42, stratify= y)"
   ]
  },
  {
   "cell_type": "code",
   "execution_count": 58,
   "id": "b021650b",
   "metadata": {},
   "outputs": [
    {
     "name": "stdout",
     "output_type": "stream",
     "text": [
      "Training Class: (6617, 7) \n",
      "Testing Class: (2206, 7)\n"
     ]
    }
   ],
   "source": [
    "print(f'Training Class: {X_train.shape} \\nTesting Class: { X_test.shape}')"
   ]
  },
  {
   "cell_type": "code",
   "execution_count": 59,
   "id": "1eef75c7",
   "metadata": {},
   "outputs": [],
   "source": [
    "pipeline_lr = Pipeline([('lr_classifer', LogisticRegression(solver='liblinear', random_state=42))])"
   ]
  },
  {
   "cell_type": "code",
   "execution_count": 60,
   "id": "acb8dad6",
   "metadata": {},
   "outputs": [
    {
     "data": {
      "text/plain": [
       "Pipeline(steps=[('lr_classifer',\n",
       "                 LogisticRegression(random_state=42, solver='liblinear'))])"
      ]
     },
     "execution_count": 60,
     "metadata": {},
     "output_type": "execute_result"
    }
   ],
   "source": [
    "pipeline_lr.fit(X_train, y_train)"
   ]
  },
  {
   "cell_type": "code",
   "execution_count": 61,
   "id": "f0ea12df",
   "metadata": {},
   "outputs": [
    {
     "data": {
      "text/plain": [
       "0.9655485040797824"
      ]
     },
     "execution_count": 61,
     "metadata": {},
     "output_type": "execute_result"
    }
   ],
   "source": [
    "pipeline_lr.score(X_test, y_test)"
   ]
  },
  {
   "cell_type": "code",
   "execution_count": 62,
   "id": "d817c1dc",
   "metadata": {},
   "outputs": [
    {
     "name": "stdout",
     "output_type": "stream",
     "text": [
      "Logistic Regression has an accuracy of 96.5%\n"
     ]
    }
   ],
   "source": [
    "print(f'Logistic Regression has an accuracy of 96.5%')"
   ]
  },
  {
   "cell_type": "markdown",
   "id": "6bc774fa",
   "metadata": {},
   "source": [
    "## Data Modeling using Pycaret"
   ]
  },
  {
   "cell_type": "markdown",
   "id": "287fa531",
   "metadata": {},
   "source": [
    "### Getting the data"
   ]
  },
  {
   "cell_type": "code",
   "execution_count": 63,
   "id": "327f42bf",
   "metadata": {},
   "outputs": [],
   "source": [
    "df = dfm.copy()"
   ]
  },
  {
   "cell_type": "code",
   "execution_count": 64,
   "id": "8188d408",
   "metadata": {},
   "outputs": [
    {
     "name": "stdout",
     "output_type": "stream",
     "text": [
      "<class 'pandas.core.frame.DataFrame'>\n",
      "Int64Index: 8823 entries, 0 to 8822\n",
      "Data columns (total 5 columns):\n",
      " #   Column                      Non-Null Count  Dtype   \n",
      "---  ------                      --------------  -----   \n",
      " 0   creation_source             8823 non-null   category\n",
      " 1   enabled_for_marketing_drip  8823 non-null   bool    \n",
      " 2   org_id                      8823 non-null   int64   \n",
      " 3   adopted_user                8823 non-null   bool    \n",
      " 4   history                     8823 non-null   category\n",
      "dtypes: bool(2), category(2), int64(1)\n",
      "memory usage: 430.7 KB\n"
     ]
    }
   ],
   "source": [
    "df.info()"
   ]
  },
  {
   "cell_type": "markdown",
   "id": "5cd68e08",
   "metadata": {},
   "source": [
    "### Setting up the Environment in PyCaret"
   ]
  },
  {
   "cell_type": "code",
   "execution_count": 65,
   "id": "fd221297",
   "metadata": {},
   "outputs": [],
   "source": [
    "from pycaret.classification import *"
   ]
  },
  {
   "cell_type": "code",
   "execution_count": 66,
   "id": "ecf369ac",
   "metadata": {},
   "outputs": [
    {
     "data": {
      "text/html": [
       "<style type=\"text/css\">\n",
       "</style>\n",
       "<table id=\"T_fd925_\">\n",
       "  <thead>\n",
       "    <tr>\n",
       "      <th class=\"blank level0\" >&nbsp;</th>\n",
       "      <th class=\"col_heading level0 col0\" >Description</th>\n",
       "      <th class=\"col_heading level0 col1\" >Value</th>\n",
       "    </tr>\n",
       "  </thead>\n",
       "  <tbody>\n",
       "    <tr>\n",
       "      <th id=\"T_fd925_level0_row0\" class=\"row_heading level0 row0\" >0</th>\n",
       "      <td id=\"T_fd925_row0_col0\" class=\"data row0 col0\" >session_id</td>\n",
       "      <td id=\"T_fd925_row0_col1\" class=\"data row0 col1\" >2</td>\n",
       "    </tr>\n",
       "    <tr>\n",
       "      <th id=\"T_fd925_level0_row1\" class=\"row_heading level0 row1\" >1</th>\n",
       "      <td id=\"T_fd925_row1_col0\" class=\"data row1 col0\" >Target</td>\n",
       "      <td id=\"T_fd925_row1_col1\" class=\"data row1 col1\" >adopted_user</td>\n",
       "    </tr>\n",
       "    <tr>\n",
       "      <th id=\"T_fd925_level0_row2\" class=\"row_heading level0 row2\" >2</th>\n",
       "      <td id=\"T_fd925_row2_col0\" class=\"data row2 col0\" >Target Type</td>\n",
       "      <td id=\"T_fd925_row2_col1\" class=\"data row2 col1\" >Binary</td>\n",
       "    </tr>\n",
       "    <tr>\n",
       "      <th id=\"T_fd925_level0_row3\" class=\"row_heading level0 row3\" >3</th>\n",
       "      <td id=\"T_fd925_row3_col0\" class=\"data row3 col0\" >Label Encoded</td>\n",
       "      <td id=\"T_fd925_row3_col1\" class=\"data row3 col1\" >False: 0, True: 1</td>\n",
       "    </tr>\n",
       "    <tr>\n",
       "      <th id=\"T_fd925_level0_row4\" class=\"row_heading level0 row4\" >4</th>\n",
       "      <td id=\"T_fd925_row4_col0\" class=\"data row4 col0\" >Original Data</td>\n",
       "      <td id=\"T_fd925_row4_col1\" class=\"data row4 col1\" >(8823, 5)</td>\n",
       "    </tr>\n",
       "    <tr>\n",
       "      <th id=\"T_fd925_level0_row5\" class=\"row_heading level0 row5\" >5</th>\n",
       "      <td id=\"T_fd925_row5_col0\" class=\"data row5 col0\" >Missing Values</td>\n",
       "      <td id=\"T_fd925_row5_col1\" class=\"data row5 col1\" >False</td>\n",
       "    </tr>\n",
       "    <tr>\n",
       "      <th id=\"T_fd925_level0_row6\" class=\"row_heading level0 row6\" >6</th>\n",
       "      <td id=\"T_fd925_row6_col0\" class=\"data row6 col0\" >Numeric Features</td>\n",
       "      <td id=\"T_fd925_row6_col1\" class=\"data row6 col1\" >1</td>\n",
       "    </tr>\n",
       "    <tr>\n",
       "      <th id=\"T_fd925_level0_row7\" class=\"row_heading level0 row7\" >7</th>\n",
       "      <td id=\"T_fd925_row7_col0\" class=\"data row7 col0\" >Categorical Features</td>\n",
       "      <td id=\"T_fd925_row7_col1\" class=\"data row7 col1\" >3</td>\n",
       "    </tr>\n",
       "    <tr>\n",
       "      <th id=\"T_fd925_level0_row8\" class=\"row_heading level0 row8\" >8</th>\n",
       "      <td id=\"T_fd925_row8_col0\" class=\"data row8 col0\" >Ordinal Features</td>\n",
       "      <td id=\"T_fd925_row8_col1\" class=\"data row8 col1\" >False</td>\n",
       "    </tr>\n",
       "    <tr>\n",
       "      <th id=\"T_fd925_level0_row9\" class=\"row_heading level0 row9\" >9</th>\n",
       "      <td id=\"T_fd925_row9_col0\" class=\"data row9 col0\" >High Cardinality Features</td>\n",
       "      <td id=\"T_fd925_row9_col1\" class=\"data row9 col1\" >False</td>\n",
       "    </tr>\n",
       "    <tr>\n",
       "      <th id=\"T_fd925_level0_row10\" class=\"row_heading level0 row10\" >10</th>\n",
       "      <td id=\"T_fd925_row10_col0\" class=\"data row10 col0\" >High Cardinality Method</td>\n",
       "      <td id=\"T_fd925_row10_col1\" class=\"data row10 col1\" >None</td>\n",
       "    </tr>\n",
       "    <tr>\n",
       "      <th id=\"T_fd925_level0_row11\" class=\"row_heading level0 row11\" >11</th>\n",
       "      <td id=\"T_fd925_row11_col0\" class=\"data row11 col0\" >Transformed Train Set</td>\n",
       "      <td id=\"T_fd925_row11_col1\" class=\"data row11 col1\" >(6176, 8)</td>\n",
       "    </tr>\n",
       "    <tr>\n",
       "      <th id=\"T_fd925_level0_row12\" class=\"row_heading level0 row12\" >12</th>\n",
       "      <td id=\"T_fd925_row12_col0\" class=\"data row12 col0\" >Transformed Test Set</td>\n",
       "      <td id=\"T_fd925_row12_col1\" class=\"data row12 col1\" >(2647, 8)</td>\n",
       "    </tr>\n",
       "    <tr>\n",
       "      <th id=\"T_fd925_level0_row13\" class=\"row_heading level0 row13\" >13</th>\n",
       "      <td id=\"T_fd925_row13_col0\" class=\"data row13 col0\" >Shuffle Train-Test</td>\n",
       "      <td id=\"T_fd925_row13_col1\" class=\"data row13 col1\" >True</td>\n",
       "    </tr>\n",
       "    <tr>\n",
       "      <th id=\"T_fd925_level0_row14\" class=\"row_heading level0 row14\" >14</th>\n",
       "      <td id=\"T_fd925_row14_col0\" class=\"data row14 col0\" >Stratify Train-Test</td>\n",
       "      <td id=\"T_fd925_row14_col1\" class=\"data row14 col1\" >False</td>\n",
       "    </tr>\n",
       "    <tr>\n",
       "      <th id=\"T_fd925_level0_row15\" class=\"row_heading level0 row15\" >15</th>\n",
       "      <td id=\"T_fd925_row15_col0\" class=\"data row15 col0\" >Fold Generator</td>\n",
       "      <td id=\"T_fd925_row15_col1\" class=\"data row15 col1\" >StratifiedKFold</td>\n",
       "    </tr>\n",
       "    <tr>\n",
       "      <th id=\"T_fd925_level0_row16\" class=\"row_heading level0 row16\" >16</th>\n",
       "      <td id=\"T_fd925_row16_col0\" class=\"data row16 col0\" >Fold Number</td>\n",
       "      <td id=\"T_fd925_row16_col1\" class=\"data row16 col1\" >10</td>\n",
       "    </tr>\n",
       "    <tr>\n",
       "      <th id=\"T_fd925_level0_row17\" class=\"row_heading level0 row17\" >17</th>\n",
       "      <td id=\"T_fd925_row17_col0\" class=\"data row17 col0\" >CPU Jobs</td>\n",
       "      <td id=\"T_fd925_row17_col1\" class=\"data row17 col1\" >-1</td>\n",
       "    </tr>\n",
       "    <tr>\n",
       "      <th id=\"T_fd925_level0_row18\" class=\"row_heading level0 row18\" >18</th>\n",
       "      <td id=\"T_fd925_row18_col0\" class=\"data row18 col0\" >Use GPU</td>\n",
       "      <td id=\"T_fd925_row18_col1\" class=\"data row18 col1\" >False</td>\n",
       "    </tr>\n",
       "    <tr>\n",
       "      <th id=\"T_fd925_level0_row19\" class=\"row_heading level0 row19\" >19</th>\n",
       "      <td id=\"T_fd925_row19_col0\" class=\"data row19 col0\" >Log Experiment</td>\n",
       "      <td id=\"T_fd925_row19_col1\" class=\"data row19 col1\" >False</td>\n",
       "    </tr>\n",
       "    <tr>\n",
       "      <th id=\"T_fd925_level0_row20\" class=\"row_heading level0 row20\" >20</th>\n",
       "      <td id=\"T_fd925_row20_col0\" class=\"data row20 col0\" >Experiment Name</td>\n",
       "      <td id=\"T_fd925_row20_col1\" class=\"data row20 col1\" >clf-default-name</td>\n",
       "    </tr>\n",
       "    <tr>\n",
       "      <th id=\"T_fd925_level0_row21\" class=\"row_heading level0 row21\" >21</th>\n",
       "      <td id=\"T_fd925_row21_col0\" class=\"data row21 col0\" >USI</td>\n",
       "      <td id=\"T_fd925_row21_col1\" class=\"data row21 col1\" >57dd</td>\n",
       "    </tr>\n",
       "    <tr>\n",
       "      <th id=\"T_fd925_level0_row22\" class=\"row_heading level0 row22\" >22</th>\n",
       "      <td id=\"T_fd925_row22_col0\" class=\"data row22 col0\" >Imputation Type</td>\n",
       "      <td id=\"T_fd925_row22_col1\" class=\"data row22 col1\" >simple</td>\n",
       "    </tr>\n",
       "    <tr>\n",
       "      <th id=\"T_fd925_level0_row23\" class=\"row_heading level0 row23\" >23</th>\n",
       "      <td id=\"T_fd925_row23_col0\" class=\"data row23 col0\" >Iterative Imputation Iteration</td>\n",
       "      <td id=\"T_fd925_row23_col1\" class=\"data row23 col1\" >None</td>\n",
       "    </tr>\n",
       "    <tr>\n",
       "      <th id=\"T_fd925_level0_row24\" class=\"row_heading level0 row24\" >24</th>\n",
       "      <td id=\"T_fd925_row24_col0\" class=\"data row24 col0\" >Numeric Imputer</td>\n",
       "      <td id=\"T_fd925_row24_col1\" class=\"data row24 col1\" >mean</td>\n",
       "    </tr>\n",
       "    <tr>\n",
       "      <th id=\"T_fd925_level0_row25\" class=\"row_heading level0 row25\" >25</th>\n",
       "      <td id=\"T_fd925_row25_col0\" class=\"data row25 col0\" >Iterative Imputation Numeric Model</td>\n",
       "      <td id=\"T_fd925_row25_col1\" class=\"data row25 col1\" >None</td>\n",
       "    </tr>\n",
       "    <tr>\n",
       "      <th id=\"T_fd925_level0_row26\" class=\"row_heading level0 row26\" >26</th>\n",
       "      <td id=\"T_fd925_row26_col0\" class=\"data row26 col0\" >Categorical Imputer</td>\n",
       "      <td id=\"T_fd925_row26_col1\" class=\"data row26 col1\" >constant</td>\n",
       "    </tr>\n",
       "    <tr>\n",
       "      <th id=\"T_fd925_level0_row27\" class=\"row_heading level0 row27\" >27</th>\n",
       "      <td id=\"T_fd925_row27_col0\" class=\"data row27 col0\" >Iterative Imputation Categorical Model</td>\n",
       "      <td id=\"T_fd925_row27_col1\" class=\"data row27 col1\" >None</td>\n",
       "    </tr>\n",
       "    <tr>\n",
       "      <th id=\"T_fd925_level0_row28\" class=\"row_heading level0 row28\" >28</th>\n",
       "      <td id=\"T_fd925_row28_col0\" class=\"data row28 col0\" >Unknown Categoricals Handling</td>\n",
       "      <td id=\"T_fd925_row28_col1\" class=\"data row28 col1\" >least_frequent</td>\n",
       "    </tr>\n",
       "    <tr>\n",
       "      <th id=\"T_fd925_level0_row29\" class=\"row_heading level0 row29\" >29</th>\n",
       "      <td id=\"T_fd925_row29_col0\" class=\"data row29 col0\" >Normalize</td>\n",
       "      <td id=\"T_fd925_row29_col1\" class=\"data row29 col1\" >False</td>\n",
       "    </tr>\n",
       "    <tr>\n",
       "      <th id=\"T_fd925_level0_row30\" class=\"row_heading level0 row30\" >30</th>\n",
       "      <td id=\"T_fd925_row30_col0\" class=\"data row30 col0\" >Normalize Method</td>\n",
       "      <td id=\"T_fd925_row30_col1\" class=\"data row30 col1\" >None</td>\n",
       "    </tr>\n",
       "    <tr>\n",
       "      <th id=\"T_fd925_level0_row31\" class=\"row_heading level0 row31\" >31</th>\n",
       "      <td id=\"T_fd925_row31_col0\" class=\"data row31 col0\" >Transformation</td>\n",
       "      <td id=\"T_fd925_row31_col1\" class=\"data row31 col1\" >False</td>\n",
       "    </tr>\n",
       "    <tr>\n",
       "      <th id=\"T_fd925_level0_row32\" class=\"row_heading level0 row32\" >32</th>\n",
       "      <td id=\"T_fd925_row32_col0\" class=\"data row32 col0\" >Transformation Method</td>\n",
       "      <td id=\"T_fd925_row32_col1\" class=\"data row32 col1\" >None</td>\n",
       "    </tr>\n",
       "    <tr>\n",
       "      <th id=\"T_fd925_level0_row33\" class=\"row_heading level0 row33\" >33</th>\n",
       "      <td id=\"T_fd925_row33_col0\" class=\"data row33 col0\" >PCA</td>\n",
       "      <td id=\"T_fd925_row33_col1\" class=\"data row33 col1\" >False</td>\n",
       "    </tr>\n",
       "    <tr>\n",
       "      <th id=\"T_fd925_level0_row34\" class=\"row_heading level0 row34\" >34</th>\n",
       "      <td id=\"T_fd925_row34_col0\" class=\"data row34 col0\" >PCA Method</td>\n",
       "      <td id=\"T_fd925_row34_col1\" class=\"data row34 col1\" >None</td>\n",
       "    </tr>\n",
       "    <tr>\n",
       "      <th id=\"T_fd925_level0_row35\" class=\"row_heading level0 row35\" >35</th>\n",
       "      <td id=\"T_fd925_row35_col0\" class=\"data row35 col0\" >PCA Components</td>\n",
       "      <td id=\"T_fd925_row35_col1\" class=\"data row35 col1\" >None</td>\n",
       "    </tr>\n",
       "    <tr>\n",
       "      <th id=\"T_fd925_level0_row36\" class=\"row_heading level0 row36\" >36</th>\n",
       "      <td id=\"T_fd925_row36_col0\" class=\"data row36 col0\" >Ignore Low Variance</td>\n",
       "      <td id=\"T_fd925_row36_col1\" class=\"data row36 col1\" >False</td>\n",
       "    </tr>\n",
       "    <tr>\n",
       "      <th id=\"T_fd925_level0_row37\" class=\"row_heading level0 row37\" >37</th>\n",
       "      <td id=\"T_fd925_row37_col0\" class=\"data row37 col0\" >Combine Rare Levels</td>\n",
       "      <td id=\"T_fd925_row37_col1\" class=\"data row37 col1\" >False</td>\n",
       "    </tr>\n",
       "    <tr>\n",
       "      <th id=\"T_fd925_level0_row38\" class=\"row_heading level0 row38\" >38</th>\n",
       "      <td id=\"T_fd925_row38_col0\" class=\"data row38 col0\" >Rare Level Threshold</td>\n",
       "      <td id=\"T_fd925_row38_col1\" class=\"data row38 col1\" >None</td>\n",
       "    </tr>\n",
       "    <tr>\n",
       "      <th id=\"T_fd925_level0_row39\" class=\"row_heading level0 row39\" >39</th>\n",
       "      <td id=\"T_fd925_row39_col0\" class=\"data row39 col0\" >Numeric Binning</td>\n",
       "      <td id=\"T_fd925_row39_col1\" class=\"data row39 col1\" >False</td>\n",
       "    </tr>\n",
       "    <tr>\n",
       "      <th id=\"T_fd925_level0_row40\" class=\"row_heading level0 row40\" >40</th>\n",
       "      <td id=\"T_fd925_row40_col0\" class=\"data row40 col0\" >Remove Outliers</td>\n",
       "      <td id=\"T_fd925_row40_col1\" class=\"data row40 col1\" >False</td>\n",
       "    </tr>\n",
       "    <tr>\n",
       "      <th id=\"T_fd925_level0_row41\" class=\"row_heading level0 row41\" >41</th>\n",
       "      <td id=\"T_fd925_row41_col0\" class=\"data row41 col0\" >Outliers Threshold</td>\n",
       "      <td id=\"T_fd925_row41_col1\" class=\"data row41 col1\" >None</td>\n",
       "    </tr>\n",
       "    <tr>\n",
       "      <th id=\"T_fd925_level0_row42\" class=\"row_heading level0 row42\" >42</th>\n",
       "      <td id=\"T_fd925_row42_col0\" class=\"data row42 col0\" >Remove Multicollinearity</td>\n",
       "      <td id=\"T_fd925_row42_col1\" class=\"data row42 col1\" >False</td>\n",
       "    </tr>\n",
       "    <tr>\n",
       "      <th id=\"T_fd925_level0_row43\" class=\"row_heading level0 row43\" >43</th>\n",
       "      <td id=\"T_fd925_row43_col0\" class=\"data row43 col0\" >Multicollinearity Threshold</td>\n",
       "      <td id=\"T_fd925_row43_col1\" class=\"data row43 col1\" >None</td>\n",
       "    </tr>\n",
       "    <tr>\n",
       "      <th id=\"T_fd925_level0_row44\" class=\"row_heading level0 row44\" >44</th>\n",
       "      <td id=\"T_fd925_row44_col0\" class=\"data row44 col0\" >Clustering</td>\n",
       "      <td id=\"T_fd925_row44_col1\" class=\"data row44 col1\" >False</td>\n",
       "    </tr>\n",
       "    <tr>\n",
       "      <th id=\"T_fd925_level0_row45\" class=\"row_heading level0 row45\" >45</th>\n",
       "      <td id=\"T_fd925_row45_col0\" class=\"data row45 col0\" >Clustering Iteration</td>\n",
       "      <td id=\"T_fd925_row45_col1\" class=\"data row45 col1\" >None</td>\n",
       "    </tr>\n",
       "    <tr>\n",
       "      <th id=\"T_fd925_level0_row46\" class=\"row_heading level0 row46\" >46</th>\n",
       "      <td id=\"T_fd925_row46_col0\" class=\"data row46 col0\" >Polynomial Features</td>\n",
       "      <td id=\"T_fd925_row46_col1\" class=\"data row46 col1\" >False</td>\n",
       "    </tr>\n",
       "    <tr>\n",
       "      <th id=\"T_fd925_level0_row47\" class=\"row_heading level0 row47\" >47</th>\n",
       "      <td id=\"T_fd925_row47_col0\" class=\"data row47 col0\" >Polynomial Degree</td>\n",
       "      <td id=\"T_fd925_row47_col1\" class=\"data row47 col1\" >None</td>\n",
       "    </tr>\n",
       "    <tr>\n",
       "      <th id=\"T_fd925_level0_row48\" class=\"row_heading level0 row48\" >48</th>\n",
       "      <td id=\"T_fd925_row48_col0\" class=\"data row48 col0\" >Trignometry Features</td>\n",
       "      <td id=\"T_fd925_row48_col1\" class=\"data row48 col1\" >False</td>\n",
       "    </tr>\n",
       "    <tr>\n",
       "      <th id=\"T_fd925_level0_row49\" class=\"row_heading level0 row49\" >49</th>\n",
       "      <td id=\"T_fd925_row49_col0\" class=\"data row49 col0\" >Polynomial Threshold</td>\n",
       "      <td id=\"T_fd925_row49_col1\" class=\"data row49 col1\" >None</td>\n",
       "    </tr>\n",
       "    <tr>\n",
       "      <th id=\"T_fd925_level0_row50\" class=\"row_heading level0 row50\" >50</th>\n",
       "      <td id=\"T_fd925_row50_col0\" class=\"data row50 col0\" >Group Features</td>\n",
       "      <td id=\"T_fd925_row50_col1\" class=\"data row50 col1\" >False</td>\n",
       "    </tr>\n",
       "    <tr>\n",
       "      <th id=\"T_fd925_level0_row51\" class=\"row_heading level0 row51\" >51</th>\n",
       "      <td id=\"T_fd925_row51_col0\" class=\"data row51 col0\" >Feature Selection</td>\n",
       "      <td id=\"T_fd925_row51_col1\" class=\"data row51 col1\" >False</td>\n",
       "    </tr>\n",
       "    <tr>\n",
       "      <th id=\"T_fd925_level0_row52\" class=\"row_heading level0 row52\" >52</th>\n",
       "      <td id=\"T_fd925_row52_col0\" class=\"data row52 col0\" >Features Selection Threshold</td>\n",
       "      <td id=\"T_fd925_row52_col1\" class=\"data row52 col1\" >None</td>\n",
       "    </tr>\n",
       "    <tr>\n",
       "      <th id=\"T_fd925_level0_row53\" class=\"row_heading level0 row53\" >53</th>\n",
       "      <td id=\"T_fd925_row53_col0\" class=\"data row53 col0\" >Feature Interaction</td>\n",
       "      <td id=\"T_fd925_row53_col1\" class=\"data row53 col1\" >False</td>\n",
       "    </tr>\n",
       "    <tr>\n",
       "      <th id=\"T_fd925_level0_row54\" class=\"row_heading level0 row54\" >54</th>\n",
       "      <td id=\"T_fd925_row54_col0\" class=\"data row54 col0\" >Feature Ratio</td>\n",
       "      <td id=\"T_fd925_row54_col1\" class=\"data row54 col1\" >False</td>\n",
       "    </tr>\n",
       "    <tr>\n",
       "      <th id=\"T_fd925_level0_row55\" class=\"row_heading level0 row55\" >55</th>\n",
       "      <td id=\"T_fd925_row55_col0\" class=\"data row55 col0\" >Interaction Threshold</td>\n",
       "      <td id=\"T_fd925_row55_col1\" class=\"data row55 col1\" >None</td>\n",
       "    </tr>\n",
       "    <tr>\n",
       "      <th id=\"T_fd925_level0_row56\" class=\"row_heading level0 row56\" >56</th>\n",
       "      <td id=\"T_fd925_row56_col0\" class=\"data row56 col0\" >Fix Imbalance</td>\n",
       "      <td id=\"T_fd925_row56_col1\" class=\"data row56 col1\" >False</td>\n",
       "    </tr>\n",
       "    <tr>\n",
       "      <th id=\"T_fd925_level0_row57\" class=\"row_heading level0 row57\" >57</th>\n",
       "      <td id=\"T_fd925_row57_col0\" class=\"data row57 col0\" >Fix Imbalance Method</td>\n",
       "      <td id=\"T_fd925_row57_col1\" class=\"data row57 col1\" >SMOTE</td>\n",
       "    </tr>\n",
       "  </tbody>\n",
       "</table>\n"
      ],
      "text/plain": [
       "<pandas.io.formats.style.Styler at 0x1f0ba9ef6d0>"
      ]
     },
     "metadata": {},
     "output_type": "display_data"
    }
   ],
   "source": [
    "exp_clf = setup(data = df, target = 'adopted_user',session_id = 2)"
   ]
  },
  {
   "cell_type": "markdown",
   "id": "3063703e",
   "metadata": {},
   "source": [
    "### Comparing All Models\n",
    "\n",
    "Comparing all models to evaluate performance. This function trains all models in the model library and scores them using stratified cross validation for metric evaluation. The output prints a score grid that shows average Accuracy, AUC, Recall, Precision, F1 and Kappa accross the folds (10 by default) of all the available models in the model library."
   ]
  },
  {
   "cell_type": "code",
   "execution_count": 67,
   "id": "dbfc4fbd",
   "metadata": {},
   "outputs": [
    {
     "data": {
      "text/html": [
       "<style type=\"text/css\">\n",
       "#T_66428_ th {\n",
       "  text-align: left;\n",
       "}\n",
       "#T_66428_row0_col0, #T_66428_row0_col2, #T_66428_row1_col0, #T_66428_row1_col2, #T_66428_row2_col0, #T_66428_row2_col2, #T_66428_row3_col0, #T_66428_row3_col2, #T_66428_row4_col0, #T_66428_row4_col2, #T_66428_row5_col0, #T_66428_row5_col1, #T_66428_row5_col4, #T_66428_row5_col5, #T_66428_row5_col6, #T_66428_row5_col7, #T_66428_row6_col0, #T_66428_row6_col1, #T_66428_row6_col2, #T_66428_row6_col4, #T_66428_row6_col5, #T_66428_row6_col6, #T_66428_row6_col7, #T_66428_row7_col0, #T_66428_row7_col1, #T_66428_row7_col2, #T_66428_row7_col3, #T_66428_row7_col4, #T_66428_row7_col5, #T_66428_row7_col6, #T_66428_row7_col7, #T_66428_row8_col0, #T_66428_row8_col1, #T_66428_row8_col2, #T_66428_row8_col3, #T_66428_row8_col4, #T_66428_row8_col5, #T_66428_row8_col6, #T_66428_row8_col7, #T_66428_row9_col0, #T_66428_row9_col1, #T_66428_row9_col2, #T_66428_row9_col3, #T_66428_row9_col4, #T_66428_row9_col5, #T_66428_row9_col6, #T_66428_row9_col7, #T_66428_row10_col0, #T_66428_row10_col1, #T_66428_row10_col2, #T_66428_row10_col3, #T_66428_row10_col4, #T_66428_row10_col5, #T_66428_row10_col6, #T_66428_row10_col7, #T_66428_row11_col0, #T_66428_row11_col1, #T_66428_row11_col2, #T_66428_row11_col3, #T_66428_row11_col4, #T_66428_row11_col5, #T_66428_row11_col6, #T_66428_row11_col7, #T_66428_row12_col0, #T_66428_row12_col1, #T_66428_row12_col2, #T_66428_row12_col3, #T_66428_row12_col4, #T_66428_row12_col5, #T_66428_row12_col6, #T_66428_row12_col7, #T_66428_row13_col0, #T_66428_row13_col1, #T_66428_row13_col2, #T_66428_row13_col3, #T_66428_row13_col4, #T_66428_row13_col5, #T_66428_row13_col6, #T_66428_row13_col7, #T_66428_row14_col0, #T_66428_row14_col1, #T_66428_row14_col2, #T_66428_row14_col3, #T_66428_row14_col4, #T_66428_row14_col5, #T_66428_row14_col6, #T_66428_row14_col7 {\n",
       "  text-align: left;\n",
       "}\n",
       "#T_66428_row0_col1, #T_66428_row0_col3, #T_66428_row0_col4, #T_66428_row0_col5, #T_66428_row0_col6, #T_66428_row0_col7, #T_66428_row1_col1, #T_66428_row1_col3, #T_66428_row1_col4, #T_66428_row1_col5, #T_66428_row1_col6, #T_66428_row1_col7, #T_66428_row2_col1, #T_66428_row2_col3, #T_66428_row2_col4, #T_66428_row2_col5, #T_66428_row2_col6, #T_66428_row2_col7, #T_66428_row3_col1, #T_66428_row3_col3, #T_66428_row3_col4, #T_66428_row3_col5, #T_66428_row3_col6, #T_66428_row3_col7, #T_66428_row4_col1, #T_66428_row4_col3, #T_66428_row4_col4, #T_66428_row4_col5, #T_66428_row4_col6, #T_66428_row4_col7, #T_66428_row5_col2, #T_66428_row5_col3, #T_66428_row6_col3 {\n",
       "  text-align: left;\n",
       "  background-color: yellow;\n",
       "}\n",
       "#T_66428_row0_col8, #T_66428_row1_col8, #T_66428_row3_col8, #T_66428_row4_col8, #T_66428_row5_col8, #T_66428_row6_col8, #T_66428_row7_col8, #T_66428_row8_col8, #T_66428_row9_col8, #T_66428_row10_col8, #T_66428_row12_col8, #T_66428_row13_col8, #T_66428_row14_col8 {\n",
       "  text-align: left;\n",
       "  background-color: lightgrey;\n",
       "}\n",
       "#T_66428_row2_col8, #T_66428_row11_col8 {\n",
       "  text-align: left;\n",
       "  background-color: yellow;\n",
       "  background-color: lightgrey;\n",
       "}\n",
       "</style>\n",
       "<table id=\"T_66428_\">\n",
       "  <thead>\n",
       "    <tr>\n",
       "      <th class=\"blank level0\" >&nbsp;</th>\n",
       "      <th class=\"col_heading level0 col0\" >Model</th>\n",
       "      <th class=\"col_heading level0 col1\" >Accuracy</th>\n",
       "      <th class=\"col_heading level0 col2\" >AUC</th>\n",
       "      <th class=\"col_heading level0 col3\" >Recall</th>\n",
       "      <th class=\"col_heading level0 col4\" >Prec.</th>\n",
       "      <th class=\"col_heading level0 col5\" >F1</th>\n",
       "      <th class=\"col_heading level0 col6\" >Kappa</th>\n",
       "      <th class=\"col_heading level0 col7\" >MCC</th>\n",
       "      <th class=\"col_heading level0 col8\" >TT (Sec)</th>\n",
       "    </tr>\n",
       "  </thead>\n",
       "  <tbody>\n",
       "    <tr>\n",
       "      <th id=\"T_66428_level0_row0\" class=\"row_heading level0 row0\" >lr</th>\n",
       "      <td id=\"T_66428_row0_col0\" class=\"data row0 col0\" >Logistic Regression</td>\n",
       "      <td id=\"T_66428_row0_col1\" class=\"data row0 col1\" >0.9697</td>\n",
       "      <td id=\"T_66428_row0_col2\" class=\"data row0 col2\" >0.9335</td>\n",
       "      <td id=\"T_66428_row0_col3\" class=\"data row0 col3\" >0.8755</td>\n",
       "      <td id=\"T_66428_row0_col4\" class=\"data row0 col4\" >0.9317</td>\n",
       "      <td id=\"T_66428_row0_col5\" class=\"data row0 col5\" >0.9023</td>\n",
       "      <td id=\"T_66428_row0_col6\" class=\"data row0 col6\" >0.8844</td>\n",
       "      <td id=\"T_66428_row0_col7\" class=\"data row0 col7\" >0.8853</td>\n",
       "      <td id=\"T_66428_row0_col8\" class=\"data row0 col8\" >0.4870</td>\n",
       "    </tr>\n",
       "    <tr>\n",
       "      <th id=\"T_66428_level0_row1\" class=\"row_heading level0 row1\" >nb</th>\n",
       "      <td id=\"T_66428_row1_col0\" class=\"data row1 col0\" >Naive Bayes</td>\n",
       "      <td id=\"T_66428_row1_col1\" class=\"data row1 col1\" >0.9697</td>\n",
       "      <td id=\"T_66428_row1_col2\" class=\"data row1 col2\" >0.9339</td>\n",
       "      <td id=\"T_66428_row1_col3\" class=\"data row1 col3\" >0.8755</td>\n",
       "      <td id=\"T_66428_row1_col4\" class=\"data row1 col4\" >0.9317</td>\n",
       "      <td id=\"T_66428_row1_col5\" class=\"data row1 col5\" >0.9023</td>\n",
       "      <td id=\"T_66428_row1_col6\" class=\"data row1 col6\" >0.8844</td>\n",
       "      <td id=\"T_66428_row1_col7\" class=\"data row1 col7\" >0.8853</td>\n",
       "      <td id=\"T_66428_row1_col8\" class=\"data row1 col8\" >0.0080</td>\n",
       "    </tr>\n",
       "    <tr>\n",
       "      <th id=\"T_66428_level0_row2\" class=\"row_heading level0 row2\" >ridge</th>\n",
       "      <td id=\"T_66428_row2_col0\" class=\"data row2 col0\" >Ridge Classifier</td>\n",
       "      <td id=\"T_66428_row2_col1\" class=\"data row2 col1\" >0.9697</td>\n",
       "      <td id=\"T_66428_row2_col2\" class=\"data row2 col2\" >0.0000</td>\n",
       "      <td id=\"T_66428_row2_col3\" class=\"data row2 col3\" >0.8755</td>\n",
       "      <td id=\"T_66428_row2_col4\" class=\"data row2 col4\" >0.9317</td>\n",
       "      <td id=\"T_66428_row2_col5\" class=\"data row2 col5\" >0.9023</td>\n",
       "      <td id=\"T_66428_row2_col6\" class=\"data row2 col6\" >0.8844</td>\n",
       "      <td id=\"T_66428_row2_col7\" class=\"data row2 col7\" >0.8853</td>\n",
       "      <td id=\"T_66428_row2_col8\" class=\"data row2 col8\" >0.0070</td>\n",
       "    </tr>\n",
       "    <tr>\n",
       "      <th id=\"T_66428_level0_row3\" class=\"row_heading level0 row3\" >ada</th>\n",
       "      <td id=\"T_66428_row3_col0\" class=\"data row3 col0\" >Ada Boost Classifier</td>\n",
       "      <td id=\"T_66428_row3_col1\" class=\"data row3 col1\" >0.9697</td>\n",
       "      <td id=\"T_66428_row3_col2\" class=\"data row3 col2\" >0.9328</td>\n",
       "      <td id=\"T_66428_row3_col3\" class=\"data row3 col3\" >0.8755</td>\n",
       "      <td id=\"T_66428_row3_col4\" class=\"data row3 col4\" >0.9317</td>\n",
       "      <td id=\"T_66428_row3_col5\" class=\"data row3 col5\" >0.9023</td>\n",
       "      <td id=\"T_66428_row3_col6\" class=\"data row3 col6\" >0.8844</td>\n",
       "      <td id=\"T_66428_row3_col7\" class=\"data row3 col7\" >0.8853</td>\n",
       "      <td id=\"T_66428_row3_col8\" class=\"data row3 col8\" >0.0290</td>\n",
       "    </tr>\n",
       "    <tr>\n",
       "      <th id=\"T_66428_level0_row4\" class=\"row_heading level0 row4\" >lda</th>\n",
       "      <td id=\"T_66428_row4_col0\" class=\"data row4 col0\" >Linear Discriminant Analysis</td>\n",
       "      <td id=\"T_66428_row4_col1\" class=\"data row4 col1\" >0.9697</td>\n",
       "      <td id=\"T_66428_row4_col2\" class=\"data row4 col2\" >0.9331</td>\n",
       "      <td id=\"T_66428_row4_col3\" class=\"data row4 col3\" >0.8755</td>\n",
       "      <td id=\"T_66428_row4_col4\" class=\"data row4 col4\" >0.9317</td>\n",
       "      <td id=\"T_66428_row4_col5\" class=\"data row4 col5\" >0.9023</td>\n",
       "      <td id=\"T_66428_row4_col6\" class=\"data row4 col6\" >0.8844</td>\n",
       "      <td id=\"T_66428_row4_col7\" class=\"data row4 col7\" >0.8853</td>\n",
       "      <td id=\"T_66428_row4_col8\" class=\"data row4 col8\" >0.0090</td>\n",
       "    </tr>\n",
       "    <tr>\n",
       "      <th id=\"T_66428_level0_row5\" class=\"row_heading level0 row5\" >catboost</th>\n",
       "      <td id=\"T_66428_row5_col0\" class=\"data row5 col0\" >CatBoost Classifier</td>\n",
       "      <td id=\"T_66428_row5_col1\" class=\"data row5 col1\" >0.9692</td>\n",
       "      <td id=\"T_66428_row5_col2\" class=\"data row5 col2\" >0.9349</td>\n",
       "      <td id=\"T_66428_row5_col3\" class=\"data row5 col3\" >0.8755</td>\n",
       "      <td id=\"T_66428_row5_col4\" class=\"data row5 col4\" >0.9289</td>\n",
       "      <td id=\"T_66428_row5_col5\" class=\"data row5 col5\" >0.9009</td>\n",
       "      <td id=\"T_66428_row5_col6\" class=\"data row5 col6\" >0.8827</td>\n",
       "      <td id=\"T_66428_row5_col7\" class=\"data row5 col7\" >0.8836</td>\n",
       "      <td id=\"T_66428_row5_col8\" class=\"data row5 col8\" >0.7070</td>\n",
       "    </tr>\n",
       "    <tr>\n",
       "      <th id=\"T_66428_level0_row6\" class=\"row_heading level0 row6\" >gbc</th>\n",
       "      <td id=\"T_66428_row6_col0\" class=\"data row6 col0\" >Gradient Boosting Classifier</td>\n",
       "      <td id=\"T_66428_row6_col1\" class=\"data row6 col1\" >0.9689</td>\n",
       "      <td id=\"T_66428_row6_col2\" class=\"data row6 col2\" >0.9345</td>\n",
       "      <td id=\"T_66428_row6_col3\" class=\"data row6 col3\" >0.8755</td>\n",
       "      <td id=\"T_66428_row6_col4\" class=\"data row6 col4\" >0.9270</td>\n",
       "      <td id=\"T_66428_row6_col5\" class=\"data row6 col5\" >0.9000</td>\n",
       "      <td id=\"T_66428_row6_col6\" class=\"data row6 col6\" >0.8816</td>\n",
       "      <td id=\"T_66428_row6_col7\" class=\"data row6 col7\" >0.8824</td>\n",
       "      <td id=\"T_66428_row6_col8\" class=\"data row6 col8\" >0.0440</td>\n",
       "    </tr>\n",
       "    <tr>\n",
       "      <th id=\"T_66428_level0_row7\" class=\"row_heading level0 row7\" >lightgbm</th>\n",
       "      <td id=\"T_66428_row7_col0\" class=\"data row7 col0\" >Light Gradient Boosting Machine</td>\n",
       "      <td id=\"T_66428_row7_col1\" class=\"data row7 col1\" >0.9689</td>\n",
       "      <td id=\"T_66428_row7_col2\" class=\"data row7 col2\" >0.9342</td>\n",
       "      <td id=\"T_66428_row7_col3\" class=\"data row7 col3\" >0.8714</td>\n",
       "      <td id=\"T_66428_row7_col4\" class=\"data row7 col4\" >0.9305</td>\n",
       "      <td id=\"T_66428_row7_col5\" class=\"data row7 col5\" >0.8996</td>\n",
       "      <td id=\"T_66428_row7_col6\" class=\"data row7 col6\" >0.8813</td>\n",
       "      <td id=\"T_66428_row7_col7\" class=\"data row7 col7\" >0.8822</td>\n",
       "      <td id=\"T_66428_row7_col8\" class=\"data row7 col8\" >0.0480</td>\n",
       "    </tr>\n",
       "    <tr>\n",
       "      <th id=\"T_66428_level0_row8\" class=\"row_heading level0 row8\" >xgboost</th>\n",
       "      <td id=\"T_66428_row8_col0\" class=\"data row8 col0\" >Extreme Gradient Boosting</td>\n",
       "      <td id=\"T_66428_row8_col1\" class=\"data row8 col1\" >0.9684</td>\n",
       "      <td id=\"T_66428_row8_col2\" class=\"data row8 col2\" >0.9344</td>\n",
       "      <td id=\"T_66428_row8_col3\" class=\"data row8 col3\" >0.8674</td>\n",
       "      <td id=\"T_66428_row8_col4\" class=\"data row8 col4\" >0.9312</td>\n",
       "      <td id=\"T_66428_row8_col5\" class=\"data row8 col5\" >0.8977</td>\n",
       "      <td id=\"T_66428_row8_col6\" class=\"data row8 col6\" >0.8791</td>\n",
       "      <td id=\"T_66428_row8_col7\" class=\"data row8 col7\" >0.8801</td>\n",
       "      <td id=\"T_66428_row8_col8\" class=\"data row8 col8\" >0.1540</td>\n",
       "    </tr>\n",
       "    <tr>\n",
       "      <th id=\"T_66428_level0_row9\" class=\"row_heading level0 row9\" >rf</th>\n",
       "      <td id=\"T_66428_row9_col0\" class=\"data row9 col0\" >Random Forest Classifier</td>\n",
       "      <td id=\"T_66428_row9_col1\" class=\"data row9 col1\" >0.9563</td>\n",
       "      <td id=\"T_66428_row9_col2\" class=\"data row9 col2\" >0.9302</td>\n",
       "      <td id=\"T_66428_row9_col3\" class=\"data row9 col3\" >0.8310</td>\n",
       "      <td id=\"T_66428_row9_col4\" class=\"data row9 col4\" >0.8898</td>\n",
       "      <td id=\"T_66428_row9_col5\" class=\"data row9 col5\" >0.8585</td>\n",
       "      <td id=\"T_66428_row9_col6\" class=\"data row9 col6\" >0.8327</td>\n",
       "      <td id=\"T_66428_row9_col7\" class=\"data row9 col7\" >0.8340</td>\n",
       "      <td id=\"T_66428_row9_col8\" class=\"data row9 col8\" >0.0830</td>\n",
       "    </tr>\n",
       "    <tr>\n",
       "      <th id=\"T_66428_level0_row10\" class=\"row_heading level0 row10\" >et</th>\n",
       "      <td id=\"T_66428_row10_col0\" class=\"data row10 col0\" >Extra Trees Classifier</td>\n",
       "      <td id=\"T_66428_row10_col1\" class=\"data row10 col1\" >0.9550</td>\n",
       "      <td id=\"T_66428_row10_col2\" class=\"data row10 col2\" >0.9169</td>\n",
       "      <td id=\"T_66428_row10_col3\" class=\"data row10 col3\" >0.8228</td>\n",
       "      <td id=\"T_66428_row10_col4\" class=\"data row10 col4\" >0.8887</td>\n",
       "      <td id=\"T_66428_row10_col5\" class=\"data row10 col5\" >0.8536</td>\n",
       "      <td id=\"T_66428_row10_col6\" class=\"data row10 col6\" >0.8271</td>\n",
       "      <td id=\"T_66428_row10_col7\" class=\"data row10 col7\" >0.8285</td>\n",
       "      <td id=\"T_66428_row10_col8\" class=\"data row10 col8\" >0.0630</td>\n",
       "    </tr>\n",
       "    <tr>\n",
       "      <th id=\"T_66428_level0_row11\" class=\"row_heading level0 row11\" >dt</th>\n",
       "      <td id=\"T_66428_row11_col0\" class=\"data row11 col0\" >Decision Tree Classifier</td>\n",
       "      <td id=\"T_66428_row11_col1\" class=\"data row11 col1\" >0.9522</td>\n",
       "      <td id=\"T_66428_row11_col2\" class=\"data row11 col2\" >0.9016</td>\n",
       "      <td id=\"T_66428_row11_col3\" class=\"data row11 col3\" >0.7996</td>\n",
       "      <td id=\"T_66428_row11_col4\" class=\"data row11 col4\" >0.8918</td>\n",
       "      <td id=\"T_66428_row11_col5\" class=\"data row11 col5\" >0.8423</td>\n",
       "      <td id=\"T_66428_row11_col6\" class=\"data row11 col6\" >0.8143</td>\n",
       "      <td id=\"T_66428_row11_col7\" class=\"data row11 col7\" >0.8165</td>\n",
       "      <td id=\"T_66428_row11_col8\" class=\"data row11 col8\" >0.0070</td>\n",
       "    </tr>\n",
       "    <tr>\n",
       "      <th id=\"T_66428_level0_row12\" class=\"row_heading level0 row12\" >svm</th>\n",
       "      <td id=\"T_66428_row12_col0\" class=\"data row12 col0\" >SVM - Linear Kernel</td>\n",
       "      <td id=\"T_66428_row12_col1\" class=\"data row12 col1\" >0.9456</td>\n",
       "      <td id=\"T_66428_row12_col2\" class=\"data row12 col2\" >0.0000</td>\n",
       "      <td id=\"T_66428_row12_col3\" class=\"data row12 col3\" >0.7149</td>\n",
       "      <td id=\"T_66428_row12_col4\" class=\"data row12 col4\" >0.9292</td>\n",
       "      <td id=\"T_66428_row12_col5\" class=\"data row12 col5\" >0.7555</td>\n",
       "      <td id=\"T_66428_row12_col6\" class=\"data row12 col6\" >0.7350</td>\n",
       "      <td id=\"T_66428_row12_col7\" class=\"data row12 col7\" >0.7600</td>\n",
       "      <td id=\"T_66428_row12_col8\" class=\"data row12 col8\" >0.0090</td>\n",
       "    </tr>\n",
       "    <tr>\n",
       "      <th id=\"T_66428_level0_row13\" class=\"row_heading level0 row13\" >knn</th>\n",
       "      <td id=\"T_66428_row13_col0\" class=\"data row13 col0\" >K Neighbors Classifier</td>\n",
       "      <td id=\"T_66428_row13_col1\" class=\"data row13 col1\" >0.8711</td>\n",
       "      <td id=\"T_66428_row13_col2\" class=\"data row13 col2\" >0.8277</td>\n",
       "      <td id=\"T_66428_row13_col3\" class=\"data row13 col3\" >0.2267</td>\n",
       "      <td id=\"T_66428_row13_col4\" class=\"data row13 col4\" >0.8754</td>\n",
       "      <td id=\"T_66428_row13_col5\" class=\"data row13 col5\" >0.3590</td>\n",
       "      <td id=\"T_66428_row13_col6\" class=\"data row13 col6\" >0.3143</td>\n",
       "      <td id=\"T_66428_row13_col7\" class=\"data row13 col7\" >0.4048</td>\n",
       "      <td id=\"T_66428_row13_col8\" class=\"data row13 col8\" >0.3050</td>\n",
       "    </tr>\n",
       "    <tr>\n",
       "      <th id=\"T_66428_level0_row14\" class=\"row_heading level0 row14\" >qda</th>\n",
       "      <td id=\"T_66428_row14_col0\" class=\"data row14 col0\" >Quadratic Discriminant Analysis</td>\n",
       "      <td id=\"T_66428_row14_col1\" class=\"data row14 col1\" >0.8541</td>\n",
       "      <td id=\"T_66428_row14_col2\" class=\"data row14 col2\" >0.8828</td>\n",
       "      <td id=\"T_66428_row14_col3\" class=\"data row14 col3\" >0.8178</td>\n",
       "      <td id=\"T_66428_row14_col4\" class=\"data row14 col4\" >0.6973</td>\n",
       "      <td id=\"T_66428_row14_col5\" class=\"data row14 col5\" >0.6873</td>\n",
       "      <td id=\"T_66428_row14_col6\" class=\"data row14 col6\" >0.6139</td>\n",
       "      <td id=\"T_66428_row14_col7\" class=\"data row14 col7\" >0.6545</td>\n",
       "      <td id=\"T_66428_row14_col8\" class=\"data row14 col8\" >0.0100</td>\n",
       "    </tr>\n",
       "  </tbody>\n",
       "</table>\n"
      ],
      "text/plain": [
       "<pandas.io.formats.style.Styler at 0x1f0b9222a90>"
      ]
     },
     "metadata": {},
     "output_type": "display_data"
    },
    {
     "data": {
      "text/plain": [
       "LogisticRegression(C=1.0, class_weight=None, dual=False, fit_intercept=True,\n",
       "                   intercept_scaling=1, l1_ratio=None, max_iter=1000,\n",
       "                   multi_class='auto', n_jobs=None, penalty='l2',\n",
       "                   random_state=2, solver='lbfgs', tol=0.0001, verbose=0,\n",
       "                   warm_start=False)"
      ]
     },
     "execution_count": 67,
     "metadata": {},
     "output_type": "execute_result"
    }
   ],
   "source": [
    "compare_models()"
   ]
  },
  {
   "cell_type": "markdown",
   "id": "961501bf",
   "metadata": {},
   "source": [
    "Out of 15 models, All the highlighed ones have the same accuracy score of 96.9%. Choosing Logistic Regression Classifier for further evaluation."
   ]
  },
  {
   "cell_type": "markdown",
   "id": "4fa5568c",
   "metadata": {},
   "source": [
    "### Create Models\n",
    "\n",
    "This function creates a model and scores it using stratified cross validation. \n",
    "\n",
    "* Logistic Regression "
   ]
  },
  {
   "cell_type": "markdown",
   "id": "1f5e30bf",
   "metadata": {},
   "source": [
    "#### Logistic Regression Classifier"
   ]
  },
  {
   "cell_type": "code",
   "execution_count": 68,
   "id": "363e5a37",
   "metadata": {},
   "outputs": [
    {
     "data": {
      "text/html": [
       "<style type=\"text/css\">\n",
       "#T_2a39a_row10_col0, #T_2a39a_row10_col1, #T_2a39a_row10_col2, #T_2a39a_row10_col3, #T_2a39a_row10_col4, #T_2a39a_row10_col5, #T_2a39a_row10_col6 {\n",
       "  background: yellow;\n",
       "}\n",
       "</style>\n",
       "<table id=\"T_2a39a_\">\n",
       "  <thead>\n",
       "    <tr>\n",
       "      <th class=\"blank level0\" >&nbsp;</th>\n",
       "      <th class=\"col_heading level0 col0\" >Accuracy</th>\n",
       "      <th class=\"col_heading level0 col1\" >AUC</th>\n",
       "      <th class=\"col_heading level0 col2\" >Recall</th>\n",
       "      <th class=\"col_heading level0 col3\" >Prec.</th>\n",
       "      <th class=\"col_heading level0 col4\" >F1</th>\n",
       "      <th class=\"col_heading level0 col5\" >Kappa</th>\n",
       "      <th class=\"col_heading level0 col6\" >MCC</th>\n",
       "    </tr>\n",
       "  </thead>\n",
       "  <tbody>\n",
       "    <tr>\n",
       "      <th id=\"T_2a39a_level0_row0\" class=\"row_heading level0 row0\" >0</th>\n",
       "      <td id=\"T_2a39a_row0_col0\" class=\"data row0 col0\" >0.9644</td>\n",
       "      <td id=\"T_2a39a_row0_col1\" class=\"data row0 col1\" >0.9262</td>\n",
       "      <td id=\"T_2a39a_row0_col2\" class=\"data row0 col2\" >0.8384</td>\n",
       "      <td id=\"T_2a39a_row0_col3\" class=\"data row0 col3\" >0.9326</td>\n",
       "      <td id=\"T_2a39a_row0_col4\" class=\"data row0 col4\" >0.8830</td>\n",
       "      <td id=\"T_2a39a_row0_col5\" class=\"data row0 col5\" >0.8621</td>\n",
       "      <td id=\"T_2a39a_row0_col6\" class=\"data row0 col6\" >0.8638</td>\n",
       "    </tr>\n",
       "    <tr>\n",
       "      <th id=\"T_2a39a_level0_row1\" class=\"row_heading level0 row1\" >1</th>\n",
       "      <td id=\"T_2a39a_row1_col0\" class=\"data row1 col0\" >0.9693</td>\n",
       "      <td id=\"T_2a39a_row1_col1\" class=\"data row1 col1\" >0.9467</td>\n",
       "      <td id=\"T_2a39a_row1_col2\" class=\"data row1 col2\" >0.8990</td>\n",
       "      <td id=\"T_2a39a_row1_col3\" class=\"data row1 col3\" >0.9082</td>\n",
       "      <td id=\"T_2a39a_row1_col4\" class=\"data row1 col4\" >0.9036</td>\n",
       "      <td id=\"T_2a39a_row1_col5\" class=\"data row1 col5\" >0.8853</td>\n",
       "      <td id=\"T_2a39a_row1_col6\" class=\"data row1 col6\" >0.8853</td>\n",
       "    </tr>\n",
       "    <tr>\n",
       "      <th id=\"T_2a39a_level0_row2\" class=\"row_heading level0 row2\" >2</th>\n",
       "      <td id=\"T_2a39a_row2_col0\" class=\"data row2 col0\" >0.9790</td>\n",
       "      <td id=\"T_2a39a_row2_col1\" class=\"data row2 col1\" >0.9531</td>\n",
       "      <td id=\"T_2a39a_row2_col2\" class=\"data row2 col2\" >0.9091</td>\n",
       "      <td id=\"T_2a39a_row2_col3\" class=\"data row2 col3\" >0.9574</td>\n",
       "      <td id=\"T_2a39a_row2_col4\" class=\"data row2 col4\" >0.9326</td>\n",
       "      <td id=\"T_2a39a_row2_col5\" class=\"data row2 col5\" >0.9202</td>\n",
       "      <td id=\"T_2a39a_row2_col6\" class=\"data row2 col6\" >0.9206</td>\n",
       "    </tr>\n",
       "    <tr>\n",
       "      <th id=\"T_2a39a_level0_row3\" class=\"row_heading level0 row3\" >3</th>\n",
       "      <td id=\"T_2a39a_row3_col0\" class=\"data row3 col0\" >0.9773</td>\n",
       "      <td id=\"T_2a39a_row3_col1\" class=\"data row3 col1\" >0.9243</td>\n",
       "      <td id=\"T_2a39a_row3_col2\" class=\"data row3 col2\" >0.8687</td>\n",
       "      <td id=\"T_2a39a_row3_col3\" class=\"data row3 col3\" >0.9885</td>\n",
       "      <td id=\"T_2a39a_row3_col4\" class=\"data row3 col4\" >0.9247</td>\n",
       "      <td id=\"T_2a39a_row3_col5\" class=\"data row3 col5\" >0.9115</td>\n",
       "      <td id=\"T_2a39a_row3_col6\" class=\"data row3 col6\" >0.9141</td>\n",
       "    </tr>\n",
       "    <tr>\n",
       "      <th id=\"T_2a39a_level0_row4\" class=\"row_heading level0 row4\" >4</th>\n",
       "      <td id=\"T_2a39a_row4_col0\" class=\"data row4 col0\" >0.9790</td>\n",
       "      <td id=\"T_2a39a_row4_col1\" class=\"data row4 col1\" >0.9669</td>\n",
       "      <td id=\"T_2a39a_row4_col2\" class=\"data row4 col2\" >0.9394</td>\n",
       "      <td id=\"T_2a39a_row4_col3\" class=\"data row4 col3\" >0.9300</td>\n",
       "      <td id=\"T_2a39a_row4_col4\" class=\"data row4 col4\" >0.9347</td>\n",
       "      <td id=\"T_2a39a_row4_col5\" class=\"data row4 col5\" >0.9221</td>\n",
       "      <td id=\"T_2a39a_row4_col6\" class=\"data row4 col6\" >0.9222</td>\n",
       "    </tr>\n",
       "    <tr>\n",
       "      <th id=\"T_2a39a_level0_row5\" class=\"row_heading level0 row5\" >5</th>\n",
       "      <td id=\"T_2a39a_row5_col0\" class=\"data row5 col0\" >0.9725</td>\n",
       "      <td id=\"T_2a39a_row5_col1\" class=\"data row5 col1\" >0.9207</td>\n",
       "      <td id=\"T_2a39a_row5_col2\" class=\"data row5 col2\" >0.8889</td>\n",
       "      <td id=\"T_2a39a_row5_col3\" class=\"data row5 col3\" >0.9362</td>\n",
       "      <td id=\"T_2a39a_row5_col4\" class=\"data row5 col4\" >0.9119</td>\n",
       "      <td id=\"T_2a39a_row5_col5\" class=\"data row5 col5\" >0.8956</td>\n",
       "      <td id=\"T_2a39a_row5_col6\" class=\"data row5 col6\" >0.8961</td>\n",
       "    </tr>\n",
       "    <tr>\n",
       "      <th id=\"T_2a39a_level0_row6\" class=\"row_heading level0 row6\" >6</th>\n",
       "      <td id=\"T_2a39a_row6_col0\" class=\"data row6 col0\" >0.9627</td>\n",
       "      <td id=\"T_2a39a_row6_col1\" class=\"data row6 col1\" >0.9176</td>\n",
       "      <td id=\"T_2a39a_row6_col2\" class=\"data row6 col2\" >0.8673</td>\n",
       "      <td id=\"T_2a39a_row6_col3\" class=\"data row6 col3\" >0.8947</td>\n",
       "      <td id=\"T_2a39a_row6_col4\" class=\"data row6 col4\" >0.8808</td>\n",
       "      <td id=\"T_2a39a_row6_col5\" class=\"data row6 col5\" >0.8587</td>\n",
       "      <td id=\"T_2a39a_row6_col6\" class=\"data row6 col6\" >0.8589</td>\n",
       "    </tr>\n",
       "    <tr>\n",
       "      <th id=\"T_2a39a_level0_row7\" class=\"row_heading level0 row7\" >7</th>\n",
       "      <td id=\"T_2a39a_row7_col0\" class=\"data row7 col0\" >0.9579</td>\n",
       "      <td id=\"T_2a39a_row7_col1\" class=\"data row7 col1\" >0.9292</td>\n",
       "      <td id=\"T_2a39a_row7_col2\" class=\"data row7 col2\" >0.8367</td>\n",
       "      <td id=\"T_2a39a_row7_col3\" class=\"data row7 col3\" >0.8913</td>\n",
       "      <td id=\"T_2a39a_row7_col4\" class=\"data row7 col4\" >0.8632</td>\n",
       "      <td id=\"T_2a39a_row7_col5\" class=\"data row7 col5\" >0.8383</td>\n",
       "      <td id=\"T_2a39a_row7_col6\" class=\"data row7 col6\" >0.8389</td>\n",
       "    </tr>\n",
       "    <tr>\n",
       "      <th id=\"T_2a39a_level0_row8\" class=\"row_heading level0 row8\" >8</th>\n",
       "      <td id=\"T_2a39a_row8_col0\" class=\"data row8 col0\" >0.9708</td>\n",
       "      <td id=\"T_2a39a_row8_col1\" class=\"data row8 col1\" >0.9251</td>\n",
       "      <td id=\"T_2a39a_row8_col2\" class=\"data row8 col2\" >0.8586</td>\n",
       "      <td id=\"T_2a39a_row8_col3\" class=\"data row8 col3\" >0.9551</td>\n",
       "      <td id=\"T_2a39a_row8_col4\" class=\"data row8 col4\" >0.9043</td>\n",
       "      <td id=\"T_2a39a_row8_col5\" class=\"data row8 col5\" >0.8871</td>\n",
       "      <td id=\"T_2a39a_row8_col6\" class=\"data row8 col6\" >0.8889</td>\n",
       "    </tr>\n",
       "    <tr>\n",
       "      <th id=\"T_2a39a_level0_row9\" class=\"row_heading level0 row9\" >9</th>\n",
       "      <td id=\"T_2a39a_row9_col0\" class=\"data row9 col0\" >0.9643</td>\n",
       "      <td id=\"T_2a39a_row9_col1\" class=\"data row9 col1\" >0.9247</td>\n",
       "      <td id=\"T_2a39a_row9_col2\" class=\"data row9 col2\" >0.8485</td>\n",
       "      <td id=\"T_2a39a_row9_col3\" class=\"data row9 col3\" >0.9231</td>\n",
       "      <td id=\"T_2a39a_row9_col4\" class=\"data row9 col4\" >0.8842</td>\n",
       "      <td id=\"T_2a39a_row9_col5\" class=\"data row9 col5\" >0.8632</td>\n",
       "      <td id=\"T_2a39a_row9_col6\" class=\"data row9 col6\" >0.8643</td>\n",
       "    </tr>\n",
       "    <tr>\n",
       "      <th id=\"T_2a39a_level0_row10\" class=\"row_heading level0 row10\" >Mean</th>\n",
       "      <td id=\"T_2a39a_row10_col0\" class=\"data row10 col0\" >0.9697</td>\n",
       "      <td id=\"T_2a39a_row10_col1\" class=\"data row10 col1\" >0.9335</td>\n",
       "      <td id=\"T_2a39a_row10_col2\" class=\"data row10 col2\" >0.8755</td>\n",
       "      <td id=\"T_2a39a_row10_col3\" class=\"data row10 col3\" >0.9317</td>\n",
       "      <td id=\"T_2a39a_row10_col4\" class=\"data row10 col4\" >0.9023</td>\n",
       "      <td id=\"T_2a39a_row10_col5\" class=\"data row10 col5\" >0.8844</td>\n",
       "      <td id=\"T_2a39a_row10_col6\" class=\"data row10 col6\" >0.8853</td>\n",
       "    </tr>\n",
       "    <tr>\n",
       "      <th id=\"T_2a39a_level0_row11\" class=\"row_heading level0 row11\" >SD</th>\n",
       "      <td id=\"T_2a39a_row11_col0\" class=\"data row11 col0\" >0.0070</td>\n",
       "      <td id=\"T_2a39a_row11_col1\" class=\"data row11 col1\" >0.0155</td>\n",
       "      <td id=\"T_2a39a_row11_col2\" class=\"data row11 col2\" >0.0315</td>\n",
       "      <td id=\"T_2a39a_row11_col3\" class=\"data row11 col3\" >0.0284</td>\n",
       "      <td id=\"T_2a39a_row11_col4\" class=\"data row11 col4\" >0.0229</td>\n",
       "      <td id=\"T_2a39a_row11_col5\" class=\"data row11 col5\" >0.0270</td>\n",
       "      <td id=\"T_2a39a_row11_col6\" class=\"data row11 col6\" >0.0271</td>\n",
       "    </tr>\n",
       "  </tbody>\n",
       "</table>\n"
      ],
      "text/plain": [
       "<pandas.io.formats.style.Styler at 0x1f0b5887af0>"
      ]
     },
     "metadata": {},
     "output_type": "display_data"
    }
   ],
   "source": [
    "lr = create_model('lr')"
   ]
  },
  {
   "cell_type": "code",
   "execution_count": 69,
   "id": "aa3fc5f6",
   "metadata": {},
   "outputs": [
    {
     "name": "stdout",
     "output_type": "stream",
     "text": [
      "LogisticRegression(C=1.0, class_weight=None, dual=False, fit_intercept=True,\n",
      "                   intercept_scaling=1, l1_ratio=None, max_iter=1000,\n",
      "                   multi_class='auto', n_jobs=None, penalty='l2',\n",
      "                   random_state=2, solver='lbfgs', tol=0.0001, verbose=0,\n",
      "                   warm_start=False)\n"
     ]
    }
   ],
   "source": [
    "#trained model object is stored in the variable 'lr'. \n",
    "print(lr)"
   ]
  },
  {
   "cell_type": "markdown",
   "id": "068d78b3",
   "metadata": {},
   "source": [
    "### Tune Models\n",
    "\n",
    "This function automatically tunes the hyperparameters of a model on a pre-defined search space and scores it using stratified cross validation."
   ]
  },
  {
   "cell_type": "markdown",
   "id": "c04fb3b7",
   "metadata": {},
   "source": [
    "#### Logistic Regression Classifier"
   ]
  },
  {
   "cell_type": "code",
   "execution_count": 70,
   "id": "4b5a8029",
   "metadata": {},
   "outputs": [
    {
     "data": {
      "text/html": [
       "<style type=\"text/css\">\n",
       "#T_02ea5_row10_col0, #T_02ea5_row10_col1, #T_02ea5_row10_col2, #T_02ea5_row10_col3, #T_02ea5_row10_col4, #T_02ea5_row10_col5, #T_02ea5_row10_col6 {\n",
       "  background: yellow;\n",
       "}\n",
       "</style>\n",
       "<table id=\"T_02ea5_\">\n",
       "  <thead>\n",
       "    <tr>\n",
       "      <th class=\"blank level0\" >&nbsp;</th>\n",
       "      <th class=\"col_heading level0 col0\" >Accuracy</th>\n",
       "      <th class=\"col_heading level0 col1\" >AUC</th>\n",
       "      <th class=\"col_heading level0 col2\" >Recall</th>\n",
       "      <th class=\"col_heading level0 col3\" >Prec.</th>\n",
       "      <th class=\"col_heading level0 col4\" >F1</th>\n",
       "      <th class=\"col_heading level0 col5\" >Kappa</th>\n",
       "      <th class=\"col_heading level0 col6\" >MCC</th>\n",
       "    </tr>\n",
       "  </thead>\n",
       "  <tbody>\n",
       "    <tr>\n",
       "      <th id=\"T_02ea5_level0_row0\" class=\"row_heading level0 row0\" >0</th>\n",
       "      <td id=\"T_02ea5_row0_col0\" class=\"data row0 col0\" >0.9644</td>\n",
       "      <td id=\"T_02ea5_row0_col1\" class=\"data row0 col1\" >0.9294</td>\n",
       "      <td id=\"T_02ea5_row0_col2\" class=\"data row0 col2\" >0.8384</td>\n",
       "      <td id=\"T_02ea5_row0_col3\" class=\"data row0 col3\" >0.9326</td>\n",
       "      <td id=\"T_02ea5_row0_col4\" class=\"data row0 col4\" >0.8830</td>\n",
       "      <td id=\"T_02ea5_row0_col5\" class=\"data row0 col5\" >0.8621</td>\n",
       "      <td id=\"T_02ea5_row0_col6\" class=\"data row0 col6\" >0.8638</td>\n",
       "    </tr>\n",
       "    <tr>\n",
       "      <th id=\"T_02ea5_level0_row1\" class=\"row_heading level0 row1\" >1</th>\n",
       "      <td id=\"T_02ea5_row1_col0\" class=\"data row1 col0\" >0.9693</td>\n",
       "      <td id=\"T_02ea5_row1_col1\" class=\"data row1 col1\" >0.9410</td>\n",
       "      <td id=\"T_02ea5_row1_col2\" class=\"data row1 col2\" >0.8990</td>\n",
       "      <td id=\"T_02ea5_row1_col3\" class=\"data row1 col3\" >0.9082</td>\n",
       "      <td id=\"T_02ea5_row1_col4\" class=\"data row1 col4\" >0.9036</td>\n",
       "      <td id=\"T_02ea5_row1_col5\" class=\"data row1 col5\" >0.8853</td>\n",
       "      <td id=\"T_02ea5_row1_col6\" class=\"data row1 col6\" >0.8853</td>\n",
       "    </tr>\n",
       "    <tr>\n",
       "      <th id=\"T_02ea5_level0_row2\" class=\"row_heading level0 row2\" >2</th>\n",
       "      <td id=\"T_02ea5_row2_col0\" class=\"data row2 col0\" >0.9790</td>\n",
       "      <td id=\"T_02ea5_row2_col1\" class=\"data row2 col1\" >0.9556</td>\n",
       "      <td id=\"T_02ea5_row2_col2\" class=\"data row2 col2\" >0.9091</td>\n",
       "      <td id=\"T_02ea5_row2_col3\" class=\"data row2 col3\" >0.9574</td>\n",
       "      <td id=\"T_02ea5_row2_col4\" class=\"data row2 col4\" >0.9326</td>\n",
       "      <td id=\"T_02ea5_row2_col5\" class=\"data row2 col5\" >0.9202</td>\n",
       "      <td id=\"T_02ea5_row2_col6\" class=\"data row2 col6\" >0.9206</td>\n",
       "    </tr>\n",
       "    <tr>\n",
       "      <th id=\"T_02ea5_level0_row3\" class=\"row_heading level0 row3\" >3</th>\n",
       "      <td id=\"T_02ea5_row3_col0\" class=\"data row3 col0\" >0.9773</td>\n",
       "      <td id=\"T_02ea5_row3_col1\" class=\"data row3 col1\" >0.9263</td>\n",
       "      <td id=\"T_02ea5_row3_col2\" class=\"data row3 col2\" >0.8687</td>\n",
       "      <td id=\"T_02ea5_row3_col3\" class=\"data row3 col3\" >0.9885</td>\n",
       "      <td id=\"T_02ea5_row3_col4\" class=\"data row3 col4\" >0.9247</td>\n",
       "      <td id=\"T_02ea5_row3_col5\" class=\"data row3 col5\" >0.9115</td>\n",
       "      <td id=\"T_02ea5_row3_col6\" class=\"data row3 col6\" >0.9141</td>\n",
       "    </tr>\n",
       "    <tr>\n",
       "      <th id=\"T_02ea5_level0_row4\" class=\"row_heading level0 row4\" >4</th>\n",
       "      <td id=\"T_02ea5_row4_col0\" class=\"data row4 col0\" >0.9790</td>\n",
       "      <td id=\"T_02ea5_row4_col1\" class=\"data row4 col1\" >0.9644</td>\n",
       "      <td id=\"T_02ea5_row4_col2\" class=\"data row4 col2\" >0.9394</td>\n",
       "      <td id=\"T_02ea5_row4_col3\" class=\"data row4 col3\" >0.9300</td>\n",
       "      <td id=\"T_02ea5_row4_col4\" class=\"data row4 col4\" >0.9347</td>\n",
       "      <td id=\"T_02ea5_row4_col5\" class=\"data row4 col5\" >0.9221</td>\n",
       "      <td id=\"T_02ea5_row4_col6\" class=\"data row4 col6\" >0.9222</td>\n",
       "    </tr>\n",
       "    <tr>\n",
       "      <th id=\"T_02ea5_level0_row5\" class=\"row_heading level0 row5\" >5</th>\n",
       "      <td id=\"T_02ea5_row5_col0\" class=\"data row5 col0\" >0.9725</td>\n",
       "      <td id=\"T_02ea5_row5_col1\" class=\"data row5 col1\" >0.9229</td>\n",
       "      <td id=\"T_02ea5_row5_col2\" class=\"data row5 col2\" >0.8889</td>\n",
       "      <td id=\"T_02ea5_row5_col3\" class=\"data row5 col3\" >0.9362</td>\n",
       "      <td id=\"T_02ea5_row5_col4\" class=\"data row5 col4\" >0.9119</td>\n",
       "      <td id=\"T_02ea5_row5_col5\" class=\"data row5 col5\" >0.8956</td>\n",
       "      <td id=\"T_02ea5_row5_col6\" class=\"data row5 col6\" >0.8961</td>\n",
       "    </tr>\n",
       "    <tr>\n",
       "      <th id=\"T_02ea5_level0_row6\" class=\"row_heading level0 row6\" >6</th>\n",
       "      <td id=\"T_02ea5_row6_col0\" class=\"data row6 col0\" >0.9627</td>\n",
       "      <td id=\"T_02ea5_row6_col1\" class=\"data row6 col1\" >0.9267</td>\n",
       "      <td id=\"T_02ea5_row6_col2\" class=\"data row6 col2\" >0.8673</td>\n",
       "      <td id=\"T_02ea5_row6_col3\" class=\"data row6 col3\" >0.8947</td>\n",
       "      <td id=\"T_02ea5_row6_col4\" class=\"data row6 col4\" >0.8808</td>\n",
       "      <td id=\"T_02ea5_row6_col5\" class=\"data row6 col5\" >0.8587</td>\n",
       "      <td id=\"T_02ea5_row6_col6\" class=\"data row6 col6\" >0.8589</td>\n",
       "    </tr>\n",
       "    <tr>\n",
       "      <th id=\"T_02ea5_level0_row7\" class=\"row_heading level0 row7\" >7</th>\n",
       "      <td id=\"T_02ea5_row7_col0\" class=\"data row7 col0\" >0.9579</td>\n",
       "      <td id=\"T_02ea5_row7_col1\" class=\"data row7 col1\" >0.9316</td>\n",
       "      <td id=\"T_02ea5_row7_col2\" class=\"data row7 col2\" >0.8367</td>\n",
       "      <td id=\"T_02ea5_row7_col3\" class=\"data row7 col3\" >0.8913</td>\n",
       "      <td id=\"T_02ea5_row7_col4\" class=\"data row7 col4\" >0.8632</td>\n",
       "      <td id=\"T_02ea5_row7_col5\" class=\"data row7 col5\" >0.8383</td>\n",
       "      <td id=\"T_02ea5_row7_col6\" class=\"data row7 col6\" >0.8389</td>\n",
       "    </tr>\n",
       "    <tr>\n",
       "      <th id=\"T_02ea5_level0_row8\" class=\"row_heading level0 row8\" >8</th>\n",
       "      <td id=\"T_02ea5_row8_col0\" class=\"data row8 col0\" >0.9708</td>\n",
       "      <td id=\"T_02ea5_row8_col1\" class=\"data row8 col1\" >0.9196</td>\n",
       "      <td id=\"T_02ea5_row8_col2\" class=\"data row8 col2\" >0.8586</td>\n",
       "      <td id=\"T_02ea5_row8_col3\" class=\"data row8 col3\" >0.9551</td>\n",
       "      <td id=\"T_02ea5_row8_col4\" class=\"data row8 col4\" >0.9043</td>\n",
       "      <td id=\"T_02ea5_row8_col5\" class=\"data row8 col5\" >0.8871</td>\n",
       "      <td id=\"T_02ea5_row8_col6\" class=\"data row8 col6\" >0.8889</td>\n",
       "    </tr>\n",
       "    <tr>\n",
       "      <th id=\"T_02ea5_level0_row9\" class=\"row_heading level0 row9\" >9</th>\n",
       "      <td id=\"T_02ea5_row9_col0\" class=\"data row9 col0\" >0.9643</td>\n",
       "      <td id=\"T_02ea5_row9_col1\" class=\"data row9 col1\" >0.9156</td>\n",
       "      <td id=\"T_02ea5_row9_col2\" class=\"data row9 col2\" >0.8485</td>\n",
       "      <td id=\"T_02ea5_row9_col3\" class=\"data row9 col3\" >0.9231</td>\n",
       "      <td id=\"T_02ea5_row9_col4\" class=\"data row9 col4\" >0.8842</td>\n",
       "      <td id=\"T_02ea5_row9_col5\" class=\"data row9 col5\" >0.8632</td>\n",
       "      <td id=\"T_02ea5_row9_col6\" class=\"data row9 col6\" >0.8643</td>\n",
       "    </tr>\n",
       "    <tr>\n",
       "      <th id=\"T_02ea5_level0_row10\" class=\"row_heading level0 row10\" >Mean</th>\n",
       "      <td id=\"T_02ea5_row10_col0\" class=\"data row10 col0\" >0.9697</td>\n",
       "      <td id=\"T_02ea5_row10_col1\" class=\"data row10 col1\" >0.9333</td>\n",
       "      <td id=\"T_02ea5_row10_col2\" class=\"data row10 col2\" >0.8755</td>\n",
       "      <td id=\"T_02ea5_row10_col3\" class=\"data row10 col3\" >0.9317</td>\n",
       "      <td id=\"T_02ea5_row10_col4\" class=\"data row10 col4\" >0.9023</td>\n",
       "      <td id=\"T_02ea5_row10_col5\" class=\"data row10 col5\" >0.8844</td>\n",
       "      <td id=\"T_02ea5_row10_col6\" class=\"data row10 col6\" >0.8853</td>\n",
       "    </tr>\n",
       "    <tr>\n",
       "      <th id=\"T_02ea5_level0_row11\" class=\"row_heading level0 row11\" >SD</th>\n",
       "      <td id=\"T_02ea5_row11_col0\" class=\"data row11 col0\" >0.0070</td>\n",
       "      <td id=\"T_02ea5_row11_col1\" class=\"data row11 col1\" >0.0150</td>\n",
       "      <td id=\"T_02ea5_row11_col2\" class=\"data row11 col2\" >0.0315</td>\n",
       "      <td id=\"T_02ea5_row11_col3\" class=\"data row11 col3\" >0.0284</td>\n",
       "      <td id=\"T_02ea5_row11_col4\" class=\"data row11 col4\" >0.0229</td>\n",
       "      <td id=\"T_02ea5_row11_col5\" class=\"data row11 col5\" >0.0270</td>\n",
       "      <td id=\"T_02ea5_row11_col6\" class=\"data row11 col6\" >0.0271</td>\n",
       "    </tr>\n",
       "  </tbody>\n",
       "</table>\n"
      ],
      "text/plain": [
       "<pandas.io.formats.style.Styler at 0x1f0b55f5640>"
      ]
     },
     "metadata": {},
     "output_type": "display_data"
    }
   ],
   "source": [
    "tuned_lr = tune_model(lr)"
   ]
  },
  {
   "cell_type": "code",
   "execution_count": 71,
   "id": "5af485fc",
   "metadata": {},
   "outputs": [
    {
     "name": "stdout",
     "output_type": "stream",
     "text": [
      "LogisticRegression(C=5.93, class_weight='balanced', dual=False,\n",
      "                   fit_intercept=True, intercept_scaling=1, l1_ratio=None,\n",
      "                   max_iter=1000, multi_class='auto', n_jobs=None, penalty='l2',\n",
      "                   random_state=2, solver='lbfgs', tol=0.0001, verbose=0,\n",
      "                   warm_start=False)\n"
     ]
    }
   ],
   "source": [
    "#tuned model object is stored in the variable 'tuned_lr'. \n",
    "print(tuned_lr)"
   ]
  },
  {
   "cell_type": "markdown",
   "id": "4402141f",
   "metadata": {},
   "source": [
    "### Plot Models"
   ]
  },
  {
   "cell_type": "markdown",
   "id": "b0a74767",
   "metadata": {},
   "source": [
    "####  Logistic Regression Classifier"
   ]
  },
  {
   "cell_type": "markdown",
   "id": "6c5bfd1b",
   "metadata": {},
   "source": [
    "##### Confusion Matrix"
   ]
  },
  {
   "cell_type": "code",
   "execution_count": 72,
   "id": "797a2e00",
   "metadata": {},
   "outputs": [
    {
     "data": {
      "image/png": "[encoded data removed]",
      "text/plain": [
       "<Figure size 576x396 with 1 Axes>"
      ]
     },
     "metadata": {},
     "output_type": "display_data"
    }
   ],
   "source": [
    "plot_model(lr, plot = 'confusion_matrix')"
   ]
  },
  {
   "cell_type": "markdown",
   "id": "da266bf3",
   "metadata": {},
   "source": [
    "##### Precision-Recall Curve"
   ]
  },
  {
   "cell_type": "code",
   "execution_count": 73,
   "id": "52854608",
   "metadata": {},
   "outputs": [
    {
     "data": {
      "image/png": "[encoded data removed]",
      "text/plain": [
       "<Figure size 576x396 with 1 Axes>"
      ]
     },
     "metadata": {},
     "output_type": "display_data"
    }
   ],
   "source": [
    "plot_model(lr, plot = 'pr')"
   ]
  },
  {
   "cell_type": "markdown",
   "id": "01a176e6",
   "metadata": {},
   "source": [
    "##### AUC Plot"
   ]
  },
  {
   "cell_type": "code",
   "execution_count": 74,
   "id": "b955ccf3",
   "metadata": {},
   "outputs": [
    {
     "data": {
      "image/png": "[encoded data removed]",
      "text/plain": [
       "<Figure size 576x396 with 1 Axes>"
      ]
     },
     "metadata": {},
     "output_type": "display_data"
    }
   ],
   "source": [
    "plot_model(lr, plot = 'auc')"
   ]
  },
  {
   "cell_type": "markdown",
   "id": "b4eb06b5",
   "metadata": {},
   "source": [
    "##### Feature Importance Plot"
   ]
  },
  {
   "cell_type": "code",
   "execution_count": 75,
   "id": "d8831609",
   "metadata": {},
   "outputs": [
    {
     "data": {
      "image/png": "[encoded data removed]",
      "text/plain": [
       "<Figure size 800x500 with 1 Axes>"
      ]
     },
     "metadata": {},
     "output_type": "display_data"
    }
   ],
   "source": [
    "plot_model(lr, plot='feature')"
   ]
  },
  {
   "cell_type": "markdown",
   "id": "148afefc",
   "metadata": {},
   "source": [
    "### Predict on test / hold-out Sample"
   ]
  },
  {
   "cell_type": "code",
   "execution_count": 76,
   "id": "93bcb3e5",
   "metadata": {},
   "outputs": [
    {
     "data": {
      "text/html": [
       "<style type=\"text/css\">\n",
       "</style>\n",
       "<table id=\"T_05225_\">\n",
       "  <thead>\n",
       "    <tr>\n",
       "      <th class=\"blank level0\" >&nbsp;</th>\n",
       "      <th class=\"col_heading level0 col0\" >Model</th>\n",
       "      <th class=\"col_heading level0 col1\" >Accuracy</th>\n",
       "      <th class=\"col_heading level0 col2\" >AUC</th>\n",
       "      <th class=\"col_heading level0 col3\" >Recall</th>\n",
       "      <th class=\"col_heading level0 col4\" >Prec.</th>\n",
       "      <th class=\"col_heading level0 col5\" >F1</th>\n",
       "      <th class=\"col_heading level0 col6\" >Kappa</th>\n",
       "      <th class=\"col_heading level0 col7\" >MCC</th>\n",
       "    </tr>\n",
       "  </thead>\n",
       "  <tbody>\n",
       "    <tr>\n",
       "      <th id=\"T_05225_level0_row0\" class=\"row_heading level0 row0\" >0</th>\n",
       "      <td id=\"T_05225_row0_col0\" class=\"data row0 col0\" >Logistic Regression</td>\n",
       "      <td id=\"T_05225_row0_col1\" class=\"data row0 col1\" >0.9705</td>\n",
       "      <td id=\"T_05225_row0_col2\" class=\"data row0 col2\" >0.9349</td>\n",
       "      <td id=\"T_05225_row0_col3\" class=\"data row0 col3\" >0.8640</td>\n",
       "      <td id=\"T_05225_row0_col4\" class=\"data row0 col4\" >0.9610</td>\n",
       "      <td id=\"T_05225_row0_col5\" class=\"data row0 col5\" >0.9099</td>\n",
       "      <td id=\"T_05225_row0_col6\" class=\"data row0 col6\" >0.8924</td>\n",
       "      <td id=\"T_05225_row0_col7\" class=\"data row0 col7\" >0.8942</td>\n",
       "    </tr>\n",
       "  </tbody>\n",
       "</table>\n"
      ],
      "text/plain": [
       "<pandas.io.formats.style.Styler at 0x1f0bac1e790>"
      ]
     },
     "metadata": {},
     "output_type": "display_data"
    }
   ],
   "source": [
    "predict_model(lr);"
   ]
  },
  {
   "cell_type": "markdown",
   "id": "d25199fd",
   "metadata": {},
   "source": [
    "The accuracy on the test set is 97% compared to 96.9% on the train set. So the model generalized well to set data."
   ]
  },
  {
   "cell_type": "markdown",
   "id": "4f64a3c7",
   "metadata": {},
   "source": [
    "## Summary"
   ]
  },
  {
   "cell_type": "markdown",
   "id": "b5d2e320",
   "metadata": {},
   "source": [
    "From the feature importance we can predict the following factors that predict future user adoption:\n",
    "\n",
    "* Enough time i.e atleast 100 days should have passed from the user account creation, before an user is deemed as an 'adopted user'.\n",
    "* User account creation via signups using the website should be encourage more\n",
    "* User account creation using Guest Invite, org invite and personal projects are all good options and these should be encouraged\n",
    "* Users being on the regular marketing email drip should be reduced as this is not helping in future user adoption\n",
    "* User creation via signed up using Google Authentication and belonging to an organization is also helping in user adoption."
   ]
  },
  {
   "cell_type": "code",
   "execution_count": null,
   "id": "8a8016c7",
   "metadata": {},
   "outputs": [],
   "source": []
  }
 ],
 "metadata": {
  "kernelspec": {
   "display_name": "Python 3",
   "language": "python",
   "name": "python3"
  },
  "language_info": {
   "codemirror_mode": {
    "name": "ipython",
    "version": 3
   },
   "file_extension": ".py",
   "mimetype": "text/x-python",
   "name": "python",
   "nbconvert_exporter": "python",
   "pygments_lexer": "ipython3",
   "version": "3.8.10"
  }
 },
 "nbformat": 4,
 "nbformat_minor": 5
}
