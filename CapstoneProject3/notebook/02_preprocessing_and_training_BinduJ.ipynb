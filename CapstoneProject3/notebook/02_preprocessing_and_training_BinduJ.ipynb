{
 "cells": [
  {
   "cell_type": "markdown",
   "id": "838b35a9",
   "metadata": {},
   "source": [
    "##  Pre-processing and Training Data Development"
   ]
  },
  {
   "cell_type": "code",
   "execution_count": 1,
   "id": "82326a67",
   "metadata": {},
   "outputs": [],
   "source": [
    "import pandas as pd\n",
    "import numpy as np\n",
    "\n",
    "import gensim\n",
    "from gensim.corpora.dictionary import Dictionary\n",
    "from nltk.tokenize import TreebankWordTokenizer\n",
    "\n",
    "from gensim.models.tfidfmodel import TfidfModel\n",
    "\n",
    "import warnings\n",
    "warnings.filterwarnings(\"ignore\")"
   ]
  },
  {
   "cell_type": "code",
   "execution_count": 2,
   "id": "e2df3faf",
   "metadata": {},
   "outputs": [
    {
     "data": {
      "text/html": [
       "<div>\n",
       "<style scoped>\n",
       "    .dataframe tbody tr th:only-of-type {\n",
       "        vertical-align: middle;\n",
       "    }\n",
       "\n",
       "    .dataframe tbody tr th {\n",
       "        vertical-align: top;\n",
       "    }\n",
       "\n",
       "    .dataframe thead th {\n",
       "        text-align: right;\n",
       "    }\n",
       "</style>\n",
       "<table border=\"1\" class=\"dataframe\">\n",
       "  <thead>\n",
       "    <tr style=\"text-align: right;\">\n",
       "      <th></th>\n",
       "      <th>job_title</th>\n",
       "      <th>location</th>\n",
       "      <th>connection</th>\n",
       "      <th>job_title_nostop</th>\n",
       "      <th>location_cleaned</th>\n",
       "      <th>combined</th>\n",
       "    </tr>\n",
       "  </thead>\n",
       "  <tbody>\n",
       "    <tr>\n",
       "      <th>0</th>\n",
       "      <td>2019 C.T. Bauer College of Business Graduate (Magna Cum Laude) and aspiring Human Resources professional</td>\n",
       "      <td>Houston, Texas</td>\n",
       "      <td>85.0</td>\n",
       "      <td>['2019', 'ct', 'bauer', 'college', 'business', 'graduate', 'magna', 'cum', 'laude', 'aspiring', 'human', 'resources', 'professional']</td>\n",
       "      <td>['houston', 'texas']</td>\n",
       "      <td>2019 ct bauer college business graduate magna cum laude aspiring human resources professional houston texas</td>\n",
       "    </tr>\n",
       "    <tr>\n",
       "      <th>1</th>\n",
       "      <td>Native English Teacher at EPIK (English Program in Korea)</td>\n",
       "      <td>Canada</td>\n",
       "      <td>500.0</td>\n",
       "      <td>['native', 'english', 'teacher', 'epik', 'english', 'program', 'korea']</td>\n",
       "      <td>['canada']</td>\n",
       "      <td>native english teacher epik english program korea canada</td>\n",
       "    </tr>\n",
       "    <tr>\n",
       "      <th>2</th>\n",
       "      <td>Aspiring Human Resources Professional</td>\n",
       "      <td>Raleigh-Durham, North Carolina</td>\n",
       "      <td>44.0</td>\n",
       "      <td>['aspiring', 'human', 'resources', 'professional']</td>\n",
       "      <td>['raleigh', 'durham', 'north', 'carolina', '']</td>\n",
       "      <td>aspiring human resources professional raleigh durham north carolina</td>\n",
       "    </tr>\n",
       "    <tr>\n",
       "      <th>3</th>\n",
       "      <td>People Development Coordinator at Ryan</td>\n",
       "      <td>Denton, Texas</td>\n",
       "      <td>500.0</td>\n",
       "      <td>['people', 'development', 'coordinator', 'ryan']</td>\n",
       "      <td>['denton', 'texas']</td>\n",
       "      <td>people development coordinator ryan denton texas</td>\n",
       "    </tr>\n",
       "    <tr>\n",
       "      <th>4</th>\n",
       "      <td>Aspiring Human Resources Specialist</td>\n",
       "      <td>New York City</td>\n",
       "      <td>1.0</td>\n",
       "      <td>['aspiring', 'human', 'resources', 'specialist']</td>\n",
       "      <td>['new', 'york', 'city', '']</td>\n",
       "      <td>aspiring human resources specialist new york city</td>\n",
       "    </tr>\n",
       "  </tbody>\n",
       "</table>\n",
       "</div>"
      ],
      "text/plain": [
       "                                                                                                  job_title  \\\n",
       "0  2019 C.T. Bauer College of Business Graduate (Magna Cum Laude) and aspiring Human Resources professional   \n",
       "1                                                 Native English Teacher at EPIK (English Program in Korea)   \n",
       "2                                                                     Aspiring Human Resources Professional   \n",
       "3                                                                    People Development Coordinator at Ryan   \n",
       "4                                                                       Aspiring Human Resources Specialist   \n",
       "\n",
       "                          location  connection  \\\n",
       "0                   Houston, Texas        85.0   \n",
       "1                           Canada       500.0   \n",
       "2  Raleigh-Durham, North Carolina         44.0   \n",
       "3                    Denton, Texas       500.0   \n",
       "4                   New York City          1.0   \n",
       "\n",
       "                                                                                                                        job_title_nostop  \\\n",
       "0  ['2019', 'ct', 'bauer', 'college', 'business', 'graduate', 'magna', 'cum', 'laude', 'aspiring', 'human', 'resources', 'professional']   \n",
       "1                                                                ['native', 'english', 'teacher', 'epik', 'english', 'program', 'korea']   \n",
       "2                                                                                     ['aspiring', 'human', 'resources', 'professional']   \n",
       "3                                                                                       ['people', 'development', 'coordinator', 'ryan']   \n",
       "4                                                                                       ['aspiring', 'human', 'resources', 'specialist']   \n",
       "\n",
       "                                 location_cleaned  \\\n",
       "0                            ['houston', 'texas']   \n",
       "1                                      ['canada']   \n",
       "2  ['raleigh', 'durham', 'north', 'carolina', '']   \n",
       "3                             ['denton', 'texas']   \n",
       "4                     ['new', 'york', 'city', '']   \n",
       "\n",
       "                                                                                                      combined  \n",
       "0  2019 ct bauer college business graduate magna cum laude aspiring human resources professional houston texas  \n",
       "1                                                     native english teacher epik english program korea canada  \n",
       "2                                         aspiring human resources professional raleigh durham north carolina   \n",
       "3                                                             people development coordinator ryan denton texas  \n",
       "4                                                           aspiring human resources specialist new york city   "
      ]
     },
     "execution_count": 2,
     "metadata": {},
     "output_type": "execute_result"
    }
   ],
   "source": [
    "data = pd.read_csv('../data/data_cleaned_final.csv')\n",
    "\n",
    "pd.set_option('display.max_colwidth',None)\n",
    "data.head()"
   ]
  },
  {
   "cell_type": "markdown",
   "id": "28a3bf1f",
   "metadata": {},
   "source": [
    "### Feature Engineering"
   ]
  },
  {
   "cell_type": "markdown",
   "id": "cd2bfc03",
   "metadata": {},
   "source": [
    "Displaying the combined column which contains the text combined with both the job title and location data"
   ]
  },
  {
   "cell_type": "code",
   "execution_count": 3,
   "id": "f6353bed",
   "metadata": {},
   "outputs": [
    {
     "data": {
      "text/plain": [
       "2019 ct bauer college business graduate magna cum laude aspiring human resources professional houston texas                          1\n",
       "liberal arts major aspiring human resources analyst baton rouge louisiana                                                            1\n",
       "senior human resources business partner heil environmental chattanooga tennessee                                                     1\n",
       "aspiring human resources professional energetic teamfocused leader austin texas                                                      1\n",
       "hr manager endemol shine north america los angeles california                                                                        1\n",
       "human resources professional world leader gis software highland california                                                           1\n",
       "rrp brand portfolio executive jti japan tobacco international philadelphia                                                           1\n",
       "information systems specialist programmer love data organization gaithersburg maryland                                               1\n",
       "bachelor science biology victoria university wellington baltimore maryland                                                           1\n",
       "human resources management major milpitas california                                                                                 1\n",
       "director human resources ey atlanta                                                                                                  1\n",
       "undergraduate research assistant styczynski lab atlanta                                                                              1\n",
       "lead official western illinois university chicago                                                                                    1\n",
       "seeking employment opportunities within customer service patient care torrance california                                            1\n",
       "admissions representative community medical center long beach long beach california                                                  1\n",
       "student westfield state university bridgewater massachusetts                                                                         1\n",
       "student indiana university kokomo business management retail manager delphi hardware paint lafayette indiana                         1\n",
       "student houston texas                                                                                                                1\n",
       "seeking human resources position las vegas nevada                                                                                    1\n",
       "aspiring human resources manager graduating may 2020 seeking entrylevel human resources position st louis cape girardeau missouri    1\n",
       "human resources generalist loparex raleigh durham north carolina                                                                     1\n",
       "business intelligence analytics travelers new york city                                                                              1\n",
       "always set success los angeles                                                                                                       1\n",
       "junior mes engineer information systems myrtle beach south carolina                                                                  1\n",
       "human resources conflict management policies procedures talent management benefits compensation dallas fort worth                    1\n",
       "native english teacher epik english program korea canada                                                                             1\n",
       "aspiring human resources professional passionate helping create inclusive engaging work environment new york new york                1\n",
       "aspiring human resources professional raleigh durham north carolina                                                                  1\n",
       "people development coordinator ryan denton texas                                                                                     1\n",
       "aspiring human resources specialist new york city                                                                                    1\n",
       "student humber college aspiring human resources generalist canada                                                                    1\n",
       "hr senior specialist san francisco bay                                                                                               1\n",
       "seeking human resources hris generalist positions philadelphia                                                                       1\n",
       "student chapman university lake forest california                                                                                    1\n",
       "svp chro marketing communications csr officer engie houston woodlands energy gphr sphr houston texas                                 1\n",
       "human resources coordinator intercontinental buckhead atlanta atlanta georgia                                                        1\n",
       "aspiring human resources management student seeking internship houston texas                                                         1\n",
       "seeking human resources opportunities chicago illinois                                                                               1\n",
       "experienced retail manager aspiring human resources professional austin texas                                                        1\n",
       "human resources staffing recruiting professional jackson mississippi                                                                 1\n",
       "human resources specialist luxottica new york city                                                                                   1\n",
       "director human resources north america groupe beneteau grand rapids michigan                                                         1\n",
       "retired army national guard recruiter office manager seeking position human resources virginia beach virginia                        1\n",
       "human resources generalist scottmadden inc raleigh durham north carolina                                                             1\n",
       "business management major aspiring human resources manager monroe louisiana                                                          1\n",
       "aspiring human resources manager seeking internship human resources houston texas                                                    1\n",
       "human resources professional boston                                                                                                  1\n",
       "nortia staffing seeking human resources payroll administrative professionals  san jose california                                    1\n",
       "director administration excellence logging katy texas                                                                                1\n",
       "Name: combined, dtype: int64"
      ]
     },
     "execution_count": 3,
     "metadata": {},
     "output_type": "execute_result"
    }
   ],
   "source": [
    "data['combined'].value_counts()"
   ]
  },
  {
   "cell_type": "code",
   "execution_count": 4,
   "id": "d94c73dd",
   "metadata": {},
   "outputs": [],
   "source": [
    "# variable to train\n",
    "X_train = data['combined'].values"
   ]
  },
  {
   "cell_type": "code",
   "execution_count": 5,
   "id": "df08d5be",
   "metadata": {},
   "outputs": [
    {
     "name": "stdout",
     "output_type": "stream",
     "text": [
      "['2019 ct bauer college business graduate magna cum laude aspiring human resources professional houston texas'\n",
      " 'native english teacher epik english program korea canada'\n",
      " 'aspiring human resources professional raleigh durham north carolina '\n",
      " 'people development coordinator ryan denton texas'\n",
      " 'aspiring human resources specialist new york city '\n",
      " 'student humber college aspiring human resources generalist canada'\n",
      " 'hr senior specialist san francisco bay '\n",
      " 'seeking human resources hris generalist positions philadelphia '\n",
      " 'student chapman university lake forest california'\n",
      " 'svp chro marketing communications csr officer engie houston woodlands energy gphr sphr houston texas '\n",
      " 'human resources coordinator intercontinental buckhead atlanta atlanta georgia'\n",
      " 'aspiring human resources management student seeking internship houston texas '\n",
      " 'seeking human resources opportunities chicago illinois'\n",
      " 'experienced retail manager aspiring human resources professional austin texas '\n",
      " 'human resources staffing recruiting professional jackson mississippi '\n",
      " 'human resources specialist luxottica new york city '\n",
      " 'director human resources north america groupe beneteau grand rapids michigan '\n",
      " 'retired army national guard recruiter office manager seeking position human resources virginia beach virginia'\n",
      " 'human resources generalist scottmadden inc raleigh durham north carolina '\n",
      " 'business management major aspiring human resources manager monroe louisiana '\n",
      " 'aspiring human resources manager seeking internship human resources houston texas '\n",
      " 'human resources professional boston '\n",
      " 'nortia staffing seeking human resources payroll administrative professionals  san jose california'\n",
      " 'aspiring human resources professional passionate helping create inclusive engaging work environment new york new york'\n",
      " 'human resources conflict management policies procedures talent management benefits compensation dallas fort worth '\n",
      " 'liberal arts major aspiring human resources analyst baton rouge louisiana '\n",
      " 'junior mes engineer information systems myrtle beach south carolina '\n",
      " 'senior human resources business partner heil environmental chattanooga tennessee '\n",
      " 'aspiring human resources professional energetic teamfocused leader austin texas '\n",
      " 'hr manager endemol shine north america los angeles california'\n",
      " 'human resources professional world leader gis software highland california'\n",
      " 'rrp brand portfolio executive jti japan tobacco international philadelphia '\n",
      " 'information systems specialist programmer love data organization gaithersburg maryland'\n",
      " 'bachelor science biology victoria university wellington baltimore maryland'\n",
      " 'human resources management major milpitas california'\n",
      " 'director human resources ey atlanta '\n",
      " 'undergraduate research assistant styczynski lab atlanta '\n",
      " 'lead official western illinois university chicago '\n",
      " 'seeking employment opportunities within customer service patient care torrance california'\n",
      " 'admissions representative community medical center long beach long beach california'\n",
      " 'student westfield state university bridgewater massachusetts'\n",
      " 'student indiana university kokomo business management retail manager delphi hardware paint lafayette indiana'\n",
      " 'student houston texas '\n",
      " 'seeking human resources position las vegas nevada '\n",
      " 'aspiring human resources manager graduating may 2020 seeking entrylevel human resources position st louis cape girardeau missouri'\n",
      " 'human resources generalist loparex raleigh durham north carolina '\n",
      " 'business intelligence analytics travelers new york city '\n",
      " 'always set success los angeles '\n",
      " 'director administration excellence logging katy texas']\n"
     ]
    }
   ],
   "source": [
    "print(X_train)"
   ]
  },
  {
   "cell_type": "markdown",
   "id": "b568088e",
   "metadata": {},
   "source": [
    "### Generate Document Vectors"
   ]
  },
  {
   "cell_type": "markdown",
   "id": "7ae63694",
   "metadata": {},
   "source": [
    "#### Usuage of Gensim\n",
    "Gensim is an open-source NLP library for building document or word vectors.</br>\n",
    "With these vectors, we can then see relationships among the words or documents based on how near or far they are and also what similar comparisons we find.</br>\n",
    "Gensim allows you to build corpora and dictionaries using simple classes and functions."
   ]
  },
  {
   "cell_type": "markdown",
   "id": "c88cdeb6",
   "metadata": {},
   "source": [
    "### Tokenize words"
   ]
  },
  {
   "cell_type": "code",
   "execution_count": 6,
   "id": "9eeb450e",
   "metadata": {},
   "outputs": [],
   "source": [
    "tokenized_docs = [TreebankWordTokenizer().tokenize(doc) for doc in X_train]"
   ]
  },
  {
   "cell_type": "code",
   "execution_count": null,
   "id": "13a7d233",
   "metadata": {},
   "outputs": [],
   "source": [
    "#import copy\n",
    "copy_tokenized_docs = copy.deepcopy(tokenized_docs)"
   ]
  },
  {
   "cell_type": "code",
   "execution_count": 7,
   "id": "051d601c",
   "metadata": {},
   "outputs": [
    {
     "name": "stdout",
     "output_type": "stream",
     "text": [
      "[['2019', 'ct', 'bauer', 'college', 'business', 'graduate', 'magna', 'cum', 'laude', 'aspiring', 'human', 'resources', 'professional', 'houston', 'texas'], ['native', 'english', 'teacher', 'epik', 'english', 'program', 'korea', 'canada'], ['aspiring', 'human', 'resources', 'professional', 'raleigh', 'durham', 'north', 'carolina'], ['people', 'development', 'coordinator', 'ryan', 'denton', 'texas'], ['aspiring', 'human', 'resources', 'specialist', 'new', 'york', 'city'], ['student', 'humber', 'college', 'aspiring', 'human', 'resources', 'generalist', 'canada'], ['hr', 'senior', 'specialist', 'san', 'francisco', 'bay'], ['seeking', 'human', 'resources', 'hris', 'generalist', 'positions', 'philadelphia'], ['student', 'chapman', 'university', 'lake', 'forest', 'california'], ['svp', 'chro', 'marketing', 'communications', 'csr', 'officer', 'engie', 'houston', 'woodlands', 'energy', 'gphr', 'sphr', 'houston', 'texas'], ['human', 'resources', 'coordinator', 'intercontinental', 'buckhead', 'atlanta', 'atlanta', 'georgia'], ['aspiring', 'human', 'resources', 'management', 'student', 'seeking', 'internship', 'houston', 'texas'], ['seeking', 'human', 'resources', 'opportunities', 'chicago', 'illinois'], ['experienced', 'retail', 'manager', 'aspiring', 'human', 'resources', 'professional', 'austin', 'texas'], ['human', 'resources', 'staffing', 'recruiting', 'professional', 'jackson', 'mississippi'], ['human', 'resources', 'specialist', 'luxottica', 'new', 'york', 'city'], ['director', 'human', 'resources', 'north', 'america', 'groupe', 'beneteau', 'grand', 'rapids', 'michigan'], ['retired', 'army', 'national', 'guard', 'recruiter', 'office', 'manager', 'seeking', 'position', 'human', 'resources', 'virginia', 'beach', 'virginia'], ['human', 'resources', 'generalist', 'scottmadden', 'inc', 'raleigh', 'durham', 'north', 'carolina'], ['business', 'management', 'major', 'aspiring', 'human', 'resources', 'manager', 'monroe', 'louisiana'], ['aspiring', 'human', 'resources', 'manager', 'seeking', 'internship', 'human', 'resources', 'houston', 'texas'], ['human', 'resources', 'professional', 'boston'], ['nortia', 'staffing', 'seeking', 'human', 'resources', 'payroll', 'administrative', 'professionals', 'san', 'jose', 'california'], ['aspiring', 'human', 'resources', 'professional', 'passionate', 'helping', 'create', 'inclusive', 'engaging', 'work', 'environment', 'new', 'york', 'new', 'york'], ['human', 'resources', 'conflict', 'management', 'policies', 'procedures', 'talent', 'management', 'benefits', 'compensation', 'dallas', 'fort', 'worth'], ['liberal', 'arts', 'major', 'aspiring', 'human', 'resources', 'analyst', 'baton', 'rouge', 'louisiana'], ['junior', 'mes', 'engineer', 'information', 'systems', 'myrtle', 'beach', 'south', 'carolina'], ['senior', 'human', 'resources', 'business', 'partner', 'heil', 'environmental', 'chattanooga', 'tennessee'], ['aspiring', 'human', 'resources', 'professional', 'energetic', 'teamfocused', 'leader', 'austin', 'texas'], ['hr', 'manager', 'endemol', 'shine', 'north', 'america', 'los', 'angeles', 'california'], ['human', 'resources', 'professional', 'world', 'leader', 'gis', 'software', 'highland', 'california'], ['rrp', 'brand', 'portfolio', 'executive', 'jti', 'japan', 'tobacco', 'international', 'philadelphia'], ['information', 'systems', 'specialist', 'programmer', 'love', 'data', 'organization', 'gaithersburg', 'maryland'], ['bachelor', 'science', 'biology', 'victoria', 'university', 'wellington', 'baltimore', 'maryland'], ['human', 'resources', 'management', 'major', 'milpitas', 'california'], ['director', 'human', 'resources', 'ey', 'atlanta'], ['undergraduate', 'research', 'assistant', 'styczynski', 'lab', 'atlanta'], ['lead', 'official', 'western', 'illinois', 'university', 'chicago'], ['seeking', 'employment', 'opportunities', 'within', 'customer', 'service', 'patient', 'care', 'torrance', 'california'], ['admissions', 'representative', 'community', 'medical', 'center', 'long', 'beach', 'long', 'beach', 'california'], ['student', 'westfield', 'state', 'university', 'bridgewater', 'massachusetts'], ['student', 'indiana', 'university', 'kokomo', 'business', 'management', 'retail', 'manager', 'delphi', 'hardware', 'paint', 'lafayette', 'indiana'], ['student', 'houston', 'texas'], ['seeking', 'human', 'resources', 'position', 'las', 'vegas', 'nevada'], ['aspiring', 'human', 'resources', 'manager', 'graduating', 'may', '2020', 'seeking', 'entrylevel', 'human', 'resources', 'position', 'st', 'louis', 'cape', 'girardeau', 'missouri'], ['human', 'resources', 'generalist', 'loparex', 'raleigh', 'durham', 'north', 'carolina'], ['business', 'intelligence', 'analytics', 'travelers', 'new', 'york', 'city'], ['always', 'set', 'success', 'los', 'angeles'], ['director', 'administration', 'excellence', 'logging', 'katy', 'texas']]\n"
     ]
    }
   ],
   "source": [
    "print(tokenized_docs)"
   ]
  },
  {
   "cell_type": "markdown",
   "id": "af55af13",
   "metadata": {},
   "source": [
    "### Create bigram\n",
    "\n",
    "Topic models make more sense when 'New' and 'York' are treated as 'New York' - we can do this by creating a bigram model and modifying our corpus accordingly"
   ]
  },
  {
   "cell_type": "code",
   "execution_count": 8,
   "id": "ce825ba8",
   "metadata": {},
   "outputs": [],
   "source": [
    "from gensim.models.phrases import Phrases"
   ]
  },
  {
   "cell_type": "code",
   "execution_count": 9,
   "id": "1e4dabcc",
   "metadata": {},
   "outputs": [],
   "source": [
    "#Build another Bigram without the connector_words\n",
    "bigram = Phrases(tokenized_docs, min_count=1, threshold=1) #train model\n",
    "\n",
    "tokenized_docs_bigram= [bigram[line] for line in tokenized_docs]"
   ]
  },
  {
   "cell_type": "code",
   "execution_count": 10,
   "id": "6caf0cbc",
   "metadata": {},
   "outputs": [
    {
     "name": "stdout",
     "output_type": "stream",
     "text": [
      "aspiring_human 15.258064516129034\n",
      "resources_professional 12.483870967741936\n",
      "houston_texas 38.22222222222222\n",
      "raleigh_durham 114.66666666666666\n",
      "north_carolina 51.6\n",
      "resources_specialist 4.161290322580645\n",
      "new_york 82.56\n",
      "resources_generalist 8.32258064516129\n",
      "seeking_human 5.548387096774194\n",
      "human_resources 16.10822060353798\n",
      "resources_management 2.774193548387097\n",
      "seeking_internship 28.666666666666664\n",
      "retail_manager 36.857142857142854\n",
      "austin_texas 28.666666666666664\n",
      "director_human 5.548387096774194\n",
      "north_america 51.6\n",
      "manager_seeking 8.19047619047619\n",
      "business_management 17.2\n",
      "major_aspiring 14.333333333333332\n",
      "resources_manager 4.755760368663594\n",
      "information_systems 129.0\n",
      "los_angeles 129.0\n",
      "management_major 28.666666666666664\n",
      "long_beach 64.5\n",
      "resources_position 5.548387096774194\n"
     ]
    }
   ],
   "source": [
    "for phrase, score in bigram.find_phrases(tokenized_docs).items():\n",
    "    print(phrase, score)"
   ]
  },
  {
   "cell_type": "code",
   "execution_count": null,
   "id": "9c1a51d9",
   "metadata": {},
   "outputs": [],
   "source": [
    "tokenized_docs_bigram"
   ]
  },
  {
   "cell_type": "code",
   "execution_count": 11,
   "id": "848dffd8",
   "metadata": {},
   "outputs": [
    {
     "data": {
      "text/plain": [
       "49"
      ]
     },
     "execution_count": 11,
     "metadata": {},
     "output_type": "execute_result"
    }
   ],
   "source": [
    "len(tokenized_docs_bigram)"
   ]
  },
  {
   "cell_type": "markdown",
   "id": "20d3c84c",
   "metadata": {},
   "source": [
    "### Create Dictionary needed for Topic Modeling"
   ]
  },
  {
   "cell_type": "code",
   "execution_count": 12,
   "id": "d1696dff",
   "metadata": {},
   "outputs": [],
   "source": [
    "# create a dictionary from the job_title and location containing the number of times a word appears in the training set.\n",
    "#This creates a mapping for Ids for each token\n",
    "dictionary = Dictionary(tokenized_docs_bigram) "
   ]
  },
  {
   "cell_type": "code",
   "execution_count": 13,
   "id": "0716add4",
   "metadata": {},
   "outputs": [
    {
     "name": "stdout",
     "output_type": "stream",
     "text": [
      "Dictionary(236 unique tokens: ['2019', 'aspiring_human', 'bauer', 'business', 'college']...)\n"
     ]
    }
   ],
   "source": [
    "print(dictionary)"
   ]
  },
  {
   "cell_type": "markdown",
   "id": "1e0742e4",
   "metadata": {},
   "source": [
    "### Create a Bag of Words Corpus\n",
    "\n",
    "Bag of words corpora in the Gensim library are based on dictionaries and contain the ID of each word along with the frequency of occurrence of the word."
   ]
  },
  {
   "cell_type": "code",
   "execution_count": 14,
   "id": "3c396fcc",
   "metadata": {},
   "outputs": [
    {
     "name": "stdout",
     "output_type": "stream",
     "text": [
      "[[(0, 1), (1, 1), (2, 1), (3, 1), (4, 1), (5, 1), (6, 1), (7, 1), (8, 1), (9, 1), (10, 1), (11, 1)], [(12, 1), (13, 2), (14, 1), (15, 1), (16, 1), (17, 1), (18, 1)], [(1, 1), (11, 1), (19, 1), (20, 1)], [(21, 1), (22, 1), (23, 1), (24, 1), (25, 1), (26, 1)], [(1, 1), (27, 1), (28, 1), (29, 1)], [(1, 1), (4, 1), (12, 1), (30, 1), (31, 1), (32, 1)], [(33, 1), (34, 1), (35, 1), (36, 1), (37, 1), (38, 1)], [(39, 1), (40, 1), (41, 1), (42, 1), (43, 1), (44, 1)], [(32, 1), (45, 1), (46, 1), (47, 1), (48, 1), (49, 1)], [(8, 1), (50, 1), (51, 1), (52, 1), (53, 1), (54, 1), (55, 1), (56, 1), (57, 1), (58, 1), (59, 1), (60, 1), (61, 1)], [(21, 1), (62, 2), (63, 1), (64, 1), (65, 1), (66, 1)], [(1, 1), (8, 1), (32, 1), (67, 1), (68, 1)], [(43, 1), (44, 1), (69, 1), (70, 1), (71, 1)], [(1, 1), (11, 1), (72, 1), (73, 1), (74, 1)], [(65, 1), (75, 1), (76, 1), (77, 1), (78, 1), (79, 1)], [(27, 1), (28, 1), (38, 1), (65, 1), (80, 1)], [(43, 1), (81, 1), (82, 1), (83, 1), (84, 1), (85, 1), (86, 1), (87, 1)], [(65, 1), (88, 1), (89, 1), (90, 1), (91, 1), (92, 1), (93, 1), (94, 1), (95, 1), (96, 1), (97, 2)], [(19, 1), (20, 1), (39, 1), (65, 1), (98, 1), (99, 1)], [(65, 1), (100, 1), (101, 1), (102, 1), (103, 1), (104, 1)], [(1, 1), (8, 1), (65, 1), (68, 1), (105, 1)], [(65, 1), (77, 1), (106, 1)], [(36, 1), (43, 1), (44, 1), (45, 1), (79, 1), (107, 1), (108, 1), (109, 1), (110, 1), (111, 1)], [(1, 1), (11, 1), (28, 2), (112, 1), (113, 1), (114, 1), (115, 1), (116, 1), (117, 1), (118, 1)], [(65, 1), (119, 1), (120, 1), (121, 1), (122, 1), (123, 1), (124, 2), (125, 1), (126, 1), (127, 1), (128, 1)], [(65, 1), (101, 1), (102, 1), (129, 1), (130, 1), (131, 1), (132, 1), (133, 1)], [(89, 1), (134, 1), (135, 1), (136, 1), (137, 1), (138, 1), (139, 1), (140, 1)], [(3, 1), (37, 1), (65, 1), (141, 1), (142, 1), (143, 1), (144, 1), (145, 1)], [(1, 1), (11, 1), (72, 1), (146, 1), (147, 1), (148, 1)], [(35, 1), (45, 1), (86, 1), (103, 1), (149, 1), (150, 1), (151, 1)], [(45, 1), (65, 1), (77, 1), (147, 1), (152, 1), (153, 1), (154, 1), (155, 1)], [(41, 1), (156, 1), (157, 1), (158, 1), (159, 1), (160, 1), (161, 1), (162, 1), (163, 1)], [(38, 1), (136, 1), (164, 1), (165, 1), (166, 1), (167, 1), (168, 1), (169, 1)], [(49, 1), (167, 1), (170, 1), (171, 1), (172, 1), (173, 1), (174, 1), (175, 1)], [(45, 1), (65, 1), (176, 1), (177, 1)], [(43, 1), (62, 1), (82, 1), (178, 1)], [(62, 1), (179, 1), (180, 1), (181, 1), (182, 1), (183, 1)], [(49, 1), (69, 1), (70, 1), (184, 1), (185, 1), (186, 1)], [(45, 1), (71, 1), (187, 1), (188, 1), (189, 1), (190, 1), (191, 1), (192, 1), (193, 1), (194, 1)], [(45, 1), (195, 1), (196, 1), (197, 1), (198, 2), (199, 1), (200, 1)], [(32, 1), (49, 1), (201, 1), (202, 1), (203, 1), (204, 1)], [(32, 1), (49, 1), (74, 1), (100, 1), (205, 1), (206, 1), (207, 2), (208, 1), (209, 1), (210, 1)], [(8, 1), (32, 1)], [(44, 1), (211, 1), (212, 1), (213, 1), (214, 1)], [(1, 1), (65, 1), (94, 1), (105, 1), (191, 1), (215, 1), (216, 1), (217, 1), (218, 1), (219, 1), (220, 1), (221, 1), (222, 1), (223, 1)], [(19, 1), (20, 1), (39, 1), (65, 1), (224, 1)], [(3, 1), (27, 1), (28, 1), (225, 1), (226, 1), (227, 1)], [(150, 1), (228, 1), (229, 1), (230, 1)], [(26, 1), (231, 1), (232, 1), (233, 1), (234, 1), (235, 1)]]\n"
     ]
    }
   ],
   "source": [
    "# Create a gensim corpus\n",
    "# This ia bag of words for the text in the format (token_id, token_count) 2 tuples\n",
    "\n",
    "#dictionary.token2id\n",
    "bow_corpus = [dictionary.doc2bow(token) for token in tokenized_docs_bigram]\n",
    "print(bow_corpus)"
   ]
  },
  {
   "cell_type": "markdown",
   "id": "8c19ce83",
   "metadata": {},
   "source": [
    "### Topic Modelling\n",
    "\n",
    "Topic Modelling refers to the probabilistic modelling of text documents as topics."
   ]
  },
  {
   "cell_type": "code",
   "execution_count": 15,
   "id": "4873d42a",
   "metadata": {},
   "outputs": [],
   "source": [
    "from gensim.models import LdaModel, LsiModel, HdpModel"
   ]
  },
  {
   "cell_type": "markdown",
   "id": "0c76c691",
   "metadata": {},
   "source": [
    "#### LSI - Latent Semantic Indexing\n",
    "An information retrieval method which works by decomposing the original matric of words to maintain key topics"
   ]
  },
  {
   "cell_type": "code",
   "execution_count": 16,
   "id": "80ae4be5",
   "metadata": {},
   "outputs": [
    {
     "data": {
      "text/plain": [
       "[(0,\n",
       "  '0.622*\"human_resources\" + 0.391*\"aspiring_human\" + 0.180*\"resources_professional\" + 0.174*\"new_york\" + 0.147*\"houston_texas\" + 0.135*\"position\" + 0.133*\"resources_manager\" + 0.121*\"california\" + 0.108*\"virginia\" + 0.104*\"north_carolina\"'),\n",
       " (1,\n",
       "  '-0.465*\"aspiring_human\" + 0.424*\"human_resources\" + -0.324*\"resources_professional\" + -0.251*\"new_york\" + -0.189*\"houston_texas\" + -0.141*\"student\" + -0.134*\"college\" + 0.118*\"virginia\" + 0.117*\"management\" + 0.110*\"california\"'),\n",
       " (2,\n",
       "  '-0.387*\"university\" + -0.385*\"student\" + -0.346*\"california\" + -0.308*\"indiana\" + -0.176*\"resources\" + -0.165*\"business_management\" + -0.156*\"retail_manager\" + -0.154*\"delphi\" + -0.154*\"lafayette\" + -0.154*\"kokomo\"'),\n",
       " (3,\n",
       "  '-0.367*\"california\" + -0.320*\"resources\" + -0.260*\"seeking_human\" + 0.235*\"indiana\" + 0.225*\"student\" + 0.196*\"university\" + -0.156*\"new_york\" + -0.148*\"san\" + -0.136*\"staffing\" + 0.134*\"business_management\"'),\n",
       " (4,\n",
       "  '0.365*\"houston_texas\" + -0.293*\"new_york\" + 0.214*\"engie\" + 0.214*\"chro\" + 0.214*\"communications\" + 0.214*\"csr\" + 0.214*\"energy\" + 0.214*\"sphr\" + 0.214*\"woodlands\" + 0.214*\"svp\"')]"
      ]
     },
     "execution_count": 16,
     "metadata": {},
     "output_type": "execute_result"
    }
   ],
   "source": [
    "lsimodel = LsiModel(corpus=bow_corpus, num_topics=20, id2word=dictionary)\n",
    "lsimodel.show_topics(num_topics=5)  # showing only the top 5 topics"
   ]
  },
  {
   "cell_type": "markdown",
   "id": "cf983419",
   "metadata": {},
   "source": [
    "#### HDP - Hierarchical Dirichlet Process\n",
    "HDP is an unsupervised topic model which figures out the number of topics on its own"
   ]
  },
  {
   "cell_type": "code",
   "execution_count": 17,
   "id": "4bac2fe4",
   "metadata": {},
   "outputs": [
    {
     "data": {
      "text/plain": [
       "[(0,\n",
       "  '0.026*chattanooga + 0.018*epik + 0.016*patient + 0.016*lafayette + 0.016*resources + 0.016*procedures + 0.016*california + 0.015*indiana + 0.014*medical + 0.014*hr + 0.014*girardeau + 0.014*partner + 0.013*payroll + 0.013*bauer + 0.012*portfolio + 0.012*baltimore + 0.012*engaging + 0.011*executive + 0.011*inc + 0.011*analyst'),\n",
       " (1,\n",
       "  '0.027*missouri + 0.021*tennessee + 0.019*magna + 0.018*love + 0.017*management_major + 0.017*community + 0.016*retired + 0.015*denton + 0.013*california + 0.013*analyst + 0.012*ryan + 0.012*administrative + 0.011*chro + 0.011*senior + 0.011*inclusive + 0.011*louisiana + 0.011*data + 0.011*indiana + 0.011*raleigh_durham + 0.010*rrp'),\n",
       " (2,\n",
       "  '0.024*lead + 0.023*logging + 0.021*delphi + 0.021*within + 0.019*kokomo + 0.018*payroll + 0.015*torrance + 0.015*business_management + 0.014*jti + 0.014*work + 0.013*junior + 0.013*manager_seeking + 0.012*community + 0.012*excellence + 0.011*missouri + 0.011*compensation + 0.011*chattanooga + 0.011*may + 0.011*long_beach + 0.011*wellington'),\n",
       " (3,\n",
       "  '0.019*gphr + 0.018*louisiana + 0.017*research + 0.017*houston_texas + 0.016*always + 0.016*graduating + 0.014*chro + 0.014*helping + 0.014*western + 0.013*energy + 0.013*office + 0.013*seeking + 0.013*director + 0.012*official + 0.012*kokomo + 0.011*marketing + 0.011*resources_management + 0.011*undergraduate + 0.011*jackson + 0.011*customer'),\n",
       " (4,\n",
       "  '0.029*resources_professional + 0.020*university + 0.017*passionate + 0.017*houston_texas + 0.016*denton + 0.016*liberal + 0.016*st + 0.016*scottmadden + 0.015*seeking_internship + 0.015*nevada + 0.015*lafayette + 0.015*western + 0.015*milpitas + 0.014*katy + 0.014*director_human + 0.014*kokomo + 0.014*dallas + 0.013*intercontinental + 0.013*center + 0.013*ct'),\n",
       " (5,\n",
       "  '0.022*girardeau + 0.020*admissions + 0.020*katy + 0.017*jose + 0.016*professionals + 0.015*care + 0.015*chapman + 0.015*michigan + 0.014*passionate + 0.013*major_aspiring + 0.013*positions + 0.012*ct + 0.012*monroe + 0.012*denton + 0.012*leader + 0.012*officer + 0.012*baltimore + 0.011*management + 0.011*official + 0.011*louis'),\n",
       " (6,\n",
       "  '0.017*resources_manager + 0.017*texas + 0.017*loparex + 0.016*lead + 0.016*biology + 0.015*san + 0.015*university + 0.015*ct + 0.014*georgia + 0.014*inc + 0.013*payroll + 0.013*science + 0.013*baltimore + 0.013*staffing + 0.012*community + 0.012*organization + 0.012*administrative + 0.012*magna + 0.012*teacher + 0.011*lab'),\n",
       " (7,\n",
       "  '0.017*conflict + 0.016*austin_texas + 0.015*executive + 0.015*gis + 0.014*professional + 0.014*resources_manager + 0.014*cape + 0.014*recruiter + 0.013*opportunities + 0.013*compensation + 0.012*arts + 0.012*magna + 0.012*assistant + 0.012*resources_generalist + 0.012*leader + 0.011*loparex + 0.011*may + 0.011*recruiting + 0.010*bridgewater + 0.010*love'),\n",
       " (8,\n",
       "  '0.030*luxottica + 0.025*katy + 0.023*forest + 0.022*nevada + 0.018*management_major + 0.016*science + 0.016*management + 0.016*logging + 0.015*undergraduate + 0.015*2019 + 0.014*resources_professional + 0.014*director_human + 0.013*western + 0.011*retail_manager + 0.011*state + 0.011*chro + 0.011*people + 0.010*canada + 0.010*bay + 0.010*administrative'),\n",
       " (9,\n",
       "  '0.026*communications + 0.020*always + 0.020*ryan + 0.017*hardware + 0.015*retired + 0.015*community + 0.013*resources_professional + 0.013*buckhead + 0.012*graduate + 0.012*texas + 0.011*employment + 0.011*engie + 0.011*st + 0.011*logging + 0.011*cape + 0.011*delphi + 0.011*management_major + 0.011*create + 0.011*helping + 0.011*management'),\n",
       " (10,\n",
       "  '0.026*luxottica + 0.025*seeking_internship + 0.018*success + 0.017*admissions + 0.016*houston + 0.016*endemol + 0.016*cum + 0.016*specialist + 0.015*jti + 0.012*science + 0.012*patient + 0.011*westfield + 0.011*csr + 0.011*rrp + 0.011*francisco + 0.010*nortia + 0.010*conflict + 0.010*laude + 0.010*administrative + 0.010*georgia'),\n",
       " (11,\n",
       "  '0.021*resources_position + 0.021*canada + 0.018*austin_texas + 0.018*engineer + 0.016*medical + 0.016*fort + 0.015*indiana + 0.014*biology + 0.014*environmental + 0.014*svp + 0.013*generalist + 0.012*data + 0.012*boston + 0.012*care + 0.011*san + 0.011*customer + 0.011*2020 + 0.010*new_york + 0.010*resources_generalist + 0.010*houston'),\n",
       " (12,\n",
       "  '0.024*luxottica + 0.021*research + 0.018*resources_management + 0.018*tobacco + 0.016*lafayette + 0.016*inc + 0.015*development + 0.015*junior + 0.015*nevada + 0.014*cum + 0.013*data + 0.013*rapids + 0.013*buckhead + 0.012*milpitas + 0.012*baton + 0.012*policies + 0.012*representative + 0.012*analytics + 0.011*missouri + 0.010*virginia'),\n",
       " (13,\n",
       "  '0.024*resources_position + 0.020*shine + 0.020*beach + 0.020*senior + 0.019*work + 0.017*liberal + 0.016*indiana + 0.015*college + 0.014*resources_manager + 0.014*lake + 0.013*logging + 0.013*administration + 0.013*manager_seeking + 0.013*positions + 0.012*lab + 0.012*ct + 0.012*center + 0.012*generalist + 0.012*engaging + 0.012*information_systems'),\n",
       " (14,\n",
       "  '0.031*wellington + 0.029*organization + 0.023*long_beach + 0.021*north_america + 0.018*patient + 0.018*chapman + 0.018*boston + 0.016*arts + 0.016*love + 0.016*louisiana + 0.015*girardeau + 0.015*employment + 0.012*new_york + 0.012*kokomo + 0.012*student + 0.011*teamfocused + 0.011*michigan + 0.011*katy + 0.010*luxottica + 0.009*houston_texas'),\n",
       " (15,\n",
       "  '0.034*laude + 0.024*may + 0.020*energy + 0.016*monroe + 0.016*resources_position + 0.016*position + 0.016*excellence + 0.015*always + 0.015*lake + 0.014*logging + 0.014*girardeau + 0.014*illinois + 0.014*environmental + 0.014*missouri + 0.013*liberal + 0.012*procedures + 0.012*analyst + 0.012*official + 0.012*environment + 0.012*forest'),\n",
       " (16,\n",
       "  '0.034*cum + 0.026*engie + 0.022*seeking_human + 0.022*graduate + 0.018*westfield + 0.015*chattanooga + 0.014*official + 0.014*administrative + 0.013*lead + 0.013*success + 0.012*los_angeles + 0.012*graduating + 0.012*ryan + 0.012*data + 0.011*teamfocused + 0.011*mississippi + 0.011*2019 + 0.011*leader + 0.011*francisco + 0.011*positions'),\n",
       " (17,\n",
       "  '0.031*teamfocused + 0.030*kokomo + 0.025*create + 0.020*california + 0.017*development + 0.016*organization + 0.016*engaging + 0.015*always + 0.015*rapids + 0.015*benefits + 0.014*resources_professional + 0.014*care + 0.012*forest + 0.012*executive + 0.011*love + 0.011*aspiring_human + 0.011*milpitas + 0.011*luxottica + 0.011*software + 0.011*position'),\n",
       " (18,\n",
       "  '0.020*national + 0.020*student + 0.020*texas + 0.019*college + 0.018*bay + 0.017*communications + 0.016*beach + 0.016*myrtle + 0.015*luxottica + 0.015*energetic + 0.014*massachusetts + 0.013*michigan + 0.013*svp + 0.012*inc + 0.012*assistant + 0.012*illinois + 0.012*maryland + 0.011*groupe + 0.011*resources_manager + 0.011*hardware'),\n",
       " (19,\n",
       "  '0.025*may + 0.022*guard + 0.020*milpitas + 0.019*retired + 0.015*north_carolina + 0.014*tobacco + 0.014*retail_manager + 0.013*specialist + 0.013*atlanta + 0.013*mes + 0.012*helping + 0.012*girardeau + 0.012*manager + 0.011*rouge + 0.011*talent + 0.011*hardware + 0.011*admissions + 0.011*epik + 0.011*louis + 0.010*shine')]"
      ]
     },
     "execution_count": 17,
     "metadata": {},
     "output_type": "execute_result"
    }
   ],
   "source": [
    "hdpmodel = HdpModel(corpus=bow_corpus,id2word=dictionary)\n",
    "hdpmodel.show_topics() "
   ]
  },
  {
   "cell_type": "markdown",
   "id": "71ca49c1",
   "metadata": {},
   "source": [
    "#### LDA - Latent Dirichlet Allocation"
   ]
  },
  {
   "cell_type": "code",
   "execution_count": 18,
   "id": "5c6cf4c8",
   "metadata": {
    "scrolled": true
   },
   "outputs": [
    {
     "data": {
      "text/plain": [
       "[(0,\n",
       "  '0.054*\"human_resources\" + 0.040*\"atlanta\" + 0.027*\"california\" + 0.014*\"aspiring_human\" + 0.014*\"care\" + 0.014*\"opportunities\" + 0.014*\"within\" + 0.014*\"liberal\" + 0.014*\"seeking\" + 0.014*\"rouge\"'),\n",
       " (1,\n",
       "  '0.056*\"generalist\" + 0.038*\"north_carolina\" + 0.038*\"philadelphia\" + 0.038*\"raleigh_durham\" + 0.038*\"human_resources\" + 0.020*\"aspiring_human\" + 0.020*\"jti\" + 0.020*\"brand\" + 0.020*\"tobacco\" + 0.020*\"leader\"'),\n",
       " (2,\n",
       "  '0.033*\"state\" + 0.033*\"university\" + 0.033*\"student\" + 0.033*\"north_carolina\" + 0.033*\"bridgewater\" + 0.033*\"resources_professional\" + 0.033*\"westfield\" + 0.033*\"raleigh_durham\" + 0.033*\"massachusetts\" + 0.033*\"aspiring_human\"'),\n",
       " (3,\n",
       "  '0.033*\"coordinator\" + 0.033*\"people\" + 0.033*\"denton\" + 0.033*\"ey\" + 0.033*\"director_human\" + 0.033*\"development\" + 0.033*\"resources\" + 0.033*\"texas\" + 0.033*\"atlanta\" + 0.033*\"ryan\"'),\n",
       " (4,\n",
       "  '0.032*\"resources\" + 0.032*\"california\" + 0.032*\"north_america\" + 0.032*\"staffing\" + 0.032*\"human_resources\" + 0.032*\"manager\" + 0.017*\"aspiring_human\" + 0.017*\"professionals\" + 0.017*\"student\" + 0.017*\"endemol\"'),\n",
       " (5,\n",
       "  '0.047*\"human_resources\" + 0.032*\"position\" + 0.032*\"virginia\" + 0.017*\"houston_texas\" + 0.017*\"aspiring_human\" + 0.017*\"manager_seeking\" + 0.017*\"graduating\" + 0.017*\"2020\" + 0.017*\"national\" + 0.017*\"seeking\"'),\n",
       " (6,\n",
       "  '0.038*\"human_resources\" + 0.038*\"business\" + 0.038*\"management\" + 0.020*\"graduate\" + 0.020*\"aspiring_human\" + 0.020*\"college\" + 0.020*\"conflict\" + 0.020*\"environmental\" + 0.020*\"magna\" + 0.020*\"2019\"'),\n",
       " (7,\n",
       "  '0.029*\"university\" + 0.029*\"student\" + 0.029*\"indiana\" + 0.029*\"aspiring_human\" + 0.029*\"english\" + 0.029*\"retail_manager\" + 0.029*\"illinois\" + 0.029*\"chicago\" + 0.015*\"hardware\" + 0.015*\"business_management\"'),\n",
       " (8,\n",
       "  '0.044*\"long_beach\" + 0.023*\"community\" + 0.023*\"california\" + 0.023*\"myrtle\" + 0.023*\"francisco\" + 0.023*\"mes\" + 0.023*\"carolina\" + 0.023*\"engineer\" + 0.023*\"beach\" + 0.023*\"junior\"'),\n",
       " (9,\n",
       "  '0.071*\"new_york\" + 0.043*\"city\" + 0.029*\"human_resources\" + 0.029*\"california\" + 0.029*\"specialist\" + 0.029*\"aspiring_human\" + 0.015*\"student\" + 0.015*\"resources_professional\" + 0.015*\"work\" + 0.015*\"passionate\"')]"
      ]
     },
     "execution_count": 18,
     "metadata": {},
     "output_type": "execute_result"
    }
   ],
   "source": [
    "ldamodel = LdaModel(corpus=bow_corpus, num_topics=10, id2word=dictionary)\n",
    "\n",
    "ldamodel.show_topics()"
   ]
  },
  {
   "cell_type": "code",
   "execution_count": null,
   "id": "17549edd",
   "metadata": {},
   "outputs": [],
   "source": []
  },
  {
   "cell_type": "code",
   "execution_count": null,
   "id": "d2a14711",
   "metadata": {},
   "outputs": [],
   "source": []
  },
  {
   "cell_type": "markdown",
   "id": "bb48263a",
   "metadata": {},
   "source": [
    "### TF-IDF with Gensim\n",
    "\n",
    "Building a TF-IDF model using gensim model. </br>\n",
    "The tf-idf model transforms vectors from the bag-of-words representation to a vector space where the frequency counts are weighted according to the relative rarity of each word in the corpus."
   ]
  },
  {
   "cell_type": "code",
   "execution_count": 19,
   "id": "0940527f",
   "metadata": {},
   "outputs": [],
   "source": [
    "tfidf = TfidfModel(bow_corpus) # step 1 -- initialize a model\n",
    "\n",
    "#tfidf is treated as a read-only object that can be used to convert any vector from the old \n",
    "#representation (bag-of-words integer counts) to the new representation \n",
    "\n",
    "corpus_tfidf = tfidf[bow_corpus] # step 2 Apply transformation to the entire corpus "
   ]
  },
  {
   "cell_type": "code",
   "execution_count": 20,
   "id": "a70c2016",
   "metadata": {},
   "outputs": [
    {
     "data": {
      "text/plain": [
       "gensim.interfaces.TransformedCorpus"
      ]
     },
     "execution_count": 20,
     "metadata": {},
     "output_type": "execute_result"
    }
   ],
   "source": [
    "type(corpus_tfidf)"
   ]
  },
  {
   "cell_type": "code",
   "execution_count": 21,
   "id": "cf72c196",
   "metadata": {},
   "outputs": [
    {
     "name": "stdout",
     "output_type": "stream",
     "text": [
      "[(0, 0.33249872454322044), (1, 0.13577674153068667), (2, 0.33249872454322044), (3, 0.2386384851773402), (4, 0.2732795068499476), (5, 0.33249872454322044), (6, 0.33249872454322044), (7, 0.33249872454322044), (8, 0.1949959592239595), (9, 0.33249872454322044), (10, 0.33249872454322044), (11, 0.1949959592239595)] 2019 ct bauer college business graduate magna cum laude aspiring human resources professional houston texas\n",
      "\n",
      "[(12, 0.2642287470777187), (13, 0.6429733601593075), (14, 0.32148668007965375), (15, 0.32148668007965375), (16, 0.32148668007965375), (17, 0.32148668007965375), (18, 0.32148668007965375)] native english teacher epik english program korea canada\n",
      "\n",
      "[(1, 0.32896328403055086), (11, 0.4724410852392083), (19, 0.5781792882566074), (20, 0.5781792882566074)] aspiring human resources professional raleigh durham north carolina \n",
      "\n",
      "[(21, 0.35530268870431103), (22, 0.4322961944081207), (23, 0.4322961944081207), (24, 0.4322961944081207), (25, 0.4322961944081207), (26, 0.35530268870431103)] people development coordinator ryan denton texas\n",
      "\n",
      "[(1, 0.2820365124127828), (27, 0.49570173306652204), (28, 0.4446477115241098), (29, 0.6906689584288934)] aspiring human resources specialist new york city \n",
      "\n",
      "[(1, 0.2092340491987987), (4, 0.42112792763068607), (12, 0.42112792763068607), (30, 0.5123856538705532), (31, 0.5123856538705532), (32, 0.27648785363941936)] student humber college aspiring human resources generalist canada\n",
      "\n",
      "[(33, 0.46923787349646573), (34, 0.46923787349646573), (35, 0.3856649219951027), (36, 0.3856649219951027), (37, 0.3856649219951027), (38, 0.33677787929221753)] hr senior specialist san francisco bay \n",
      "\n",
      "[(39, 0.36116491603843615), (40, 0.5032167122721164), (41, 0.4135920074800176), (42, 0.5032167122721164), (43, 0.29511459221935626), (44, 0.32396730268791885)] seeking human resources hris generalist positions philadelphia \n",
      "\n",
      "[(32, 0.2737647378894612), (45, 0.25366959594024135), (46, 0.5073391918804827), (47, 0.5073391918804827), (48, 0.5073391918804827), (49, 0.2975322462019962)] student chapman university lake forest california\n",
      "\n",
      "[(8, 0.16692019613615602), (50, 0.28462514062679406), (51, 0.28462514062679406), (52, 0.28462514062679406), (53, 0.28462514062679406), (54, 0.28462514062679406), (55, 0.28462514062679406), (56, 0.28462514062679406), (57, 0.28462514062679406), (58, 0.28462514062679406), (59, 0.28462514062679406), (60, 0.28462514062679406), (61, 0.28462514062679406)] svp chro marketing communications csr officer engie houston woodlands energy gphr sphr houston texas \n",
      "\n",
      "[(21, 0.34043917709484267), (62, 0.5945699364975935), (63, 0.41421178438649703), (64, 0.41421178438649703), (65, 0.12599027874521226), (66, 0.41421178438649703)] human resources coordinator intercontinental buckhead atlanta atlanta georgia\n",
      "\n",
      "[(1, 0.25944158191057837), (8, 0.37259739449411455), (32, 0.34283352256456395), (67, 0.6353370548316362), (68, 0.5221812422480999)] aspiring human resources management student seeking internship houston texas \n",
      "\n",
      "[(43, 0.3514209187248036), (44, 0.3857785760141675), (69, 0.4925032074924643), (70, 0.4925032074924643), (71, 0.4925032074924643)] seeking human resources opportunities chicago illinois\n",
      "\n",
      "[(1, 0.2413918306407013), (11, 0.34667521870064044), (72, 0.4858522873020026), (73, 0.5911356753619417), (74, 0.4858522873020026)] experienced retail manager aspiring human resources professional austin texas \n",
      "\n",
      "[(65, 0.14697154917556898), (75, 0.4831908322162801), (76, 0.4831908322162801), (77, 0.34679209193983823), (78, 0.4831908322162801), (79, 0.3971328086262074)] human resources staffing recruiting professional jackson mississippi \n",
      "\n",
      "[(27, 0.45058037604120793), (28, 0.40417355780660447), (38, 0.45058037604120793), (65, 0.19095734139858958), (80, 0.6278006677195087)] human resources specialist luxottica new york city \n",
      "\n",
      "[(43, 0.226653112967579), (81, 0.38647914180065035), (82, 0.3176458178122843), (83, 0.38647914180065035), (84, 0.38647914180065035), (85, 0.38647914180065035), (86, 0.3176458178122843), (87, 0.38647914180065035)] director human resources north america groupe beneteau grand rapids michigan \n",
      "\n",
      "[(65, 0.08622684722466684), (88, 0.28348358783441746), (89, 0.23299414212752356), (90, 0.28348358783441746), (91, 0.28348358783441746), (92, 0.28348358783441746), (93, 0.28348358783441746), (94, 0.23299414212752356), (95, 0.28348358783441746), (96, 0.28348358783441746), (97, 0.5669671756688349)] retired army national guard recruiter office manager seeking position human resources virginia beach virginia\n",
      "\n",
      "[(19, 0.376294587537065), (20, 0.376294587537065), (39, 0.376294587537065), (65, 0.15947479703862016), (98, 0.524297119618457), (99, 0.524297119618457)] human resources generalist scottmadden inc raleigh durham north carolina \n",
      "\n",
      "[(65, 0.15614680602317166), (100, 0.4219253316838673), (101, 0.4219253316838673), (102, 0.4219253316838673), (103, 0.4219253316838673), (104, 0.5133558540647959)] business management major aspiring human resources manager monroe louisiana \n",
      "\n",
      "[(1, 0.2921108473830763), (8, 0.4195154062694388), (65, 0.21758395801363387), (68, 0.5879350720780526), (105, 0.5879350720780526)] aspiring human resources manager seeking internship human resources houston texas \n",
      "\n",
      "[(65, 0.23989519966674866), (77, 0.5660534886202738), (106, 0.7886911570429)] human resources professional boston \n",
      "\n",
      "[(36, 0.3029668174119951), (43, 0.2161790536555687), (44, 0.23731440856155656), (45, 0.1843096131312168), (79, 0.3029668174119951), (107, 0.3686192262624336), (108, 0.3686192262624336), (109, 0.3686192262624336), (110, 0.3686192262624336), (111, 0.3686192262624336)] nortia staffing seeking human resources payroll administrative professionals  san jose california\n",
      "\n",
      "[(1, 0.13486052380870248), (11, 0.19368013184776692), (28, 0.42523163241160866), (112, 0.3302550322839332), (113, 0.3302550322839332), (114, 0.3302550322839332), (115, 0.3302550322839332), (116, 0.3302550322839332), (117, 0.3302550322839332), (118, 0.3302550322839332)] aspiring human resources professional passionate helping create inclusive engaging work environment new york new york\n",
      "\n",
      "[(65, 0.08406263247733546), (119, 0.2763684098919941), (120, 0.2763684098919941), (121, 0.2763684098919941), (122, 0.2763684098919941), (123, 0.2763684098919941), (124, 0.5527368197839883), (125, 0.2763684098919941), (126, 0.2763684098919941), (127, 0.2763684098919941), (128, 0.2763684098919941)] human resources conflict management policies procedures talent management benefits compensation dallas fort worth \n",
      "\n",
      "[(65, 0.11982629151559383), (101, 0.3237834258656697), (102, 0.3237834258656697), (129, 0.3939467593802494), (130, 0.3939467593802494), (131, 0.3939467593802494), (132, 0.3939467593802494), (133, 0.3939467593802494)] liberal arts major aspiring human resources analyst baton rouge louisiana \n",
      "\n",
      "[(89, 0.30313987043991103), (134, 0.36882977959562585), (135, 0.36882977959562585), (136, 0.30313987043991103), (137, 0.36882977959562585), (138, 0.36882977959562585), (139, 0.36882977959562585), (140, 0.36882977959562585)] junior mes engineer information systems myrtle beach south carolina \n",
      "\n",
      "[(3, 0.28632680637728253), (37, 0.3278903165453638), (65, 0.12134617623017423), (141, 0.3989436064858999), (142, 0.3989436064858999), (143, 0.3989436064858999), (144, 0.3989436064858999), (145, 0.3989436064858999)] senior human resources business partner heil environmental chattanooga tennessee \n",
      "\n",
      "[(1, 0.20780000587028477), (11, 0.29843227208588374), (72, 0.4182416110995947), (146, 0.5088738773151936), (147, 0.4182416110995947), (148, 0.5088738773151936)] aspiring human resources professional energetic teamfocused leader austin texas \n",
      "\n",
      "[(35, 0.3693383120881895), (45, 0.2246866570966451), (86, 0.3693383120881895), (103, 0.3693383120881895), (149, 0.4493733141932902), (150, 0.3693383120881895), (151, 0.4493733141932902)] hr manager endemol shine north america los angeles california\n",
      "\n",
      "[(45, 0.21256122099282762), (65, 0.12930895977754342), (77, 0.3051156834051591), (147, 0.3494066073675534), (152, 0.42512244198565524), (153, 0.42512244198565524), (154, 0.42512244198565524), (155, 0.42512244198565524)] human resources professional world leader gis software highland california\n",
      "\n",
      "[(41, 0.2790419393052577), (156, 0.3395098665924086), (157, 0.3395098665924086), (158, 0.3395098665924086), (159, 0.3395098665924086), (160, 0.3395098665924086), (161, 0.3395098665924086), (162, 0.3395098665924086), (163, 0.3395098665924086)] rrp brand portfolio executive jti japan tobacco international philadelphia \n",
      "\n",
      "[(38, 0.2739013775522722), (136, 0.31366119897794986), (164, 0.38163106264726343), (165, 0.38163106264726343), (166, 0.38163106264726343), (167, 0.31366119897794986), (168, 0.38163106264726343), (169, 0.38163106264726343)] information systems specialist programmer love data organization gaithersburg maryland\n",
      "\n",
      "[(49, 0.2213524081785123), (167, 0.31021707930673625), (170, 0.37744060793277384), (171, 0.37744060793277384), (172, 0.37744060793277384), (173, 0.37744060793277384), (174, 0.37744060793277384), (175, 0.37744060793277384)] bachelor science biology victoria university wellington baltimore maryland\n",
      "\n",
      "[(45, 0.326684461433033), (65, 0.19873440548602184), (176, 0.653368922866066), (177, 0.653368922866066)] human resources management major milpitas california\n",
      "\n",
      "[(43, 0.368370373677866), (62, 0.4508162543908519), (82, 0.5162572314701016), (178, 0.6281293207041507)] director human resources ey atlanta \n",
      "\n",
      "[(62, 0.3056140828078566), (179, 0.42581686964926896), (180, 0.42581686964926896), (181, 0.42581686964926896), (182, 0.42581686964926896), (183, 0.42581686964926896)] undergraduate research assistant styczynski lab atlanta \n",
      "\n",
      "[(49, 0.2706573068150852), (69, 0.3793160413483749), (70, 0.3793160413483749), (184, 0.46151320090155634), (185, 0.46151320090155634), (186, 0.46151320090155634)] lead official western illinois university chicago \n",
      "\n",
      "[(45, 0.17048840140534227), (71, 0.2802476089115442), (187, 0.34097680281068454), (188, 0.34097680281068454), (189, 0.34097680281068454), (190, 0.34097680281068454), (191, 0.2802476089115442), (192, 0.34097680281068454), (193, 0.34097680281068454), (194, 0.34097680281068454)] seeking employment opportunities within customer service patient care torrance california\n",
      "\n",
      "[(45, 0.16439898730535732), (195, 0.32879797461071464), (196, 0.32879797461071464), (197, 0.32879797461071464), (198, 0.6575959492214293), (199, 0.32879797461071464), (200, 0.32879797461071464)] admissions representative community medical center long beach long beach california\n",
      "\n",
      "[(32, 0.25063927969921473), (49, 0.2723990987673088), (201, 0.4644832296387612), (202, 0.4644832296387612), (203, 0.4644832296387612), (204, 0.4644832296387612)] student westfield state university bridgewater massachusetts\n",
      "\n",
      "[(32, 0.16280082747076532), (49, 0.17693475154743488), (74, 0.2479674032217578), (100, 0.2479674032217578), (205, 0.30170152987285637), (206, 0.30170152987285637), (207, 0.6034030597457127), (208, 0.30170152987285637), (209, 0.30170152987285637), (210, 0.30170152987285637)] student indiana university kokomo business management retail manager delphi hardware paint lafayette indiana\n",
      "\n",
      "[(8, 0.7358877894931631), (32, 0.6771035085382929)] student houston texas \n",
      "\n",
      "[(44, 0.306412782904838), (211, 0.47594936875483734), (212, 0.47594936875483734), (213, 0.47594936875483734), (214, 0.47594936875483734)] seeking human resources position las vegas nevada \n",
      "\n",
      "[(1, 0.12155392853844117), (65, 0.09054160473820438), (94, 0.24465307733984312), (105, 0.24465307733984312), (191, 0.24465307733984312), (215, 0.29766899504739536), (216, 0.29766899504739536), (217, 0.29766899504739536), (218, 0.29766899504739536), (219, 0.29766899504739536), (220, 0.29766899504739536), (221, 0.29766899504739536), (222, 0.29766899504739536), (223, 0.29766899504739536)] aspiring human resources manager graduating may 2020 seeking entrylevel human resources position st louis cape girardeau missouri\n",
      "\n",
      "[(19, 0.4419012872249408), (20, 0.4419012872249408), (39, 0.4419012872249408), (65, 0.1872791170145675), (224, 0.6157079578640066)] human resources generalist loparex raleigh durham north carolina \n",
      "\n",
      "[(3, 0.3404314570439762), (27, 0.3404314570439762), (28, 0.3053692537425697), (225, 0.47432846037970244), (226, 0.47432846037970244), (227, 0.47432846037970244)] business intelligence analytics travelers new york city \n",
      "\n",
      "[(150, 0.4287045160721451), (228, 0.5216040765112135), (229, 0.5216040765112135), (230, 0.5216040765112135)] always set success los angeles \n",
      "\n",
      "[(26, 0.34499634441872484), (231, 0.4197564823413015), (232, 0.4197564823413015), (233, 0.4197564823413015), (234, 0.4197564823413015), (235, 0.4197564823413015)] director administration excellence logging katy texas\n",
      "\n"
     ]
    }
   ],
   "source": [
    "for doc, as_text in zip(corpus_tfidf, X_train):\n",
    "    print(doc, as_text, end='\\n\\n')"
   ]
  },
  {
   "cell_type": "code",
   "execution_count": 22,
   "id": "d9e830f0",
   "metadata": {},
   "outputs": [
    {
     "data": {
      "text/plain": [
       "[(12, 0.2642287470777187),\n",
       " (13, 0.6429733601593075),\n",
       " (14, 0.32148668007965375),\n",
       " (15, 0.32148668007965375),\n",
       " (16, 0.32148668007965375),\n",
       " (17, 0.32148668007965375),\n",
       " (18, 0.32148668007965375)]"
      ]
     },
     "execution_count": 22,
     "metadata": {},
     "output_type": "execute_result"
    }
   ],
   "source": [
    "#The model can then be applied to any particular document of interest:\n",
    "corpus_tfidf[1]"
   ]
  },
  {
   "cell_type": "markdown",
   "id": "5a0a7148",
   "metadata": {},
   "source": [
    "The most relevant term in document 1 is then term number 15"
   ]
  },
  {
   "cell_type": "code",
   "execution_count": 28,
   "id": "fd619922",
   "metadata": {},
   "outputs": [
    {
     "data": {
      "text/plain": [
       "'canada'"
      ]
     },
     "execution_count": 28,
     "metadata": {},
     "output_type": "execute_result"
    }
   ],
   "source": [
    "#looking up the word in the dictionary\n",
    "dictionary[12]"
   ]
  },
  {
   "cell_type": "markdown",
   "id": "3d053304",
   "metadata": {},
   "source": [
    "'canada' is the most relevant term in that document"
   ]
  },
  {
   "cell_type": "code",
   "execution_count": 26,
   "id": "f169008c",
   "metadata": {},
   "outputs": [
    {
     "data": {
      "text/plain": [
       "[(13, 0.6429733601593075),\n",
       " (14, 0.32148668007965375),\n",
       " (15, 0.32148668007965375),\n",
       " (16, 0.32148668007965375),\n",
       " (17, 0.32148668007965375),\n",
       " (18, 0.32148668007965375),\n",
       " (12, 0.2642287470777187)]"
      ]
     },
     "execution_count": 26,
     "metadata": {},
     "output_type": "execute_result"
    }
   ],
   "source": [
    "tf_obj = corpus_tfidf[1]\n",
    "sorted(tf_obj, key=lambda x: x[1], reverse=True)"
   ]
  },
  {
   "cell_type": "markdown",
   "id": "a2f06742",
   "metadata": {},
   "source": [
    "And now we see the top five terms for this particular document:"
   ]
  },
  {
   "cell_type": "code",
   "execution_count": 27,
   "id": "c281c61c",
   "metadata": {},
   "outputs": [
    {
     "name": "stdout",
     "output_type": "stream",
     "text": [
      "['english (0.643)', 'epik (0.321)', 'korea (0.321)', 'native (0.321)', 'program (0.321)', 'teacher (0.321)', 'canada (0.264)']\n"
     ]
    }
   ],
   "source": [
    "n_terms = 5\n",
    "\n",
    "top_terms = []\n",
    "for obj in sorted(tf_obj, key=lambda x: x[1], reverse=True):\n",
    "    top_terms.append(\"{0:s} ({1:01.03f})\".format(dictionary[obj[0]], obj[1]))\n",
    "\n",
    "print(top_terms)"
   ]
  },
  {
   "cell_type": "code",
   "execution_count": 29,
   "id": "f3230720",
   "metadata": {},
   "outputs": [],
   "source": [
    "# transform into sparse matrix\n",
    "# To create a document term matrix from gensim\n",
    "\n",
    "from gensim.matutils import corpus2csc\n",
    "\n",
    "tf_sparse_array = corpus2csc(bow_corpus) "
   ]
  },
  {
   "cell_type": "code",
   "execution_count": 30,
   "id": "9dca5a87",
   "metadata": {},
   "outputs": [
    {
     "data": {
      "text/plain": [
       "scipy.sparse.csc.csc_matrix"
      ]
     },
     "execution_count": 30,
     "metadata": {},
     "output_type": "execute_result"
    }
   ],
   "source": [
    "type(tf_sparse_array )"
   ]
  },
  {
   "cell_type": "markdown",
   "id": "96199b42",
   "metadata": {},
   "source": [
    "### Model Evaluation Metrics"
   ]
  },
  {
   "cell_type": "markdown",
   "id": "6eb3cd1a",
   "metadata": {},
   "source": [
    "### Similarity  - Cosine similarity"
   ]
  },
  {
   "cell_type": "markdown",
   "id": "9efb6d89",
   "metadata": {},
   "source": [
    "After we created the term matrix using the tfidf we have projected each document in a D-dimensional space (where  D  is the number of terms in our dictionary).</br>\n",
    "One example is determining which documents are similar to which other documents. We could just compute the (Euclidean) distance between two documents, but there is another metric that is popular in text analysis called cosine similarity. It measures the angle between two documents; cosine similarity is not sensitive to how long a particular document is.</br>\n",
    "Here, we use the MatrixSimilarity class to compute a similarity score for our corpus."
   ]
  },
  {
   "cell_type": "code",
   "execution_count": 31,
   "id": "4f2f343a",
   "metadata": {},
   "outputs": [],
   "source": [
    "from gensim.similarities import MatrixSimilarity\n",
    "matsim = MatrixSimilarity(corpus_tfidf)"
   ]
  },
  {
   "cell_type": "markdown",
   "id": "ed8cb4d7",
   "metadata": {},
   "source": [
    "We need to apply this similarity score to a particular document. Here we apply it to document 1: </br>\n",
    "Cosine measure returns similarities in the range <-1, 1> (the greater, the more similar), so that the first document has a score of 1 "
   ]
  },
  {
   "cell_type": "code",
   "execution_count": 32,
   "id": "465c2c38",
   "metadata": {},
   "outputs": [
    {
     "name": "stdout",
     "output_type": "stream",
     "text": [
      "[(0, 0.0), (1, 1.0), (2, 0.0), (3, 0.0), (4, 0.0), (5, 0.11127411), (6, 0.0), (7, 0.0), (8, 0.0), (9, 0.0), (10, 0.0), (11, 0.0), (12, 0.0), (13, 0.0), (14, 0.0), (15, 0.0), (16, 0.0), (17, 0.0), (18, 0.0), (19, 0.0), (20, 0.0), (21, 0.0), (22, 0.0), (23, 0.0), (24, 0.0), (25, 0.0), (26, 0.0), (27, 0.0), (28, 0.0), (29, 0.0), (30, 0.0), (31, 0.0), (32, 0.0), (33, 0.0), (34, 0.0), (35, 0.0), (36, 0.0), (37, 0.0), (38, 0.0), (39, 0.0), (40, 0.0), (41, 0.0), (42, 0.0), (43, 0.0), (44, 0.0), (45, 0.0), (46, 0.0), (47, 0.0), (48, 0.0)]\n"
     ]
    }
   ],
   "source": [
    "sims = matsim[corpus_tfidf[1]]\n",
    "print(list(enumerate(sims)))"
   ]
  },
  {
   "cell_type": "code",
   "execution_count": 34,
   "id": "ee6efb0e",
   "metadata": {},
   "outputs": [
    {
     "name": "stdout",
     "output_type": "stream",
     "text": [
      "0.0 2019 ct bauer college business graduate magna cum laude aspiring human resources professional houston texas\n",
      "0.0 aspiring human resources professional raleigh durham north carolina \n",
      "0.0 people development coordinator ryan denton texas\n",
      "0.0 aspiring human resources specialist new york city \n",
      "0.0 hr senior specialist san francisco bay \n",
      "0.0 seeking human resources hris generalist positions philadelphia \n",
      "0.0 student chapman university lake forest california\n",
      "0.0 svp chro marketing communications csr officer engie houston woodlands energy gphr sphr houston texas \n",
      "0.0 human resources coordinator intercontinental buckhead atlanta atlanta georgia\n",
      "0.0 aspiring human resources management student seeking internship houston texas \n",
      "0.0 seeking human resources opportunities chicago illinois\n",
      "0.0 experienced retail manager aspiring human resources professional austin texas \n",
      "0.0 human resources staffing recruiting professional jackson mississippi \n",
      "0.0 human resources specialist luxottica new york city \n",
      "0.0 director human resources north america groupe beneteau grand rapids michigan \n",
      "0.0 retired army national guard recruiter office manager seeking position human resources virginia beach virginia\n",
      "0.0 human resources generalist scottmadden inc raleigh durham north carolina \n",
      "0.0 business management major aspiring human resources manager monroe louisiana \n",
      "0.0 aspiring human resources manager seeking internship human resources houston texas \n",
      "0.0 human resources professional boston \n",
      "0.0 nortia staffing seeking human resources payroll administrative professionals  san jose california\n",
      "0.0 aspiring human resources professional passionate helping create inclusive engaging work environment new york new york\n",
      "0.0 human resources conflict management policies procedures talent management benefits compensation dallas fort worth \n",
      "0.0 liberal arts major aspiring human resources analyst baton rouge louisiana \n",
      "0.0 junior mes engineer information systems myrtle beach south carolina \n",
      "0.0 senior human resources business partner heil environmental chattanooga tennessee \n",
      "0.0 aspiring human resources professional energetic teamfocused leader austin texas \n",
      "0.0 hr manager endemol shine north america los angeles california\n",
      "0.0 human resources professional world leader gis software highland california\n",
      "0.0 rrp brand portfolio executive jti japan tobacco international philadelphia \n",
      "0.0 information systems specialist programmer love data organization gaithersburg maryland\n",
      "0.0 bachelor science biology victoria university wellington baltimore maryland\n",
      "0.0 human resources management major milpitas california\n",
      "0.0 director human resources ey atlanta \n",
      "0.0 undergraduate research assistant styczynski lab atlanta \n",
      "0.0 lead official western illinois university chicago \n",
      "0.0 seeking employment opportunities within customer service patient care torrance california\n",
      "0.0 admissions representative community medical center long beach long beach california\n",
      "0.0 student westfield state university bridgewater massachusetts\n",
      "0.0 student indiana university kokomo business management retail manager delphi hardware paint lafayette indiana\n",
      "0.0 student houston texas \n",
      "0.0 seeking human resources position las vegas nevada \n",
      "0.0 aspiring human resources manager graduating may 2020 seeking entrylevel human resources position st louis cape girardeau missouri\n",
      "0.0 human resources generalist loparex raleigh durham north carolina \n",
      "0.0 business intelligence analytics travelers new york city \n",
      "0.0 always set success los angeles \n",
      "0.0 director administration excellence logging katy texas\n",
      "0.11127411 student humber college aspiring human resources generalist canada\n",
      "1.0 native english teacher epik english program korea canada\n"
     ]
    }
   ],
   "source": [
    "#sims = sorted(enumerate(sims), key=lambda item: item[-1])\n",
    "for doc_position, doc_score in sims:\n",
    "    print(doc_score, X_train[doc_position])"
   ]
  },
  {
   "cell_type": "code",
   "execution_count": 35,
   "id": "75b117ad",
   "metadata": {},
   "outputs": [
    {
     "name": "stdout",
     "output_type": "stream",
     "text": [
      "Document 1: 'native english teacher epik english program korea canada'\n",
      "Document 5: 'student humber college aspiring human resources generalist canada'\n"
     ]
    }
   ],
   "source": [
    "# Here there is some similarity between document 1 and document 5\n",
    "\n",
    "print(\"Document 1: '\" + X_train[1] + \"'\")\n",
    "print(\"Document 5: '\" + X_train[5] + \"'\")"
   ]
  },
  {
   "cell_type": "code",
   "execution_count": 36,
   "id": "4c7cebc3",
   "metadata": {},
   "outputs": [
    {
     "name": "stdout",
     "output_type": "stream",
     "text": [
      "[(0, 0.107881114), (1, 0.0), (2, 0.08534675), (3, 0.0), (4, 0.073172), (5, 0.14907332), (6, 0.0), (7, 0.0), (8, 0.093855724), (9, 0.06219403), (10, 0.0), (11, 1.0), (12, 0.0), (13, 0.06262708), (14, 0.0), (15, 0.0), (16, 0.0), (17, 0.0), (18, 0.0), (19, 0.0), (20, 0.5391047), (21, 0.0), (22, 0.0), (23, 0.03498843), (24, 0.0), (25, 0.0), (26, 0.0), (27, 0.0), (28, 0.05391196), (29, 0.0), (30, 0.0), (31, 0.0), (32, 0.0), (33, 0.0), (34, 0.0), (35, 0.0), (36, 0.0), (37, 0.0), (38, 0.0), (39, 0.0), (40, 0.085927546), (41, 0.055813584), (42, 0.50632364), (43, 0.0), (44, 0.031536143), (45, 0.0), (46, 0.0), (47, 0.0), (48, 0.0)]\n"
     ]
    }
   ],
   "source": [
    "# check another document similarity\n",
    "sims1 = matsim[corpus_tfidf[11]]\n",
    "print(list(enumerate(sims1)))"
   ]
  },
  {
   "cell_type": "code",
   "execution_count": 37,
   "id": "22f09f96",
   "metadata": {},
   "outputs": [
    {
     "name": "stdout",
     "output_type": "stream",
     "text": [
      "Document 11: 'aspiring human resources management student seeking internship houston texas '\n",
      "Document 20: 'aspiring human resources manager seeking internship human resources houston texas '\n"
     ]
    }
   ],
   "source": [
    "# Similary between document 11 and document 20\n",
    "print(\"Document 11: '\" + X_train[11] + \"'\")\n",
    "print(\"Document 20: '\" + X_train[20] + \"'\")"
   ]
  },
  {
   "cell_type": "markdown",
   "id": "7bb950db",
   "metadata": {},
   "source": [
    "### Testing model on unseen data"
   ]
  },
  {
   "cell_type": "markdown",
   "id": "731d5c69",
   "metadata": {},
   "source": [
    "#### Using LDA model"
   ]
  },
  {
   "cell_type": "code",
   "execution_count": 38,
   "id": "950015c0",
   "metadata": {},
   "outputs": [
    {
     "name": "stdout",
     "output_type": "stream",
     "text": [
      "Score: 0.550 Topic: 0.032*\"resources\" + 0.032*\"california\" + 0.032*\"north_america\" + 0.032*\"staffing\" + 0.032*\"human_resources\"\n",
      "Score: 0.050 Topic: 0.033*\"coordinator\" + 0.033*\"people\" + 0.033*\"denton\" + 0.033*\"ey\" + 0.033*\"director_human\"\n",
      "Score: 0.050 Topic: 0.056*\"generalist\" + 0.038*\"north_carolina\" + 0.038*\"philadelphia\" + 0.038*\"raleigh_durham\" + 0.038*\"human_resources\"\n",
      "Score: 0.050 Topic: 0.029*\"university\" + 0.029*\"student\" + 0.029*\"indiana\" + 0.029*\"aspiring_human\" + 0.029*\"english\"\n",
      "Score: 0.050 Topic: 0.054*\"human_resources\" + 0.040*\"atlanta\" + 0.027*\"california\" + 0.014*\"aspiring_human\" + 0.014*\"care\"\n",
      "Score: 0.050 Topic: 0.033*\"state\" + 0.033*\"university\" + 0.033*\"student\" + 0.033*\"north_carolina\" + 0.033*\"resources_professional\"\n",
      "Score: 0.050 Topic: 0.047*\"human_resources\" + 0.032*\"position\" + 0.032*\"virginia\" + 0.017*\"houston_texas\" + 0.017*\"aspiring_human\"\n",
      "Score: 0.050 Topic: 0.038*\"human_resources\" + 0.038*\"business\" + 0.038*\"management\" + 0.020*\"graduate\" + 0.020*\"aspiring_human\"\n",
      "Score: 0.050 Topic: 0.044*\"long_beach\" + 0.023*\"community\" + 0.023*\"california\" + 0.023*\"myrtle\" + 0.023*\"francisco\"\n",
      "Score: 0.050 Topic: 0.071*\"new_york\" + 0.043*\"city\" + 0.029*\"human_resources\" + 0.029*\"california\" + 0.029*\"specialist\"\n"
     ]
    }
   ],
   "source": [
    "unseen_text1 = \"aspiring human resources\"\n",
    "\n",
    "#Processing step for unseen data\n",
    "bow_vector = dictionary.doc2bow(unseen_text1.split())\n",
    "\n",
    "for index, score in sorted(ldamodel[bow_vector], key=lambda tup: -1*tup[1]):\n",
    "    print('Score: {:.3f} Topic: {}'.format(score, ldamodel.print_topic(index, 5)))"
   ]
  },
  {
   "cell_type": "markdown",
   "id": "5e7c1690",
   "metadata": {},
   "source": [
    "The output with the highest probabilty score of 0.550 says that the unseen text is most matched with the first list of topics.\n",
    "The next set of topics score 0.050 and shows that there is some match with those topics"
   ]
  },
  {
   "cell_type": "markdown",
   "id": "9b0d15d0",
   "metadata": {},
   "source": [
    "Another Example of testing unseen data"
   ]
  },
  {
   "cell_type": "code",
   "execution_count": 39,
   "id": "9c79b1ec",
   "metadata": {},
   "outputs": [
    {
     "name": "stdout",
     "output_type": "stream",
     "text": [
      "Score: 0.525 Topic: 0.029*\"university\" + 0.029*\"student\" + 0.029*\"indiana\" + 0.029*\"aspiring_human\" + 0.029*\"english\"\n",
      "Score: 0.275 Topic: 0.047*\"human_resources\" + 0.032*\"position\" + 0.032*\"virginia\" + 0.017*\"houston_texas\" + 0.017*\"aspiring_human\"\n",
      "Score: 0.025 Topic: 0.054*\"human_resources\" + 0.040*\"atlanta\" + 0.027*\"california\" + 0.014*\"aspiring_human\" + 0.014*\"care\"\n",
      "Score: 0.025 Topic: 0.056*\"generalist\" + 0.038*\"north_carolina\" + 0.038*\"philadelphia\" + 0.038*\"raleigh_durham\" + 0.038*\"human_resources\"\n",
      "Score: 0.025 Topic: 0.033*\"state\" + 0.033*\"university\" + 0.033*\"student\" + 0.033*\"north_carolina\" + 0.033*\"resources_professional\"\n",
      "Score: 0.025 Topic: 0.033*\"coordinator\" + 0.033*\"people\" + 0.033*\"denton\" + 0.033*\"ey\" + 0.033*\"director_human\"\n",
      "Score: 0.025 Topic: 0.038*\"human_resources\" + 0.038*\"business\" + 0.038*\"management\" + 0.020*\"graduate\" + 0.020*\"aspiring_human\"\n",
      "Score: 0.025 Topic: 0.044*\"long_beach\" + 0.023*\"community\" + 0.023*\"california\" + 0.023*\"myrtle\" + 0.023*\"francisco\"\n",
      "Score: 0.025 Topic: 0.032*\"resources\" + 0.032*\"california\" + 0.032*\"north_america\" + 0.032*\"staffing\" + 0.032*\"human_resources\"\n",
      "Score: 0.025 Topic: 0.071*\"new_york\" + 0.043*\"city\" + 0.029*\"human_resources\" + 0.029*\"california\" + 0.029*\"specialist\"\n"
     ]
    }
   ],
   "source": [
    "unseen_text2 = \"seeking english teacher\"\n",
    "\n",
    "#Processing step for unseen data\n",
    "bow_vector = dictionary.doc2bow(unseen_text2.split())\n",
    "\n",
    "for index, score in sorted(ldamodel[bow_vector], key=lambda tup: -1*tup[1]):\n",
    "    print('Score: {:.3f} Topic: {}'.format(score, ldamodel.print_topic(index, 5)))"
   ]
  },
  {
   "cell_type": "markdown",
   "id": "3c7cdb78",
   "metadata": {},
   "source": [
    "Here the highest probabilty score is 0.525 shows that the sample text belongs to the first topic.\n",
    "So the model correctly classifies the unseen text with 0.525 probabilty to first topic"
   ]
  },
  {
   "cell_type": "markdown",
   "id": "d67852dc",
   "metadata": {},
   "source": [
    "### Clustering\n",
    "\n",
    "Another task we can do given that our documents are projected in a high-dimensional numeric space is to cluster the documents according to the words they use. We have already seen how to do this with the network data; we are just doing this same thing now with the words themselves.\n",
    "\n",
    "Due to something called the curse of dimensionality, applying classical clustering techniques to our data will not work very well. There are too many dimensions, the number of words in our lexicon, to reasonably do any clustering of the documents. One clustering technique that does work very well works directly with a matrix of similarity scores; it is called spectral clustering and we can apply it as follows:"
   ]
  },
  {
   "cell_type": "code",
   "execution_count": 42,
   "id": "4db78595",
   "metadata": {},
   "outputs": [
    {
     "data": {
      "text/plain": [
       "array([0, 0, 0, 1, 0, 0, 0, 2, 0, 0, 2, 0, 2, 0, 0, 0, 2, 0, 0, 0, 0, 0,\n",
       "       2, 0, 0, 0, 0, 0, 0, 2, 0, 2, 0, 0, 0, 2, 2, 2, 2, 2, 0, 0, 0, 2,\n",
       "       0, 0, 0, 2, 1])"
      ]
     },
     "execution_count": 42,
     "metadata": {},
     "output_type": "execute_result"
    }
   ],
   "source": [
    "from sklearn.cluster import SpectralClustering\n",
    "\n",
    "\n",
    "scmodel = SpectralClustering(n_clusters=3, affinity='precomputed')\n",
    "similarity_matrix = matsim[corpus_tfidf]\n",
    "sc = scmodel.fit_predict(similarity_matrix)\n",
    "sc"
   ]
  },
  {
   "cell_type": "markdown",
   "id": "2640a129",
   "metadata": {},
   "source": [
    "The spectral clustering splits our documents into three groups and returns the id of each group"
   ]
  },
  {
   "cell_type": "markdown",
   "id": "a4917b09",
   "metadata": {},
   "source": [
    "### KMeans"
   ]
  },
  {
   "cell_type": "code",
   "execution_count": 43,
   "id": "ffbd95cb",
   "metadata": {},
   "outputs": [],
   "source": [
    "from sklearn.cluster import KMeans"
   ]
  },
  {
   "cell_type": "code",
   "execution_count": 44,
   "id": "7be91cbf",
   "metadata": {},
   "outputs": [],
   "source": [
    "# transform the corpus into sparse matrix\n",
    "# To create a document term matrix from gensim\n",
    "\n",
    "from gensim.matutils import corpus2csc\n",
    "\n",
    "tf_sparse_array = corpus2csc(bow_corpus) "
   ]
  },
  {
   "cell_type": "code",
   "execution_count": 45,
   "id": "f7a670f9",
   "metadata": {},
   "outputs": [
    {
     "data": {
      "text/plain": [
       "<236x49 sparse matrix of type '<class 'numpy.float64'>'\n",
       "\twith 337 stored elements in Compressed Sparse Column format>"
      ]
     },
     "execution_count": 45,
     "metadata": {},
     "output_type": "execute_result"
    }
   ],
   "source": [
    "tf_sparse_array"
   ]
  },
  {
   "cell_type": "code",
   "execution_count": 47,
   "id": "4c272f35",
   "metadata": {},
   "outputs": [
    {
     "data": {
      "text/plain": [
       "scipy.sparse.csc.csc_matrix"
      ]
     },
     "execution_count": 47,
     "metadata": {},
     "output_type": "execute_result"
    }
   ],
   "source": [
    "#convert the vector to array\n",
    "type(tf_sparse_array)"
   ]
  },
  {
   "cell_type": "code",
   "execution_count": null,
   "id": "0c0a9895",
   "metadata": {},
   "outputs": [],
   "source": []
  }
 ],
 "metadata": {
  "kernelspec": {
   "display_name": "Python 3 (ipykernel)",
   "language": "python",
   "name": "python3"
  },
  "language_info": {
   "codemirror_mode": {
    "name": "ipython",
    "version": 3
   },
   "file_extension": ".py",
   "mimetype": "text/x-python",
   "name": "python",
   "nbconvert_exporter": "python",
   "pygments_lexer": "ipython3",
   "version": "3.8.11"
  }
 },
 "nbformat": 4,
 "nbformat_minor": 5
}
