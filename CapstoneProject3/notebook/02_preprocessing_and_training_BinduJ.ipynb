{
 "cells": [
  {
   "cell_type": "markdown",
   "id": "838b35a9",
   "metadata": {},
   "source": [
    "##  Pre-processing and Training Data Development"
   ]
  },
  {
   "cell_type": "code",
   "execution_count": 1,
   "id": "82326a67",
   "metadata": {},
   "outputs": [],
   "source": [
    "import pandas as pd\n",
    "import numpy as np\n",
    "\n",
    "import gensim\n",
    "from gensim.corpora.dictionary import Dictionary\n",
    "from nltk.tokenize import TreebankWordTokenizer\n",
    "\n",
    "from gensim.models.tfidfmodel import TfidfModel\n",
    "\n",
    "import warnings\n",
    "warnings.filterwarnings(\"ignore\")"
   ]
  },
  {
   "cell_type": "code",
   "execution_count": 2,
   "id": "e2df3faf",
   "metadata": {
    "scrolled": true
   },
   "outputs": [
    {
     "data": {
      "text/html": [
       "<div>\n",
       "<style scoped>\n",
       "    .dataframe tbody tr th:only-of-type {\n",
       "        vertical-align: middle;\n",
       "    }\n",
       "\n",
       "    .dataframe tbody tr th {\n",
       "        vertical-align: top;\n",
       "    }\n",
       "\n",
       "    .dataframe thead th {\n",
       "        text-align: right;\n",
       "    }\n",
       "</style>\n",
       "<table border=\"1\" class=\"dataframe\">\n",
       "  <thead>\n",
       "    <tr style=\"text-align: right;\">\n",
       "      <th></th>\n",
       "      <th>job_title</th>\n",
       "      <th>location</th>\n",
       "      <th>connection</th>\n",
       "      <th>job_title_nostop</th>\n",
       "      <th>location_cleaned</th>\n",
       "      <th>combined</th>\n",
       "    </tr>\n",
       "  </thead>\n",
       "  <tbody>\n",
       "    <tr>\n",
       "      <th>0</th>\n",
       "      <td>2019 C.T. Bauer College of Business Graduate (Magna Cum Laude) and aspiring Human Resources professional</td>\n",
       "      <td>Houston, Texas</td>\n",
       "      <td>85.0</td>\n",
       "      <td>['2019', 'ct', 'bauer', 'college', 'business', 'graduate', 'magna', 'cum', 'laude', 'aspiring', 'human', 'resources', 'professional']</td>\n",
       "      <td>['houston', 'texas']</td>\n",
       "      <td>2019 ct bauer college business graduate magna cum laude aspiring human resources professional houston texas</td>\n",
       "    </tr>\n",
       "    <tr>\n",
       "      <th>1</th>\n",
       "      <td>Native English Teacher at EPIK (English Program in Korea)</td>\n",
       "      <td>Canada</td>\n",
       "      <td>500.0</td>\n",
       "      <td>['native', 'english', 'teacher', 'epik', 'english', 'program', 'korea']</td>\n",
       "      <td>['canada']</td>\n",
       "      <td>native english teacher epik english program korea canada</td>\n",
       "    </tr>\n",
       "    <tr>\n",
       "      <th>2</th>\n",
       "      <td>Aspiring Human Resources Professional</td>\n",
       "      <td>Raleigh-Durham, North Carolina</td>\n",
       "      <td>44.0</td>\n",
       "      <td>['aspiring', 'human', 'resources', 'professional']</td>\n",
       "      <td>['raleigh', 'durham', 'north', 'carolina', '']</td>\n",
       "      <td>aspiring human resources professional raleigh durham north carolina</td>\n",
       "    </tr>\n",
       "    <tr>\n",
       "      <th>3</th>\n",
       "      <td>People Development Coordinator at Ryan</td>\n",
       "      <td>Denton, Texas</td>\n",
       "      <td>500.0</td>\n",
       "      <td>['people', 'development', 'coordinator', 'ryan']</td>\n",
       "      <td>['denton', 'texas']</td>\n",
       "      <td>people development coordinator ryan denton texas</td>\n",
       "    </tr>\n",
       "    <tr>\n",
       "      <th>4</th>\n",
       "      <td>Aspiring Human Resources Specialist</td>\n",
       "      <td>New York City</td>\n",
       "      <td>1.0</td>\n",
       "      <td>['aspiring', 'human', 'resources', 'specialist']</td>\n",
       "      <td>['new', 'york', 'city', '']</td>\n",
       "      <td>aspiring human resources specialist new york city</td>\n",
       "    </tr>\n",
       "  </tbody>\n",
       "</table>\n",
       "</div>"
      ],
      "text/plain": [
       "                                                                                                  job_title  \\\n",
       "0  2019 C.T. Bauer College of Business Graduate (Magna Cum Laude) and aspiring Human Resources professional   \n",
       "1                                                 Native English Teacher at EPIK (English Program in Korea)   \n",
       "2                                                                     Aspiring Human Resources Professional   \n",
       "3                                                                    People Development Coordinator at Ryan   \n",
       "4                                                                       Aspiring Human Resources Specialist   \n",
       "\n",
       "                          location  connection  \\\n",
       "0                   Houston, Texas        85.0   \n",
       "1                           Canada       500.0   \n",
       "2  Raleigh-Durham, North Carolina         44.0   \n",
       "3                    Denton, Texas       500.0   \n",
       "4                   New York City          1.0   \n",
       "\n",
       "                                                                                                                        job_title_nostop  \\\n",
       "0  ['2019', 'ct', 'bauer', 'college', 'business', 'graduate', 'magna', 'cum', 'laude', 'aspiring', 'human', 'resources', 'professional']   \n",
       "1                                                                ['native', 'english', 'teacher', 'epik', 'english', 'program', 'korea']   \n",
       "2                                                                                     ['aspiring', 'human', 'resources', 'professional']   \n",
       "3                                                                                       ['people', 'development', 'coordinator', 'ryan']   \n",
       "4                                                                                       ['aspiring', 'human', 'resources', 'specialist']   \n",
       "\n",
       "                                 location_cleaned  \\\n",
       "0                            ['houston', 'texas']   \n",
       "1                                      ['canada']   \n",
       "2  ['raleigh', 'durham', 'north', 'carolina', '']   \n",
       "3                             ['denton', 'texas']   \n",
       "4                     ['new', 'york', 'city', '']   \n",
       "\n",
       "                                                                                                      combined  \n",
       "0  2019 ct bauer college business graduate magna cum laude aspiring human resources professional houston texas  \n",
       "1                                                     native english teacher epik english program korea canada  \n",
       "2                                         aspiring human resources professional raleigh durham north carolina   \n",
       "3                                                             people development coordinator ryan denton texas  \n",
       "4                                                           aspiring human resources specialist new york city   "
      ]
     },
     "execution_count": 2,
     "metadata": {},
     "output_type": "execute_result"
    }
   ],
   "source": [
    "data = pd.read_csv('../data/data_cleaned_final.csv')\n",
    "\n",
    "pd.set_option('display.max_colwidth',None)\n",
    "data.head()"
   ]
  },
  {
   "cell_type": "markdown",
   "id": "28a3bf1f",
   "metadata": {},
   "source": [
    "### Feature Engineering"
   ]
  },
  {
   "cell_type": "markdown",
   "id": "cd2bfc03",
   "metadata": {},
   "source": [
    "Displaying the combined column which contains the text combined with both the job title and location data"
   ]
  },
  {
   "cell_type": "code",
   "execution_count": 3,
   "id": "f6353bed",
   "metadata": {},
   "outputs": [
    {
     "data": {
      "text/plain": [
       "2019 ct bauer college business graduate magna cum laude aspiring human resources professional houston texas                          1\n",
       "liberal arts major aspiring human resources analyst baton rouge louisiana                                                            1\n",
       "senior human resources business partner heil environmental chattanooga tennessee                                                     1\n",
       "aspiring human resources professional energetic teamfocused leader austin texas                                                      1\n",
       "hr manager endemol shine north america los angeles california                                                                        1\n",
       "human resources professional world leader gis software highland california                                                           1\n",
       "rrp brand portfolio executive jti japan tobacco international philadelphia                                                           1\n",
       "information systems specialist programmer love data organization gaithersburg maryland                                               1\n",
       "bachelor science biology victoria university wellington baltimore maryland                                                           1\n",
       "human resources management major milpitas california                                                                                 1\n",
       "director human resources ey atlanta                                                                                                  1\n",
       "undergraduate research assistant styczynski lab atlanta                                                                              1\n",
       "lead official western illinois university chicago                                                                                    1\n",
       "seeking employment opportunities within customer service patient care torrance california                                            1\n",
       "admissions representative community medical center long beach long beach california                                                  1\n",
       "student westfield state university bridgewater massachusetts                                                                         1\n",
       "student indiana university kokomo business management retail manager delphi hardware paint lafayette indiana                         1\n",
       "student houston texas                                                                                                                1\n",
       "seeking human resources position las vegas nevada                                                                                    1\n",
       "aspiring human resources manager graduating may 2020 seeking entrylevel human resources position st louis cape girardeau missouri    1\n",
       "human resources generalist loparex raleigh durham north carolina                                                                     1\n",
       "business intelligence analytics travelers new york city                                                                              1\n",
       "always set success los angeles                                                                                                       1\n",
       "junior mes engineer information systems myrtle beach south carolina                                                                  1\n",
       "human resources conflict management policies procedures talent management benefits compensation dallas fort worth                    1\n",
       "native english teacher epik english program korea canada                                                                             1\n",
       "aspiring human resources professional passionate helping create inclusive engaging work environment new york new york                1\n",
       "aspiring human resources professional raleigh durham north carolina                                                                  1\n",
       "people development coordinator ryan denton texas                                                                                     1\n",
       "aspiring human resources specialist new york city                                                                                    1\n",
       "student humber college aspiring human resources generalist canada                                                                    1\n",
       "hr senior specialist san francisco bay                                                                                               1\n",
       "seeking human resources hris generalist positions philadelphia                                                                       1\n",
       "student chapman university lake forest california                                                                                    1\n",
       "svp chro marketing communications csr officer engie houston woodlands energy gphr sphr houston texas                                 1\n",
       "human resources coordinator intercontinental buckhead atlanta atlanta georgia                                                        1\n",
       "aspiring human resources management student seeking internship houston texas                                                         1\n",
       "seeking human resources opportunities chicago illinois                                                                               1\n",
       "experienced retail manager aspiring human resources professional austin texas                                                        1\n",
       "human resources staffing recruiting professional jackson mississippi                                                                 1\n",
       "human resources specialist luxottica new york city                                                                                   1\n",
       "director human resources north america groupe beneteau grand rapids michigan                                                         1\n",
       "retired army national guard recruiter office manager seeking position human resources virginia beach virginia                        1\n",
       "human resources generalist scottmadden inc raleigh durham north carolina                                                             1\n",
       "business management major aspiring human resources manager monroe louisiana                                                          1\n",
       "aspiring human resources manager seeking internship human resources houston texas                                                    1\n",
       "human resources professional boston                                                                                                  1\n",
       "nortia staffing seeking human resources payroll administrative professionals  san jose california                                    1\n",
       "director administration excellence logging katy texas                                                                                1\n",
       "Name: combined, dtype: int64"
      ]
     },
     "execution_count": 3,
     "metadata": {},
     "output_type": "execute_result"
    }
   ],
   "source": [
    "data['combined'].value_counts()"
   ]
  },
  {
   "cell_type": "code",
   "execution_count": 4,
   "id": "d94c73dd",
   "metadata": {},
   "outputs": [],
   "source": [
    "# variable to train\n",
    "X_train = data['combined'].values"
   ]
  },
  {
   "cell_type": "code",
   "execution_count": 5,
   "id": "df08d5be",
   "metadata": {},
   "outputs": [
    {
     "name": "stdout",
     "output_type": "stream",
     "text": [
      "['2019 ct bauer college business graduate magna cum laude aspiring human resources professional houston texas'\n",
      " 'native english teacher epik english program korea canada'\n",
      " 'aspiring human resources professional raleigh durham north carolina '\n",
      " 'people development coordinator ryan denton texas'\n",
      " 'aspiring human resources specialist new york city '\n",
      " 'student humber college aspiring human resources generalist canada'\n",
      " 'hr senior specialist san francisco bay '\n",
      " 'seeking human resources hris generalist positions philadelphia '\n",
      " 'student chapman university lake forest california'\n",
      " 'svp chro marketing communications csr officer engie houston woodlands energy gphr sphr houston texas '\n",
      " 'human resources coordinator intercontinental buckhead atlanta atlanta georgia'\n",
      " 'aspiring human resources management student seeking internship houston texas '\n",
      " 'seeking human resources opportunities chicago illinois'\n",
      " 'experienced retail manager aspiring human resources professional austin texas '\n",
      " 'human resources staffing recruiting professional jackson mississippi '\n",
      " 'human resources specialist luxottica new york city '\n",
      " 'director human resources north america groupe beneteau grand rapids michigan '\n",
      " 'retired army national guard recruiter office manager seeking position human resources virginia beach virginia'\n",
      " 'human resources generalist scottmadden inc raleigh durham north carolina '\n",
      " 'business management major aspiring human resources manager monroe louisiana '\n",
      " 'aspiring human resources manager seeking internship human resources houston texas '\n",
      " 'human resources professional boston '\n",
      " 'nortia staffing seeking human resources payroll administrative professionals  san jose california'\n",
      " 'aspiring human resources professional passionate helping create inclusive engaging work environment new york new york'\n",
      " 'human resources conflict management policies procedures talent management benefits compensation dallas fort worth '\n",
      " 'liberal arts major aspiring human resources analyst baton rouge louisiana '\n",
      " 'junior mes engineer information systems myrtle beach south carolina '\n",
      " 'senior human resources business partner heil environmental chattanooga tennessee '\n",
      " 'aspiring human resources professional energetic teamfocused leader austin texas '\n",
      " 'hr manager endemol shine north america los angeles california'\n",
      " 'human resources professional world leader gis software highland california'\n",
      " 'rrp brand portfolio executive jti japan tobacco international philadelphia '\n",
      " 'information systems specialist programmer love data organization gaithersburg maryland'\n",
      " 'bachelor science biology victoria university wellington baltimore maryland'\n",
      " 'human resources management major milpitas california'\n",
      " 'director human resources ey atlanta '\n",
      " 'undergraduate research assistant styczynski lab atlanta '\n",
      " 'lead official western illinois university chicago '\n",
      " 'seeking employment opportunities within customer service patient care torrance california'\n",
      " 'admissions representative community medical center long beach long beach california'\n",
      " 'student westfield state university bridgewater massachusetts'\n",
      " 'student indiana university kokomo business management retail manager delphi hardware paint lafayette indiana'\n",
      " 'student houston texas '\n",
      " 'seeking human resources position las vegas nevada '\n",
      " 'aspiring human resources manager graduating may 2020 seeking entrylevel human resources position st louis cape girardeau missouri'\n",
      " 'human resources generalist loparex raleigh durham north carolina '\n",
      " 'business intelligence analytics travelers new york city '\n",
      " 'always set success los angeles '\n",
      " 'director administration excellence logging katy texas']\n"
     ]
    }
   ],
   "source": [
    "print(X_train)"
   ]
  },
  {
   "cell_type": "markdown",
   "id": "b568088e",
   "metadata": {},
   "source": [
    "### Generate Document Vectors"
   ]
  },
  {
   "cell_type": "markdown",
   "id": "7ae63694",
   "metadata": {},
   "source": [
    "#### Usuage of Gensim\n",
    "Gensim is an open-source NLP library for building document or word vectors.</br>\n",
    "With these vectors, we can then see relationships among the words or documents based on how near or far they are and also what similar comparisons we find.</br>\n",
    "Gensim allows to build corpora and dictionaries using simple classes and functions."
   ]
  },
  {
   "cell_type": "markdown",
   "id": "27227ac4",
   "metadata": {},
   "source": [
    "### Tokenize words"
   ]
  },
  {
   "cell_type": "code",
   "execution_count": 6,
   "id": "9eeb450e",
   "metadata": {},
   "outputs": [],
   "source": [
    "tokenized_docs = [TreebankWordTokenizer().tokenize(doc) for doc in X_train]"
   ]
  },
  {
   "cell_type": "code",
   "execution_count": 7,
   "id": "051d601c",
   "metadata": {},
   "outputs": [
    {
     "name": "stdout",
     "output_type": "stream",
     "text": [
      "[['2019', 'ct', 'bauer', 'college', 'business', 'graduate', 'magna', 'cum', 'laude', 'aspiring', 'human', 'resources', 'professional', 'houston', 'texas'], ['native', 'english', 'teacher', 'epik', 'english', 'program', 'korea', 'canada'], ['aspiring', 'human', 'resources', 'professional', 'raleigh', 'durham', 'north', 'carolina'], ['people', 'development', 'coordinator', 'ryan', 'denton', 'texas'], ['aspiring', 'human', 'resources', 'specialist', 'new', 'york', 'city'], ['student', 'humber', 'college', 'aspiring', 'human', 'resources', 'generalist', 'canada'], ['hr', 'senior', 'specialist', 'san', 'francisco', 'bay'], ['seeking', 'human', 'resources', 'hris', 'generalist', 'positions', 'philadelphia'], ['student', 'chapman', 'university', 'lake', 'forest', 'california'], ['svp', 'chro', 'marketing', 'communications', 'csr', 'officer', 'engie', 'houston', 'woodlands', 'energy', 'gphr', 'sphr', 'houston', 'texas'], ['human', 'resources', 'coordinator', 'intercontinental', 'buckhead', 'atlanta', 'atlanta', 'georgia'], ['aspiring', 'human', 'resources', 'management', 'student', 'seeking', 'internship', 'houston', 'texas'], ['seeking', 'human', 'resources', 'opportunities', 'chicago', 'illinois'], ['experienced', 'retail', 'manager', 'aspiring', 'human', 'resources', 'professional', 'austin', 'texas'], ['human', 'resources', 'staffing', 'recruiting', 'professional', 'jackson', 'mississippi'], ['human', 'resources', 'specialist', 'luxottica', 'new', 'york', 'city'], ['director', 'human', 'resources', 'north', 'america', 'groupe', 'beneteau', 'grand', 'rapids', 'michigan'], ['retired', 'army', 'national', 'guard', 'recruiter', 'office', 'manager', 'seeking', 'position', 'human', 'resources', 'virginia', 'beach', 'virginia'], ['human', 'resources', 'generalist', 'scottmadden', 'inc', 'raleigh', 'durham', 'north', 'carolina'], ['business', 'management', 'major', 'aspiring', 'human', 'resources', 'manager', 'monroe', 'louisiana'], ['aspiring', 'human', 'resources', 'manager', 'seeking', 'internship', 'human', 'resources', 'houston', 'texas'], ['human', 'resources', 'professional', 'boston'], ['nortia', 'staffing', 'seeking', 'human', 'resources', 'payroll', 'administrative', 'professionals', 'san', 'jose', 'california'], ['aspiring', 'human', 'resources', 'professional', 'passionate', 'helping', 'create', 'inclusive', 'engaging', 'work', 'environment', 'new', 'york', 'new', 'york'], ['human', 'resources', 'conflict', 'management', 'policies', 'procedures', 'talent', 'management', 'benefits', 'compensation', 'dallas', 'fort', 'worth'], ['liberal', 'arts', 'major', 'aspiring', 'human', 'resources', 'analyst', 'baton', 'rouge', 'louisiana'], ['junior', 'mes', 'engineer', 'information', 'systems', 'myrtle', 'beach', 'south', 'carolina'], ['senior', 'human', 'resources', 'business', 'partner', 'heil', 'environmental', 'chattanooga', 'tennessee'], ['aspiring', 'human', 'resources', 'professional', 'energetic', 'teamfocused', 'leader', 'austin', 'texas'], ['hr', 'manager', 'endemol', 'shine', 'north', 'america', 'los', 'angeles', 'california'], ['human', 'resources', 'professional', 'world', 'leader', 'gis', 'software', 'highland', 'california'], ['rrp', 'brand', 'portfolio', 'executive', 'jti', 'japan', 'tobacco', 'international', 'philadelphia'], ['information', 'systems', 'specialist', 'programmer', 'love', 'data', 'organization', 'gaithersburg', 'maryland'], ['bachelor', 'science', 'biology', 'victoria', 'university', 'wellington', 'baltimore', 'maryland'], ['human', 'resources', 'management', 'major', 'milpitas', 'california'], ['director', 'human', 'resources', 'ey', 'atlanta'], ['undergraduate', 'research', 'assistant', 'styczynski', 'lab', 'atlanta'], ['lead', 'official', 'western', 'illinois', 'university', 'chicago'], ['seeking', 'employment', 'opportunities', 'within', 'customer', 'service', 'patient', 'care', 'torrance', 'california'], ['admissions', 'representative', 'community', 'medical', 'center', 'long', 'beach', 'long', 'beach', 'california'], ['student', 'westfield', 'state', 'university', 'bridgewater', 'massachusetts'], ['student', 'indiana', 'university', 'kokomo', 'business', 'management', 'retail', 'manager', 'delphi', 'hardware', 'paint', 'lafayette', 'indiana'], ['student', 'houston', 'texas'], ['seeking', 'human', 'resources', 'position', 'las', 'vegas', 'nevada'], ['aspiring', 'human', 'resources', 'manager', 'graduating', 'may', '2020', 'seeking', 'entrylevel', 'human', 'resources', 'position', 'st', 'louis', 'cape', 'girardeau', 'missouri'], ['human', 'resources', 'generalist', 'loparex', 'raleigh', 'durham', 'north', 'carolina'], ['business', 'intelligence', 'analytics', 'travelers', 'new', 'york', 'city'], ['always', 'set', 'success', 'los', 'angeles'], ['director', 'administration', 'excellence', 'logging', 'katy', 'texas']]\n"
     ]
    }
   ],
   "source": [
    "print(tokenized_docs)"
   ]
  },
  {
   "cell_type": "markdown",
   "id": "6a39f468",
   "metadata": {},
   "source": [
    "### Create bigram\n",
    "\n",
    "Topic models make more sense when 'New' and 'York' are treated as 'New York' - we can do this by creating a bigram model and modifying our corpus accordingly. </br>\n",
    "Scoring for bigram phrases, the default is the PMI-like scoring as described in Mikolov, et. al: “Distributed Representations of Words and Phrases and their Compositionality”."
   ]
  },
  {
   "cell_type": "code",
   "execution_count": 8,
   "id": "12252d51",
   "metadata": {},
   "outputs": [],
   "source": [
    "from gensim.models.phrases import Phrases"
   ]
  },
  {
   "cell_type": "code",
   "execution_count": 9,
   "id": "3493ad61",
   "metadata": {},
   "outputs": [],
   "source": [
    "#Build a Bigram\n",
    "bigram = Phrases(tokenized_docs, min_count=1, threshold=1) #train model\n",
    "tokenized_docs_bigram= [bigram[line] for line in tokenized_docs]"
   ]
  },
  {
   "cell_type": "code",
   "execution_count": 10,
   "id": "e9715a89",
   "metadata": {
    "scrolled": true
   },
   "outputs": [
    {
     "name": "stdout",
     "output_type": "stream",
     "text": [
      "aspiring_human 15.258064516129034\n",
      "resources_professional 12.483870967741936\n",
      "houston_texas 38.22222222222222\n",
      "raleigh_durham 114.66666666666666\n",
      "north_carolina 51.6\n",
      "resources_specialist 4.161290322580645\n",
      "new_york 82.56\n",
      "resources_generalist 8.32258064516129\n",
      "seeking_human 5.548387096774194\n",
      "human_resources 16.10822060353798\n",
      "resources_management 2.774193548387097\n",
      "seeking_internship 28.666666666666664\n",
      "retail_manager 36.857142857142854\n",
      "austin_texas 28.666666666666664\n",
      "director_human 5.548387096774194\n",
      "north_america 51.6\n",
      "manager_seeking 8.19047619047619\n",
      "business_management 17.2\n",
      "major_aspiring 14.333333333333332\n",
      "resources_manager 4.755760368663594\n",
      "information_systems 129.0\n",
      "los_angeles 129.0\n",
      "management_major 28.666666666666664\n",
      "long_beach 64.5\n",
      "resources_position 5.548387096774194\n"
     ]
    }
   ],
   "source": [
    "for phrase, score in bigram.find_phrases(tokenized_docs).items():\n",
    "    print(phrase, score)"
   ]
  },
  {
   "cell_type": "code",
   "execution_count": 11,
   "id": "2a1b1f2c",
   "metadata": {},
   "outputs": [
    {
     "data": {
      "text/plain": [
       "[['2019',\n",
       "  'ct',\n",
       "  'bauer',\n",
       "  'college',\n",
       "  'business',\n",
       "  'graduate',\n",
       "  'magna',\n",
       "  'cum',\n",
       "  'laude',\n",
       "  'aspiring_human',\n",
       "  'resources_professional',\n",
       "  'houston_texas'],\n",
       " ['native',\n",
       "  'english',\n",
       "  'teacher',\n",
       "  'epik',\n",
       "  'english',\n",
       "  'program',\n",
       "  'korea',\n",
       "  'canada'],\n",
       " ['aspiring_human',\n",
       "  'resources_professional',\n",
       "  'raleigh_durham',\n",
       "  'north_carolina'],\n",
       " ['people', 'development', 'coordinator', 'ryan', 'denton', 'texas'],\n",
       " ['aspiring_human', 'resources_specialist', 'new_york', 'city'],\n",
       " ['student',\n",
       "  'humber',\n",
       "  'college',\n",
       "  'aspiring_human',\n",
       "  'resources_generalist',\n",
       "  'canada'],\n",
       " ['hr', 'senior', 'specialist', 'san', 'francisco', 'bay'],\n",
       " ['seeking_human',\n",
       "  'resources',\n",
       "  'hris',\n",
       "  'generalist',\n",
       "  'positions',\n",
       "  'philadelphia'],\n",
       " ['student', 'chapman', 'university', 'lake', 'forest', 'california'],\n",
       " ['svp',\n",
       "  'chro',\n",
       "  'marketing',\n",
       "  'communications',\n",
       "  'csr',\n",
       "  'officer',\n",
       "  'engie',\n",
       "  'houston',\n",
       "  'woodlands',\n",
       "  'energy',\n",
       "  'gphr',\n",
       "  'sphr',\n",
       "  'houston_texas'],\n",
       " ['human_resources',\n",
       "  'coordinator',\n",
       "  'intercontinental',\n",
       "  'buckhead',\n",
       "  'atlanta',\n",
       "  'atlanta',\n",
       "  'georgia'],\n",
       " ['aspiring_human',\n",
       "  'resources_management',\n",
       "  'student',\n",
       "  'seeking_internship',\n",
       "  'houston_texas'],\n",
       " ['seeking_human', 'resources', 'opportunities', 'chicago', 'illinois'],\n",
       " ['experienced',\n",
       "  'retail_manager',\n",
       "  'aspiring_human',\n",
       "  'resources_professional',\n",
       "  'austin_texas'],\n",
       " ['human_resources',\n",
       "  'staffing',\n",
       "  'recruiting',\n",
       "  'professional',\n",
       "  'jackson',\n",
       "  'mississippi'],\n",
       " ['human_resources', 'specialist', 'luxottica', 'new_york', 'city'],\n",
       " ['director_human',\n",
       "  'resources',\n",
       "  'north_america',\n",
       "  'groupe',\n",
       "  'beneteau',\n",
       "  'grand',\n",
       "  'rapids',\n",
       "  'michigan'],\n",
       " ['retired',\n",
       "  'army',\n",
       "  'national',\n",
       "  'guard',\n",
       "  'recruiter',\n",
       "  'office',\n",
       "  'manager_seeking',\n",
       "  'position',\n",
       "  'human_resources',\n",
       "  'virginia',\n",
       "  'beach',\n",
       "  'virginia'],\n",
       " ['human_resources',\n",
       "  'generalist',\n",
       "  'scottmadden',\n",
       "  'inc',\n",
       "  'raleigh_durham',\n",
       "  'north_carolina'],\n",
       " ['business_management',\n",
       "  'major_aspiring',\n",
       "  'human_resources',\n",
       "  'manager',\n",
       "  'monroe',\n",
       "  'louisiana'],\n",
       " ['aspiring_human',\n",
       "  'resources_manager',\n",
       "  'seeking_internship',\n",
       "  'human_resources',\n",
       "  'houston_texas'],\n",
       " ['human_resources', 'professional', 'boston'],\n",
       " ['nortia',\n",
       "  'staffing',\n",
       "  'seeking_human',\n",
       "  'resources',\n",
       "  'payroll',\n",
       "  'administrative',\n",
       "  'professionals',\n",
       "  'san',\n",
       "  'jose',\n",
       "  'california'],\n",
       " ['aspiring_human',\n",
       "  'resources_professional',\n",
       "  'passionate',\n",
       "  'helping',\n",
       "  'create',\n",
       "  'inclusive',\n",
       "  'engaging',\n",
       "  'work',\n",
       "  'environment',\n",
       "  'new_york',\n",
       "  'new_york'],\n",
       " ['human_resources',\n",
       "  'conflict',\n",
       "  'management',\n",
       "  'policies',\n",
       "  'procedures',\n",
       "  'talent',\n",
       "  'management',\n",
       "  'benefits',\n",
       "  'compensation',\n",
       "  'dallas',\n",
       "  'fort',\n",
       "  'worth'],\n",
       " ['liberal',\n",
       "  'arts',\n",
       "  'major_aspiring',\n",
       "  'human_resources',\n",
       "  'analyst',\n",
       "  'baton',\n",
       "  'rouge',\n",
       "  'louisiana'],\n",
       " ['junior',\n",
       "  'mes',\n",
       "  'engineer',\n",
       "  'information_systems',\n",
       "  'myrtle',\n",
       "  'beach',\n",
       "  'south',\n",
       "  'carolina'],\n",
       " ['senior',\n",
       "  'human_resources',\n",
       "  'business',\n",
       "  'partner',\n",
       "  'heil',\n",
       "  'environmental',\n",
       "  'chattanooga',\n",
       "  'tennessee'],\n",
       " ['aspiring_human',\n",
       "  'resources_professional',\n",
       "  'energetic',\n",
       "  'teamfocused',\n",
       "  'leader',\n",
       "  'austin_texas'],\n",
       " ['hr',\n",
       "  'manager',\n",
       "  'endemol',\n",
       "  'shine',\n",
       "  'north_america',\n",
       "  'los_angeles',\n",
       "  'california'],\n",
       " ['human_resources',\n",
       "  'professional',\n",
       "  'world',\n",
       "  'leader',\n",
       "  'gis',\n",
       "  'software',\n",
       "  'highland',\n",
       "  'california'],\n",
       " ['rrp',\n",
       "  'brand',\n",
       "  'portfolio',\n",
       "  'executive',\n",
       "  'jti',\n",
       "  'japan',\n",
       "  'tobacco',\n",
       "  'international',\n",
       "  'philadelphia'],\n",
       " ['information_systems',\n",
       "  'specialist',\n",
       "  'programmer',\n",
       "  'love',\n",
       "  'data',\n",
       "  'organization',\n",
       "  'gaithersburg',\n",
       "  'maryland'],\n",
       " ['bachelor',\n",
       "  'science',\n",
       "  'biology',\n",
       "  'victoria',\n",
       "  'university',\n",
       "  'wellington',\n",
       "  'baltimore',\n",
       "  'maryland'],\n",
       " ['human_resources', 'management_major', 'milpitas', 'california'],\n",
       " ['director_human', 'resources', 'ey', 'atlanta'],\n",
       " ['undergraduate', 'research', 'assistant', 'styczynski', 'lab', 'atlanta'],\n",
       " ['lead', 'official', 'western', 'illinois', 'university', 'chicago'],\n",
       " ['seeking',\n",
       "  'employment',\n",
       "  'opportunities',\n",
       "  'within',\n",
       "  'customer',\n",
       "  'service',\n",
       "  'patient',\n",
       "  'care',\n",
       "  'torrance',\n",
       "  'california'],\n",
       " ['admissions',\n",
       "  'representative',\n",
       "  'community',\n",
       "  'medical',\n",
       "  'center',\n",
       "  'long_beach',\n",
       "  'long_beach',\n",
       "  'california'],\n",
       " ['student',\n",
       "  'westfield',\n",
       "  'state',\n",
       "  'university',\n",
       "  'bridgewater',\n",
       "  'massachusetts'],\n",
       " ['student',\n",
       "  'indiana',\n",
       "  'university',\n",
       "  'kokomo',\n",
       "  'business_management',\n",
       "  'retail_manager',\n",
       "  'delphi',\n",
       "  'hardware',\n",
       "  'paint',\n",
       "  'lafayette',\n",
       "  'indiana'],\n",
       " ['student', 'houston_texas'],\n",
       " ['seeking_human', 'resources_position', 'las', 'vegas', 'nevada'],\n",
       " ['aspiring_human',\n",
       "  'resources_manager',\n",
       "  'graduating',\n",
       "  'may',\n",
       "  '2020',\n",
       "  'seeking',\n",
       "  'entrylevel',\n",
       "  'human_resources',\n",
       "  'position',\n",
       "  'st',\n",
       "  'louis',\n",
       "  'cape',\n",
       "  'girardeau',\n",
       "  'missouri'],\n",
       " ['human_resources',\n",
       "  'generalist',\n",
       "  'loparex',\n",
       "  'raleigh_durham',\n",
       "  'north_carolina'],\n",
       " ['business', 'intelligence', 'analytics', 'travelers', 'new_york', 'city'],\n",
       " ['always', 'set', 'success', 'los_angeles'],\n",
       " ['director', 'administration', 'excellence', 'logging', 'katy', 'texas']]"
      ]
     },
     "execution_count": 11,
     "metadata": {},
     "output_type": "execute_result"
    }
   ],
   "source": [
    "tokenized_docs_bigram"
   ]
  },
  {
   "cell_type": "markdown",
   "id": "1fcdf276",
   "metadata": {},
   "source": [
    "### Create Dictionary needed for Topic Modeling"
   ]
  },
  {
   "cell_type": "code",
   "execution_count": 12,
   "id": "d1696dff",
   "metadata": {},
   "outputs": [],
   "source": [
    "# create a dictionary from the job_title and location containing the number of times a word appears in the training set.\n",
    "#This creates a mapping for Ids for each token\n",
    "dictionary = Dictionary(tokenized_docs_bigram) "
   ]
  },
  {
   "cell_type": "code",
   "execution_count": 13,
   "id": "0716add4",
   "metadata": {},
   "outputs": [
    {
     "name": "stdout",
     "output_type": "stream",
     "text": [
      "Dictionary(236 unique tokens: ['2019', 'aspiring_human', 'bauer', 'business', 'college']...)\n"
     ]
    }
   ],
   "source": [
    "print(dictionary)"
   ]
  },
  {
   "cell_type": "code",
   "execution_count": 14,
   "id": "2ddfe123",
   "metadata": {},
   "outputs": [
    {
     "name": "stdout",
     "output_type": "stream",
     "text": [
      "{'2019': 0, 'aspiring_human': 1, 'bauer': 2, 'business': 3, 'college': 4, 'ct': 5, 'cum': 6, 'graduate': 7, 'houston_texas': 8, 'laude': 9, 'magna': 10, 'resources_professional': 11, 'canada': 12, 'english': 13, 'epik': 14, 'korea': 15, 'native': 16, 'program': 17, 'teacher': 18, 'north_carolina': 19, 'raleigh_durham': 20, 'coordinator': 21, 'denton': 22, 'development': 23, 'people': 24, 'ryan': 25, 'texas': 26, 'city': 27, 'new_york': 28, 'resources_specialist': 29, 'humber': 30, 'resources_generalist': 31, 'student': 32, 'bay': 33, 'francisco': 34, 'hr': 35, 'san': 36, 'senior': 37, 'specialist': 38, 'generalist': 39, 'hris': 40, 'philadelphia': 41, 'positions': 42, 'resources': 43, 'seeking_human': 44, 'california': 45, 'chapman': 46, 'forest': 47, 'lake': 48, 'university': 49, 'chro': 50, 'communications': 51, 'csr': 52, 'energy': 53, 'engie': 54, 'gphr': 55, 'houston': 56, 'marketing': 57, 'officer': 58, 'sphr': 59, 'svp': 60, 'woodlands': 61, 'atlanta': 62, 'buckhead': 63, 'georgia': 64, 'human_resources': 65, 'intercontinental': 66, 'resources_management': 67, 'seeking_internship': 68, 'chicago': 69, 'illinois': 70, 'opportunities': 71, 'austin_texas': 72, 'experienced': 73, 'retail_manager': 74, 'jackson': 75, 'mississippi': 76, 'professional': 77, 'recruiting': 78, 'staffing': 79, 'luxottica': 80, 'beneteau': 81, 'director_human': 82, 'grand': 83, 'groupe': 84, 'michigan': 85, 'north_america': 86, 'rapids': 87, 'army': 88, 'beach': 89, 'guard': 90, 'manager_seeking': 91, 'national': 92, 'office': 93, 'position': 94, 'recruiter': 95, 'retired': 96, 'virginia': 97, 'inc': 98, 'scottmadden': 99, 'business_management': 100, 'louisiana': 101, 'major_aspiring': 102, 'manager': 103, 'monroe': 104, 'resources_manager': 105, 'boston': 106, 'administrative': 107, 'jose': 108, 'nortia': 109, 'payroll': 110, 'professionals': 111, 'create': 112, 'engaging': 113, 'environment': 114, 'helping': 115, 'inclusive': 116, 'passionate': 117, 'work': 118, 'benefits': 119, 'compensation': 120, 'conflict': 121, 'dallas': 122, 'fort': 123, 'management': 124, 'policies': 125, 'procedures': 126, 'talent': 127, 'worth': 128, 'analyst': 129, 'arts': 130, 'baton': 131, 'liberal': 132, 'rouge': 133, 'carolina': 134, 'engineer': 135, 'information_systems': 136, 'junior': 137, 'mes': 138, 'myrtle': 139, 'south': 140, 'chattanooga': 141, 'environmental': 142, 'heil': 143, 'partner': 144, 'tennessee': 145, 'energetic': 146, 'leader': 147, 'teamfocused': 148, 'endemol': 149, 'los_angeles': 150, 'shine': 151, 'gis': 152, 'highland': 153, 'software': 154, 'world': 155, 'brand': 156, 'executive': 157, 'international': 158, 'japan': 159, 'jti': 160, 'portfolio': 161, 'rrp': 162, 'tobacco': 163, 'data': 164, 'gaithersburg': 165, 'love': 166, 'maryland': 167, 'organization': 168, 'programmer': 169, 'bachelor': 170, 'baltimore': 171, 'biology': 172, 'science': 173, 'victoria': 174, 'wellington': 175, 'management_major': 176, 'milpitas': 177, 'ey': 178, 'assistant': 179, 'lab': 180, 'research': 181, 'styczynski': 182, 'undergraduate': 183, 'lead': 184, 'official': 185, 'western': 186, 'care': 187, 'customer': 188, 'employment': 189, 'patient': 190, 'seeking': 191, 'service': 192, 'torrance': 193, 'within': 194, 'admissions': 195, 'center': 196, 'community': 197, 'long_beach': 198, 'medical': 199, 'representative': 200, 'bridgewater': 201, 'massachusetts': 202, 'state': 203, 'westfield': 204, 'delphi': 205, 'hardware': 206, 'indiana': 207, 'kokomo': 208, 'lafayette': 209, 'paint': 210, 'las': 211, 'nevada': 212, 'resources_position': 213, 'vegas': 214, '2020': 215, 'cape': 216, 'entrylevel': 217, 'girardeau': 218, 'graduating': 219, 'louis': 220, 'may': 221, 'missouri': 222, 'st': 223, 'loparex': 224, 'analytics': 225, 'intelligence': 226, 'travelers': 227, 'always': 228, 'set': 229, 'success': 230, 'administration': 231, 'director': 232, 'excellence': 233, 'katy': 234, 'logging': 235}\n"
     ]
    }
   ],
   "source": [
    "print(dictionary.token2id)"
   ]
  },
  {
   "cell_type": "markdown",
   "id": "1e0742e4",
   "metadata": {},
   "source": [
    "### Create a Bag of Words Corpus\n",
    "\n",
    "Bag of words corpora in the Gensim library are based on dictionaries and contain the ID of each word along with the frequency of occurrence of the word."
   ]
  },
  {
   "cell_type": "code",
   "execution_count": 15,
   "id": "3c396fcc",
   "metadata": {},
   "outputs": [
    {
     "name": "stdout",
     "output_type": "stream",
     "text": [
      "[[(0, 1), (1, 1), (2, 1), (3, 1), (4, 1), (5, 1), (6, 1), (7, 1), (8, 1), (9, 1), (10, 1), (11, 1)], [(12, 1), (13, 2), (14, 1), (15, 1), (16, 1), (17, 1), (18, 1)], [(1, 1), (11, 1), (19, 1), (20, 1)], [(21, 1), (22, 1), (23, 1), (24, 1), (25, 1), (26, 1)], [(1, 1), (27, 1), (28, 1), (29, 1)], [(1, 1), (4, 1), (12, 1), (30, 1), (31, 1), (32, 1)], [(33, 1), (34, 1), (35, 1), (36, 1), (37, 1), (38, 1)], [(39, 1), (40, 1), (41, 1), (42, 1), (43, 1), (44, 1)], [(32, 1), (45, 1), (46, 1), (47, 1), (48, 1), (49, 1)], [(8, 1), (50, 1), (51, 1), (52, 1), (53, 1), (54, 1), (55, 1), (56, 1), (57, 1), (58, 1), (59, 1), (60, 1), (61, 1)], [(21, 1), (62, 2), (63, 1), (64, 1), (65, 1), (66, 1)], [(1, 1), (8, 1), (32, 1), (67, 1), (68, 1)], [(43, 1), (44, 1), (69, 1), (70, 1), (71, 1)], [(1, 1), (11, 1), (72, 1), (73, 1), (74, 1)], [(65, 1), (75, 1), (76, 1), (77, 1), (78, 1), (79, 1)], [(27, 1), (28, 1), (38, 1), (65, 1), (80, 1)], [(43, 1), (81, 1), (82, 1), (83, 1), (84, 1), (85, 1), (86, 1), (87, 1)], [(65, 1), (88, 1), (89, 1), (90, 1), (91, 1), (92, 1), (93, 1), (94, 1), (95, 1), (96, 1), (97, 2)], [(19, 1), (20, 1), (39, 1), (65, 1), (98, 1), (99, 1)], [(65, 1), (100, 1), (101, 1), (102, 1), (103, 1), (104, 1)], [(1, 1), (8, 1), (65, 1), (68, 1), (105, 1)], [(65, 1), (77, 1), (106, 1)], [(36, 1), (43, 1), (44, 1), (45, 1), (79, 1), (107, 1), (108, 1), (109, 1), (110, 1), (111, 1)], [(1, 1), (11, 1), (28, 2), (112, 1), (113, 1), (114, 1), (115, 1), (116, 1), (117, 1), (118, 1)], [(65, 1), (119, 1), (120, 1), (121, 1), (122, 1), (123, 1), (124, 2), (125, 1), (126, 1), (127, 1), (128, 1)], [(65, 1), (101, 1), (102, 1), (129, 1), (130, 1), (131, 1), (132, 1), (133, 1)], [(89, 1), (134, 1), (135, 1), (136, 1), (137, 1), (138, 1), (139, 1), (140, 1)], [(3, 1), (37, 1), (65, 1), (141, 1), (142, 1), (143, 1), (144, 1), (145, 1)], [(1, 1), (11, 1), (72, 1), (146, 1), (147, 1), (148, 1)], [(35, 1), (45, 1), (86, 1), (103, 1), (149, 1), (150, 1), (151, 1)], [(45, 1), (65, 1), (77, 1), (147, 1), (152, 1), (153, 1), (154, 1), (155, 1)], [(41, 1), (156, 1), (157, 1), (158, 1), (159, 1), (160, 1), (161, 1), (162, 1), (163, 1)], [(38, 1), (136, 1), (164, 1), (165, 1), (166, 1), (167, 1), (168, 1), (169, 1)], [(49, 1), (167, 1), (170, 1), (171, 1), (172, 1), (173, 1), (174, 1), (175, 1)], [(45, 1), (65, 1), (176, 1), (177, 1)], [(43, 1), (62, 1), (82, 1), (178, 1)], [(62, 1), (179, 1), (180, 1), (181, 1), (182, 1), (183, 1)], [(49, 1), (69, 1), (70, 1), (184, 1), (185, 1), (186, 1)], [(45, 1), (71, 1), (187, 1), (188, 1), (189, 1), (190, 1), (191, 1), (192, 1), (193, 1), (194, 1)], [(45, 1), (195, 1), (196, 1), (197, 1), (198, 2), (199, 1), (200, 1)], [(32, 1), (49, 1), (201, 1), (202, 1), (203, 1), (204, 1)], [(32, 1), (49, 1), (74, 1), (100, 1), (205, 1), (206, 1), (207, 2), (208, 1), (209, 1), (210, 1)], [(8, 1), (32, 1)], [(44, 1), (211, 1), (212, 1), (213, 1), (214, 1)], [(1, 1), (65, 1), (94, 1), (105, 1), (191, 1), (215, 1), (216, 1), (217, 1), (218, 1), (219, 1), (220, 1), (221, 1), (222, 1), (223, 1)], [(19, 1), (20, 1), (39, 1), (65, 1), (224, 1)], [(3, 1), (27, 1), (28, 1), (225, 1), (226, 1), (227, 1)], [(150, 1), (228, 1), (229, 1), (230, 1)], [(26, 1), (231, 1), (232, 1), (233, 1), (234, 1), (235, 1)]]\n"
     ]
    }
   ],
   "source": [
    "# Create a gensim corpus\n",
    "# This ia bag of words for the text in the format (token_id, token_count) 2 tuples\n",
    "\n",
    "#dictionary.token2id\n",
    "bow_corpus = [dictionary.doc2bow(token) for token in tokenized_docs_bigram]\n",
    "print(bow_corpus)"
   ]
  },
  {
   "cell_type": "markdown",
   "id": "f8eba152",
   "metadata": {},
   "source": [
    "What do these tuples mean? Let’s convert them into human readable format to understand:"
   ]
  },
  {
   "cell_type": "code",
   "execution_count": 16,
   "id": "db979ec9",
   "metadata": {},
   "outputs": [
    {
     "data": {
      "text/plain": [
       "[[('2019', 1),\n",
       "  ('aspiring_human', 1),\n",
       "  ('bauer', 1),\n",
       "  ('business', 1),\n",
       "  ('college', 1),\n",
       "  ('ct', 1),\n",
       "  ('cum', 1),\n",
       "  ('graduate', 1),\n",
       "  ('houston_texas', 1),\n",
       "  ('laude', 1),\n",
       "  ('magna', 1),\n",
       "  ('resources_professional', 1)],\n",
       " [('canada', 1),\n",
       "  ('english', 2),\n",
       "  ('epik', 1),\n",
       "  ('korea', 1),\n",
       "  ('native', 1),\n",
       "  ('program', 1),\n",
       "  ('teacher', 1)],\n",
       " [('aspiring_human', 1),\n",
       "  ('resources_professional', 1),\n",
       "  ('north_carolina', 1),\n",
       "  ('raleigh_durham', 1)]]"
      ]
     },
     "execution_count": 16,
     "metadata": {},
     "output_type": "execute_result"
    }
   ],
   "source": [
    "[[(dictionary[i], freq) for i, freq in doc] for doc in bow_corpus[:3]]"
   ]
  },
  {
   "cell_type": "markdown",
   "id": "bb48263a",
   "metadata": {},
   "source": [
    "### TF-IDF with Gensim\n",
    "\n",
    "Building a TF-IDF model using gensim model. </br>\n",
    "The tf-idf model transforms vectors from the bag-of-words representation to a vector space where the frequency counts are weighted according to the relative rarity of each word in the corpus."
   ]
  },
  {
   "cell_type": "code",
   "execution_count": 17,
   "id": "0940527f",
   "metadata": {},
   "outputs": [],
   "source": [
    "tfidf = TfidfModel(bow_corpus) # step 1 -- initialize a model\n",
    "\n",
    "#tfidf is treated as a read-only object that can be used to convert any vector from the old \n",
    "#representation (bag-of-words integer counts) to the new representation \n",
    "\n",
    "corpus_tfidf = tfidf[bow_corpus] # step 2 Apply transformation to the entire corpus "
   ]
  },
  {
   "cell_type": "code",
   "execution_count": 18,
   "id": "cf72c196",
   "metadata": {},
   "outputs": [
    {
     "name": "stdout",
     "output_type": "stream",
     "text": [
      "[(0, 0.33249872454322044), (1, 0.13577674153068667), (2, 0.33249872454322044), (3, 0.2386384851773402), (4, 0.2732795068499476), (5, 0.33249872454322044), (6, 0.33249872454322044), (7, 0.33249872454322044), (8, 0.1949959592239595), (9, 0.33249872454322044), (10, 0.33249872454322044), (11, 0.1949959592239595)] 2019 ct bauer college business graduate magna cum laude aspiring human resources professional houston texas\n",
      "\n",
      "[(12, 0.2642287470777187), (13, 0.6429733601593075), (14, 0.32148668007965375), (15, 0.32148668007965375), (16, 0.32148668007965375), (17, 0.32148668007965375), (18, 0.32148668007965375)] native english teacher epik english program korea canada\n",
      "\n",
      "[(1, 0.32896328403055086), (11, 0.4724410852392083), (19, 0.5781792882566074), (20, 0.5781792882566074)] aspiring human resources professional raleigh durham north carolina \n",
      "\n",
      "[(21, 0.35530268870431103), (22, 0.4322961944081207), (23, 0.4322961944081207), (24, 0.4322961944081207), (25, 0.4322961944081207), (26, 0.35530268870431103)] people development coordinator ryan denton texas\n",
      "\n",
      "[(1, 0.2820365124127828), (27, 0.49570173306652204), (28, 0.4446477115241098), (29, 0.6906689584288934)] aspiring human resources specialist new york city \n",
      "\n",
      "[(1, 0.2092340491987987), (4, 0.42112792763068607), (12, 0.42112792763068607), (30, 0.5123856538705532), (31, 0.5123856538705532), (32, 0.27648785363941936)] student humber college aspiring human resources generalist canada\n",
      "\n",
      "[(33, 0.46923787349646573), (34, 0.46923787349646573), (35, 0.3856649219951027), (36, 0.3856649219951027), (37, 0.3856649219951027), (38, 0.33677787929221753)] hr senior specialist san francisco bay \n",
      "\n",
      "[(39, 0.36116491603843615), (40, 0.5032167122721164), (41, 0.4135920074800176), (42, 0.5032167122721164), (43, 0.29511459221935626), (44, 0.32396730268791885)] seeking human resources hris generalist positions philadelphia \n",
      "\n",
      "[(32, 0.2737647378894612), (45, 0.25366959594024135), (46, 0.5073391918804827), (47, 0.5073391918804827), (48, 0.5073391918804827), (49, 0.2975322462019962)] student chapman university lake forest california\n",
      "\n",
      "[(8, 0.16692019613615602), (50, 0.28462514062679406), (51, 0.28462514062679406), (52, 0.28462514062679406), (53, 0.28462514062679406), (54, 0.28462514062679406), (55, 0.28462514062679406), (56, 0.28462514062679406), (57, 0.28462514062679406), (58, 0.28462514062679406), (59, 0.28462514062679406), (60, 0.28462514062679406), (61, 0.28462514062679406)] svp chro marketing communications csr officer engie houston woodlands energy gphr sphr houston texas \n",
      "\n",
      "[(21, 0.34043917709484267), (62, 0.5945699364975935), (63, 0.41421178438649703), (64, 0.41421178438649703), (65, 0.12599027874521226), (66, 0.41421178438649703)] human resources coordinator intercontinental buckhead atlanta atlanta georgia\n",
      "\n",
      "[(1, 0.25944158191057837), (8, 0.37259739449411455), (32, 0.34283352256456395), (67, 0.6353370548316362), (68, 0.5221812422480999)] aspiring human resources management student seeking internship houston texas \n",
      "\n",
      "[(43, 0.3514209187248036), (44, 0.3857785760141675), (69, 0.4925032074924643), (70, 0.4925032074924643), (71, 0.4925032074924643)] seeking human resources opportunities chicago illinois\n",
      "\n",
      "[(1, 0.2413918306407013), (11, 0.34667521870064044), (72, 0.4858522873020026), (73, 0.5911356753619417), (74, 0.4858522873020026)] experienced retail manager aspiring human resources professional austin texas \n",
      "\n",
      "[(65, 0.14697154917556898), (75, 0.4831908322162801), (76, 0.4831908322162801), (77, 0.34679209193983823), (78, 0.4831908322162801), (79, 0.3971328086262074)] human resources staffing recruiting professional jackson mississippi \n",
      "\n",
      "[(27, 0.45058037604120793), (28, 0.40417355780660447), (38, 0.45058037604120793), (65, 0.19095734139858958), (80, 0.6278006677195087)] human resources specialist luxottica new york city \n",
      "\n",
      "[(43, 0.226653112967579), (81, 0.38647914180065035), (82, 0.3176458178122843), (83, 0.38647914180065035), (84, 0.38647914180065035), (85, 0.38647914180065035), (86, 0.3176458178122843), (87, 0.38647914180065035)] director human resources north america groupe beneteau grand rapids michigan \n",
      "\n",
      "[(65, 0.08622684722466684), (88, 0.28348358783441746), (89, 0.23299414212752356), (90, 0.28348358783441746), (91, 0.28348358783441746), (92, 0.28348358783441746), (93, 0.28348358783441746), (94, 0.23299414212752356), (95, 0.28348358783441746), (96, 0.28348358783441746), (97, 0.5669671756688349)] retired army national guard recruiter office manager seeking position human resources virginia beach virginia\n",
      "\n",
      "[(19, 0.376294587537065), (20, 0.376294587537065), (39, 0.376294587537065), (65, 0.15947479703862016), (98, 0.524297119618457), (99, 0.524297119618457)] human resources generalist scottmadden inc raleigh durham north carolina \n",
      "\n",
      "[(65, 0.15614680602317166), (100, 0.4219253316838673), (101, 0.4219253316838673), (102, 0.4219253316838673), (103, 0.4219253316838673), (104, 0.5133558540647959)] business management major aspiring human resources manager monroe louisiana \n",
      "\n",
      "[(1, 0.2921108473830763), (8, 0.4195154062694388), (65, 0.21758395801363387), (68, 0.5879350720780526), (105, 0.5879350720780526)] aspiring human resources manager seeking internship human resources houston texas \n",
      "\n",
      "[(65, 0.23989519966674866), (77, 0.5660534886202738), (106, 0.7886911570429)] human resources professional boston \n",
      "\n",
      "[(36, 0.3029668174119951), (43, 0.2161790536555687), (44, 0.23731440856155656), (45, 0.1843096131312168), (79, 0.3029668174119951), (107, 0.3686192262624336), (108, 0.3686192262624336), (109, 0.3686192262624336), (110, 0.3686192262624336), (111, 0.3686192262624336)] nortia staffing seeking human resources payroll administrative professionals  san jose california\n",
      "\n",
      "[(1, 0.13486052380870248), (11, 0.19368013184776692), (28, 0.42523163241160866), (112, 0.3302550322839332), (113, 0.3302550322839332), (114, 0.3302550322839332), (115, 0.3302550322839332), (116, 0.3302550322839332), (117, 0.3302550322839332), (118, 0.3302550322839332)] aspiring human resources professional passionate helping create inclusive engaging work environment new york new york\n",
      "\n",
      "[(65, 0.08406263247733546), (119, 0.2763684098919941), (120, 0.2763684098919941), (121, 0.2763684098919941), (122, 0.2763684098919941), (123, 0.2763684098919941), (124, 0.5527368197839883), (125, 0.2763684098919941), (126, 0.2763684098919941), (127, 0.2763684098919941), (128, 0.2763684098919941)] human resources conflict management policies procedures talent management benefits compensation dallas fort worth \n",
      "\n",
      "[(65, 0.11982629151559383), (101, 0.3237834258656697), (102, 0.3237834258656697), (129, 0.3939467593802494), (130, 0.3939467593802494), (131, 0.3939467593802494), (132, 0.3939467593802494), (133, 0.3939467593802494)] liberal arts major aspiring human resources analyst baton rouge louisiana \n",
      "\n",
      "[(89, 0.30313987043991103), (134, 0.36882977959562585), (135, 0.36882977959562585), (136, 0.30313987043991103), (137, 0.36882977959562585), (138, 0.36882977959562585), (139, 0.36882977959562585), (140, 0.36882977959562585)] junior mes engineer information systems myrtle beach south carolina \n",
      "\n",
      "[(3, 0.28632680637728253), (37, 0.3278903165453638), (65, 0.12134617623017423), (141, 0.3989436064858999), (142, 0.3989436064858999), (143, 0.3989436064858999), (144, 0.3989436064858999), (145, 0.3989436064858999)] senior human resources business partner heil environmental chattanooga tennessee \n",
      "\n",
      "[(1, 0.20780000587028477), (11, 0.29843227208588374), (72, 0.4182416110995947), (146, 0.5088738773151936), (147, 0.4182416110995947), (148, 0.5088738773151936)] aspiring human resources professional energetic teamfocused leader austin texas \n",
      "\n",
      "[(35, 0.3693383120881895), (45, 0.2246866570966451), (86, 0.3693383120881895), (103, 0.3693383120881895), (149, 0.4493733141932902), (150, 0.3693383120881895), (151, 0.4493733141932902)] hr manager endemol shine north america los angeles california\n",
      "\n",
      "[(45, 0.21256122099282762), (65, 0.12930895977754342), (77, 0.3051156834051591), (147, 0.3494066073675534), (152, 0.42512244198565524), (153, 0.42512244198565524), (154, 0.42512244198565524), (155, 0.42512244198565524)] human resources professional world leader gis software highland california\n",
      "\n",
      "[(41, 0.2790419393052577), (156, 0.3395098665924086), (157, 0.3395098665924086), (158, 0.3395098665924086), (159, 0.3395098665924086), (160, 0.3395098665924086), (161, 0.3395098665924086), (162, 0.3395098665924086), (163, 0.3395098665924086)] rrp brand portfolio executive jti japan tobacco international philadelphia \n",
      "\n",
      "[(38, 0.2739013775522722), (136, 0.31366119897794986), (164, 0.38163106264726343), (165, 0.38163106264726343), (166, 0.38163106264726343), (167, 0.31366119897794986), (168, 0.38163106264726343), (169, 0.38163106264726343)] information systems specialist programmer love data organization gaithersburg maryland\n",
      "\n",
      "[(49, 0.2213524081785123), (167, 0.31021707930673625), (170, 0.37744060793277384), (171, 0.37744060793277384), (172, 0.37744060793277384), (173, 0.37744060793277384), (174, 0.37744060793277384), (175, 0.37744060793277384)] bachelor science biology victoria university wellington baltimore maryland\n",
      "\n",
      "[(45, 0.326684461433033), (65, 0.19873440548602184), (176, 0.653368922866066), (177, 0.653368922866066)] human resources management major milpitas california\n",
      "\n",
      "[(43, 0.368370373677866), (62, 0.4508162543908519), (82, 0.5162572314701016), (178, 0.6281293207041507)] director human resources ey atlanta \n",
      "\n",
      "[(62, 0.3056140828078566), (179, 0.42581686964926896), (180, 0.42581686964926896), (181, 0.42581686964926896), (182, 0.42581686964926896), (183, 0.42581686964926896)] undergraduate research assistant styczynski lab atlanta \n",
      "\n",
      "[(49, 0.2706573068150852), (69, 0.3793160413483749), (70, 0.3793160413483749), (184, 0.46151320090155634), (185, 0.46151320090155634), (186, 0.46151320090155634)] lead official western illinois university chicago \n",
      "\n",
      "[(45, 0.17048840140534227), (71, 0.2802476089115442), (187, 0.34097680281068454), (188, 0.34097680281068454), (189, 0.34097680281068454), (190, 0.34097680281068454), (191, 0.2802476089115442), (192, 0.34097680281068454), (193, 0.34097680281068454), (194, 0.34097680281068454)] seeking employment opportunities within customer service patient care torrance california\n",
      "\n",
      "[(45, 0.16439898730535732), (195, 0.32879797461071464), (196, 0.32879797461071464), (197, 0.32879797461071464), (198, 0.6575959492214293), (199, 0.32879797461071464), (200, 0.32879797461071464)] admissions representative community medical center long beach long beach california\n",
      "\n",
      "[(32, 0.25063927969921473), (49, 0.2723990987673088), (201, 0.4644832296387612), (202, 0.4644832296387612), (203, 0.4644832296387612), (204, 0.4644832296387612)] student westfield state university bridgewater massachusetts\n",
      "\n",
      "[(32, 0.16280082747076532), (49, 0.17693475154743488), (74, 0.2479674032217578), (100, 0.2479674032217578), (205, 0.30170152987285637), (206, 0.30170152987285637), (207, 0.6034030597457127), (208, 0.30170152987285637), (209, 0.30170152987285637), (210, 0.30170152987285637)] student indiana university kokomo business management retail manager delphi hardware paint lafayette indiana\n",
      "\n",
      "[(8, 0.7358877894931631), (32, 0.6771035085382929)] student houston texas \n",
      "\n",
      "[(44, 0.306412782904838), (211, 0.47594936875483734), (212, 0.47594936875483734), (213, 0.47594936875483734), (214, 0.47594936875483734)] seeking human resources position las vegas nevada \n",
      "\n",
      "[(1, 0.12155392853844117), (65, 0.09054160473820438), (94, 0.24465307733984312), (105, 0.24465307733984312), (191, 0.24465307733984312), (215, 0.29766899504739536), (216, 0.29766899504739536), (217, 0.29766899504739536), (218, 0.29766899504739536), (219, 0.29766899504739536), (220, 0.29766899504739536), (221, 0.29766899504739536), (222, 0.29766899504739536), (223, 0.29766899504739536)] aspiring human resources manager graduating may 2020 seeking entrylevel human resources position st louis cape girardeau missouri\n",
      "\n",
      "[(19, 0.4419012872249408), (20, 0.4419012872249408), (39, 0.4419012872249408), (65, 0.1872791170145675), (224, 0.6157079578640066)] human resources generalist loparex raleigh durham north carolina \n",
      "\n",
      "[(3, 0.3404314570439762), (27, 0.3404314570439762), (28, 0.3053692537425697), (225, 0.47432846037970244), (226, 0.47432846037970244), (227, 0.47432846037970244)] business intelligence analytics travelers new york city \n",
      "\n",
      "[(150, 0.4287045160721451), (228, 0.5216040765112135), (229, 0.5216040765112135), (230, 0.5216040765112135)] always set success los angeles \n",
      "\n",
      "[(26, 0.34499634441872484), (231, 0.4197564823413015), (232, 0.4197564823413015), (233, 0.4197564823413015), (234, 0.4197564823413015), (235, 0.4197564823413015)] director administration excellence logging katy texas\n",
      "\n"
     ]
    }
   ],
   "source": [
    "for doc, as_text in zip(corpus_tfidf, X_train):\n",
    "    print(doc, as_text, end='\\n\\n') "
   ]
  },
  {
   "cell_type": "code",
   "execution_count": 19,
   "id": "68214992",
   "metadata": {},
   "outputs": [
    {
     "data": {
      "text/plain": [
       "[(12, 0.2642287470777187),\n",
       " (13, 0.6429733601593075),\n",
       " (14, 0.32148668007965375),\n",
       " (15, 0.32148668007965375),\n",
       " (16, 0.32148668007965375),\n",
       " (17, 0.32148668007965375),\n",
       " (18, 0.32148668007965375)]"
      ]
     },
     "execution_count": 19,
     "metadata": {},
     "output_type": "execute_result"
    }
   ],
   "source": [
    "#The model can then be applied to any particular document of interest:\n",
    "corpus_tfidf[1]"
   ]
  },
  {
   "cell_type": "markdown",
   "id": "5a0a7148",
   "metadata": {},
   "source": [
    "#### The most relevant term in document 1 is then term number 13"
   ]
  },
  {
   "cell_type": "code",
   "execution_count": 20,
   "id": "fd619922",
   "metadata": {},
   "outputs": [
    {
     "data": {
      "text/plain": [
       "'english'"
      ]
     },
     "execution_count": 20,
     "metadata": {},
     "output_type": "execute_result"
    }
   ],
   "source": [
    "#looking up the word in the dictionary\n",
    "dictionary[13]"
   ]
  },
  {
   "cell_type": "markdown",
   "id": "3d053304",
   "metadata": {},
   "source": [
    "'english' is the most relevant term in that document"
   ]
  },
  {
   "cell_type": "markdown",
   "id": "a2f06742",
   "metadata": {},
   "source": [
    "And now we see the top five terms for this particular document:"
   ]
  },
  {
   "cell_type": "code",
   "execution_count": 21,
   "id": "7af2acc6",
   "metadata": {},
   "outputs": [],
   "source": [
    "from gensim.similarities import SparseMatrixSimilarity"
   ]
  },
  {
   "cell_type": "code",
   "execution_count": 22,
   "id": "095eed3f",
   "metadata": {},
   "outputs": [],
   "source": [
    "index = SparseMatrixSimilarity(corpus_tfidf, num_features = len(dictionary))"
   ]
  },
  {
   "cell_type": "code",
   "execution_count": 23,
   "id": "29b70b2a",
   "metadata": {},
   "outputs": [
    {
     "name": "stdout",
     "output_type": "stream",
     "text": [
      "[(0, 0.0), (1, 1.0), (2, 0.0), (3, 0.0), (4, 0.0), (5, 0.11127411), (6, 0.0), (7, 0.0), (8, 0.0), (9, 0.0), (10, 0.0), (11, 0.0), (12, 0.0), (13, 0.0), (14, 0.0), (15, 0.0), (16, 0.0), (17, 0.0), (18, 0.0), (19, 0.0), (20, 0.0), (21, 0.0), (22, 0.0), (23, 0.0), (24, 0.0), (25, 0.0), (26, 0.0), (27, 0.0), (28, 0.0), (29, 0.0), (30, 0.0), (31, 0.0), (32, 0.0), (33, 0.0), (34, 0.0), (35, 0.0), (36, 0.0), (37, 0.0), (38, 0.0), (39, 0.0), (40, 0.0), (41, 0.0), (42, 0.0), (43, 0.0), (44, 0.0), (45, 0.0), (46, 0.0), (47, 0.0), (48, 0.0)]\n"
     ]
    }
   ],
   "source": [
    "sims = index[corpus_tfidf[1]]\n",
    "print(list(enumerate(sims)))"
   ]
  },
  {
   "cell_type": "markdown",
   "id": "f2361d05",
   "metadata": {},
   "source": [
    "Here the 2nd job title is closest to the 6th title"
   ]
  },
  {
   "cell_type": "code",
   "execution_count": 24,
   "id": "1bec67b1",
   "metadata": {},
   "outputs": [
    {
     "name": "stdout",
     "output_type": "stream",
     "text": [
      "native english teacher epik english program korea canada\n",
      "student humber college aspiring human resources generalist canada\n"
     ]
    }
   ],
   "source": [
    "print(data['combined'].iloc[1])\n",
    "print(data['combined'].iloc[5])"
   ]
  },
  {
   "cell_type": "markdown",
   "id": "e146ca20",
   "metadata": {},
   "source": [
    "### Check for unseen data"
   ]
  },
  {
   "cell_type": "code",
   "execution_count": 25,
   "id": "bf43d345",
   "metadata": {},
   "outputs": [],
   "source": [
    "query_doc = \"aspiring human resources\".split()\n",
    "query_bow = dictionary.doc2bow(query_doc)"
   ]
  },
  {
   "cell_type": "code",
   "execution_count": 26,
   "id": "21f4efb4",
   "metadata": {},
   "outputs": [],
   "source": [
    "sims1 = index[tfidf[query_bow]]"
   ]
  },
  {
   "cell_type": "code",
   "execution_count": 27,
   "id": "3cbb3bbe",
   "metadata": {},
   "outputs": [
    {
     "data": {
      "text/plain": [
       "[(7, 0.2951146),\n",
       " (12, 0.3514209),\n",
       " (16, 0.22665311),\n",
       " (22, 0.21617906),\n",
       " (35, 0.36837038)]"
      ]
     },
     "execution_count": 27,
     "metadata": {},
     "output_type": "execute_result"
    }
   ],
   "source": [
    "result = list(enumerate(sims1))\n",
    "[x for x in result if x[1] > 0]"
   ]
  },
  {
   "cell_type": "code",
   "execution_count": 28,
   "id": "c16a6ca9",
   "metadata": {},
   "outputs": [
    {
     "name": "stdout",
     "output_type": "stream",
     "text": [
      "seeking human resources hris generalist positions philadelphia \n",
      "seeking human resources opportunities chicago illinois\n",
      "director human resources north america groupe beneteau grand rapids michigan \n",
      "nortia staffing seeking human resources payroll administrative professionals  san jose california\n",
      "director human resources ey atlanta \n"
     ]
    }
   ],
   "source": [
    "#print the documents that are closest to the unseen data\n",
    "print(data['combined'].iloc[7])\n",
    "print(data['combined'].iloc[12])\n",
    "print(data['combined'].iloc[16])\n",
    "print(data['combined'].iloc[22])\n",
    "print(data['combined'].iloc[35])"
   ]
  },
  {
   "cell_type": "markdown",
   "id": "8c19ce83",
   "metadata": {},
   "source": [
    "### Topic Modelling\n",
    "\n",
    "Topic Modelling refers to the probabilistic modelling of text documents as topics."
   ]
  },
  {
   "cell_type": "code",
   "execution_count": 29,
   "id": "4873d42a",
   "metadata": {},
   "outputs": [],
   "source": [
    "from gensim.models import LdaModel, LsiModel, HdpModel"
   ]
  },
  {
   "cell_type": "code",
   "execution_count": 30,
   "id": "ca98fb59",
   "metadata": {},
   "outputs": [],
   "source": [
    "# for LSI and LDA we are calculating num of topics \n",
    "num_topics = 20"
   ]
  },
  {
   "cell_type": "code",
   "execution_count": 31,
   "id": "7ed66e58",
   "metadata": {},
   "outputs": [],
   "source": [
    "def visualize_top_words(model):\n",
    "    n_words = 10\n",
    "    topic_words = pd.DataFrame({})\n",
    "    \n",
    "    for i, topic in enumerate(model.get_topics()[:5]):\n",
    "        top_feature_ids = topic.argsort()[-n_words:][::-1]\n",
    "        feature_values = topic[top_feature_ids]\n",
    "        words = [dictionary[id] for id in top_feature_ids]\n",
    "        topic_df = pd.DataFrame({'value': feature_values, 'word': words, 'topic': i})\n",
    "        topic_words = pd.concat([topic_words, topic_df], ignore_index=True)\n",
    "\n",
    "    return topic_words"
   ]
  },
  {
   "cell_type": "code",
   "execution_count": 32,
   "id": "dc09dbf3",
   "metadata": {},
   "outputs": [],
   "source": [
    "import matplotlib.pyplot as plt\n",
    "import seaborn as sns\n",
    "%matplotlib inline\n",
    "\n",
    "def display(df):\n",
    "    g = sns.FacetGrid(df, col=\"topic\", col_wrap=3, sharey=False)\n",
    "    g.map(plt.barh, \"word\", \"value\");"
   ]
  },
  {
   "cell_type": "markdown",
   "id": "0c76c691",
   "metadata": {},
   "source": [
    "#### LSI - Latent Semantic Indexing\n",
    "An information retrieval method which works by decomposing the original matric of words to maintain key topics"
   ]
  },
  {
   "cell_type": "code",
   "execution_count": 33,
   "id": "80ae4be5",
   "metadata": {},
   "outputs": [
    {
     "data": {
      "text/plain": [
       "[(0,\n",
       "  '-0.622*\"human_resources\" + -0.391*\"aspiring_human\" + -0.180*\"resources_professional\" + -0.174*\"new_york\" + -0.147*\"houston_texas\" + -0.135*\"position\" + -0.133*\"resources_manager\" + -0.121*\"california\" + -0.108*\"virginia\" + -0.104*\"north_carolina\"'),\n",
       " (1,\n",
       "  '-0.465*\"aspiring_human\" + 0.424*\"human_resources\" + -0.324*\"resources_professional\" + -0.251*\"new_york\" + -0.189*\"houston_texas\" + -0.141*\"student\" + -0.134*\"college\" + 0.118*\"virginia\" + 0.117*\"management\" + 0.110*\"california\"'),\n",
       " (2,\n",
       "  '-0.387*\"university\" + -0.385*\"student\" + -0.346*\"california\" + -0.308*\"indiana\" + -0.176*\"resources\" + -0.165*\"business_management\" + -0.156*\"retail_manager\" + -0.154*\"delphi\" + -0.154*\"lafayette\" + -0.154*\"kokomo\"'),\n",
       " (3,\n",
       "  '-0.367*\"california\" + -0.320*\"resources\" + -0.260*\"seeking_human\" + 0.235*\"indiana\" + 0.225*\"student\" + 0.196*\"university\" + -0.156*\"new_york\" + -0.148*\"san\" + -0.136*\"staffing\" + 0.134*\"business_management\"'),\n",
       " (4,\n",
       "  '0.365*\"houston_texas\" + -0.293*\"new_york\" + 0.214*\"chro\" + 0.214*\"gphr\" + 0.214*\"marketing\" + 0.214*\"houston\" + 0.214*\"communications\" + 0.214*\"sphr\" + 0.214*\"officer\" + 0.214*\"woodlands\"')]"
      ]
     },
     "execution_count": 33,
     "metadata": {},
     "output_type": "execute_result"
    }
   ],
   "source": [
    "lsimodel = LsiModel(corpus=bow_corpus, num_topics=num_topics, id2word=dictionary)\n",
    "lsimodel.show_topics(num_topics=5)  # showing only the top 5 topics"
   ]
  },
  {
   "cell_type": "markdown",
   "id": "4d58456c",
   "metadata": {},
   "source": [
    "#### Visualize LSI top topics"
   ]
  },
  {
   "cell_type": "code",
   "execution_count": 34,
   "id": "464a3cf5",
   "metadata": {},
   "outputs": [
    {
     "data": {
      "text/html": [
       "<div>\n",
       "<style scoped>\n",
       "    .dataframe tbody tr th:only-of-type {\n",
       "        vertical-align: middle;\n",
       "    }\n",
       "\n",
       "    .dataframe tbody tr th {\n",
       "        vertical-align: top;\n",
       "    }\n",
       "\n",
       "    .dataframe thead th {\n",
       "        text-align: right;\n",
       "    }\n",
       "</style>\n",
       "<table border=\"1\" class=\"dataframe\">\n",
       "  <thead>\n",
       "    <tr style=\"text-align: right;\">\n",
       "      <th></th>\n",
       "      <th>value</th>\n",
       "      <th>word</th>\n",
       "      <th>topic</th>\n",
       "    </tr>\n",
       "  </thead>\n",
       "  <tbody>\n",
       "    <tr>\n",
       "      <th>0</th>\n",
       "      <td>-0.000088</td>\n",
       "      <td>logging</td>\n",
       "      <td>0</td>\n",
       "    </tr>\n",
       "    <tr>\n",
       "      <th>1</th>\n",
       "      <td>-0.000088</td>\n",
       "      <td>excellence</td>\n",
       "      <td>0</td>\n",
       "    </tr>\n",
       "    <tr>\n",
       "      <th>2</th>\n",
       "      <td>-0.000088</td>\n",
       "      <td>director</td>\n",
       "      <td>0</td>\n",
       "    </tr>\n",
       "    <tr>\n",
       "      <th>3</th>\n",
       "      <td>-0.000088</td>\n",
       "      <td>katy</td>\n",
       "      <td>0</td>\n",
       "    </tr>\n",
       "    <tr>\n",
       "      <th>4</th>\n",
       "      <td>-0.000088</td>\n",
       "      <td>administration</td>\n",
       "      <td>0</td>\n",
       "    </tr>\n",
       "  </tbody>\n",
       "</table>\n",
       "</div>"
      ],
      "text/plain": [
       "      value            word  topic\n",
       "0 -0.000088         logging      0\n",
       "1 -0.000088      excellence      0\n",
       "2 -0.000088        director      0\n",
       "3 -0.000088            katy      0\n",
       "4 -0.000088  administration      0"
      ]
     },
     "execution_count": 34,
     "metadata": {},
     "output_type": "execute_result"
    }
   ],
   "source": [
    "df_lsi = visualize_top_words(model=lsimodel)      \n",
    "df_lsi.head()"
   ]
  },
  {
   "cell_type": "code",
   "execution_count": 35,
   "id": "c01029d7",
   "metadata": {},
   "outputs": [
    {
     "data": {
      "image/png": "[encoded data removed]",
      "text/plain": [
       "<Figure size 648x432 with 5 Axes>"
      ]
     },
     "metadata": {
      "needs_background": "light"
     },
     "output_type": "display_data"
    }
   ],
   "source": [
    "display(df_lsi)"
   ]
  },
  {
   "cell_type": "markdown",
   "id": "cf983419",
   "metadata": {},
   "source": [
    "#### HDP - Hierarchical Dirichlet Process\n",
    "HDP is an unsupervised topic model which figures out the number of topics on its own"
   ]
  },
  {
   "cell_type": "code",
   "execution_count": 36,
   "id": "4bac2fe4",
   "metadata": {},
   "outputs": [
    {
     "data": {
      "text/plain": [
       "[(0,\n",
       "  '0.025*customer + 0.022*louisiana + 0.018*rapids + 0.017*positions + 0.016*st + 0.015*endemol + 0.014*louis + 0.013*community + 0.013*aspiring_human + 0.013*logging + 0.012*energy + 0.012*illinois + 0.012*intercontinental + 0.011*boston + 0.011*development + 0.011*laude + 0.011*worth + 0.011*arts + 0.011*mississippi + 0.010*within'),\n",
       " (1,\n",
       "  '0.022*excellence + 0.020*denton + 0.019*liberal + 0.016*center + 0.016*graduate + 0.016*world + 0.014*position + 0.014*passionate + 0.014*retail_manager + 0.013*junior + 0.013*love + 0.012*university + 0.012*travelers + 0.012*gaithersburg + 0.011*cum + 0.011*english + 0.011*administrative + 0.011*resources_generalist + 0.011*care + 0.010*paint'),\n",
       " (2,\n",
       "  '0.026*analyst + 0.022*always + 0.020*lab + 0.017*houston_texas + 0.017*georgia + 0.016*position + 0.015*laude + 0.015*generalist + 0.015*baton + 0.014*csr + 0.014*hr + 0.013*california + 0.013*work + 0.013*beneteau + 0.012*san + 0.011*payroll + 0.011*illinois + 0.011*myrtle + 0.011*national + 0.010*student'),\n",
       " (3,\n",
       "  '0.021*environmental + 0.019*native + 0.018*love + 0.018*wellington + 0.018*resources_specialist + 0.016*rouge + 0.016*vegas + 0.015*student + 0.015*michigan + 0.014*canada + 0.014*positions + 0.013*seeking_human + 0.013*assistant + 0.012*manager + 0.012*energetic + 0.012*beach + 0.012*development + 0.011*shine + 0.011*engaging + 0.011*generalist'),\n",
       " (4,\n",
       "  '0.033*monroe + 0.023*engie + 0.019*programmer + 0.019*compensation + 0.018*environmental + 0.016*grand + 0.016*dallas + 0.015*intelligence + 0.014*chapman + 0.014*cape + 0.014*jackson + 0.013*excellence + 0.013*svp + 0.013*employment + 0.012*office + 0.012*csr + 0.012*hris + 0.012*resources_position + 0.012*student + 0.011*las')]"
      ]
     },
     "execution_count": 36,
     "metadata": {},
     "output_type": "execute_result"
    }
   ],
   "source": [
    "hdpmodel = HdpModel(corpus=bow_corpus,id2word=dictionary)\n",
    "hdpmodel.show_topics(num_topics=5)  #shows the top 5 topics"
   ]
  },
  {
   "cell_type": "code",
   "execution_count": 37,
   "id": "2d4ca175",
   "metadata": {},
   "outputs": [
    {
     "data": {
      "text/plain": [
       "150"
      ]
     },
     "execution_count": 37,
     "metadata": {},
     "output_type": "execute_result"
    }
   ],
   "source": [
    "topics_num = hdpmodel.get_topics()\n",
    "topics_num.shape[0]"
   ]
  },
  {
   "cell_type": "markdown",
   "id": "a1b1b355",
   "metadata": {},
   "source": [
    "Total number of topics for HDP is 150"
   ]
  },
  {
   "cell_type": "markdown",
   "id": "151cbb95",
   "metadata": {},
   "source": [
    "#### Visualize top HDP topics"
   ]
  },
  {
   "cell_type": "code",
   "execution_count": 38,
   "id": "e9b7f751",
   "metadata": {},
   "outputs": [
    {
     "data": {
      "text/html": [
       "<div>\n",
       "<style scoped>\n",
       "    .dataframe tbody tr th:only-of-type {\n",
       "        vertical-align: middle;\n",
       "    }\n",
       "\n",
       "    .dataframe tbody tr th {\n",
       "        vertical-align: top;\n",
       "    }\n",
       "\n",
       "    .dataframe thead th {\n",
       "        text-align: right;\n",
       "    }\n",
       "</style>\n",
       "<table border=\"1\" class=\"dataframe\">\n",
       "  <thead>\n",
       "    <tr style=\"text-align: right;\">\n",
       "      <th></th>\n",
       "      <th>value</th>\n",
       "      <th>word</th>\n",
       "      <th>topic</th>\n",
       "    </tr>\n",
       "  </thead>\n",
       "  <tbody>\n",
       "    <tr>\n",
       "      <th>0</th>\n",
       "      <td>0.024652</td>\n",
       "      <td>customer</td>\n",
       "      <td>0</td>\n",
       "    </tr>\n",
       "    <tr>\n",
       "      <th>1</th>\n",
       "      <td>0.022438</td>\n",
       "      <td>louisiana</td>\n",
       "      <td>0</td>\n",
       "    </tr>\n",
       "    <tr>\n",
       "      <th>2</th>\n",
       "      <td>0.018328</td>\n",
       "      <td>rapids</td>\n",
       "      <td>0</td>\n",
       "    </tr>\n",
       "    <tr>\n",
       "      <th>3</th>\n",
       "      <td>0.017190</td>\n",
       "      <td>positions</td>\n",
       "      <td>0</td>\n",
       "    </tr>\n",
       "    <tr>\n",
       "      <th>4</th>\n",
       "      <td>0.015733</td>\n",
       "      <td>st</td>\n",
       "      <td>0</td>\n",
       "    </tr>\n",
       "  </tbody>\n",
       "</table>\n",
       "</div>"
      ],
      "text/plain": [
       "      value       word  topic\n",
       "0  0.024652   customer      0\n",
       "1  0.022438  louisiana      0\n",
       "2  0.018328     rapids      0\n",
       "3  0.017190  positions      0\n",
       "4  0.015733         st      0"
      ]
     },
     "execution_count": 38,
     "metadata": {},
     "output_type": "execute_result"
    }
   ],
   "source": [
    "df_hdp = visualize_top_words(model=hdpmodel)      \n",
    "df_hdp.head()"
   ]
  },
  {
   "cell_type": "code",
   "execution_count": 39,
   "id": "8e78a32d",
   "metadata": {},
   "outputs": [
    {
     "data": {
      "image/png": "[encoded data removed]",
      "text/plain": [
       "<Figure size 648x432 with 5 Axes>"
      ]
     },
     "metadata": {
      "needs_background": "light"
     },
     "output_type": "display_data"
    }
   ],
   "source": [
    "display(df_hdp)"
   ]
  },
  {
   "cell_type": "markdown",
   "id": "71ca49c1",
   "metadata": {},
   "source": [
    "#### LDA - Latent Dirichlet Allocation"
   ]
  },
  {
   "cell_type": "code",
   "execution_count": 40,
   "id": "5c6cf4c8",
   "metadata": {
    "scrolled": true
   },
   "outputs": [
    {
     "data": {
      "text/plain": [
       "[(13,\n",
       "  [('houston_texas', 0.038938392),\n",
       "   ('environmental', 0.021455478),\n",
       "   ('chattanooga', 0.021455465),\n",
       "   ('resources_management', 0.021455465),\n",
       "   ('manager', 0.021455456),\n",
       "   ('assistant', 0.02145545),\n",
       "   ('atlanta', 0.02145545),\n",
       "   ('business', 0.021455418),\n",
       "   ('undergraduate', 0.021455398),\n",
       "   ('north_america', 0.021455398)]),\n",
       " (8,\n",
       "  [('aspiring_human', 0.07649104),\n",
       "   ('resources_professional', 0.07649011),\n",
       "   ('hris', 0.03917865),\n",
       "   ('positions', 0.03917861),\n",
       "   ('austin_texas', 0.03917852),\n",
       "   ('resources', 0.03917842),\n",
       "   ('north_carolina', 0.039178416),\n",
       "   ('generalist', 0.039178118),\n",
       "   ('seeking_human', 0.039177988),\n",
       "   ('raleigh_durham', 0.039177936)]),\n",
       " (6,\n",
       "  [('illinois', 0.05890771),\n",
       "   ('university', 0.058907155),\n",
       "   ('chicago', 0.058906585),\n",
       "   ('official', 0.030172382),\n",
       "   ('teamfocused', 0.030172238),\n",
       "   ('massachusetts', 0.030172234),\n",
       "   ('seeking_human', 0.030172138),\n",
       "   ('state', 0.030172115),\n",
       "   ('bridgewater', 0.030172095),\n",
       "   ('austin_texas', 0.030172074)]),\n",
       " (3,\n",
       "  [('human_resources', 0.062498085),\n",
       "   ('resources_manager', 0.062498),\n",
       "   ('seeking_internship', 0.062497787),\n",
       "   ('houston_texas', 0.062497538),\n",
       "   ('aspiring_human', 0.062497105),\n",
       "   ('student', 0.0029762401),\n",
       "   ('international', 0.00297624),\n",
       "   ('portfolio', 0.00297624),\n",
       "   ('jti', 0.00297624),\n",
       "   ('japan', 0.00297624)]),\n",
       " (9,\n",
       "  [('human_resources', 0.06124496),\n",
       "   ('aspiring_human', 0.0612442),\n",
       "   ('professional', 0.04116372),\n",
       "   ('girardeau', 0.021084396),\n",
       "   ('missouri', 0.021084385),\n",
       "   ('staffing', 0.021084363),\n",
       "   ('cape', 0.021084335),\n",
       "   ('gis', 0.021084314),\n",
       "   ('may', 0.021084294),\n",
       "   ('canada', 0.021084292)])]"
      ]
     },
     "execution_count": 40,
     "metadata": {},
     "output_type": "execute_result"
    }
   ],
   "source": [
    "ldamodel = LdaModel(corpus=bow_corpus, num_topics=num_topics, id2word=dictionary)\n",
    "\n",
    "# each element of the list is a tuple \n",
    "# containing the topic and word / probability list\n",
    "#topics = ldamodel.show_topics(num_words = 10, formatted = False)num_topics=5\n",
    "topics = ldamodel.show_topics(num_topics=5, num_words = 10, formatted = False)\n",
    "topics"
   ]
  },
  {
   "cell_type": "markdown",
   "id": "1840e79e",
   "metadata": {},
   "source": [
    "show_topics() from the model, will output the most probable words that appear in each topic. For the gensim library, the default printing behavior is to print a linear combination of the top words sorted in decreasing order of the probability of the word appearing in that topic. Thus words that appear towards the left are the ones that are more indicative of the topic."
   ]
  },
  {
   "cell_type": "code",
   "execution_count": 44,
   "id": "446e57c1",
   "metadata": {},
   "outputs": [
    {
     "data": {
      "text/html": [
       "<div>\n",
       "<style scoped>\n",
       "    .dataframe tbody tr th:only-of-type {\n",
       "        vertical-align: middle;\n",
       "    }\n",
       "\n",
       "    .dataframe tbody tr th {\n",
       "        vertical-align: top;\n",
       "    }\n",
       "\n",
       "    .dataframe thead th {\n",
       "        text-align: right;\n",
       "    }\n",
       "</style>\n",
       "<table border=\"1\" class=\"dataframe\">\n",
       "  <thead>\n",
       "    <tr style=\"text-align: right;\">\n",
       "      <th></th>\n",
       "      <th>value</th>\n",
       "      <th>word</th>\n",
       "      <th>topic</th>\n",
       "    </tr>\n",
       "  </thead>\n",
       "  <tbody>\n",
       "    <tr>\n",
       "      <th>0</th>\n",
       "      <td>0.053029</td>\n",
       "      <td>carolina</td>\n",
       "      <td>0</td>\n",
       "    </tr>\n",
       "    <tr>\n",
       "      <th>1</th>\n",
       "      <td>0.053029</td>\n",
       "      <td>information_systems</td>\n",
       "      <td>0</td>\n",
       "    </tr>\n",
       "    <tr>\n",
       "      <th>2</th>\n",
       "      <td>0.053029</td>\n",
       "      <td>beach</td>\n",
       "      <td>0</td>\n",
       "    </tr>\n",
       "    <tr>\n",
       "      <th>3</th>\n",
       "      <td>0.053029</td>\n",
       "      <td>myrtle</td>\n",
       "      <td>0</td>\n",
       "    </tr>\n",
       "    <tr>\n",
       "      <th>4</th>\n",
       "      <td>0.053029</td>\n",
       "      <td>mes</td>\n",
       "      <td>0</td>\n",
       "    </tr>\n",
       "  </tbody>\n",
       "</table>\n",
       "</div>"
      ],
      "text/plain": [
       "      value                 word  topic\n",
       "0  0.053029             carolina      0\n",
       "1  0.053029  information_systems      0\n",
       "2  0.053029                beach      0\n",
       "3  0.053029               myrtle      0\n",
       "4  0.053029                  mes      0"
      ]
     },
     "execution_count": 44,
     "metadata": {},
     "output_type": "execute_result"
    }
   ],
   "source": [
    "df_lda = visualize_top_words(model=ldamodel)      \n",
    "df_lda.head()"
   ]
  },
  {
   "cell_type": "code",
   "execution_count": 45,
   "id": "013eb58a",
   "metadata": {},
   "outputs": [
    {
     "data": {
      "image/png": "[encoded data removed]",
      "text/plain": [
       "<Figure size 648x432 with 5 Axes>"
      ]
     },
     "metadata": {
      "needs_background": "light"
     },
     "output_type": "display_data"
    }
   ],
   "source": [
    "display(df_lda)"
   ]
  },
  {
   "cell_type": "code",
   "execution_count": 46,
   "id": "4ad06a03",
   "metadata": {},
   "outputs": [
    {
     "name": "stdout",
     "output_type": "stream",
     "text": [
      "[(1, 0.06760562), (2, 0.020058794), (3, 0.037282668), (4, 0.017719677), (5, 0.037242465), (9, 0.052047122), (12, 0.034025475), (13, 0.0125476485), (16, 0.020743454), (17, 0.020743178)]\n"
     ]
    }
   ],
   "source": [
    "print(ldamodel.get_term_topics('human_resources'))"
   ]
  },
  {
   "cell_type": "markdown",
   "id": "040584f7",
   "metadata": {},
   "source": [
    "The get_document_topics method outputs the topic distribution of the document. Apart from this, it also let us know the topic distribution for each word in the document."
   ]
  },
  {
   "cell_type": "markdown",
   "id": "8ec905cc",
   "metadata": {},
   "source": [
    "### Model Evaluation\n",
    "#### Topic Coherence is a measure that is used to evaluate topic models."
   ]
  },
  {
   "cell_type": "code",
   "execution_count": 48,
   "id": "6e703913",
   "metadata": {},
   "outputs": [],
   "source": [
    "from gensim.models.coherencemodel import CoherenceModel"
   ]
  },
  {
   "cell_type": "code",
   "execution_count": 49,
   "id": "b23839b8",
   "metadata": {},
   "outputs": [],
   "source": [
    "lsi_coherence = CoherenceModel(model=lsimodel, corpus=bow_corpus, texts = tokenized_docs_bigram, coherence='c_v')\n",
    "hdp_coherence = CoherenceModel(model=hdpmodel, corpus=bow_corpus, texts = tokenized_docs_bigram, coherence='c_v')\n",
    "lda_coherence = CoherenceModel(model=ldamodel, corpus=bow_corpus, texts = tokenized_docs_bigram, coherence='c_v')"
   ]
  },
  {
   "cell_type": "code",
   "execution_count": 50,
   "id": "0c0a9895",
   "metadata": {},
   "outputs": [
    {
     "name": "stdout",
     "output_type": "stream",
     "text": [
      "LSI Model coherence : 0.3692450436643109\n",
      "HDP Model coherence : 0.7871911638720094\n",
      "LDA Model coherence : 0.4021522233942335\n"
     ]
    }
   ],
   "source": [
    "# higher coherence score is better\n",
    "print('LSI Model coherence :', lsi_coherence.get_coherence())\n",
    "print('HDP Model coherence :', hdp_coherence.get_coherence())\n",
    "print('LDA Model coherence :', lda_coherence.get_coherence())"
   ]
  },
  {
   "cell_type": "markdown",
   "id": "b2a499b9",
   "metadata": {},
   "source": [
    "#### Finding the optimum number of topics for LDA"
   ]
  },
  {
   "cell_type": "code",
   "execution_count": 51,
   "id": "337de876",
   "metadata": {},
   "outputs": [],
   "source": [
    "def compute_coherence_values(dictionary, corpus, texts, limit, start, step):\n",
    "    \"\"\"\n",
    "    Compute c_v coherence for various number of topics\n",
    "\n",
    "    Parameters:\n",
    "    ----------\n",
    "    dictionary : Gensim dictionary\n",
    "    corpus : Gensim corpus\n",
    "    texts : List of input texts\n",
    "    limit : Max num of topics\n",
    "    \n",
    "\n",
    "    Returns:\n",
    "    -------\n",
    "    model_list : List of LDA topic models\n",
    "    coherence_values : Coherence values corresponding to the LDA model with respective number of topics\n",
    "    \"\"\"\n",
    "    coherence_values = []\n",
    "    model_list = []\n",
    "    for num_topics in range(start, limit, step):\n",
    "        model=LdaModel(corpus=corpus, id2word=dictionary, num_topics=num_topics)\n",
    "        model_list.append(model)\n",
    "        coherencemodel = CoherenceModel(model=model, texts=texts, dictionary=dictionary, coherence='c_v')\n",
    "        coherence_values.append(coherencemodel.get_coherence())\n",
    "\n",
    "    return model_list, coherence_values"
   ]
  },
  {
   "cell_type": "code",
   "execution_count": 52,
   "id": "b9f17c81",
   "metadata": {},
   "outputs": [
    {
     "data": {
      "image/png": "[encoded data removed]",
      "text/plain": [
       "<Figure size 432x288 with 1 Axes>"
      ]
     },
     "metadata": {
      "needs_background": "light"
     },
     "output_type": "display_data"
    }
   ],
   "source": [
    "#Create a model list and plot Coherence score against a number of topics\n",
    "\n",
    "model_list, coherence_values = compute_coherence_values(dictionary=dictionary, corpus=bow_corpus, texts=tokenized_docs_bigram, limit=20, start=1, step=1)\n",
    "# Show graph\n",
    "import matplotlib.pyplot as plt\n",
    "limit=20; start=1; step=1;\n",
    "x = range(start, limit, step)\n",
    "plt.plot(x, coherence_values)\n",
    "plt.xlabel(\"Num Topics\")\n",
    "plt.ylabel(\"Coherence score\")\n",
    "plt.legend((\"coherence_values\"), loc='best')\n",
    "plt.show()"
   ]
  },
  {
   "cell_type": "code",
   "execution_count": 53,
   "id": "2078b6f0",
   "metadata": {},
   "outputs": [
    {
     "name": "stdout",
     "output_type": "stream",
     "text": [
      "Num Topics = 1  has Coherence Value of 0.6379\n",
      "Num Topics = 2  has Coherence Value of 0.6525\n",
      "Num Topics = 3  has Coherence Value of 0.6207\n",
      "Num Topics = 4  has Coherence Value of 0.553\n",
      "Num Topics = 5  has Coherence Value of 0.5313\n",
      "Num Topics = 6  has Coherence Value of 0.4633\n",
      "Num Topics = 7  has Coherence Value of 0.4058\n",
      "Num Topics = 8  has Coherence Value of 0.4253\n",
      "Num Topics = 9  has Coherence Value of 0.3959\n",
      "Num Topics = 10  has Coherence Value of 0.3777\n",
      "Num Topics = 11  has Coherence Value of 0.3965\n",
      "Num Topics = 12  has Coherence Value of 0.4333\n",
      "Num Topics = 13  has Coherence Value of 0.4174\n",
      "Num Topics = 14  has Coherence Value of 0.4217\n",
      "Num Topics = 15  has Coherence Value of 0.4646\n",
      "Num Topics = 16  has Coherence Value of 0.429\n",
      "Num Topics = 17  has Coherence Value of 0.4645\n",
      "Num Topics = 18  has Coherence Value of 0.4603\n",
      "Num Topics = 19  has Coherence Value of 0.4216\n"
     ]
    }
   ],
   "source": [
    "# Print the coherence scores\n",
    "for m, cv in zip(x, coherence_values):\n",
    "    print(\"Num Topics =\", m, \" has Coherence Value of\", round(cv, 4))"
   ]
  },
  {
   "cell_type": "code",
   "execution_count": 54,
   "id": "47bedf4f",
   "metadata": {},
   "outputs": [
    {
     "name": "stdout",
     "output_type": "stream",
     "text": [
      "The 2 topics gives the highest coherence score \\\n",
      "of 0.6525069908987882\n"
     ]
    }
   ],
   "source": [
    "best_result_index = coherence_values.index(max(coherence_values))\n",
    "optimal_model = model_list[best_result_index]\n",
    "# Select the model and print the topics\n",
    "model_topics = optimal_model.show_topics(formatted=False)\n",
    "print(f'''The {x[best_result_index]} topics gives the highest coherence score \\\\\n",
    "of {coherence_values[best_result_index]}''')"
   ]
  },
  {
   "cell_type": "markdown",
   "id": "55e16ede",
   "metadata": {},
   "source": [
    "The last step is to find the optimal number of topics.We need to build many LDA models with different values of the number of topics (k) and pick the one that gives the highest coherence value. Choosing a ‘k’ that marks the end of a rapid growth of topic coherence usually offers meaningful and interpretable topics. Picking an even higher value can sometimes provide more granular sub-topics. If you see the same keywords being repeated in multiple topics, it’s probably a sign that the ‘k’ is too large."
   ]
  },
  {
   "cell_type": "markdown",
   "id": "d67852dc",
   "metadata": {},
   "source": [
    "### Visualization with PyLDAvis"
   ]
  },
  {
   "cell_type": "code",
   "execution_count": 41,
   "id": "4db78595",
   "metadata": {},
   "outputs": [],
   "source": [
    "import pyLDAvis\n",
    "import pyLDAvis.gensim_models as gensimvis"
   ]
  },
  {
   "cell_type": "code",
   "execution_count": 42,
   "id": "1b1f8bdd",
   "metadata": {},
   "outputs": [],
   "source": [
    "pyLDAvis.enable_notebook()\n",
    "\n",
    "# feed the LDA model into the pyLDAvis instance\n",
    "lda_viz = gensimvis.prepare(ldamodel, bow_corpus, dictionary)"
   ]
  },
  {
   "cell_type": "code",
   "execution_count": 43,
   "id": "d63eb7d8",
   "metadata": {},
   "outputs": [
    {
     "data": {
      "text/html": [
       "\n",
       "<link rel=\"stylesheet\" type=\"text/css\" href=\"https://cdn.jsdelivr.net/gh/bmabey/pyLDAvis@3.3.1/pyLDAvis/js/ldavis.v1.0.0.css\">\n",
       "\n",
       "\n",
       "<div id=\"ldavis_el2935620960121539042884422470\"></div>\n",
       "<script type=\"text/javascript\">\n",
       "\n",
       "var ldavis_el2935620960121539042884422470_data = {\"mdsDat\": {\"x\": [0.08464950421402757, 0.11521596103827557, 0.12233872003420598, 0.1516946594791837, -0.011566839053031878, 0.015025513038459537, -0.05830831939053315, -0.07414210626204006, 0.005277797437473491, -0.05345017913063844, -0.11901368411141264, 0.04143604623213389, 0.010370848926290314, -0.08113869871515682, -0.07634384587827509, -0.01297999643655282, 0.04702143442451518, -0.04484110009749148, -0.03917521985702811, -0.02207049589240453], \"y\": [-0.07855588349876984, -0.07777766153129115, -0.00997312502493042, 0.029166523002711504, 0.027385498369214074, 0.18519803142584737, -0.045529977091904206, -0.07619371540079958, 0.011123247522722804, 0.008510621479487149, 0.022325449816961572, 0.14339177028131245, -0.09149950723633399, -0.009307679906865863, -0.010322591047392526, -0.029819278662081877, -0.02337287133604442, 0.02842590708643776, -0.004127626451420938, 0.000952868203140091], \"topics\": [1, 2, 3, 4, 5, 6, 7, 8, 9, 10, 11, 12, 13, 14, 15, 16, 17, 18, 19, 20], \"cluster\": [1, 1, 1, 1, 1, 1, 1, 1, 1, 1, 1, 1, 1, 1, 1, 1, 1, 1, 1, 1], \"Freq\": [10.676211061621556, 10.399012381383669, 9.531765166555605, 8.422022365501654, 6.764357945841602, 6.30940812751145, 5.401556165881399, 5.328173410150495, 5.3230102853980235, 5.3230102745686905, 5.0349556135072335, 4.249609945695686, 3.6048853208404283, 3.0383707282525685, 2.6803061016057677, 2.1081395640018448, 1.824363178848827, 1.8243631769536937, 1.5433554819414976, 0.6131237039383131]}, \"tinfo\": {\"Term\": [\"aspiring_human\", \"human_resources\", \"houston_texas\", \"new_york\", \"atlanta\", \"seeking_human\", \"resources_professional\", \"resources\", \"city\", \"california\", \"business\", \"university\", \"los_angeles\", \"seeking_internship\", \"resources_manager\", \"english\", \"north_carolina\", \"generalist\", \"raleigh_durham\", \"virginia\", \"specialist\", \"beach\", \"coordinator\", \"information_systems\", \"texas\", \"management\", \"indiana\", \"director_human\", \"illinois\", \"chicago\", \"environmental\", \"resources_management\", \"chattanooga\", \"assistant\", \"undergraduate\", \"lab\", \"endemol\", \"styczynski\", \"tennessee\", \"heil\", \"research\", \"partner\", \"shine\", \"csr\", \"sphr\", \"officer\", \"energy\", \"chro\", \"marketing\", \"communications\", \"gphr\", \"engie\", \"houston\", \"woodlands\", \"svp\", \"los_angeles\", \"seeking_internship\", \"north_america\", \"hr\", \"senior\", \"houston_texas\", \"manager\", \"business\", \"atlanta\", \"student\", \"california\", \"aspiring_human\", \"human_resources\", \"girardeau\", \"missouri\", \"cape\", \"gis\", \"may\", \"graduating\", \"entrylevel\", \"mississippi\", \"highland\", \"2020\", \"recruiting\", \"software\", \"resources_generalist\", \"world\", \"humber\", \"st\", \"resources_specialist\", \"jackson\", \"louis\", \"professional\", \"resources_manager\", \"seeking\", \"canada\", \"staffing\", \"position\", \"leader\", \"college\", \"city\", \"aspiring_human\", \"human_resources\", \"student\", \"new_york\", \"california\", \"long_beach\", \"chapman\", \"management_major\", \"medical\", \"work\", \"monroe\", \"engaging\", \"admissions\", \"passionate\", \"create\", \"inclusive\", \"lake\", \"representative\", \"forest\", \"center\", \"community\", \"helping\", \"milpitas\", \"environment\", \"california\", \"new_york\", \"major_aspiring\", \"louisiana\", \"business_management\", \"manager\", \"resources_professional\", \"university\", \"student\", \"human_resources\", \"aspiring_human\", \"inc\", \"ct\", \"2019\", \"cum\", \"magna\", \"francisco\", \"graduate\", \"scottmadden\", \"bauer\", \"loparex\", \"laude\", \"bay\", \"north_carolina\", \"raleigh_durham\", \"generalist\", \"san\", \"houston_texas\", \"college\", \"senior\", \"hr\", \"specialist\", \"business\", \"resources_professional\", \"student\", \"human_resources\", \"aspiring_human\", \"set\", \"success\", \"always\", \"nevada\", \"canada\", \"english\", \"epik\", \"korea\", \"management\", \"indiana\", \"benefits\", \"dallas\", \"compensation\", \"lafayette\", \"hardware\", \"conflict\", \"policies\", \"talent\", \"delphi\", \"worth\", \"paint\", \"fort\", \"kokomo\", \"procedures\", \"retail_manager\", \"business_management\", \"university\", \"student\", \"human_resources\", \"set\", \"success\", \"always\", \"nevada\", \"vegas\", \"resources_position\", \"las\", \"travelers\", \"intelligence\", \"2019\", \"aspiring_human\", \"bauer\", \"business\", \"college\", \"ct\", \"cum\", \"graduate\", \"houston_texas\", \"illinois\", \"chicago\", \"official\", \"teamfocused\", \"massachusetts\", \"state\", \"bridgewater\", \"westfield\", \"western\", \"energetic\", \"lead\", \"austin_texas\", \"opportunities\", \"leader\", \"university\", \"seeking_human\", \"resources\", \"resources_professional\", \"student\", \"aspiring_human\", \"set\", \"success\", \"always\", \"nevada\", \"vegas\", \"resources_position\", \"las\", \"travelers\", \"intelligence\", \"analytics\", \"human_resources\", \"2019\", \"bauer\", \"business\", \"college\", \"ct\", \"cum\", \"graduate\", \"houston_texas\", \"laude\", \"beneteau\", \"programmer\", \"data\", \"organization\", \"love\", \"gaithersburg\", \"rapids\", \"groupe\", \"michigan\", \"grand\", \"boston\", \"information_systems\", \"director_human\", \"maryland\", \"north_america\", \"specialist\", \"professional\", \"resources\", \"human_resources\", \"set\", \"success\", \"always\", \"nevada\", \"vegas\", \"resources_position\", \"las\", \"travelers\", \"intelligence\", \"analytics\", \"junior\", \"aspiring_human\", \"student\", \"2019\", \"bauer\", \"business\", \"college\", \"ct\", \"cum\", \"graduate\", \"houston_texas\", \"laude\", \"virginia\", \"recruiter\", \"national\", \"administration\", \"manager_seeking\", \"retired\", \"guard\", \"excellence\", \"logging\", \"army\", \"office\", \"katy\", \"director\", \"beach\", \"texas\", \"position\", \"human_resources\", \"set\", \"success\", \"always\", \"nevada\", \"vegas\", \"resources_position\", \"las\", \"travelers\", \"intelligence\", \"analytics\", \"junior\", \"south\", \"engineer\", \"aspiring_human\", \"student\", \"2019\", \"bauer\", \"business\", \"college\", \"ct\", \"cum\", \"graduate\", \"houston_texas\", \"laude\", \"magna\", \"resources_professional\", \"jose\", \"nortia\", \"liberal\", \"baton\", \"arts\", \"rouge\", \"administrative\", \"professionals\", \"payroll\", \"analyst\", \"san\", \"major_aspiring\", \"louisiana\", \"staffing\", \"seeking_human\", \"resources\", \"california\", \"human_resources\", \"set\", \"success\", \"always\", \"nevada\", \"vegas\", \"resources_position\", \"las\", \"travelers\", \"intelligence\", \"analytics\", \"junior\", \"south\", \"student\", \"2019\", \"aspiring_human\", \"bauer\", \"business\", \"college\", \"ct\", \"cum\", \"graduate\", \"houston_texas\", \"laude\", \"magna\", \"service\", \"customer\", \"employment\", \"within\", \"bachelor\", \"victoria\", \"baltimore\", \"science\", \"patient\", \"biology\", \"wellington\", \"torrance\", \"care\", \"maryland\", \"opportunities\", \"seeking\", \"university\", \"california\", \"svp\", \"woodlands\", \"houston\", \"engie\", \"gphr\", \"communications\", \"marketing\", \"chro\", \"energy\", \"officer\", \"sphr\", \"csr\", \"houston_texas\", \"english\", \"international\", \"native\", \"program\", \"japan\", \"executive\", \"epik\", \"korea\", \"brand\", \"tobacco\", \"jti\", \"portfolio\", \"rrp\", \"teacher\", \"philadelphia\", \"canada\", \"set\", \"success\", \"always\", \"nevada\", \"vegas\", \"resources_position\", \"las\", \"travelers\", \"intelligence\", \"analytics\", \"junior\", \"south\", \"engineer\", \"mes\", \"aspiring_human\", \"human_resources\", \"2019\", \"bauer\", \"business\", \"college\", \"ct\", \"cum\", \"graduate\", \"houston_texas\", \"laude\", \"magna\", \"resources_professional\", \"north_carolina\", \"hris\", \"positions\", \"experienced\", \"philadelphia\", \"austin_texas\", \"retail_manager\", \"resources_professional\", \"north_carolina\", \"generalist\", \"raleigh_durham\", \"seeking_human\", \"resources\", \"aspiring_human\", \"set\", \"success\", \"always\", \"nevada\", \"vegas\", \"resources_position\", \"las\", \"travelers\", \"intelligence\", \"analytics\", \"junior\", \"south\", \"engineer\", \"mes\", \"myrtle\", \"carolina\", \"ey\", \"student\", \"human_resources\", \"2019\", \"bauer\", \"business\", \"college\", \"ct\", \"cum\", \"graduate\", \"houston_texas\", \"laude\", \"magna\", \"canada\", \"english\", \"epik\", \"korea\", \"native\", \"buckhead\", \"georgia\", \"luxottica\", \"intercontinental\", \"atlanta\", \"coordinator\", \"city\", \"specialist\", \"new_york\", \"human_resources\", \"set\", \"success\", \"always\", \"nevada\", \"vegas\", \"resources_position\", \"las\", \"travelers\", \"intelligence\", \"analytics\", \"junior\", \"south\", \"engineer\", \"mes\", \"myrtle\", \"carolina\", \"ey\", \"people\", \"development\", \"ryan\", \"2019\", \"aspiring_human\", \"bauer\", \"business\", \"college\", \"ct\", \"cum\", \"graduate\", \"houston_texas\", \"laude\", \"magna\", \"resources_professional\", \"canada\", \"english\", \"epik\", \"korea\", \"native\", \"program\", \"teacher\", \"north_carolina\", \"denton\", \"ryan\", \"development\", \"people\", \"ey\", \"coordinator\", \"director_human\", \"texas\", \"atlanta\", \"resources\", \"set\", \"success\", \"always\", \"nevada\", \"vegas\", \"resources_position\", \"las\", \"travelers\", \"intelligence\", \"analytics\", \"junior\", \"south\", \"engineer\", \"mes\", \"myrtle\", \"carolina\", \"intercontinental\", \"luxottica\", \"georgia\", \"buckhead\", \"aspiring_human\", \"student\", \"human_resources\", \"2019\", \"bauer\", \"business\", \"college\", \"ct\", \"cum\", \"graduate\", \"houston_texas\", \"laude\", \"magna\", \"resources_professional\", \"canada\", \"english\", \"epik\", \"korea\", \"native\", \"program\", \"carolina\", \"myrtle\", \"mes\", \"engineer\", \"south\", \"junior\", \"information_systems\", \"beach\", \"set\", \"success\", \"always\", \"nevada\", \"vegas\", \"resources_position\", \"las\", \"travelers\", \"intelligence\", \"analytics\", \"ey\", \"people\", \"development\", \"ryan\", \"denton\", \"intercontinental\", \"luxottica\", \"georgia\", \"buckhead\", \"experienced\", \"positions\", \"hris\", \"student\", \"human_resources\", \"2019\", \"aspiring_human\", \"bauer\", \"business\", \"college\", \"ct\", \"cum\", \"graduate\", \"houston_texas\", \"laude\", \"magna\", \"resources_professional\", \"canada\", \"english\", \"epik\", \"korea\", \"native\", \"program\", \"teacher\", \"north_carolina\", \"analytics\", \"intelligence\", \"travelers\", \"city\", \"business\", \"new_york\", \"set\", \"success\", \"always\", \"nevada\", \"vegas\", \"resources_position\", \"las\", \"junior\", \"south\", \"engineer\", \"mes\", \"myrtle\", \"carolina\", \"ey\", \"people\", \"development\", \"ryan\", \"denton\", \"intercontinental\", \"luxottica\", \"georgia\", \"buckhead\", \"experienced\", \"positions\", \"aspiring_human\", \"human_resources\", \"2019\", \"bauer\", \"college\", \"ct\", \"cum\", \"graduate\", \"houston_texas\", \"laude\", \"magna\", \"resources_professional\", \"canada\", \"english\", \"epik\", \"korea\", \"native\", \"program\", \"teacher\", \"north_carolina\", \"raleigh_durham\", \"coordinator\", \"resources_manager\", \"seeking_internship\", \"houston_texas\", \"aspiring_human\", \"human_resources\", \"set\", \"success\", \"always\", \"nevada\", \"vegas\", \"resources_position\", \"las\", \"travelers\", \"intelligence\", \"analytics\", \"junior\", \"south\", \"engineer\", \"mes\", \"myrtle\", \"carolina\", \"ey\", \"people\", \"development\", \"ryan\", \"denton\", \"intercontinental\", \"luxottica\", \"georgia\", \"buckhead\", \"student\", \"2019\", \"bauer\", \"business\", \"college\", \"ct\", \"cum\", \"graduate\", \"laude\", \"magna\", \"resources_professional\", \"canada\", \"english\", \"epik\", \"korea\", \"native\", \"program\", \"teacher\", \"north_carolina\", \"raleigh_durham\", \"coordinator\", \"las\", \"resources_position\", \"vegas\", \"nevada\", \"seeking_human\", \"set\", \"success\", \"always\", \"travelers\", \"intelligence\", \"analytics\", \"junior\", \"south\", \"engineer\", \"mes\", \"myrtle\", \"carolina\", \"ey\", \"people\", \"development\", \"ryan\", \"denton\", \"intercontinental\", \"luxottica\", \"georgia\", \"buckhead\", \"experienced\", \"positions\", \"hris\", \"care\", \"aspiring_human\", \"human_resources\", \"2019\", \"bauer\", \"business\", \"college\", \"ct\", \"cum\", \"graduate\", \"houston_texas\", \"laude\", \"magna\", \"resources_professional\", \"canada\", \"english\", \"epik\", \"korea\", \"native\", \"program\", \"teacher\", \"north_carolina\", \"raleigh_durham\", \"coordinator\", \"always\", \"success\", \"set\", \"los_angeles\", \"nevada\", \"vegas\", \"resources_position\", \"las\", \"travelers\", \"intelligence\", \"analytics\", \"junior\", \"south\", \"engineer\", \"mes\", \"myrtle\", \"carolina\", \"ey\", \"people\", \"development\", \"ryan\", \"denton\", \"intercontinental\", \"luxottica\", \"georgia\", \"buckhead\", \"experienced\", \"positions\", \"hris\", \"care\", \"human_resources\", \"2019\", \"aspiring_human\", \"bauer\", \"business\", \"college\", \"ct\", \"cum\", \"graduate\", \"houston_texas\", \"laude\", \"magna\", \"resources_professional\", \"canada\", \"english\", \"epik\", \"korea\", \"native\", \"program\", \"teacher\", \"north_carolina\", \"raleigh_durham\", \"coordinator\", \"set\", \"success\", \"always\", \"nevada\", \"vegas\", \"resources_position\", \"las\", \"travelers\", \"intelligence\", \"analytics\", \"junior\", \"south\", \"engineer\", \"mes\", \"myrtle\", \"carolina\", \"ey\", \"people\", \"development\", \"ryan\", \"denton\", \"intercontinental\", \"luxottica\", \"georgia\", \"buckhead\", \"experienced\", \"positions\", \"hris\", \"care\", \"torrance\", \"2019\", \"aspiring_human\", \"bauer\", \"business\", \"college\", \"ct\", \"cum\", \"graduate\", \"houston_texas\", \"laude\", \"magna\", \"resources_professional\", \"canada\", \"english\", \"epik\", \"korea\", \"native\", \"program\", \"teacher\", \"north_carolina\", \"raleigh_durham\", \"coordinator\", \"texas\", \"city\", \"new_york\", \"resources_specialist\"], \"Freq\": [6.0, 10.0, 3.0, 3.0, 2.0, 2.0, 3.0, 3.0, 2.0, 5.0, 2.0, 3.0, 1.0, 1.0, 1.0, 1.0, 2.0, 2.0, 2.0, 1.0, 2.0, 1.0, 1.0, 1.0, 1.0, 1.0, 1.0, 1.0, 1.0, 1.0, 0.787977375389522, 0.7879768965348589, 0.7879768965348589, 0.7879763492723869, 0.7879744338537346, 0.7879737497756445, 0.7879729972897453, 0.7879727920663183, 0.787969987346149, 0.7879696453071039, 0.7879684823743508, 0.7879655408385634, 0.7879636938277201, 0.7114200756849992, 0.7022392004534628, 0.6974605729551095, 0.6914875451114519, 0.6885899955452399, 0.6866783393224716, 0.6845661114036877, 0.6845078963582207, 0.6672808946309962, 0.6598988711451714, 0.6530239547475336, 0.6398620186628848, 0.7879733393287904, 0.7879722448038463, 0.7879744338537346, 0.7879695768992949, 0.7879678667040697, 1.4300577224829645, 0.7879765544958139, 0.7879751863396337, 0.7879763492723869, 0.7879727236585093, 0.7879686191899687, 0.7879651987995183, 0.7879573319014822, 0.75424365846666, 0.7542432586767072, 0.7542414596219191, 0.7542407266736723, 0.7542399937254253, 0.7542399270937665, 0.7542367287741435, 0.7542364622475082, 0.7542353295093084, 0.7542351962459908, 0.7542346631927203, 0.754234396666085, 0.7542327308746147, 0.7542309984514856, 0.7542301988715798, 0.7542270671836155, 0.7542234690740397, 0.7542229360207692, 0.7542130079036061, 1.472533273627841, 0.7542397271987901, 0.7542317313997325, 0.7542399270937665, 0.7542424590968013, 0.7542317313997325, 0.7542355960359436, 0.7542256012871217, 0.754228333185133, 2.1908642670491445, 2.19089145276594, 0.7542369953007787, 0.7542352628776495, 0.7542250016021924, 1.4362842075786337, 0.73565676084766, 0.7356561500999262, 0.7356553561278725, 0.7356540124828583, 0.7356537681837648, 0.735652485613524, 0.735650164772136, 0.7356488211271218, 0.7356472331830143, 0.7356458895380001, 0.7356454009398131, 0.735644729117306, 0.7356443626686658, 0.7356432022479719, 0.7356419807525044, 0.7356418586029577, 0.7356418586029577, 0.7356408203318104, 2.1368594964531495, 1.4362813981390588, 0.7356436908461588, 0.7356406371074903, 0.7356559058008327, 0.7356461338370935, 0.7356586541656344, 0.7356491265009887, 0.7356415532290909, 1.436269061034838, 0.7356537681837648, 0.7107582175561278, 0.7107572462023681, 0.710755465387142, 0.7107501229414636, 0.7107499610491703, 0.710749799156877, 0.710749583300486, 0.7107491515877039, 0.7107489896954106, 0.7107467232033046, 0.710742783824168, 0.7107422441831904, 1.3876543954796636, 1.3876429550909382, 1.3876441423010888, 0.7107460216700336, 1.3876393934604858, 0.7107456978854472, 0.7107463454546202, 0.7107437551779278, 0.7107517418643964, 0.7107564907049995, 0.7107343114608194, 0.7107292388356299, 1.3876396093168768, 0.7107388444450314, 0.03384684536631606, 0.03384684536631606, 0.03384684536631606, 0.03384684536631606, 0.03384684536631606, 0.03384684536631606, 0.03384684536631606, 0.03384684536631606, 1.370731959523916, 1.370729445652242, 0.7020894677303243, 0.7020879507387969, 0.7020878640535668, 0.7020870838864957, 0.7020850901262025, 0.7020850034409724, 0.7020831830511395, 0.7020825329119135, 0.7020810159203861, 0.7020803657811601, 0.7020799756976245, 0.7020773317981053, 0.7020772017702601, 0.7020769417145697, 0.7020891643320188, 0.7020799756976245, 0.7020757714639628, 0.7020916782036929, 0.7020785453913272, 0.033434222372248884, 0.033434222372248884, 0.033434222372248884, 0.033434222372248884, 0.033434222372248884, 0.033434222372248884, 0.033434222372248884, 0.033434222372248884, 0.033434222372248884, 0.033434222372248884, 0.033434222372248884, 0.033434222372248884, 0.033434222372248884, 0.033434222372248884, 0.033434222372248884, 0.033434222372248884, 0.033434222372248884, 0.033434222372248884, 1.2785542653169895, 1.2785298470920845, 0.6548722928677496, 0.6548691799483495, 0.6548690990933, 0.6548665117317207, 0.6548660670289493, 0.6548621859865803, 0.6548617412838089, 0.6548610540158893, 0.6548457319840368, 0.6548656223261778, 0.6548588305020322, 0.6548564452780762, 1.2785422179146357, 0.6548669968620169, 0.6548511088448189, 0.6548643286453882, 0.6548561622854034, 0.6548480363529434, 0.03118563587908783, 0.03118563587908783, 0.03118563587908783, 0.03118563587908783, 0.03118563587908783, 0.03118563587908783, 0.03118563587908783, 0.03118563587908783, 0.03118563587908783, 0.03118563587908783, 0.03118563840580812, 0.03118563587908783, 0.03118563587908783, 0.03118563587908783, 0.03118563587908783, 0.03118563587908783, 0.03118563587908783, 0.03118563587908783, 0.03118563587908783, 0.03118563587908783, 0.6334510328085646, 0.6334507559248497, 0.6334481255295575, 0.6334481255295575, 0.6334474333202702, 0.6334470872156265, 0.6334461181226241, 0.6334457027970517, 0.6334426570761872, 0.6334391960297503, 0.633432896925235, 0.6334390575878928, 0.633451171250422, 0.633445079808693, 0.6334398190181089, 0.6334443875994057, 0.6334345582275247, 0.6334444568203343, 0.6334419648668999, 0.03016549867251036, 0.03016549867251036, 0.03016549867251036, 0.03016549867251036, 0.03016549867251036, 0.03016549867251036, 0.03016549867251036, 0.03016549867251036, 0.03016549867251036, 0.03016549867251036, 0.03016549867251036, 0.03016550083566438, 0.03016550083566438, 0.03016549867251036, 0.03016549867251036, 0.03016549867251036, 0.03016549867251036, 0.03016549867251036, 0.03016549867251036, 0.03016549867251036, 0.03016549867251036, 0.03016549867251036, 1.2608636037397603, 0.6458121958480011, 0.6458102839931916, 0.6458085086994401, 0.6458083721383823, 0.6458074162109775, 0.6458072113693908, 0.6458059823198705, 0.6458037290624165, 0.6458031145376564, 0.6458003833165, 0.6457971058511124, 0.6457962182042366, 0.6458053677951103, 0.645811513042712, 0.6458077576136221, 0.6458005198775578, 0.030754175413770596, 0.030754175413770596, 0.030754175413770596, 0.030754175413770596, 0.030754175413770596, 0.030754175413770596, 0.030754175413770596, 0.030754175413770596, 0.030754175413770596, 0.030754175413770596, 0.030754175413770596, 0.030754175413770596, 0.030754175413770596, 0.030754177547537127, 0.030754177547537127, 0.030754175413770596, 0.030754175413770596, 0.030754175413770596, 0.030754175413770596, 0.030754175413770596, 0.030754175413770596, 0.030754175413770596, 0.030754175413770596, 0.030754175413770596, 0.030754175413770596, 0.030754175413770596, 0.6451891855024214, 0.6451862522847919, 0.6451839329964336, 0.6451820229942563, 0.6451819547798928, 0.6451803858495329, 0.6451793626340807, 0.6451754744153625, 0.6451736326275486, 0.6451690622651955, 0.6451762929877242, 0.6451853654980666, 0.6451816819224389, 0.6451818183511658, 0.6451712451248268, 0.6451762247733607, 0.6451795672771711, 0.6451806587069867, 0.03072440800510486, 0.03072440800510486, 0.03072440800510486, 0.03072440800510486, 0.03072440800510486, 0.03072440800510486, 0.03072440800510486, 0.03072440800510486, 0.03072440800510486, 0.03072440800510486, 0.03072440800510486, 0.03072440800510486, 0.03072441013680372, 0.03072440800510486, 0.03072440800510486, 0.03072440800510486, 0.03072440800510486, 0.03072440800510486, 0.03072440800510486, 0.03072440800510486, 0.03072440800510486, 0.03072440800510486, 0.03072440800510486, 0.03072440800510486, 0.6072572913825581, 0.607255040308568, 0.6072522435196711, 0.6072512885185843, 0.6072497195882276, 0.6072495149451376, 0.6072493103020475, 0.607246786370604, 0.6072461042269707, 0.6072441942247971, 0.6072439895817072, 0.6072420795795337, 0.6072339620702965, 0.6072498560169542, 0.6072540170931179, 0.6072557906665648, 0.6072409199353569, 0.607246172441334, 0.1430465601898362, 0.13291122745102757, 0.12761418602149988, 0.12192344539396417, 0.10865616953760501, 0.10860822336697347, 0.10697719235916413, 0.10550424813839172, 0.10327183930339033, 0.09866781317140455, 0.09498605375855045, 0.08791282115602914, 0.11241692971000049, 1.2328263331331504, 0.6314649497986426, 0.6314628205415046, 0.6314599815319871, 0.6314593363025514, 0.6314581103666234, 0.6314555294488803, 0.6314539808982343, 0.6314535937605729, 0.6314531420999678, 0.63145281948525, 0.63145281948525, 0.6314526259164193, 0.6314488835856917, 0.6314537873294036, 0.6314472059891586, 0.030070879544186618, 0.030070879544186618, 0.030070879544186618, 0.030070879544186618, 0.030070879544186618, 0.030070879544186618, 0.030070879544186618, 0.030070879544186618, 0.030070879544186618, 0.030070879544186618, 0.030070879544186618, 0.030070879544186618, 0.030070879544186618, 0.030070879544186618, 0.030070881560528603, 0.030070881560528603, 0.030070879544186618, 0.030070879544186618, 0.030070879544186618, 0.030070879544186618, 0.030070879544186618, 0.030070879544186618, 0.030070879544186618, 0.030070879544186618, 0.030070879544186618, 0.030070879544186618, 0.030070879544186618, 0.030070879544186618, 0.5727392551369306, 0.5727386560907817, 0.5727253136992827, 0.572727274213952, 0.5727373490810022, 0.572727001920248, 1.1181827002040554, 0.5727358242362595, 0.5727314675369944, 0.5727287990586947, 0.572729561481066, 0.5727358786950003, 1.1181963148892584, 0.027274535422340356, 0.027274535422340356, 0.027274535422340356, 0.027274535422340356, 0.027274535422340356, 0.027274535422340356, 0.027274535422340356, 0.027274535422340356, 0.027274535422340356, 0.027274535422340356, 0.027274535422340356, 0.027274535422340356, 0.027274535422340356, 0.027274535422340356, 0.027274535422340356, 0.027274535422340356, 0.027274535422340356, 0.027274537124176008, 0.027274537124176008, 0.027274535422340356, 0.027274535422340356, 0.027274535422340356, 0.027274535422340356, 0.027274535422340356, 0.027274535422340356, 0.027274535422340356, 0.027274535422340356, 0.027274535422340356, 0.027274535422340356, 0.027274535422340356, 0.027274535422340356, 0.027274535422340356, 0.027274535422340356, 0.027274535422340356, 0.5470856408017479, 0.547084624476628, 0.547082684219581, 0.547077417807596, 1.0681248090375246, 0.5470797738340103, 0.5470867495200605, 0.5470722437888038, 0.547079219474854, 1.0680808298777908, 0.02605288523100329, 0.02605288523100329, 0.02605288523100329, 0.02605288523100329, 0.02605288523100329, 0.02605288523100329, 0.02605288523100329, 0.02605288523100329, 0.02605288523100329, 0.02605288523100329, 0.02605288523100329, 0.02605288523100329, 0.02605288523100329, 0.02605288523100329, 0.02605288523100329, 0.02605288523100329, 0.02605288523100329, 0.02605288523100329, 0.02605288523100329, 0.02605288523100329, 0.02605288523100329, 0.02605288523100329, 0.02605288523100329, 0.02605288523100329, 0.02605288523100329, 0.02605288523100329, 0.02605288523100329, 0.02605288523100329, 0.02605288523100329, 0.02605288523100329, 0.02605288523100329, 0.02605288523100329, 0.02605288523100329, 0.02605288523100329, 0.02605288523100329, 0.02605288523100329, 0.02605288523100329, 0.02605288523100329, 0.02605288523100329, 0.02605288523100329, 0.5034133889035328, 0.5034084439409471, 0.503408015637101, 0.503405173257032, 0.5034022140668233, 0.5034015910794108, 0.5034121039919948, 0.5034117924982886, 0.5034095341689186, 0.503405173257032, 0.02397308614109155, 0.02397308614109155, 0.02397308614109155, 0.02397308614109155, 0.02397308614109155, 0.02397308614109155, 0.02397308614109155, 0.02397308614109155, 0.02397308614109155, 0.02397308614109155, 0.02397308614109155, 0.02397308614109155, 0.02397308614109155, 0.02397308614109155, 0.02397308614109155, 0.02397308614109155, 0.02397308614109155, 0.02397308614109155, 0.02397308614109155, 0.02397308614109155, 0.023973088574636127, 0.023973088574636127, 0.023973088574636127, 0.02397308614109155, 0.02397308614109155, 0.02397308614109155, 0.02397308614109155, 0.02397308614109155, 0.02397308614109155, 0.02397308614109155, 0.02397308614109155, 0.02397308614109155, 0.02397308614109155, 0.02397308614109155, 0.02397308614109155, 0.02397308614109155, 0.02397308614109155, 0.02397308614109155, 0.02397308614109155, 0.02397308614109155, 0.48894374791672696, 0.4889398322315053, 0.48893883613614186, 0.48893794308512634, 0.4889325847790335, 0.48892942475236334, 0.4889434387836831, 0.48894034745324494, 0.023283980290498222, 0.023283980290498222, 0.023283980290498222, 0.023283980290498222, 0.023283980290498222, 0.023283980290498222, 0.023283980290498222, 0.023283980290498222, 0.023283980290498222, 0.023283980290498222, 0.023283980290498222, 0.023283980290498222, 0.023283980290498222, 0.023283980290498222, 0.023283980290498222, 0.023283980290498222, 0.023283980290498222, 0.023283980290498222, 0.023283980290498222, 0.023283980290498222, 0.023283980290498222, 0.023283980290498222, 0.02328398243725547, 0.02328398243725547, 0.023283980290498222, 0.023283980290498222, 0.023283980290498222, 0.023283980290498222, 0.023283980290498222, 0.023283980290498222, 0.023283980290498222, 0.023283980290498222, 0.023283980290498222, 0.023283980290498222, 0.023283980290498222, 0.023283980290498222, 0.023283980290498222, 0.023283980290498222, 0.023283980290498222, 0.023283980290498222, 0.023283980290498222, 0.023283980290498222, 0.023283980290498222, 0.023283980290498222, 0.4277764412016456, 0.42777225375214445, 0.42777001144047605, 0.4277776028811846, 0.427769768298247, 0.42776401393215824, 0.02037117018433706, 0.02037117018433706, 0.02037117018433706, 0.02037117018433706, 0.02037117018433706, 0.02037117018433706, 0.02037117018433706, 0.02037117018433706, 0.02037117018433706, 0.02037117018433706, 0.02037117018433706, 0.02037117018433706, 0.02037117018433706, 0.02037117018433706, 0.02037117018433706, 0.02037117018433706, 0.02037117018433706, 0.02037117018433706, 0.02037117018433706, 0.02037117018433706, 0.02037117018433706, 0.02037117018433706, 0.02037117018433706, 0.02037117018433706, 0.020371171872824764, 0.020371171872824764, 0.02037117018433706, 0.02037117018433706, 0.02037117018433706, 0.02037117018433706, 0.02037117018433706, 0.02037117018433706, 0.02037117018433706, 0.02037117018433706, 0.02037117018433706, 0.02037117018433706, 0.02037117018433706, 0.02037117018433706, 0.02037117018433706, 0.02037117018433706, 0.02037117018433706, 0.02037117018433706, 0.02037117018433706, 0.02037117018433706, 0.02037117018433706, 0.02037117018433706, 0.3922254942010507, 0.3922241615861053, 0.3922225951790642, 0.3922198831907543, 0.39222603192287075, 0.018678312447983535, 0.018678312447983535, 0.018678312447983535, 0.018678312447983535, 0.018678312447983535, 0.018678312447983535, 0.018678312447983535, 0.018678312447983535, 0.018678312447983535, 0.018678312447983535, 0.018678312447983535, 0.018678312447983535, 0.018678312447983535, 0.018678312447983535, 0.018678312447983535, 0.018678312447983535, 0.018678312447983535, 0.018678312447983535, 0.018678312447983535, 0.018678312447983535, 0.018678312447983535, 0.018678312447983535, 0.018678312447983535, 0.018678312447983535, 0.018678312447983535, 0.018678313909184133, 0.018678312447983535, 0.018678312447983535, 0.018678312447983535, 0.018678312447983535, 0.018678312447983535, 0.018678312447983535, 0.018678312447983535, 0.018678312447983535, 0.018678312447983535, 0.018678312447983535, 0.018678312447983535, 0.018678312447983535, 0.018678312447983535, 0.018678312447983535, 0.018678312447983535, 0.018678312447983535, 0.018678312447983535, 0.018678312447983535, 0.018678312447983535, 0.018678312447983535, 0.39222713033827816, 0.39222701344223043, 0.39222063091802495, 0.39222009319620543, 0.3922165395563547, 0.018678343113793187, 0.018678343113793187, 0.018678343113793187, 0.018678343113793187, 0.018678343113793187, 0.018678343113793187, 0.018678343113793187, 0.018678343113793187, 0.018678343113793187, 0.018678343113793187, 0.018678343113793187, 0.018678343113793187, 0.018678343113793187, 0.018678343113793187, 0.018678343113793187, 0.018678343113793187, 0.018678343113793187, 0.018678343113793187, 0.018678343113793187, 0.018678343113793187, 0.018678343113793187, 0.018678343113793187, 0.018678343113793187, 0.018678343113793187, 0.018678343113793187, 0.01867834457499378, 0.01867834457499378, 0.018678343113793187, 0.018678343113793187, 0.018678343113793187, 0.018678343113793187, 0.018678343113793187, 0.018678343113793187, 0.018678343113793187, 0.018678343113793187, 0.018678343113793187, 0.018678343113793187, 0.018678343113793187, 0.018678343113793187, 0.018678343113793187, 0.018678343113793187, 0.018678343113793187, 0.018678343113793187, 0.018678343113793187, 0.018678343113793187, 0.018678343113793187, 0.018678343113793187, 0.018678343113793187, 0.3528111812818793, 0.3528073838873252, 0.35280663231965304, 0.3528100341522744, 0.01680132127018777, 0.01680132127018777, 0.01680132127018777, 0.01680132127018777, 0.01680132127018777, 0.01680132127018777, 0.01680132127018777, 0.01680132127018777, 0.01680132127018777, 0.01680132127018777, 0.01680132127018777, 0.01680132127018777, 0.01680132127018777, 0.01680132127018777, 0.01680132127018777, 0.01680132127018777, 0.01680132127018777, 0.01680132127018777, 0.01680132127018777, 0.01680132127018777, 0.01680132127018777, 0.01680132127018777, 0.01680132127018777, 0.01680132127018777, 0.01680132127018777, 0.01680132127018777, 0.016801323742449848, 0.01680132127018777, 0.01680132127018777, 0.01680132127018777, 0.01680132127018777, 0.01680132127018777, 0.01680132127018777, 0.01680132127018777, 0.01680132127018777, 0.01680132127018777, 0.01680132127018777, 0.01680132127018777, 0.01680132127018777, 0.01680132127018777, 0.01680132127018777, 0.01680132127018777, 0.01680132127018777, 0.01680132127018777, 0.01680132127018777, 0.01680132127018777, 0.01680132127018777, 0.01680132127018777, 0.01680132127018777, 0.008937054643075924, 0.008937054643075924, 0.008937054643075924, 0.008937054643075924, 0.008937054643075924, 0.008937054643075924, 0.008937054643075924, 0.008937054643075924, 0.008937054643075924, 0.008937054643075924, 0.008937054643075924, 0.008937054643075924, 0.008937054643075924, 0.008937054643075924, 0.008937054643075924, 0.008937054643075924, 0.008937054643075924, 0.008937054643075924, 0.008937054643075924, 0.008937054643075924, 0.008937054643075924, 0.008937054643075924, 0.008937054643075924, 0.008937054643075924, 0.008937054643075924, 0.008937054643075924, 0.008937054643075924, 0.008937054643075924, 0.008937054643075924, 0.008937054643075924, 0.008937054643075924, 0.008937054643075924, 0.008937054643075924, 0.008937054643075924, 0.008937054643075924, 0.008937054643075924, 0.008937054643075924, 0.008937054643075924, 0.008937054643075924, 0.008937054643075924, 0.008937054643075924, 0.008937054643075924, 0.008937054643075924, 0.008937054643075924, 0.008937054643075924, 0.008937054643075924, 0.008937054643075924, 0.008937054643075924, 0.008937054643075924, 0.008937054643075924, 0.008937054643075924, 0.008937054643075924, 0.008937054643075924, 0.008937054643075924, 0.008937054643075924, 0.008937054643075924], \"Total\": [6.0, 10.0, 3.0, 3.0, 2.0, 2.0, 3.0, 3.0, 2.0, 5.0, 2.0, 3.0, 1.0, 1.0, 1.0, 1.0, 2.0, 2.0, 2.0, 1.0, 2.0, 1.0, 1.0, 1.0, 1.0, 1.0, 1.0, 1.0, 1.0, 1.0, 1.2920781384473707, 1.2920776595927077, 1.2920776595927077, 1.2920771123302357, 1.2920751969115833, 1.2920745128334934, 1.2920737603475942, 1.292073555124167, 1.2920707504039979, 1.2920704083649528, 1.2920692454321996, 1.2920663038964122, 1.292064456885569, 1.2745156493020386, 1.2724080066730237, 1.2713111385875244, 1.2699421368758526, 1.269276996144642, 1.268838284142646, 1.2683570872316716, 1.268346818356836, 1.2643870924859708, 1.2626958096276817, 1.2611179346595716, 1.2580913313137314, 1.628082815268726, 1.665618856999817, 1.895349517257182, 1.9689672497687554, 1.9689681298502226, 3.744994235479226, 1.992690781978708, 2.376384192850076, 2.813585484164584, 4.680212028793482, 5.304986802956245, 6.912651360285557, 10.119060041326858, 1.2599509666605164, 1.2599505668705637, 1.2599487678157757, 1.2599480348675287, 1.2599473019192817, 1.259947235287623, 1.259944036968, 1.2599437704413647, 1.2599426377031648, 1.2599425044398473, 1.2599419713865767, 1.2599417048599415, 1.2599400390684712, 1.259938306645342, 1.2599375070654364, 1.259934375377472, 1.2599307772678963, 1.2599302442146256, 1.2599203160974626, 2.5815096413767122, 1.6334942171457139, 1.8382768196633152, 1.861323561732595, 1.8744071776367188, 1.8749926217934405, 1.8836137136287883, 1.9368317620001092, 2.1883759383648944, 6.912651360285557, 10.119060041326858, 4.680212028793482, 3.5896104777901887, 5.304986802956245, 1.9428765754118682, 1.2422491286808945, 1.2422485179331608, 1.2422477239611072, 1.242246380316093, 1.2422461360169994, 1.2422448534467587, 1.2422425326053705, 1.2422411889603564, 1.2422396010162489, 1.2422382573712347, 1.2422377687730477, 1.2422370969505407, 1.2422367305019004, 1.2422355700812064, 1.242234348585739, 1.2422342264361923, 1.2422342264361923, 1.242233188165045, 5.304986802956245, 3.5896104777901887, 1.8566970161723553, 1.856690278858059, 1.9108940269594428, 1.992690781978708, 3.633725345641388, 3.7365625348000036, 4.680212028793482, 10.119060041326858, 6.912651360285557, 1.2185364094350946, 1.218535438081335, 1.2185336572661087, 1.2185283148204302, 1.218528152928137, 1.2185279910358437, 1.2185277751794528, 1.2185273434666706, 1.2185271815743772, 1.2185249150822712, 1.2185209757031348, 1.218520436062157, 2.440893876172549, 2.440875410606259, 2.4408792662947096, 1.8329760985316197, 3.744994235479226, 1.9368317620001092, 1.9689681298502226, 1.9689672497687554, 2.3428281812280587, 2.376384192850076, 3.633725345641388, 4.680212028793482, 10.119060041326858, 6.912651360285557, 0.8776303482947481, 0.8776310998624203, 0.8776348972569744, 0.915166787327695, 1.861323561732595, 1.7443804908342464, 1.1430096871499764, 1.1430081385993305, 1.8789227743969497, 1.8789202605252757, 1.210280282603358, 1.2102787656118308, 1.2102786789266007, 1.2102778987595295, 1.2102759049992362, 1.210275818314006, 1.2102739979241732, 1.2102733477849472, 1.21027183079342, 1.210271180654194, 1.2102707905706582, 1.2102681466711391, 1.210268016643294, 1.2102677565876034, 1.7557324457029604, 1.9108940269594428, 3.7365625348000036, 4.680212028793482, 10.119060041326858, 0.8776303482947481, 0.8776310998624203, 0.8776348972569744, 0.915166787327695, 0.9151673250495145, 0.9151737075737201, 0.9151738244697678, 0.9490238785014219, 0.9490261208130903, 1.2185336572661087, 6.912651360285557, 1.2185271815743772, 2.376384192850076, 1.9368317620001092, 1.218535438081335, 1.2185283148204302, 1.2185277751794528, 3.744994235479226, 1.7889936666831843, 1.7889692484582793, 1.1653116942339445, 1.1653085813145445, 1.165308500459495, 1.1653059130979158, 1.1653054683951443, 1.1653015873527752, 1.165301142650004, 1.1653004553820843, 1.1652851333502319, 1.7107678373510347, 1.7436342383645065, 1.8836137136287883, 3.7365625348000036, 2.6987464578492206, 3.4079147155156946, 3.633725345641388, 4.680212028793482, 6.912651360285557, 0.8776303482947481, 0.8776310998624203, 0.8776348972569744, 0.915166787327695, 0.9151673250495145, 0.9151737075737201, 0.9151738244697678, 0.9490238785014219, 0.9490261208130903, 0.9490303082625915, 10.119060041326858, 1.2185336572661087, 1.2185271815743772, 2.376384192850076, 1.9368317620001092, 1.218535438081335, 1.2185283148204302, 1.2185277751794528, 3.744994235479226, 1.2185209757031348, 1.144910571381337, 1.1449102944976222, 1.14490766410233, 1.14490766410233, 1.1449069718930427, 1.1449066257883989, 1.1449056566953966, 1.1449052413698242, 1.1449021956489596, 1.1448987346025228, 1.1448924354980075, 1.61055805465385, 1.6243497276740977, 1.7232364638015811, 1.895349517257182, 2.3428281812280587, 2.5815096413767122, 3.4079147155156946, 10.119060041326858, 0.8776303482947481, 0.8776310998624203, 0.8776348972569744, 0.915166787327695, 0.9151673250495145, 0.9151737075737201, 0.9151738244697678, 0.9490238785014219, 0.9490261208130903, 0.9490303082625915, 1.007270481707148, 6.912651360285557, 4.680212028793482, 1.2185336572661087, 1.2185271815743772, 2.376384192850076, 1.9368317620001092, 1.218535438081335, 1.2185283148204302, 1.2185277751794528, 3.744994235479226, 1.2185209757031348, 1.7717344655712723, 1.1566830576795133, 1.1566811458247037, 1.1566793705309522, 1.1566792339698944, 1.1566782780424896, 1.156678073200903, 1.1566768441513826, 1.1566745908939287, 1.1566739763691685, 1.1566712451480121, 1.1566679676826246, 1.1566670800357488, 1.6223325967893691, 1.636121081231421, 1.8749926217934405, 10.119060041326858, 0.8776303482947481, 0.8776310998624203, 0.8776348972569744, 0.915166787327695, 0.9151673250495145, 0.9151737075737201, 0.9151738244697678, 0.9490238785014219, 0.9490261208130903, 0.9490303082625915, 1.007270481707148, 1.0072736417338182, 1.007279000039911, 6.912651360285557, 4.680212028793482, 1.2185336572661087, 1.2185271815743772, 2.376384192850076, 1.9368317620001092, 1.218535438081335, 1.2185283148204302, 1.2185277751794528, 3.744994235479226, 1.2185209757031348, 1.218528152928137, 3.633725345641388, 1.1560898147425993, 1.1560868815249696, 1.1560845622366114, 1.156082652234434, 1.1560825840200706, 1.1560810150897107, 1.1560799918742586, 1.1560761036555403, 1.1560742618677264, 1.1560696915053734, 1.8329760985316197, 1.8566970161723553, 1.856690278858059, 1.8744071776367188, 2.6987464578492206, 3.4079147155156946, 5.304986802956245, 10.119060041326858, 0.8776303482947481, 0.8776310998624203, 0.8776348972569744, 0.915166787327695, 0.9151673250495145, 0.9151737075737201, 0.9151738244697678, 0.9490238785014219, 0.9490261208130903, 0.9490303082625915, 1.007270481707148, 1.0072736417338182, 4.680212028793482, 1.2185336572661087, 6.912651360285557, 1.2185271815743772, 2.376384192850076, 1.9368317620001092, 1.218535438081335, 1.2185283148204302, 1.2185277751794528, 3.744994235479226, 1.2185209757031348, 1.218528152928137, 1.1199643180310022, 1.119962066957012, 1.1199592701681151, 1.1199583151670285, 1.1199567462366717, 1.1199565415935817, 1.1199563369504917, 1.119953813019048, 1.1199531308754147, 1.1199512208732412, 1.1199510162301514, 1.1199491062279778, 1.1199409887187406, 1.7232364638015811, 1.7436342383645065, 1.8382768196633152, 3.7365625348000036, 5.304986802956245, 1.2580913313137314, 1.2611179346595716, 1.2626958096276817, 1.2643870924859708, 1.268346818356836, 1.2683570872316716, 1.268838284142646, 1.269276996144642, 1.2699421368758526, 1.2713111385875244, 1.2724080066730237, 1.2745156493020386, 3.744994235479226, 1.7443804908342464, 1.1430191074997387, 1.1430169782426007, 1.1430141392330833, 1.1430134940036474, 1.1430122680677195, 1.1430096871499764, 1.1430081385993305, 1.143007751461669, 1.1430072998010639, 1.143006977186346, 1.143006977186346, 1.1430067836175153, 1.1430030412867878, 1.6884606838221115, 1.861323561732595, 0.8776303482947481, 0.8776310998624203, 0.8776348972569744, 0.915166787327695, 0.9151673250495145, 0.9151737075737201, 0.9151738244697678, 0.9490238785014219, 0.9490261208130903, 0.9490303082625915, 1.007270481707148, 1.0072736417338182, 1.007279000039911, 1.0072798930909266, 6.912651360285557, 10.119060041326858, 1.2185336572661087, 1.2185271815743772, 2.376384192850076, 1.9368317620001092, 1.218535438081335, 1.2185283148204302, 1.2185277751794528, 3.744994235479226, 1.2185209757031348, 1.218528152928137, 3.633725345641388, 2.440893876172549, 1.0870897569598728, 1.0870891579137238, 1.0870758155222249, 1.6884606838221115, 1.7107678373510347, 1.7557324457029604, 3.633725345641388, 2.440893876172549, 2.4408792662947096, 2.440875410606259, 2.6987464578492206, 3.4079147155156946, 6.912651360285557, 0.8776303482947481, 0.8776310998624203, 0.8776348972569744, 0.915166787327695, 0.9151673250495145, 0.9151737075737201, 0.9151738244697678, 0.9490238785014219, 0.9490261208130903, 0.9490303082625915, 1.007270481707148, 1.0072736417338182, 1.007279000039911, 1.0072798930909266, 1.0072808891862899, 1.0072848048715115, 1.0210541651710145, 4.680212028793482, 10.119060041326858, 1.2185336572661087, 1.2185271815743772, 2.376384192850076, 1.9368317620001092, 1.218535438081335, 1.2185283148204302, 1.2185277751794528, 3.744994235479226, 1.2185209757031348, 1.218528152928137, 1.861323561732595, 1.7443804908342464, 1.1430096871499764, 1.1430081385993305, 1.1430169782426007, 1.0626577928160275, 1.0626567764909074, 1.0626548362338604, 1.0626495698218754, 2.813585484164584, 1.542080430786609, 2.1883759383648944, 2.3428281812280587, 3.5896104777901887, 10.119060041326858, 0.8776303482947481, 0.8776310998624203, 0.8776348972569744, 0.915166787327695, 0.9151673250495145, 0.9151737075737201, 0.9151738244697678, 0.9490238785014219, 0.9490261208130903, 0.9490303082625915, 1.007270481707148, 1.0072736417338182, 1.007279000039911, 1.0072798930909266, 1.0072808891862899, 1.0072848048715115, 1.0210541651710145, 1.0210571243612234, 1.0210599667412923, 1.0210603950451385, 1.2185336572661087, 6.912651360285557, 1.2185271815743772, 2.376384192850076, 1.9368317620001092, 1.218535438081335, 1.2185283148204302, 1.2185277751794528, 3.744994235479226, 1.2185209757031348, 1.218528152928137, 3.633725345641388, 1.861323561732595, 1.7443804908342464, 1.1430096871499764, 1.1430081385993305, 1.1430169782426007, 1.1430141392330833, 1.1430030412867878, 2.440893876172549, 1.021065340007724, 1.0210603950451385, 1.0210599667412923, 1.0210571243612234, 1.0210541651710145, 1.542080430786609, 1.6243497276740977, 1.636121081231421, 2.813585484164584, 3.4079147155156946, 0.8776303482947481, 0.8776310998624203, 0.8776348972569744, 0.915166787327695, 0.9151673250495145, 0.9151737075737201, 0.9151738244697678, 0.9490238785014219, 0.9490261208130903, 0.9490303082625915, 1.007270481707148, 1.0072736417338182, 1.007279000039911, 1.0072798930909266, 1.0072808891862899, 1.0072848048715115, 1.0626495698218754, 1.0626548362338604, 1.0626567764909074, 1.0626577928160275, 6.912651360285557, 4.680212028793482, 10.119060041326858, 1.2185336572661087, 1.2185271815743772, 2.376384192850076, 1.9368317620001092, 1.218535438081335, 1.2185283148204302, 1.2185277751794528, 3.744994235479226, 1.2185209757031348, 1.218528152928137, 3.633725345641388, 1.861323561732595, 1.7443804908342464, 1.1430096871499764, 1.1430081385993305, 1.1430169782426007, 1.1430141392330833, 1.0072848048715115, 1.0072808891862899, 1.0072798930909266, 1.007279000039911, 1.0072736417338182, 1.007270481707148, 1.61055805465385, 1.6223325967893691, 0.8776303482947481, 0.8776310998624203, 0.8776348972569744, 0.915166787327695, 0.9151673250495145, 0.9151737075737201, 0.9151738244697678, 0.9490238785014219, 0.9490261208130903, 0.9490303082625915, 1.0210541651710145, 1.0210571243612234, 1.0210599667412923, 1.0210603950451385, 1.021065340007724, 1.0626495698218754, 1.0626548362338604, 1.0626567764909074, 1.0626577928160275, 1.0870758155222249, 1.0870891579137238, 1.0870897569598728, 4.680212028793482, 10.119060041326858, 1.2185336572661087, 6.912651360285557, 1.2185271815743772, 2.376384192850076, 1.9368317620001092, 1.218535438081335, 1.2185283148204302, 1.2185277751794528, 3.744994235479226, 1.2185209757031348, 1.218528152928137, 3.633725345641388, 1.861323561732595, 1.7443804908342464, 1.1430096871499764, 1.1430081385993305, 1.1430169782426007, 1.1430141392330833, 1.1430030412867878, 2.440893876172549, 0.9490303082625915, 0.9490261208130903, 0.9490238785014219, 2.1883759383648944, 2.376384192850076, 3.5896104777901887, 0.8776303482947481, 0.8776310998624203, 0.8776348972569744, 0.915166787327695, 0.9151673250495145, 0.9151737075737201, 0.9151738244697678, 1.007270481707148, 1.0072736417338182, 1.007279000039911, 1.0072798930909266, 1.0072808891862899, 1.0072848048715115, 1.0210541651710145, 1.0210571243612234, 1.0210599667412923, 1.0210603950451385, 1.021065340007724, 1.0626495698218754, 1.0626548362338604, 1.0626567764909074, 1.0626577928160275, 1.0870758155222249, 1.0870891579137238, 6.912651360285557, 10.119060041326858, 1.2185336572661087, 1.2185271815743772, 1.9368317620001092, 1.218535438081335, 1.2185283148204302, 1.2185277751794528, 3.744994235479226, 1.2185209757031348, 1.218528152928137, 3.633725345641388, 1.861323561732595, 1.7443804908342464, 1.1430096871499764, 1.1430081385993305, 1.1430169782426007, 1.1430141392330833, 1.1430030412867878, 2.440893876172549, 2.440875410606259, 1.542080430786609, 1.6334942171457139, 1.665618856999817, 3.744994235479226, 6.912651360285557, 10.119060041326858, 0.8776303482947481, 0.8776310998624203, 0.8776348972569744, 0.915166787327695, 0.9151673250495145, 0.9151737075737201, 0.9151738244697678, 0.9490238785014219, 0.9490261208130903, 0.9490303082625915, 1.007270481707148, 1.0072736417338182, 1.007279000039911, 1.0072798930909266, 1.0072808891862899, 1.0072848048715115, 1.0210541651710145, 1.0210571243612234, 1.0210599667412923, 1.0210603950451385, 1.021065340007724, 1.0626495698218754, 1.0626548362338604, 1.0626567764909074, 1.0626577928160275, 4.680212028793482, 1.2185336572661087, 1.2185271815743772, 2.376384192850076, 1.9368317620001092, 1.218535438081335, 1.2185283148204302, 1.2185277751794528, 1.2185209757031348, 1.218528152928137, 3.633725345641388, 1.861323561732595, 1.7443804908342464, 1.1430096871499764, 1.1430081385993305, 1.1430169782426007, 1.1430141392330833, 1.1430030412867878, 2.440893876172549, 2.440875410606259, 1.542080430786609, 0.9151738244697678, 0.9151737075737201, 0.9151673250495145, 0.915166787327695, 2.6987464578492206, 0.8776303482947481, 0.8776310998624203, 0.8776348972569744, 0.9490238785014219, 0.9490261208130903, 0.9490303082625915, 1.007270481707148, 1.0072736417338182, 1.007279000039911, 1.0072798930909266, 1.0072808891862899, 1.0072848048715115, 1.0210541651710145, 1.0210571243612234, 1.0210599667412923, 1.0210603950451385, 1.021065340007724, 1.0626495698218754, 1.0626548362338604, 1.0626567764909074, 1.0626577928160275, 1.0870758155222249, 1.0870891579137238, 1.0870897569598728, 1.1199409887187406, 6.912651360285557, 10.119060041326858, 1.2185336572661087, 1.2185271815743772, 2.376384192850076, 1.9368317620001092, 1.218535438081335, 1.2185283148204302, 1.2185277751794528, 3.744994235479226, 1.2185209757031348, 1.218528152928137, 3.633725345641388, 1.861323561732595, 1.7443804908342464, 1.1430096871499764, 1.1430081385993305, 1.1430169782426007, 1.1430141392330833, 1.1430030412867878, 2.440893876172549, 2.440875410606259, 1.542080430786609, 0.8776348972569744, 0.8776310998624203, 0.8776303482947481, 1.628082815268726, 0.915166787327695, 0.9151673250495145, 0.9151737075737201, 0.9151738244697678, 0.9490238785014219, 0.9490261208130903, 0.9490303082625915, 1.007270481707148, 1.0072736417338182, 1.007279000039911, 1.0072798930909266, 1.0072808891862899, 1.0072848048715115, 1.0210541651710145, 1.0210571243612234, 1.0210599667412923, 1.0210603950451385, 1.021065340007724, 1.0626495698218754, 1.0626548362338604, 1.0626567764909074, 1.0626577928160275, 1.0870758155222249, 1.0870891579137238, 1.0870897569598728, 1.1199409887187406, 10.119060041326858, 1.2185336572661087, 6.912651360285557, 1.2185271815743772, 2.376384192850076, 1.9368317620001092, 1.218535438081335, 1.2185283148204302, 1.2185277751794528, 3.744994235479226, 1.2185209757031348, 1.218528152928137, 3.633725345641388, 1.861323561732595, 1.7443804908342464, 1.1430096871499764, 1.1430081385993305, 1.1430169782426007, 1.1430141392330833, 1.1430030412867878, 2.440893876172549, 2.440875410606259, 1.542080430786609, 0.8776303482947481, 0.8776310998624203, 0.8776348972569744, 0.915166787327695, 0.9151673250495145, 0.9151737075737201, 0.9151738244697678, 0.9490238785014219, 0.9490261208130903, 0.9490303082625915, 1.007270481707148, 1.0072736417338182, 1.007279000039911, 1.0072798930909266, 1.0072808891862899, 1.0072848048715115, 1.0210541651710145, 1.0210571243612234, 1.0210599667412923, 1.0210603950451385, 1.021065340007724, 1.0626495698218754, 1.0626548362338604, 1.0626567764909074, 1.0626577928160275, 1.0870758155222249, 1.0870891579137238, 1.0870897569598728, 1.1199409887187406, 1.1199491062279778, 1.2185336572661087, 6.912651360285557, 1.2185271815743772, 2.376384192850076, 1.9368317620001092, 1.218535438081335, 1.2185283148204302, 1.2185277751794528, 3.744994235479226, 1.2185209757031348, 1.218528152928137, 3.633725345641388, 1.861323561732595, 1.7443804908342464, 1.1430096871499764, 1.1430081385993305, 1.1430169782426007, 1.1430141392330833, 1.1430030412867878, 2.440893876172549, 2.440875410606259, 1.542080430786609, 1.636121081231421, 2.1883759383648944, 3.5896104777901887, 1.2599307772678963], \"Category\": [\"Default\", \"Default\", \"Default\", \"Default\", \"Default\", \"Default\", \"Default\", \"Default\", \"Default\", \"Default\", \"Default\", \"Default\", \"Default\", \"Default\", \"Default\", \"Default\", \"Default\", \"Default\", \"Default\", \"Default\", \"Default\", \"Default\", \"Default\", \"Default\", \"Default\", \"Default\", \"Default\", \"Default\", \"Default\", \"Default\", \"Topic1\", \"Topic1\", \"Topic1\", \"Topic1\", \"Topic1\", \"Topic1\", \"Topic1\", \"Topic1\", \"Topic1\", \"Topic1\", \"Topic1\", \"Topic1\", \"Topic1\", \"Topic1\", \"Topic1\", \"Topic1\", \"Topic1\", \"Topic1\", \"Topic1\", \"Topic1\", \"Topic1\", \"Topic1\", \"Topic1\", \"Topic1\", \"Topic1\", \"Topic1\", \"Topic1\", \"Topic1\", \"Topic1\", \"Topic1\", \"Topic1\", \"Topic1\", \"Topic1\", \"Topic1\", \"Topic1\", \"Topic1\", \"Topic1\", \"Topic1\", \"Topic2\", \"Topic2\", \"Topic2\", \"Topic2\", \"Topic2\", \"Topic2\", \"Topic2\", \"Topic2\", \"Topic2\", \"Topic2\", \"Topic2\", \"Topic2\", \"Topic2\", \"Topic2\", \"Topic2\", \"Topic2\", \"Topic2\", \"Topic2\", \"Topic2\", \"Topic2\", \"Topic2\", \"Topic2\", \"Topic2\", \"Topic2\", \"Topic2\", \"Topic2\", \"Topic2\", \"Topic2\", \"Topic2\", \"Topic2\", \"Topic2\", \"Topic2\", \"Topic2\", \"Topic3\", \"Topic3\", \"Topic3\", \"Topic3\", \"Topic3\", \"Topic3\", \"Topic3\", \"Topic3\", \"Topic3\", \"Topic3\", \"Topic3\", \"Topic3\", \"Topic3\", \"Topic3\", \"Topic3\", \"Topic3\", \"Topic3\", \"Topic3\", \"Topic3\", \"Topic3\", \"Topic3\", \"Topic3\", \"Topic3\", \"Topic3\", \"Topic3\", \"Topic3\", \"Topic3\", \"Topic3\", \"Topic3\", \"Topic3\", \"Topic4\", \"Topic4\", \"Topic4\", \"Topic4\", \"Topic4\", \"Topic4\", \"Topic4\", \"Topic4\", \"Topic4\", \"Topic4\", \"Topic4\", \"Topic4\", \"Topic4\", \"Topic4\", \"Topic4\", \"Topic4\", \"Topic4\", \"Topic4\", \"Topic4\", \"Topic4\", \"Topic4\", \"Topic4\", \"Topic4\", \"Topic4\", \"Topic4\", \"Topic4\", \"Topic4\", \"Topic4\", \"Topic4\", \"Topic4\", \"Topic4\", \"Topic4\", \"Topic4\", \"Topic4\", \"Topic5\", \"Topic5\", \"Topic5\", \"Topic5\", \"Topic5\", \"Topic5\", \"Topic5\", \"Topic5\", \"Topic5\", \"Topic5\", \"Topic5\", \"Topic5\", \"Topic5\", \"Topic5\", \"Topic5\", \"Topic5\", \"Topic5\", \"Topic5\", \"Topic5\", \"Topic5\", \"Topic5\", \"Topic5\", \"Topic5\", \"Topic5\", \"Topic5\", \"Topic5\", \"Topic5\", \"Topic5\", \"Topic5\", \"Topic5\", \"Topic5\", \"Topic5\", \"Topic5\", \"Topic5\", \"Topic5\", \"Topic5\", \"Topic5\", \"Topic5\", \"Topic5\", \"Topic6\", \"Topic6\", \"Topic6\", \"Topic6\", \"Topic6\", \"Topic6\", \"Topic6\", \"Topic6\", \"Topic6\", \"Topic6\", \"Topic6\", \"Topic6\", \"Topic6\", \"Topic6\", \"Topic6\", \"Topic6\", \"Topic6\", \"Topic6\", \"Topic6\", \"Topic6\", \"Topic6\", \"Topic6\", \"Topic6\", \"Topic6\", \"Topic6\", \"Topic6\", \"Topic6\", \"Topic6\", \"Topic6\", \"Topic6\", \"Topic6\", \"Topic6\", \"Topic6\", \"Topic6\", \"Topic6\", \"Topic6\", \"Topic6\", \"Topic6\", \"Topic6\", \"Topic6\", \"Topic7\", \"Topic7\", \"Topic7\", \"Topic7\", \"Topic7\", \"Topic7\", \"Topic7\", \"Topic7\", \"Topic7\", \"Topic7\", \"Topic7\", \"Topic7\", \"Topic7\", \"Topic7\", \"Topic7\", \"Topic7\", \"Topic7\", \"Topic7\", \"Topic7\", \"Topic7\", \"Topic7\", \"Topic7\", \"Topic7\", \"Topic7\", \"Topic7\", \"Topic7\", \"Topic7\", \"Topic7\", \"Topic7\", \"Topic7\", \"Topic7\", \"Topic7\", \"Topic7\", \"Topic7\", \"Topic7\", \"Topic7\", \"Topic7\", \"Topic7\", \"Topic7\", \"Topic7\", \"Topic7\", \"Topic8\", \"Topic8\", \"Topic8\", \"Topic8\", \"Topic8\", \"Topic8\", \"Topic8\", \"Topic8\", \"Topic8\", \"Topic8\", \"Topic8\", \"Topic8\", \"Topic8\", \"Topic8\", \"Topic8\", \"Topic8\", \"Topic8\", \"Topic8\", \"Topic8\", \"Topic8\", \"Topic8\", \"Topic8\", \"Topic8\", \"Topic8\", \"Topic8\", \"Topic8\", \"Topic8\", \"Topic8\", \"Topic8\", \"Topic8\", \"Topic8\", \"Topic8\", \"Topic8\", \"Topic8\", \"Topic8\", \"Topic8\", \"Topic8\", \"Topic8\", \"Topic8\", \"Topic8\", \"Topic8\", \"Topic8\", \"Topic8\", \"Topic9\", \"Topic9\", \"Topic9\", \"Topic9\", \"Topic9\", \"Topic9\", \"Topic9\", \"Topic9\", \"Topic9\", \"Topic9\", \"Topic9\", \"Topic9\", \"Topic9\", \"Topic9\", \"Topic9\", \"Topic9\", \"Topic9\", \"Topic9\", \"Topic9\", \"Topic9\", \"Topic9\", \"Topic9\", \"Topic9\", \"Topic9\", \"Topic9\", \"Topic9\", \"Topic9\", \"Topic9\", \"Topic9\", \"Topic9\", \"Topic9\", \"Topic9\", \"Topic9\", \"Topic9\", \"Topic9\", \"Topic9\", \"Topic9\", \"Topic9\", \"Topic9\", \"Topic9\", \"Topic9\", \"Topic9\", \"Topic10\", \"Topic10\", \"Topic10\", \"Topic10\", \"Topic10\", \"Topic10\", \"Topic10\", \"Topic10\", \"Topic10\", \"Topic10\", \"Topic10\", \"Topic10\", \"Topic10\", \"Topic10\", \"Topic10\", \"Topic10\", \"Topic10\", \"Topic10\", \"Topic10\", \"Topic10\", \"Topic10\", \"Topic10\", \"Topic10\", \"Topic10\", \"Topic10\", \"Topic10\", \"Topic10\", \"Topic10\", \"Topic10\", \"Topic10\", \"Topic10\", \"Topic11\", \"Topic11\", \"Topic11\", \"Topic11\", \"Topic11\", \"Topic11\", \"Topic11\", \"Topic11\", \"Topic11\", \"Topic11\", \"Topic11\", \"Topic11\", \"Topic11\", \"Topic11\", \"Topic11\", \"Topic11\", \"Topic11\", \"Topic11\", \"Topic11\", \"Topic11\", \"Topic11\", \"Topic11\", \"Topic11\", \"Topic11\", \"Topic11\", \"Topic11\", \"Topic11\", \"Topic11\", \"Topic11\", \"Topic11\", \"Topic11\", \"Topic11\", \"Topic11\", \"Topic11\", \"Topic11\", \"Topic11\", \"Topic11\", \"Topic11\", \"Topic11\", \"Topic11\", \"Topic11\", \"Topic11\", \"Topic11\", \"Topic11\", \"Topic12\", \"Topic12\", \"Topic12\", \"Topic12\", \"Topic12\", \"Topic12\", \"Topic12\", \"Topic12\", \"Topic12\", \"Topic12\", \"Topic12\", \"Topic12\", \"Topic12\", \"Topic12\", \"Topic12\", \"Topic12\", \"Topic12\", \"Topic12\", \"Topic12\", \"Topic12\", \"Topic12\", \"Topic12\", \"Topic12\", \"Topic12\", \"Topic12\", \"Topic12\", \"Topic12\", \"Topic12\", \"Topic12\", \"Topic12\", \"Topic12\", \"Topic12\", \"Topic12\", \"Topic12\", \"Topic12\", \"Topic12\", \"Topic12\", \"Topic12\", \"Topic12\", \"Topic12\", \"Topic12\", \"Topic12\", \"Topic12\", \"Topic12\", \"Topic12\", \"Topic12\", \"Topic12\", \"Topic13\", \"Topic13\", \"Topic13\", \"Topic13\", \"Topic13\", \"Topic13\", \"Topic13\", \"Topic13\", \"Topic13\", \"Topic13\", \"Topic13\", \"Topic13\", \"Topic13\", \"Topic13\", \"Topic13\", \"Topic13\", \"Topic13\", \"Topic13\", \"Topic13\", \"Topic13\", \"Topic13\", \"Topic13\", \"Topic13\", \"Topic13\", \"Topic13\", \"Topic13\", \"Topic13\", \"Topic13\", \"Topic13\", \"Topic13\", \"Topic13\", \"Topic13\", \"Topic13\", \"Topic13\", \"Topic13\", \"Topic13\", \"Topic13\", \"Topic13\", \"Topic13\", \"Topic13\", \"Topic13\", \"Topic13\", \"Topic13\", \"Topic13\", \"Topic13\", \"Topic13\", \"Topic13\", \"Topic13\", \"Topic13\", \"Topic13\", \"Topic14\", \"Topic14\", \"Topic14\", \"Topic14\", \"Topic14\", \"Topic14\", \"Topic14\", \"Topic14\", \"Topic14\", \"Topic14\", \"Topic14\", \"Topic14\", \"Topic14\", \"Topic14\", \"Topic14\", \"Topic14\", \"Topic14\", \"Topic14\", \"Topic14\", \"Topic14\", \"Topic14\", \"Topic14\", \"Topic14\", \"Topic14\", \"Topic14\", \"Topic14\", \"Topic14\", \"Topic14\", \"Topic14\", \"Topic14\", \"Topic14\", \"Topic14\", \"Topic14\", \"Topic14\", \"Topic14\", \"Topic14\", \"Topic14\", \"Topic14\", \"Topic14\", \"Topic14\", \"Topic14\", \"Topic14\", \"Topic14\", \"Topic14\", \"Topic14\", \"Topic14\", \"Topic14\", \"Topic14\", \"Topic14\", \"Topic14\", \"Topic15\", \"Topic15\", \"Topic15\", \"Topic15\", \"Topic15\", \"Topic15\", \"Topic15\", \"Topic15\", \"Topic15\", \"Topic15\", \"Topic15\", \"Topic15\", \"Topic15\", \"Topic15\", \"Topic15\", \"Topic15\", \"Topic15\", \"Topic15\", \"Topic15\", \"Topic15\", \"Topic15\", \"Topic15\", \"Topic15\", \"Topic15\", \"Topic15\", \"Topic15\", \"Topic15\", \"Topic15\", \"Topic15\", \"Topic15\", \"Topic15\", \"Topic15\", \"Topic15\", \"Topic15\", \"Topic15\", \"Topic15\", \"Topic15\", \"Topic15\", \"Topic15\", \"Topic15\", \"Topic15\", \"Topic15\", \"Topic15\", \"Topic15\", \"Topic15\", \"Topic15\", \"Topic15\", \"Topic15\", \"Topic15\", \"Topic15\", \"Topic15\", \"Topic15\", \"Topic16\", \"Topic16\", \"Topic16\", \"Topic16\", \"Topic16\", \"Topic16\", \"Topic16\", \"Topic16\", \"Topic16\", \"Topic16\", \"Topic16\", \"Topic16\", \"Topic16\", \"Topic16\", \"Topic16\", \"Topic16\", \"Topic16\", \"Topic16\", \"Topic16\", \"Topic16\", \"Topic16\", \"Topic16\", \"Topic16\", \"Topic16\", \"Topic16\", \"Topic16\", \"Topic16\", \"Topic16\", \"Topic16\", \"Topic16\", \"Topic16\", \"Topic16\", \"Topic16\", \"Topic16\", \"Topic16\", \"Topic16\", \"Topic16\", \"Topic16\", \"Topic16\", \"Topic16\", \"Topic16\", \"Topic16\", \"Topic16\", \"Topic16\", \"Topic16\", \"Topic16\", \"Topic16\", \"Topic16\", \"Topic16\", \"Topic16\", \"Topic16\", \"Topic16\", \"Topic17\", \"Topic17\", \"Topic17\", \"Topic17\", \"Topic17\", \"Topic17\", \"Topic17\", \"Topic17\", \"Topic17\", \"Topic17\", \"Topic17\", \"Topic17\", \"Topic17\", \"Topic17\", \"Topic17\", \"Topic17\", \"Topic17\", \"Topic17\", \"Topic17\", \"Topic17\", \"Topic17\", \"Topic17\", \"Topic17\", \"Topic17\", \"Topic17\", \"Topic17\", \"Topic17\", \"Topic17\", \"Topic17\", \"Topic17\", \"Topic17\", \"Topic17\", \"Topic17\", \"Topic17\", \"Topic17\", \"Topic17\", \"Topic17\", \"Topic17\", \"Topic17\", \"Topic17\", \"Topic17\", \"Topic17\", \"Topic17\", \"Topic17\", \"Topic17\", \"Topic17\", \"Topic17\", \"Topic17\", \"Topic17\", \"Topic17\", \"Topic17\", \"Topic18\", \"Topic18\", \"Topic18\", \"Topic18\", \"Topic18\", \"Topic18\", \"Topic18\", \"Topic18\", \"Topic18\", \"Topic18\", \"Topic18\", \"Topic18\", \"Topic18\", \"Topic18\", \"Topic18\", \"Topic18\", \"Topic18\", \"Topic18\", \"Topic18\", \"Topic18\", \"Topic18\", \"Topic18\", \"Topic18\", \"Topic18\", \"Topic18\", \"Topic18\", \"Topic18\", \"Topic18\", \"Topic18\", \"Topic18\", \"Topic18\", \"Topic18\", \"Topic18\", \"Topic18\", \"Topic18\", \"Topic18\", \"Topic18\", \"Topic18\", \"Topic18\", \"Topic18\", \"Topic18\", \"Topic18\", \"Topic18\", \"Topic18\", \"Topic18\", \"Topic18\", \"Topic18\", \"Topic18\", \"Topic18\", \"Topic18\", \"Topic18\", \"Topic18\", \"Topic18\", \"Topic19\", \"Topic19\", \"Topic19\", \"Topic19\", \"Topic19\", \"Topic19\", \"Topic19\", \"Topic19\", \"Topic19\", \"Topic19\", \"Topic19\", \"Topic19\", \"Topic19\", \"Topic19\", \"Topic19\", \"Topic19\", \"Topic19\", \"Topic19\", \"Topic19\", \"Topic19\", \"Topic19\", \"Topic19\", \"Topic19\", \"Topic19\", \"Topic19\", \"Topic19\", \"Topic19\", \"Topic19\", \"Topic19\", \"Topic19\", \"Topic19\", \"Topic19\", \"Topic19\", \"Topic19\", \"Topic19\", \"Topic19\", \"Topic19\", \"Topic19\", \"Topic19\", \"Topic19\", \"Topic19\", \"Topic19\", \"Topic19\", \"Topic19\", \"Topic19\", \"Topic19\", \"Topic19\", \"Topic19\", \"Topic19\", \"Topic19\", \"Topic19\", \"Topic19\", \"Topic19\", \"Topic20\", \"Topic20\", \"Topic20\", \"Topic20\", \"Topic20\", \"Topic20\", \"Topic20\", \"Topic20\", \"Topic20\", \"Topic20\", \"Topic20\", \"Topic20\", \"Topic20\", \"Topic20\", \"Topic20\", \"Topic20\", \"Topic20\", \"Topic20\", \"Topic20\", \"Topic20\", \"Topic20\", \"Topic20\", \"Topic20\", \"Topic20\", \"Topic20\", \"Topic20\", \"Topic20\", \"Topic20\", \"Topic20\", \"Topic20\", \"Topic20\", \"Topic20\", \"Topic20\", \"Topic20\", \"Topic20\", \"Topic20\", \"Topic20\", \"Topic20\", \"Topic20\", \"Topic20\", \"Topic20\", \"Topic20\", \"Topic20\", \"Topic20\", \"Topic20\", \"Topic20\", \"Topic20\", \"Topic20\", \"Topic20\", \"Topic20\", \"Topic20\", \"Topic20\", \"Topic20\", \"Topic20\", \"Topic20\", \"Topic20\"], \"logprob\": [30.0, 29.0, 28.0, 27.0, 26.0, 25.0, 24.0, 23.0, 22.0, 21.0, 20.0, 19.0, 18.0, 17.0, 16.0, 15.0, 14.0, 13.0, 12.0, 11.0, 10.0, 9.0, 8.0, 7.0, 6.0, 5.0, 4.0, 3.0, 2.0, 1.0, -3.8418, -3.8418, -3.8418, -3.8418, -3.8418, -3.8418, -3.8418, -3.8418, -3.8418, -3.8418, -3.8418, -3.8418, -3.8418, -3.944, -3.957, -3.9638, -3.9724, -3.9766, -3.9794, -3.9825, -3.9825, -4.008, -4.0192, -4.0296, -4.05, -3.8418, -3.8418, -3.8418, -3.8418, -3.8418, -3.2458, -3.8418, -3.8418, -3.8418, -3.8418, -3.8418, -3.8418, -3.8418, -3.8592, -3.8592, -3.8592, -3.8592, -3.8592, -3.8592, -3.8592, -3.8592, -3.8592, -3.8592, -3.8592, -3.8592, -3.8592, -3.8592, -3.8592, -3.8592, -3.8592, -3.8592, -3.8593, -3.1902, -3.8592, -3.8592, -3.8592, -3.8592, -3.8592, -3.8592, -3.8592, -3.8592, -2.7929, -2.7929, -3.8592, -3.8592, -3.8592, -3.128, -3.7971, -3.7971, -3.7971, -3.7971, -3.7971, -3.7971, -3.7971, -3.7971, -3.7971, -3.7971, -3.7971, -3.7971, -3.7971, -3.7971, -3.7971, -3.7971, -3.7971, -3.7971, -2.7308, -3.128, -3.7971, -3.7971, -3.7971, -3.7971, -3.7971, -3.7971, -3.7971, -3.1281, -3.7971, -3.7077, -3.7077, -3.7077, -3.7078, -3.7078, -3.7078, -3.7078, -3.7078, -3.7078, -3.7078, -3.7078, -3.7078, -3.0387, -3.0387, -3.0387, -3.7078, -3.0387, -3.7078, -3.7078, -3.7078, -3.7078, -3.7077, -3.7078, -3.7078, -3.0387, -3.7078, -6.7522, -6.7522, -6.7522, -6.7522, -6.7522, -6.7522, -6.7522, -6.7522, -2.8318, -2.8318, -3.5008, -3.5008, -3.5008, -3.5008, -3.5008, -3.5008, -3.5008, -3.5008, -3.5008, -3.5008, -3.5008, -3.5009, -3.5009, -3.5009, -3.5008, -3.5008, -3.5009, -3.5008, -3.5008, -6.5453, -6.5453, -6.5453, -6.5453, -6.5453, -6.5453, -6.5453, -6.5453, -6.5453, -6.5453, -6.5453, -6.5453, -6.5453, -6.5453, -6.5453, -6.5453, -6.5453, -6.5453, -2.8318, -2.8318, -3.5008, -3.5008, -3.5008, -3.5008, -3.5008, -3.5008, -3.5008, -3.5008, -3.5009, -3.5008, -3.5008, -3.5009, -2.8318, -3.5008, -3.5009, -3.5008, -3.5009, -3.5009, -6.5453, -6.5453, -6.5453, -6.5453, -6.5453, -6.5453, -6.5453, -6.5453, -6.5453, -6.5453, -6.5453, -6.5453, -6.5453, -6.5453, -6.5453, -6.5453, -6.5453, -6.5453, -6.5453, -6.5453, -3.3787, -3.3787, -3.3787, -3.3787, -3.3787, -3.3787, -3.3787, -3.3787, -3.3787, -3.3787, -3.3788, -3.3787, -3.3787, -3.3787, -3.3787, -3.3787, -3.3788, -3.3787, -3.3787, -6.4232, -6.4232, -6.4232, -6.4232, -6.4232, -6.4232, -6.4232, -6.4232, -6.4232, -6.4232, -6.4232, -6.4232, -6.4232, -6.4232, -6.4232, -6.4232, -6.4232, -6.4232, -6.4232, -6.4232, -6.4232, -6.4232, -2.6767, -3.3457, -3.3457, -3.3457, -3.3457, -3.3457, -3.3457, -3.3457, -3.3457, -3.3457, -3.3457, -3.3457, -3.3458, -3.3457, -3.3457, -3.3457, -3.3457, -6.3902, -6.3902, -6.3902, -6.3902, -6.3902, -6.3902, -6.3902, -6.3902, -6.3902, -6.3902, -6.3902, -6.3902, -6.3902, -6.3902, -6.3902, -6.3902, -6.3902, -6.3902, -6.3902, -6.3902, -6.3902, -6.3902, -6.3902, -6.3902, -6.3902, -6.3902, -3.3457, -3.3457, -3.3457, -3.3457, -3.3457, -3.3457, -3.3457, -3.3457, -3.3457, -3.3458, -3.3457, -3.3457, -3.3457, -3.3457, -3.3457, -3.3457, -3.3457, -3.3457, -6.3902, -6.3902, -6.3902, -6.3902, -6.3902, -6.3902, -6.3902, -6.3902, -6.3902, -6.3902, -6.3902, -6.3902, -6.3902, -6.3902, -6.3902, -6.3902, -6.3902, -6.3902, -6.3902, -6.3902, -6.3902, -6.3902, -6.3902, -6.3902, -3.4063, -3.4063, -3.4063, -3.4063, -3.4063, -3.4063, -3.4063, -3.4063, -3.4063, -3.4063, -3.4063, -3.4063, -3.4064, -3.4063, -3.4063, -3.4063, -3.4063, -3.4063, -4.8521, -4.9256, -4.9663, -5.0119, -5.1271, -5.1275, -5.1426, -5.1565, -5.1779, -5.2235, -5.2615, -5.3389, -5.0931, -2.6426, -3.3116, -3.3116, -3.3116, -3.3116, -3.3116, -3.3116, -3.3116, -3.3116, -3.3116, -3.3116, -3.3116, -3.3116, -3.3116, -3.3116, -3.3116, -6.3561, -6.3561, -6.3561, -6.3561, -6.3561, -6.3561, -6.3561, -6.3561, -6.3561, -6.3561, -6.3561, -6.3561, -6.3561, -6.3561, -6.3561, -6.3561, -6.3561, -6.3561, -6.3561, -6.3561, -6.3561, -6.3561, -6.3561, -6.3561, -6.3561, -6.3561, -6.3561, -6.3561, -3.2396, -3.2396, -3.2396, -3.2396, -3.2396, -3.2396, -2.5706, -3.2396, -3.2396, -3.2396, -3.2396, -3.2396, -2.5706, -6.2841, -6.2841, -6.2841, -6.2841, -6.2841, -6.2841, -6.2841, -6.2841, -6.2841, -6.2841, -6.2841, -6.2841, -6.2841, -6.2841, -6.2841, -6.2841, -6.2841, -6.2841, -6.2841, -6.2841, -6.2841, -6.2841, -6.2841, -6.2841, -6.2841, -6.2841, -6.2841, -6.2841, -6.2841, -6.2841, -6.2841, -6.2841, -6.2841, -6.2841, -3.1209, -3.1209, -3.1209, -3.1209, -2.4519, -3.1209, -3.1209, -3.1209, -3.1209, -2.4519, -6.1654, -6.1654, -6.1654, -6.1654, -6.1654, -6.1654, -6.1654, -6.1654, -6.1654, -6.1654, -6.1654, -6.1654, -6.1654, -6.1654, -6.1654, -6.1654, -6.1654, -6.1654, -6.1654, -6.1654, -6.1654, -6.1654, -6.1654, -6.1654, -6.1654, -6.1654, -6.1654, -6.1654, -6.1654, -6.1654, -6.1654, -6.1654, -6.1654, -6.1654, -6.1654, -6.1654, -6.1654, -6.1654, -6.1654, -6.1654, -3.0331, -3.0331, -3.0331, -3.0332, -3.0332, -3.0332, -3.0331, -3.0331, -3.0331, -3.0332, -6.0776, -6.0776, -6.0776, -6.0776, -6.0776, -6.0776, -6.0776, -6.0776, -6.0776, -6.0776, -6.0776, -6.0776, -6.0776, -6.0776, -6.0776, -6.0776, -6.0776, -6.0776, -6.0776, -6.0776, -6.0776, -6.0776, -6.0776, -6.0776, -6.0776, -6.0776, -6.0776, -6.0776, -6.0776, -6.0776, -6.0776, -6.0776, -6.0776, -6.0776, -6.0776, -6.0776, -6.0776, -6.0776, -6.0776, -6.0776, -2.9369, -2.9369, -2.9369, -2.9369, -2.9369, -2.9369, -2.9369, -2.9369, -5.9814, -5.9814, -5.9814, -5.9814, -5.9814, -5.9814, -5.9814, -5.9814, -5.9814, -5.9814, -5.9814, -5.9814, -5.9814, -5.9814, -5.9814, -5.9814, -5.9814, -5.9814, -5.9814, -5.9814, -5.9814, -5.9814, -5.9814, -5.9814, -5.9814, -5.9814, -5.9814, -5.9814, -5.9814, -5.9814, -5.9814, -5.9814, -5.9814, -5.9814, -5.9814, -5.9814, -5.9814, -5.9814, -5.9814, -5.9814, -5.9814, -5.9814, -5.9814, -5.9814, -2.8304, -2.8304, -2.8304, -2.8304, -2.8304, -2.8305, -5.8749, -5.8749, -5.8749, -5.8749, -5.8749, -5.8749, -5.8749, -5.8749, -5.8749, -5.8749, -5.8749, -5.8749, -5.8749, -5.8749, -5.8749, -5.8749, -5.8749, -5.8749, -5.8749, -5.8749, -5.8749, -5.8749, -5.8749, -5.8749, -5.8749, -5.8749, -5.8749, -5.8749, -5.8749, -5.8749, -5.8749, -5.8749, -5.8749, -5.8749, -5.8749, -5.8749, -5.8749, -5.8749, -5.8749, -5.8749, -5.8749, -5.8749, -5.8749, -5.8749, -5.8749, -5.8749, -2.7726, -2.7726, -2.7726, -2.7726, -2.7726, -5.8171, -5.8171, -5.8171, -5.8171, -5.8171, -5.8171, -5.8171, -5.8171, -5.8171, -5.8171, -5.8171, -5.8171, -5.8171, -5.8171, -5.8171, -5.8171, -5.8171, -5.8171, -5.8171, -5.8171, -5.8171, -5.8171, -5.8171, -5.8171, -5.8171, -5.8171, -5.8171, -5.8171, -5.8171, -5.8171, -5.8171, -5.8171, -5.8171, -5.8171, -5.8171, -5.8171, -5.8171, -5.8171, -5.8171, -5.8171, -5.8171, -5.8171, -5.8171, -5.8171, -5.8171, -5.8171, -2.7726, -2.7726, -2.7726, -2.7726, -2.7726, -5.8171, -5.8171, -5.8171, -5.8171, -5.8171, -5.8171, -5.8171, -5.8171, -5.8171, -5.8171, -5.8171, -5.8171, -5.8171, -5.8171, -5.8171, -5.8171, -5.8171, -5.8171, -5.8171, -5.8171, -5.8171, -5.8171, -5.8171, -5.8171, -5.8171, -5.8171, -5.8171, -5.8171, -5.8171, -5.8171, -5.8171, -5.8171, -5.8171, -5.8171, -5.8171, -5.8171, -5.8171, -5.8171, -5.8171, -5.8171, -5.8171, -5.8171, -5.8171, -5.8171, -5.8171, -5.8171, -5.8171, -5.8171, -2.7113, -2.7113, -2.7113, -2.7113, -5.7557, -5.7557, -5.7557, -5.7557, -5.7557, -5.7557, -5.7557, -5.7557, -5.7557, -5.7557, -5.7557, -5.7557, -5.7557, -5.7557, -5.7557, -5.7557, -5.7557, -5.7557, -5.7557, -5.7557, -5.7557, -5.7557, -5.7557, -5.7557, -5.7557, -5.7557, -5.7557, -5.7557, -5.7557, -5.7557, -5.7557, -5.7557, -5.7557, -5.7557, -5.7557, -5.7557, -5.7557, -5.7557, -5.7557, -5.7557, -5.7557, -5.7557, -5.7557, -5.7557, -5.7557, -5.7557, -5.7557, -5.7557, -5.7557, -5.4638, -5.4638, -5.4638, -5.4638, -5.4638, -5.4638, -5.4638, -5.4638, -5.4638, -5.4638, -5.4638, -5.4638, -5.4638, -5.4638, -5.4638, -5.4638, -5.4638, -5.4638, -5.4638, -5.4638, -5.4638, -5.4638, -5.4638, -5.4638, -5.4638, -5.4638, -5.4638, -5.4638, -5.4638, -5.4638, -5.4638, -5.4638, -5.4638, -5.4638, -5.4638, -5.4638, -5.4638, -5.4638, -5.4638, -5.4638, -5.4638, -5.4638, -5.4638, -5.4638, -5.4638, -5.4638, -5.4638, -5.4638, -5.4638, -5.4638, -5.4638, -5.4638, -5.4638, -5.4638, -5.4638, -5.4638], \"loglift\": [30.0, 29.0, 28.0, 27.0, 26.0, 25.0, 24.0, 23.0, 22.0, 21.0, 20.0, 19.0, 18.0, 17.0, 16.0, 15.0, 14.0, 13.0, 12.0, 11.0, 10.0, 9.0, 8.0, 7.0, 6.0, 5.0, 4.0, 3.0, 2.0, 1.0, 1.7426, 1.7426, 1.7426, 1.7426, 1.7426, 1.7426, 1.7426, 1.7426, 1.7426, 1.7426, 1.7426, 1.7426, 1.7426, 1.6541, 1.6428, 1.6368, 1.6293, 1.6256, 1.6232, 1.6205, 1.6204, 1.598, 1.5882, 1.579, 1.5611, 1.5115, 1.4887, 1.3595, 1.3213, 1.3213, 1.2744, 1.3094, 1.1333, 0.9644, 0.4555, 0.3302, 0.0655, -0.3156, 1.7503, 1.7503, 1.7503, 1.7503, 1.7503, 1.7503, 1.7503, 1.7503, 1.7503, 1.7503, 1.7503, 1.7503, 1.7503, 1.7503, 1.7503, 1.7503, 1.7503, 1.7503, 1.7503, 1.7021, 1.4907, 1.3726, 1.3601, 1.3531, 1.3528, 1.3482, 1.3203, 1.1982, 1.1144, 0.7333, 0.4381, 0.7034, 0.3127, 2.0484, 1.8266, 1.8266, 1.8266, 1.8266, 1.8266, 1.8266, 1.8266, 1.8266, 1.8266, 1.8266, 1.8266, 1.8266, 1.8266, 1.8266, 1.8266, 1.8266, 1.8266, 1.8266, 1.4412, 1.4346, 1.4247, 1.4247, 1.396, 1.354, 0.7533, 0.7254, 0.5002, 0.3982, 0.1102, 1.9352, 1.9352, 1.9352, 1.9352, 1.9352, 1.9352, 1.9352, 1.9352, 1.9352, 1.9352, 1.9352, 1.9352, 1.9096, 1.9096, 1.9096, 1.5269, 1.4815, 1.4718, 1.4554, 1.4554, 1.2815, 1.2673, 0.8426, 0.5895, 0.4875, 0.1995, -0.7811, -0.7811, -0.7811, -0.8229, -1.5329, -1.468, -1.0453, -1.0453, 2.3781, 2.3781, 2.149, 2.149, 2.149, 2.149, 2.149, 2.149, 2.149, 2.149, 2.149, 2.149, 2.149, 2.1489, 2.1489, 2.1489, 1.7769, 1.6922, 1.0216, 0.7965, 0.0254, -0.5741, -0.5741, -0.5741, -0.616, -0.616, -0.616, -0.616, -0.6524, -0.6524, -0.9023, -2.638, -0.9023, -1.5703, -1.3657, -0.9023, -0.9023, -0.9023, -2.0251, 2.4272, 2.4272, 2.1868, 2.1868, 2.1868, 2.1868, 2.1868, 2.1868, 2.1868, 2.1868, 2.1868, 1.8029, 1.7838, 1.7066, 1.6907, 1.347, 1.1137, 1.0495, 0.7964, 0.4064, -0.5741, -0.5741, -0.5741, -0.616, -0.616, -0.616, -0.616, -0.6523, -0.6524, -0.6524, -3.0191, -0.9023, -0.9023, -1.5702, -1.3657, -0.9023, -0.9023, -0.9023, -2.0251, -0.9023, 2.3266, 2.3266, 2.3266, 2.3266, 2.3266, 2.3266, 2.3266, 2.3266, 2.3266, 2.3266, 2.3266, 1.9853, 1.9768, 1.9177, 1.8225, 1.6105, 1.5135, 1.2358, 0.1475, -0.452, -0.452, -0.452, -0.4939, -0.4939, -0.4939, -0.4939, -0.5303, -0.5303, -0.5303, -0.5898, -2.5159, -2.1259, -0.7802, -0.7802, -1.4482, -1.2436, -0.7802, -0.7802, -0.7802, -1.903, -0.7802, 2.592, 2.3494, 2.3494, 2.3494, 2.3494, 2.3494, 2.3494, 2.3494, 2.3494, 2.3494, 2.3494, 2.3493, 2.3493, 2.011, 2.0026, 1.8663, 0.1805, -0.419, -0.419, -0.419, -0.4609, -0.4609, -0.4609, -0.4609, -0.4972, -0.4972, -0.4973, -0.5568, -0.5568, -0.5568, -2.4829, -2.0929, -0.7472, -0.7472, -1.4151, -1.2106, -0.7472, -0.7472, -0.7472, -1.87, -0.7472, -0.7472, -1.8398, 2.3499, 2.3499, 2.3499, 2.3499, 2.3499, 2.3499, 2.3499, 2.3499, 2.3499, 2.3499, 1.889, 1.8761, 1.8761, 1.8666, 1.5021, 1.2688, 0.8263, 0.1805, -0.419, -0.419, -0.419, -0.4609, -0.4609, -0.4609, -0.4609, -0.4972, -0.4972, -0.4973, -0.5568, -0.5568, -2.0929, -0.7472, -2.4829, -0.7472, -1.4151, -1.2106, -0.7472, -0.7472, -0.7472, -1.87, -0.7472, -0.7472, 2.321, 2.321, 2.321, 2.321, 2.321, 2.321, 2.321, 2.321, 2.321, 2.321, 2.321, 2.321, 2.321, 1.8901, 1.8784, 1.8255, 1.1161, 0.7657, 0.759, 0.6831, 0.6411, 0.5942, 0.4759, 0.4754, 0.4599, 0.4457, 0.4238, 0.3771, 0.3382, 0.2592, -0.5728, 2.6417, 2.3954, 2.3954, 2.3954, 2.3954, 2.3954, 2.3954, 2.3954, 2.3954, 2.3954, 2.3954, 2.3954, 2.3954, 2.3954, 2.0052, 1.9077, -0.3849, -0.3849, -0.3849, -0.4268, -0.4268, -0.4268, -0.4268, -0.4631, -0.4631, -0.4631, -0.5227, -0.5227, -0.5227, -0.5227, -2.4488, -2.8299, -0.7131, -0.7131, -1.381, -1.1765, -0.7131, -0.7131, -0.7131, -1.8359, -0.7131, -0.7131, -1.8057, -1.4078, 2.5175, 2.5175, 2.5175, 2.0772, 2.0641, 2.0381, 1.9798, 1.7086, 1.7086, 1.7086, 1.6082, 1.3749, 1.3367, -0.3129, -0.3129, -0.3129, -0.3548, -0.3548, -0.3548, -0.3548, -0.3911, -0.3911, -0.3911, -0.4507, -0.4507, -0.4507, -0.4507, -0.4507, -0.4507, -0.4643, -1.9868, -2.7579, -0.6411, -0.6411, -1.309, -1.1045, -0.6411, -0.6411, -0.6411, -1.7639, -0.6411, -0.6411, -1.0647, -0.9999, -0.5771, -0.5771, -0.5771, 2.659, 2.659, 2.659, 2.6589, 2.3543, 2.2866, 1.9366, 1.8683, 1.4417, 1.0743, -0.1942, -0.1942, -0.1942, -0.2361, -0.2361, -0.2361, -0.2361, -0.2724, -0.2724, -0.2724, -0.332, -0.332, -0.332, -0.332, -0.332, -0.332, -0.3456, -0.3456, -0.3456, -0.3456, -0.5224, -2.2581, -0.5224, -1.1903, -0.9858, -0.5224, -0.5224, -0.5224, -1.6452, -0.5224, -0.5224, -1.615, -0.946, -0.8811, -0.4584, -0.4584, -0.4584, -0.4584, -0.4584, -1.2171, 2.7867, 2.7867, 2.7867, 2.7867, 2.7866, 2.3743, 2.3224, 2.3152, 1.773, 1.5814, -0.1064, -0.1064, -0.1065, -0.1483, -0.1483, -0.1483, -0.1483, -0.1847, -0.1847, -0.1847, -0.2442, -0.2442, -0.2442, -0.2442, -0.2442, -0.2442, -0.2977, -0.2977, -0.2977, -0.2977, -2.1703, -1.7803, -2.5514, -0.4346, -0.4346, -1.1026, -0.898, -0.4346, -0.4346, -0.4346, -1.5574, -0.4346, -0.4346, -1.5272, -0.8583, -0.7934, -0.3706, -0.3706, -0.3706, -0.3706, 2.8965, 2.8965, 2.8965, 2.8965, 2.8965, 2.8965, 2.4272, 2.4199, -0.0102, -0.0102, -0.0102, -0.0521, -0.0521, -0.0521, -0.0521, -0.0884, -0.0884, -0.0884, -0.1616, -0.1616, -0.1616, -0.1616, -0.1616, -0.2015, -0.2015, -0.2015, -0.2015, -0.2242, -0.2243, -0.2243, -1.6841, -2.4552, -0.3384, -2.0741, -0.3384, -1.0063, -0.8018, -0.3384, -0.3384, -0.3384, -1.4612, -0.3384, -0.3384, -1.431, -0.762, -0.6971, -0.2744, -0.2744, -0.2744, -0.2744, -0.2744, -1.0331, 3.0625, 3.0625, 3.0625, 2.2271, 2.1446, 1.7321, 0.0963, 0.0963, 0.0963, 0.0544, 0.0544, 0.0544, 0.0544, -0.0415, -0.0415, -0.0415, -0.0415, -0.0415, -0.0415, -0.0551, -0.0551, -0.0551, -0.0551, -0.0551, -0.095, -0.095, -0.095, -0.095, -0.1178, -0.1178, -1.9676, -2.3487, -0.2319, -0.2319, -0.6953, -0.2319, -0.2319, -0.2319, -1.3547, -0.2319, -0.2319, -1.3245, -0.6556, -0.5907, -0.1679, -0.1679, -0.1679, -0.1679, -0.1679, -0.9266, -0.9266, -0.4674, 2.5773, 2.5578, 1.7476, 1.1347, 0.7536, 0.1541, 0.1541, 0.1541, 0.1122, 0.1122, 0.1122, 0.1122, 0.0759, 0.0759, 0.0759, 0.0163, 0.0163, 0.0163, 0.0163, 0.0163, 0.0163, 0.0027, 0.0027, 0.0027, 0.0027, 0.0027, -0.0372, -0.0372, -0.0372, -0.0372, -1.5198, -0.1741, -0.1741, -0.842, -0.6375, -0.1741, -0.1741, -0.1741, -0.1741, -0.1741, -1.2667, -0.5977, -0.5329, -0.1101, -0.1101, -0.1101, -0.1101, -0.1101, -0.8688, -0.8688, -0.4096, 3.1567, 3.1567, 3.1567, 3.1567, 2.0752, 0.1541, 0.1541, 0.1541, 0.0759, 0.0759, 0.0759, 0.0163, 0.0163, 0.0163, 0.0163, 0.0163, 0.0163, 0.0027, 0.0027, 0.0027, 0.0027, 0.0027, -0.0372, -0.0372, -0.0372, -0.0372, -0.0599, -0.06, -0.06, -0.0897, -1.9098, -2.2909, -0.1741, -0.1741, -0.842, -0.6375, -0.1741, -0.1741, -0.1741, -1.2969, -0.1741, -0.1741, -1.2667, -0.5977, -0.5329, -0.1101, -0.1101, -0.1101, -0.1101, -0.1101, -0.8688, -0.8688, -0.4096, 3.2599, 3.2599, 3.2599, 2.642, 0.1736, 0.1736, 0.1736, 0.1736, 0.1372, 0.1372, 0.1372, 0.0777, 0.0777, 0.0777, 0.0777, 0.0777, 0.0777, 0.0641, 0.0641, 0.0641, 0.0641, 0.0641, 0.0241, 0.0241, 0.0241, 0.0241, 0.0014, 0.0014, 0.0014, -0.0284, -2.2295, -0.1127, -1.8484, -0.1127, -0.7807, -0.5761, -0.1127, -0.1127, -0.1127, -1.2355, -0.1127, -0.1127, -1.2053, -0.5364, -0.4715, -0.0488, -0.0487, -0.0488, -0.0488, -0.0487, -0.8075, -0.8074, -0.3482, 0.5073, 0.5073, 0.5073, 0.4655, 0.4655, 0.4655, 0.4655, 0.4291, 0.4291, 0.4291, 0.3696, 0.3696, 0.3696, 0.3696, 0.3696, 0.3696, 0.356, 0.356, 0.356, 0.356, 0.356, 0.316, 0.316, 0.316, 0.316, 0.2933, 0.2933, 0.2933, 0.2635, 0.2635, 0.1792, -1.5565, 0.1792, -0.4888, -0.2842, 0.1792, 0.1792, 0.1792, -0.9436, 0.1792, 0.1792, -0.9134, -0.2445, -0.1796, 0.2431, 0.2431, 0.2431, 0.2431, 0.2432, -0.5156, -0.5155, -0.0563, -0.1155, -0.4064, -0.9012, 0.1458]}, \"token.table\": {\"Topic\": [4, 2, 8, 9, 3, 9, 8, 9, 1, 2, 3, 4, 6, 12, 1, 1, 13, 14, 6, 12, 10, 10, 9, 4, 4, 8, 5, 7, 10, 7, 11, 6, 13, 1, 4, 3, 5, 1, 2, 3, 9, 10, 2, 11, 2, 10, 3, 3, 1, 6, 1, 2, 13, 2, 4, 1, 3, 5, 5, 13, 14, 3, 1, 4, 4, 10, 5, 7, 5, 14, 14, 8, 7, 14, 10, 1, 6, 1, 3, 1, 11, 2, 3, 1, 11, 8, 11, 12, 14, 3, 5, 4, 7, 4, 12, 13, 2, 2, 1, 4, 2, 7, 7, 8, 5, 1, 3, 2, 1, 1, 4, 1, 4, 12, 1, 2, 3, 4, 5, 7, 8, 9, 13, 2, 6, 4, 3, 5, 7, 13, 11, 2, 11, 9, 11, 8, 5, 11, 1, 5, 3, 4, 6, 2, 6, 9, 8, 3, 4, 1, 2, 3, 9, 7, 13, 4, 3, 9, 5, 3, 1, 3, 8, 1, 7, 10, 6, 2, 3, 7, 3, 2, 2, 3, 8, 11, 2, 3, 13, 1, 7, 4, 12, 9, 8, 1, 6, 6, 10, 7, 5, 1, 3, 10, 9, 14, 11, 12, 5, 11, 2, 8, 12, 5, 2, 7, 9, 11, 7, 4, 12, 7, 8, 2, 3, 1, 6, 7, 9, 12, 14, 2, 1, 2, 3, 4, 6, 12, 2, 5, 12, 8, 9, 11, 14, 4, 9, 10, 4, 2, 10, 6, 9, 12, 1, 1, 4, 10, 1, 2, 4, 7, 13, 1, 2, 2, 9, 6, 1, 2, 3, 4, 5, 6, 1, 1, 5, 11, 6, 1, 8, 14, 11, 10, 1, 3, 5, 6, 10, 10, 8, 10, 6, 6, 10, 1, 3, 2, 5], \"Freq\": [0.8206584972331343, 0.7936870106978301, 0.8645438186910592, 0.864992048152984, 0.8049957828304974, 0.8649997550734613, 0.8645478505006463, 0.8649901086846916, 0.14466229350798485, 0.2893245870159697, 0.14466229350798485, 0.14466229350798485, 0.14466229350798485, 0.14466229350798485, 0.7739476153993005, 0.35541838185766805, 0.35541838185766805, 0.35541838185766805, 0.5845328502015839, 0.5845328502015839, 0.8928916258241618, 0.8928919521299209, 0.8649900576461698, 0.820662858507569, 0.8206674015510641, 0.6163964170966061, 0.8262548885362014, 0.8734306634914707, 0.8928960309720333, 0.8734444992336927, 0.874884705480963, 0.8581440893581298, 0.9410367163920332, 0.4208073774471067, 0.4208073774471067, 0.5233152576185347, 0.5233152576185347, 0.18850188268946158, 0.18850188268946158, 0.37700376537892316, 0.18850188268946158, 0.18850188268946158, 0.5372521041259263, 0.5372521041259263, 0.7936830651722306, 0.8929041887680546, 0.8050002946982341, 0.8049915084761369, 0.7739472875920034, 0.5589811009114845, 0.7878500934291287, 0.4569598771713683, 0.4569598771713683, 0.5163071050462996, 0.5163071050462996, 0.7884215021675084, 0.8050010862591923, 0.8262559833631892, 0.82625793630502, 0.6484746061461295, 0.6484746061461295, 0.8049976825581169, 0.7846117860911545, 0.8206572978907913, 0.8206620952811967, 0.8928873838709962, 0.8262559241832779, 0.8734328814053791, 0.8262606586029755, 0.9793692536781586, 0.9793744075497298, 0.8645530051474217, 0.6156309709436142, 0.6156309709436142, 0.892889613610584, 0.7739496232250546, 0.8581477810133655, 0.7874374516464748, 0.8049942788858243, 0.7908970329915762, 0.5732694244486488, 0.7936860452996437, 0.8050018382435444, 0.7739470007608462, 0.874883223862641, 0.86454570700226, 0.8748812483793511, 0.9198990408222869, 0.9793799722980532, 0.8049995427167658, 0.826263173785508, 0.8206623133457296, 0.8734336735202191, 0.40968843228285295, 0.40968843228285295, 0.9410376163997073, 0.7936816800502062, 0.7936835268806466, 0.7884278854387132, 0.8206624587221493, 0.7936840305631673, 0.8734396936399553, 0.8734347296755738, 0.8645447883633481, 0.8262578771248289, 0.7739516310612263, 0.8050011654153737, 0.7936869267500686, 0.7919563780724511, 0.267023107946663, 0.267023107946663, 0.5078804637900628, 0.5078804637900628, 0.9198872435304462, 0.09882340809481702, 0.19764681618963403, 0.09882340809481702, 0.09882340809481702, 0.09882340809481702, 0.09882340809481702, 0.09882340809481702, 0.09882340809481702, 0.09882340809481702, 0.79369015875171, 0.5589734713002154, 0.8206566437055364, 0.8049985532696057, 0.5322205635913668, 0.620902796462637, 0.9410439983216886, 0.8748760133917785, 0.7936947339678694, 0.8748803100279138, 0.864984698634896, 0.8748852981296968, 0.8645523416745882, 0.8262632625569358, 0.8748844091568971, 0.773949172487754, 0.8262565159827729, 0.8049988698924323, 0.8206670381057335, 0.8581590645758675, 0.5308944146905241, 0.5308944146905241, 0.864988628570004, 0.8645473911786687, 0.5147007342903454, 0.8206643849645725, 0.6142193693230177, 0.7937009882477709, 0.5385927913701585, 0.5385927913701585, 0.8734334094817794, 0.9410393346009561, 0.8206622043134486, 0.5385908370023313, 0.5385908370023313, 0.532219851516226, 0.8049919042477819, 0.5018340070841383, 0.5018340070841383, 0.864543920761724, 0.7881224995316878, 0.5803034122165275, 0.5803034122165275, 0.8581418565175558, 0.7936839885895997, 0.8049924187515022, 0.8734370532263454, 0.8050011654153737, 0.7936862131948118, 0.7936819318902145, 0.8049934477609159, 0.8645424917746096, 0.8748776431453444, 0.2785817587137235, 0.2785817587137235, 0.2785817587137235, 0.5276071726586505, 0.5276071726586505, 0.40968598010825974, 0.40968598010825974, 0.8649868932695796, 0.8645498919375627, 0.7865895056272679, 0.8581395046047164, 0.5735147762055761, 0.5735147762055761, 0.8734328814053791, 0.8262613687706097, 0.7739540896503189, 0.8049966535378766, 0.8928945081999521, 0.8649963354295453, 0.9793771338950337, 0.5922554250634571, 0.5922554250634571, 0.8262591790909918, 0.8748852981296968, 0.5333354320314576, 0.5333354320314576, 0.9198877504391083, 0.8262634400998491, 0.3873702363810281, 0.3873702363810281, 0.8649949573717303, 0.8748798161595446, 0.8734308747208813, 0.4096890794404055, 0.4096890794404055, 0.8734344128286993, 0.864541062792219, 0.7936873464890543, 0.8049993052492255, 0.7739523276598834, 0.2934345731855198, 0.2934345731855198, 0.2934345731855198, 0.2934345731855198, 0.2934345731855198, 0.7936885637346233, 0.7739472875920034, 0.6121845975967702, 0.27519966559924197, 0.27519966559924197, 0.27519966559924197, 0.27519966559924197, 0.7936943981703942, 0.5695628638904716, 0.5695628638904716, 0.8645446352570527, 0.8649912825723559, 0.8748854462920058, 0.9793739967318903, 0.5455608509031246, 0.5455608509031246, 0.892893964354039, 0.8206627494751432, 0.5439877113737159, 0.5439877113737159, 0.3705424038970133, 0.3705424038970133, 0.3705424038970133, 0.6003774487767521, 0.5078802367796929, 0.5078802367796929, 0.8928855892106364, 0.7739551960205067, 0.7936875143847728, 0.4268345446808746, 0.4268345446808746, 0.4268345446808746, 0.7859114330903251, 0.7936921315448698, 0.5335020116924729, 0.5335020116924729, 0.8581437618741184, 0.21366553349459924, 0.21366553349459924, 0.21366553349459924, 0.21366553349459924, 0.21366553349459924, 0.21366553349459924, 0.7739497461535004, 0.7948548528315303, 0.8262596229440305, 0.8748883107731755, 0.8581417969752994, 0.773951426179507, 0.6112017084012836, 0.6112017084012836, 0.8748850511926269, 0.8928977169043243, 0.7739487627270272, 0.2676256561175214, 0.2676256561175214, 0.2676256561175214, 0.2676256561175214, 0.8928917889770115, 0.5644186639884342, 0.8928961941264927, 0.8581472748974625, 0.8581469474110199, 0.8928903749876279, 0.7929472514162141, 0.804993289451604, 0.7936896550614112, 0.8262611024576038], \"Term\": [\"2019\", \"2020\", \"administration\", \"administrative\", \"admissions\", \"analyst\", \"army\", \"arts\", \"aspiring_human\", \"aspiring_human\", \"aspiring_human\", \"aspiring_human\", \"aspiring_human\", \"aspiring_human\", \"assistant\", \"atlanta\", \"atlanta\", \"atlanta\", \"austin_texas\", \"austin_texas\", \"bachelor\", \"baltimore\", \"baton\", \"bauer\", \"bay\", \"beach\", \"benefits\", \"beneteau\", \"biology\", \"boston\", \"brand\", \"bridgewater\", \"buckhead\", \"business\", \"business\", \"business_management\", \"business_management\", \"california\", \"california\", \"california\", \"california\", \"california\", \"canada\", \"canada\", \"cape\", \"care\", \"center\", \"chapman\", \"chattanooga\", \"chicago\", \"chro\", \"city\", \"city\", \"college\", \"college\", \"communications\", \"community\", \"compensation\", \"conflict\", \"coordinator\", \"coordinator\", \"create\", \"csr\", \"ct\", \"cum\", \"customer\", \"dallas\", \"data\", \"delphi\", \"denton\", \"development\", \"director\", \"director_human\", \"director_human\", \"employment\", \"endemol\", \"energetic\", \"energy\", \"engaging\", \"engie\", \"english\", \"entrylevel\", \"environment\", \"environmental\", \"epik\", \"excellence\", \"executive\", \"experienced\", \"ey\", \"forest\", \"fort\", \"francisco\", \"gaithersburg\", \"generalist\", \"generalist\", \"georgia\", \"girardeau\", \"gis\", \"gphr\", \"graduate\", \"graduating\", \"grand\", \"groupe\", \"guard\", \"hardware\", \"heil\", \"helping\", \"highland\", \"houston\", \"houston_texas\", \"houston_texas\", \"hr\", \"hr\", \"hris\", \"human_resources\", \"human_resources\", \"human_resources\", \"human_resources\", \"human_resources\", \"human_resources\", \"human_resources\", \"human_resources\", \"human_resources\", \"humber\", \"illinois\", \"inc\", \"inclusive\", \"indiana\", \"information_systems\", \"intercontinental\", \"international\", \"jackson\", \"japan\", \"jose\", \"jti\", \"katy\", \"kokomo\", \"korea\", \"lab\", \"lafayette\", \"lake\", \"laude\", \"lead\", \"leader\", \"leader\", \"liberal\", \"logging\", \"long_beach\", \"loparex\", \"los_angeles\", \"louis\", \"louisiana\", \"louisiana\", \"love\", \"luxottica\", \"magna\", \"major_aspiring\", \"major_aspiring\", \"management\", \"management_major\", \"manager\", \"manager\", \"manager_seeking\", \"marketing\", \"maryland\", \"maryland\", \"massachusetts\", \"may\", \"medical\", \"michigan\", \"milpitas\", \"mississippi\", \"missouri\", \"monroe\", \"national\", \"native\", \"new_york\", \"new_york\", \"new_york\", \"north_america\", \"north_america\", \"north_carolina\", \"north_carolina\", \"nortia\", \"office\", \"officer\", \"official\", \"opportunities\", \"opportunities\", \"organization\", \"paint\", \"partner\", \"passionate\", \"patient\", \"payroll\", \"people\", \"philadelphia\", \"philadelphia\", \"policies\", \"portfolio\", \"position\", \"position\", \"positions\", \"procedures\", \"professional\", \"professional\", \"professionals\", \"program\", \"programmer\", \"raleigh_durham\", \"raleigh_durham\", \"rapids\", \"recruiter\", \"recruiting\", \"representative\", \"research\", \"resources\", \"resources\", \"resources\", \"resources\", \"resources\", \"resources_generalist\", \"resources_management\", \"resources_manager\", \"resources_professional\", \"resources_professional\", \"resources_professional\", \"resources_professional\", \"resources_specialist\", \"retail_manager\", \"retail_manager\", \"retired\", \"rouge\", \"rrp\", \"ryan\", \"san\", \"san\", \"science\", \"scottmadden\", \"seeking\", \"seeking\", \"seeking_human\", \"seeking_human\", \"seeking_human\", \"seeking_internship\", \"senior\", \"senior\", \"service\", \"shine\", \"software\", \"specialist\", \"specialist\", \"specialist\", \"sphr\", \"st\", \"staffing\", \"staffing\", \"state\", \"student\", \"student\", \"student\", \"student\", \"student\", \"student\", \"styczynski\", \"svp\", \"talent\", \"teacher\", \"teamfocused\", \"tennessee\", \"texas\", \"texas\", \"tobacco\", \"torrance\", \"undergraduate\", \"university\", \"university\", \"university\", \"university\", \"victoria\", \"virginia\", \"wellington\", \"western\", \"westfield\", \"within\", \"woodlands\", \"work\", \"world\", \"worth\"]}, \"R\": 30, \"lambda.step\": 0.01, \"plot.opts\": {\"xlab\": \"PC1\", \"ylab\": \"PC2\"}, \"topic.order\": [14, 10, 13, 6, 5, 7, 3, 18, 17, 8, 16, 9, 2, 15, 1, 19, 4, 12, 11, 20]};\n",
       "\n",
       "function LDAvis_load_lib(url, callback){\n",
       "  var s = document.createElement('script');\n",
       "  s.src = url;\n",
       "  s.async = true;\n",
       "  s.onreadystatechange = s.onload = callback;\n",
       "  s.onerror = function(){console.warn(\"failed to load library \" + url);};\n",
       "  document.getElementsByTagName(\"head\")[0].appendChild(s);\n",
       "}\n",
       "\n",
       "if(typeof(LDAvis) !== \"undefined\"){\n",
       "   // already loaded: just create the visualization\n",
       "   !function(LDAvis){\n",
       "       new LDAvis(\"#\" + \"ldavis_el2935620960121539042884422470\", ldavis_el2935620960121539042884422470_data);\n",
       "   }(LDAvis);\n",
       "}else if(typeof define === \"function\" && define.amd){\n",
       "   // require.js is available: use it to load d3/LDAvis\n",
       "   require.config({paths: {d3: \"https://d3js.org/d3.v5\"}});\n",
       "   require([\"d3\"], function(d3){\n",
       "      window.d3 = d3;\n",
       "      LDAvis_load_lib(\"https://cdn.jsdelivr.net/gh/bmabey/pyLDAvis@3.3.1/pyLDAvis/js/ldavis.v3.0.0.js\", function(){\n",
       "        new LDAvis(\"#\" + \"ldavis_el2935620960121539042884422470\", ldavis_el2935620960121539042884422470_data);\n",
       "      });\n",
       "    });\n",
       "}else{\n",
       "    // require.js not available: dynamically load d3 & LDAvis\n",
       "    LDAvis_load_lib(\"https://d3js.org/d3.v5.js\", function(){\n",
       "         LDAvis_load_lib(\"https://cdn.jsdelivr.net/gh/bmabey/pyLDAvis@3.3.1/pyLDAvis/js/ldavis.v3.0.0.js\", function(){\n",
       "                 new LDAvis(\"#\" + \"ldavis_el2935620960121539042884422470\", ldavis_el2935620960121539042884422470_data);\n",
       "            })\n",
       "         });\n",
       "}\n",
       "</script>"
      ],
      "text/plain": [
       "PreparedData(topic_coordinates=              x         y  topics  cluster       Freq\n",
       "topic                                                \n",
       "13     0.084650 -0.078556       1        1  10.676211\n",
       "9      0.115216 -0.077778       2        1  10.399012\n",
       "12     0.122339 -0.009973       3        1   9.531765\n",
       "5      0.151695  0.029167       4        1   8.422022\n",
       "4     -0.011567  0.027385       5        1   6.764358\n",
       "6      0.015026  0.185198       6        1   6.309408\n",
       "2     -0.058308 -0.045530       7        1   5.401556\n",
       "17    -0.074142 -0.076194       8        1   5.328173\n",
       "16     0.005278  0.011123       9        1   5.323010\n",
       "7     -0.053450  0.008511      10        1   5.323010\n",
       "15    -0.119014  0.022325      11        1   5.034956\n",
       "8      0.041436  0.143392      12        1   4.249610\n",
       "1      0.010371 -0.091500      13        1   3.604885\n",
       "14    -0.081139 -0.009308      14        1   3.038371\n",
       "0     -0.076344 -0.010323      15        1   2.680306\n",
       "18    -0.012980 -0.029819      16        1   2.108140\n",
       "3      0.047021 -0.023373      17        1   1.824363\n",
       "11    -0.044841  0.028426      18        1   1.824363\n",
       "10    -0.039175 -0.004128      19        1   1.543355\n",
       "19    -0.022070  0.000953      20        1   0.613124, topic_info=                    Term       Freq      Total Category  logprob  loglift\n",
       "1         aspiring_human   6.000000   6.000000  Default  30.0000  30.0000\n",
       "65       human_resources  10.000000  10.000000  Default  29.0000  29.0000\n",
       "8          houston_texas   3.000000   3.000000  Default  28.0000  28.0000\n",
       "28              new_york   3.000000   3.000000  Default  27.0000  27.0000\n",
       "62               atlanta   2.000000   2.000000  Default  26.0000  26.0000\n",
       "..                   ...        ...        ...      ...      ...      ...\n",
       "21           coordinator   0.008937   1.542080  Topic20  -5.4638  -0.0563\n",
       "26                 texas   0.008937   1.636121  Topic20  -5.4638  -0.1155\n",
       "27                  city   0.008937   2.188376  Topic20  -5.4638  -0.4064\n",
       "28              new_york   0.008937   3.589610  Topic20  -5.4638  -0.9012\n",
       "29  resources_specialist   0.008937   1.259931  Topic20  -5.4638   0.1458\n",
       "\n",
       "[909 rows x 6 columns], token_table=      Topic      Freq            Term\n",
       "term                                 \n",
       "0         4  0.820658            2019\n",
       "215       2  0.793687            2020\n",
       "231       8  0.864544  administration\n",
       "107       9  0.864992  administrative\n",
       "195       3  0.804996      admissions\n",
       "...     ...       ...             ...\n",
       "194      10  0.892890          within\n",
       "61        1  0.792947       woodlands\n",
       "118       3  0.804993            work\n",
       "155       2  0.793690           world\n",
       "128       5  0.826261           worth\n",
       "\n",
       "[289 rows x 3 columns], R=30, lambda_step=0.01, plot_opts={'xlab': 'PC1', 'ylab': 'PC2'}, topic_order=[14, 10, 13, 6, 5, 7, 3, 18, 17, 8, 16, 9, 2, 15, 1, 19, 4, 12, 11, 20])"
      ]
     },
     "execution_count": 43,
     "metadata": {},
     "output_type": "execute_result"
    }
   ],
   "source": [
    "lda_viz"
   ]
  },
  {
   "cell_type": "markdown",
   "id": "e59251ec",
   "metadata": {},
   "source": [
    "#### Interpret pyLDAvis’s output"
   ]
  },
  {
   "cell_type": "markdown",
   "id": "2f902871",
   "metadata": {},
   "source": [
    "* A good topic model will have fairly big, non-overlapping bubbles scattered throughout the chart instead of being clustered in one quadrant.</br>\n",
    "* Each bubble on the left-hand side plot represents a topic. The larger the bubble, the more prevalent is that topic.</br>\n",
    "\n",
    "* Blue bars represent the overall frequency of each word in the corpus. If no topic is selected, the blue bars of the most frequently used words will be displayed.</br>\n",
    "* Red bars give the estimated number of times a given term was generated by a given topic\n",
    "* The word with the longest red bar is the word that is used the most by the texts belonging to that topic."
   ]
  },
  {
   "cell_type": "markdown",
   "id": "fd3f6ab6",
   "metadata": {},
   "source": [
    "### Testing model on unseen data"
   ]
  },
  {
   "cell_type": "markdown",
   "id": "1311b59e",
   "metadata": {},
   "source": [
    "#### Using LDA model"
   ]
  },
  {
   "cell_type": "markdown",
   "id": "a7e89856",
   "metadata": {},
   "source": [
    "#### Print the topic associations with the documents for LDA"
   ]
  },
  {
   "cell_type": "code",
   "execution_count": 55,
   "id": "c89fceca",
   "metadata": {},
   "outputs": [
    {
     "name": "stdout",
     "output_type": "stream",
     "text": [
      "doc :  0 [(5, 0.9269225)]\n",
      "doc :  1 [(15, 0.894444)]\n",
      "doc :  2 [(0, 0.010000036), (1, 0.010000036), (2, 0.010000036), (3, 0.010000036), (4, 0.010000036), (5, 0.010000036), (6, 0.010000036), (7, 0.010000036), (8, 0.80999935), (9, 0.010000036), (10, 0.010000036), (11, 0.010000036), (12, 0.010000036), (13, 0.010000036), (14, 0.010000036), (15, 0.010000036), (16, 0.010000036), (17, 0.010000036), (18, 0.010000036), (19, 0.010000036)]\n",
      "doc :  3 [(14, 0.8642852)]\n",
      "doc :  4 [(0, 0.010000079), (1, 0.010000079), (2, 0.010000079), (3, 0.010000079), (4, 0.010000079), (5, 0.010000079), (6, 0.010000079), (7, 0.010000079), (8, 0.010000079), (9, 0.8099985), (10, 0.010000079), (11, 0.010000079), (12, 0.010000079), (13, 0.010000079), (14, 0.010000079), (15, 0.010000079), (16, 0.010000079), (17, 0.010000079), (18, 0.01000008), (19, 0.010000079)]\n",
      "doc :  5 [(9, 0.8642846)]\n",
      "doc :  6 [(5, 0.86428463)]\n",
      "doc :  7 [(8, 0.86428505)]\n",
      "doc :  8 [(12, 0.86428463)]\n",
      "doc :  9 [(13, 0.9321421)]\n",
      "doc :  10 [(1, 0.8812496)]\n",
      "doc :  11 [(13, 0.8416653)]\n",
      "doc :  12 [(6, 0.84166586)]\n",
      "doc :  13 [(8, 0.8416661)]\n",
      "doc :  14 [(9, 0.86428475)]\n",
      "doc :  15 [(1, 0.84166604)]\n",
      "doc :  16 [(2, 0.8944438)]\n",
      "doc :  17 [(17, 0.92692274)]\n",
      "doc :  18 [(5, 0.86428505)]\n",
      "doc :  19 [(12, 0.86428463)]\n",
      "doc :  20 [(3, 0.8416662)]\n",
      "doc :  21 [(0, 0.012500076), (1, 0.012500076), (2, 0.76249856), (3, 0.012500076), (4, 0.012500076), (5, 0.012500076), (6, 0.012500076), (7, 0.012500076), (8, 0.012500076), (9, 0.012500077), (10, 0.012500076), (11, 0.012500076), (12, 0.012500076), (13, 0.012500076), (14, 0.012500076), (15, 0.012500076), (16, 0.012500076), (17, 0.012500076), (18, 0.012500076), (19, 0.012500076)]\n",
      "doc :  22 [(16, 0.91363585)]\n",
      "doc :  23 [(12, 0.9208327)]\n",
      "doc :  24 [(4, 0.9269226)]\n",
      "doc :  25 [(16, 0.89444387)]\n",
      "doc :  26 [(0, 0.89444405)]\n",
      "doc :  27 [(13, 0.89444345)]\n",
      "doc :  28 [(6, 0.8642848)]\n",
      "doc :  29 [(13, 0.8812489)]\n",
      "doc :  30 [(9, 0.89444363)]\n",
      "doc :  31 [(15, 0.9049995)]\n",
      "doc :  32 [(2, 0.8944438)]\n",
      "doc :  33 [(7, 0.8944438)]\n",
      "doc :  34 [(0, 0.01000006), (1, 0.01000006), (2, 0.01000006), (3, 0.01000006), (4, 0.01000006), (5, 0.01000006), (6, 0.01000006), (7, 0.01000006), (8, 0.01000006), (9, 0.01000006), (10, 0.01000006), (11, 0.01000006), (12, 0.80999887), (13, 0.01000006), (14, 0.01000006), (15, 0.01000006), (16, 0.01000006), (17, 0.01000006), (18, 0.01000006), (19, 0.01000006)]\n",
      "doc :  35 [(0, 0.010000042), (1, 0.010000044), (2, 0.010000042), (3, 0.010000042), (4, 0.010000042), (5, 0.010000042), (6, 0.010000042), (7, 0.010000042), (8, 0.010000042), (9, 0.010000042), (10, 0.010000042), (11, 0.010000042), (12, 0.010000042), (13, 0.010000042), (14, 0.8099992), (15, 0.010000042), (16, 0.010000042), (17, 0.010000042), (18, 0.010000042), (19, 0.010000042)]\n",
      "doc :  36 [(13, 0.86428446)]\n",
      "doc :  37 [(6, 0.8642851)]\n",
      "doc :  38 [(7, 0.91363585)]\n",
      "doc :  39 [(12, 0.89444375)]\n",
      "doc :  40 [(6, 0.86428493)]\n",
      "doc :  41 [(4, 0.9208329)]\n",
      "doc :  42 [(0, 0.016666768), (1, 0.016666768), (2, 0.016666768), (3, 0.016666768), (4, 0.016666768), (5, 0.6833314), (6, 0.016666768), (7, 0.016666768), (8, 0.016666768), (9, 0.016666768), (10, 0.016666768), (11, 0.016666768), (12, 0.016666768), (13, 0.016666768), (14, 0.016666768), (15, 0.016666768), (16, 0.016666768), (17, 0.016666768), (18, 0.016666768), (19, 0.016666768)]\n",
      "doc :  43 [(11, 0.8416662)]\n",
      "doc :  44 [(9, 0.93666613)]\n",
      "doc :  45 [(5, 0.84166604)]\n",
      "doc :  46 [(18, 0.8642853)]\n",
      "doc :  47 [(0, 0.0100000305), (1, 0.0100000305), (2, 0.0100000305), (3, 0.0100000305), (4, 0.0100000305), (5, 0.0100000305), (6, 0.0100000305), (7, 0.0100000305), (8, 0.0100000305), (9, 0.0100000305), (10, 0.80999947), (11, 0.0100000305), (12, 0.0100000305), (13, 0.0100000305), (14, 0.0100000305), (15, 0.0100000305), (16, 0.0100000305), (17, 0.0100000305), (18, 0.0100000305), (19, 0.0100000305)]\n",
      "doc :  48 [(17, 0.86428493)]\n"
     ]
    }
   ],
   "source": [
    "# printing the topic associations with the original documents for the LDA model\n",
    "count = 0\n",
    "for i in ldamodel[bow_corpus]:\n",
    "    print('doc : ', count, i)\n",
    "    count += 1"
   ]
  },
  {
   "cell_type": "code",
   "execution_count": 56,
   "id": "848ed5c2",
   "metadata": {},
   "outputs": [],
   "source": [
    "# creating a dataframe to store the associated topics for each document\n",
    "def get_max(doc):\n",
    "        idx,l = zip(*doc)\n",
    "        return idx[np.argmax(l)]\n",
    "\n",
    "data['doc_topic'] = [get_max(doc) for doc in ldamodel.get_document_topics(bow_corpus)]"
   ]
  },
  {
   "cell_type": "code",
   "execution_count": 57,
   "id": "24c4ecd0",
   "metadata": {},
   "outputs": [
    {
     "data": {
      "text/html": [
       "<div>\n",
       "<style scoped>\n",
       "    .dataframe tbody tr th:only-of-type {\n",
       "        vertical-align: middle;\n",
       "    }\n",
       "\n",
       "    .dataframe tbody tr th {\n",
       "        vertical-align: top;\n",
       "    }\n",
       "\n",
       "    .dataframe thead th {\n",
       "        text-align: right;\n",
       "    }\n",
       "</style>\n",
       "<table border=\"1\" class=\"dataframe\">\n",
       "  <thead>\n",
       "    <tr style=\"text-align: right;\">\n",
       "      <th></th>\n",
       "      <th>combined</th>\n",
       "      <th>doc_topic</th>\n",
       "    </tr>\n",
       "  </thead>\n",
       "  <tbody>\n",
       "    <tr>\n",
       "      <th>0</th>\n",
       "      <td>2019 ct bauer college business graduate magna cum laude aspiring human resources professional houston texas</td>\n",
       "      <td>5</td>\n",
       "    </tr>\n",
       "    <tr>\n",
       "      <th>1</th>\n",
       "      <td>native english teacher epik english program korea canada</td>\n",
       "      <td>15</td>\n",
       "    </tr>\n",
       "    <tr>\n",
       "      <th>2</th>\n",
       "      <td>aspiring human resources professional raleigh durham north carolina</td>\n",
       "      <td>8</td>\n",
       "    </tr>\n",
       "    <tr>\n",
       "      <th>3</th>\n",
       "      <td>people development coordinator ryan denton texas</td>\n",
       "      <td>14</td>\n",
       "    </tr>\n",
       "    <tr>\n",
       "      <th>4</th>\n",
       "      <td>aspiring human resources specialist new york city</td>\n",
       "      <td>9</td>\n",
       "    </tr>\n",
       "    <tr>\n",
       "      <th>5</th>\n",
       "      <td>student humber college aspiring human resources generalist canada</td>\n",
       "      <td>9</td>\n",
       "    </tr>\n",
       "    <tr>\n",
       "      <th>6</th>\n",
       "      <td>hr senior specialist san francisco bay</td>\n",
       "      <td>5</td>\n",
       "    </tr>\n",
       "    <tr>\n",
       "      <th>7</th>\n",
       "      <td>seeking human resources hris generalist positions philadelphia</td>\n",
       "      <td>8</td>\n",
       "    </tr>\n",
       "    <tr>\n",
       "      <th>8</th>\n",
       "      <td>student chapman university lake forest california</td>\n",
       "      <td>12</td>\n",
       "    </tr>\n",
       "    <tr>\n",
       "      <th>9</th>\n",
       "      <td>svp chro marketing communications csr officer engie houston woodlands energy gphr sphr houston texas</td>\n",
       "      <td>13</td>\n",
       "    </tr>\n",
       "  </tbody>\n",
       "</table>\n",
       "</div>"
      ],
      "text/plain": [
       "                                                                                                      combined  \\\n",
       "0  2019 ct bauer college business graduate magna cum laude aspiring human resources professional houston texas   \n",
       "1                                                     native english teacher epik english program korea canada   \n",
       "2                                         aspiring human resources professional raleigh durham north carolina    \n",
       "3                                                             people development coordinator ryan denton texas   \n",
       "4                                                           aspiring human resources specialist new york city    \n",
       "5                                            student humber college aspiring human resources generalist canada   \n",
       "6                                                                      hr senior specialist san francisco bay    \n",
       "7                                              seeking human resources hris generalist positions philadelphia    \n",
       "8                                                            student chapman university lake forest california   \n",
       "9        svp chro marketing communications csr officer engie houston woodlands energy gphr sphr houston texas    \n",
       "\n",
       "   doc_topic  \n",
       "0          5  \n",
       "1         15  \n",
       "2          8  \n",
       "3         14  \n",
       "4          9  \n",
       "5          9  \n",
       "6          5  \n",
       "7          8  \n",
       "8         12  \n",
       "9         13  "
      ]
     },
     "execution_count": 57,
     "metadata": {},
     "output_type": "execute_result"
    }
   ],
   "source": [
    "df1 = data[['combined', 'doc_topic']]\n",
    "df1.head(10)"
   ]
  },
  {
   "cell_type": "markdown",
   "id": "0ad58f76",
   "metadata": {},
   "source": [
    "#### Unseen Text - 1"
   ]
  },
  {
   "cell_type": "code",
   "execution_count": 58,
   "id": "66aac116",
   "metadata": {},
   "outputs": [
    {
     "name": "stdout",
     "output_type": "stream",
     "text": [
      "[(0, 0.025000133), (1, 0.025000133), (2, 0.025000133), (3, 0.025000133), (4, 0.025000133), (5, 0.025000133), (6, 0.025000133), (7, 0.025000133), (8, 0.025000133), (9, 0.025000133), (10, 0.025000133), (11, 0.025000133), (12, 0.025000133), (13, 0.025000133), (14, 0.5249975), (15, 0.025000133), (16, 0.025000146), (17, 0.025000133), (18, 0.025000133), (19, 0.025000133)]\n"
     ]
    }
   ],
   "source": [
    "test_doc = 'aspiring human resources'\n",
    "bow_test_doc = dictionary.doc2bow(test_doc.split())\n",
    "\n",
    "print(ldamodel.get_document_topics(bow_test_doc))"
   ]
  },
  {
   "cell_type": "markdown",
   "id": "ce392aea",
   "metadata": {},
   "source": [
    "The unseen text has a higher probability with topic 2 "
   ]
  },
  {
   "cell_type": "code",
   "execution_count": 60,
   "id": "d7c7393d",
   "metadata": {},
   "outputs": [
    {
     "data": {
      "text/html": [
       "<div>\n",
       "<style scoped>\n",
       "    .dataframe tbody tr th:only-of-type {\n",
       "        vertical-align: middle;\n",
       "    }\n",
       "\n",
       "    .dataframe tbody tr th {\n",
       "        vertical-align: top;\n",
       "    }\n",
       "\n",
       "    .dataframe thead th {\n",
       "        text-align: right;\n",
       "    }\n",
       "</style>\n",
       "<table border=\"1\" class=\"dataframe\">\n",
       "  <thead>\n",
       "    <tr style=\"text-align: right;\">\n",
       "      <th></th>\n",
       "      <th>combined</th>\n",
       "      <th>doc_topic</th>\n",
       "    </tr>\n",
       "  </thead>\n",
       "  <tbody>\n",
       "    <tr>\n",
       "      <th>16</th>\n",
       "      <td>director human resources north america groupe beneteau grand rapids michigan</td>\n",
       "      <td>2</td>\n",
       "    </tr>\n",
       "    <tr>\n",
       "      <th>21</th>\n",
       "      <td>human resources professional boston</td>\n",
       "      <td>2</td>\n",
       "    </tr>\n",
       "    <tr>\n",
       "      <th>32</th>\n",
       "      <td>information systems specialist programmer love data organization gaithersburg maryland</td>\n",
       "      <td>2</td>\n",
       "    </tr>\n",
       "  </tbody>\n",
       "</table>\n",
       "</div>"
      ],
      "text/plain": [
       "                                                                                  combined  \\\n",
       "16           director human resources north america groupe beneteau grand rapids michigan    \n",
       "21                                                    human resources professional boston    \n",
       "32  information systems specialist programmer love data organization gaithersburg maryland   \n",
       "\n",
       "    doc_topic  \n",
       "16          2  \n",
       "21          2  \n",
       "32          2  "
      ]
     },
     "execution_count": 60,
     "metadata": {},
     "output_type": "execute_result"
    }
   ],
   "source": [
    "df1.loc[df1['doc_topic'] == 2]"
   ]
  },
  {
   "cell_type": "code",
   "execution_count": null,
   "id": "ad8c9c8b",
   "metadata": {},
   "outputs": [],
   "source": [
    "The above list shows all the documents that are displayed for the unseen text"
   ]
  },
  {
   "cell_type": "markdown",
   "id": "d57542b1",
   "metadata": {},
   "source": [
    "#### Unseen Text - 2"
   ]
  },
  {
   "cell_type": "code",
   "execution_count": 61,
   "id": "96ad8508",
   "metadata": {},
   "outputs": [
    {
     "name": "stdout",
     "output_type": "stream",
     "text": [
      "[(0, 0.012500164), (1, 0.012500164), (2, 0.012500164), (3, 0.012500164), (4, 0.012500164), (5, 0.012500164), (6, 0.012500164), (7, 0.26249456), (8, 0.012500164), (9, 0.012500164), (10, 0.012500164), (11, 0.012500164), (12, 0.012500164), (13, 0.012500164), (14, 0.012500164), (15, 0.5125025), (16, 0.012500164), (17, 0.012500164), (18, 0.012500164), (19, 0.012500164)]\n"
     ]
    }
   ],
   "source": [
    "unseen_text = \"seeking english teacher\"\n",
    "bow_unseen = dictionary.doc2bow(unseen_text.split())\n",
    "\n",
    "print(ldamodel.get_document_topics(bow_unseen))"
   ]
  },
  {
   "cell_type": "markdown",
   "id": "7abde826",
   "metadata": {},
   "source": [
    "The unseen text has a higher probability with topic 5"
   ]
  },
  {
   "cell_type": "code",
   "execution_count": 62,
   "id": "10e89501",
   "metadata": {},
   "outputs": [
    {
     "data": {
      "text/html": [
       "<div>\n",
       "<style scoped>\n",
       "    .dataframe tbody tr th:only-of-type {\n",
       "        vertical-align: middle;\n",
       "    }\n",
       "\n",
       "    .dataframe tbody tr th {\n",
       "        vertical-align: top;\n",
       "    }\n",
       "\n",
       "    .dataframe thead th {\n",
       "        text-align: right;\n",
       "    }\n",
       "</style>\n",
       "<table border=\"1\" class=\"dataframe\">\n",
       "  <thead>\n",
       "    <tr style=\"text-align: right;\">\n",
       "      <th></th>\n",
       "      <th>combined</th>\n",
       "      <th>doc_topic</th>\n",
       "    </tr>\n",
       "  </thead>\n",
       "  <tbody>\n",
       "    <tr>\n",
       "      <th>0</th>\n",
       "      <td>2019 ct bauer college business graduate magna cum laude aspiring human resources professional houston texas</td>\n",
       "      <td>5</td>\n",
       "    </tr>\n",
       "    <tr>\n",
       "      <th>6</th>\n",
       "      <td>hr senior specialist san francisco bay</td>\n",
       "      <td>5</td>\n",
       "    </tr>\n",
       "    <tr>\n",
       "      <th>18</th>\n",
       "      <td>human resources generalist scottmadden inc raleigh durham north carolina</td>\n",
       "      <td>5</td>\n",
       "    </tr>\n",
       "    <tr>\n",
       "      <th>42</th>\n",
       "      <td>student houston texas</td>\n",
       "      <td>5</td>\n",
       "    </tr>\n",
       "    <tr>\n",
       "      <th>45</th>\n",
       "      <td>human resources generalist loparex raleigh durham north carolina</td>\n",
       "      <td>5</td>\n",
       "    </tr>\n",
       "  </tbody>\n",
       "</table>\n",
       "</div>"
      ],
      "text/plain": [
       "                                                                                                       combined  \\\n",
       "0   2019 ct bauer college business graduate magna cum laude aspiring human resources professional houston texas   \n",
       "6                                                                       hr senior specialist san francisco bay    \n",
       "18                                    human resources generalist scottmadden inc raleigh durham north carolina    \n",
       "42                                                                                       student houston texas    \n",
       "45                                            human resources generalist loparex raleigh durham north carolina    \n",
       "\n",
       "    doc_topic  \n",
       "0           5  \n",
       "6           5  \n",
       "18          5  \n",
       "42          5  \n",
       "45          5  "
      ]
     },
     "execution_count": 62,
     "metadata": {},
     "output_type": "execute_result"
    }
   ],
   "source": [
    "df1.loc[df1['doc_topic'] == 5]"
   ]
  },
  {
   "cell_type": "code",
   "execution_count": null,
   "id": "ca4303a1",
   "metadata": {},
   "outputs": [],
   "source": []
  },
  {
   "cell_type": "markdown",
   "id": "92f1366c",
   "metadata": {},
   "source": [
    "## Using Doc2Vec\n",
    "\n",
    "Vector representation of entire sentence </br>\n",
    "\n",
    "In Gensim, Paragraph Vector model is referred as Doc2Vec.</br>\n",
    "\n",
    "Le and Mikolov in 2014 introduced the Doc2Vec algorithm <https://cs.stanford.edu/~quocle/paragraph_vector.pdf>, which usually outperforms such simple-averaging of Word2Vec vectors.</br>\n",
    "\n",
    "There are two implementations:</br>\n",
    "\n",
    "* Paragraph Vector - Distributed Memory (PV-DM)\n",
    "* Paragraph Vector - Distributed Bag of Words (PV-DBOW)\n",
    "\n",
    "PV-DM is analogous to Word2Vec CBOW. The doc-vectors are obtained by training a neural network on the synthetic task of predicting a center word based an average of both context word-vectors and the full document's doc-vector.</br>\n",
    "\n",
    "PV-DBOW is analogous to Word2Vec SG. The doc-vectors are obtained by training a neural network on the synthetic task of predicting a target word just from the full document's doc-vector. (It is also common to combine this with skip-gram testing, using both the doc-vector and nearby word-vectors to predict a single target word, but only one at a time.)</br>"
   ]
  },
  {
   "cell_type": "code",
   "execution_count": 63,
   "id": "b6691c80",
   "metadata": {},
   "outputs": [],
   "source": [
    "from gensim.models.doc2vec import Doc2Vec, TaggedDocument"
   ]
  },
  {
   "cell_type": "code",
   "execution_count": 64,
   "id": "8aaa4bc8",
   "metadata": {},
   "outputs": [],
   "source": [
    "tagged_data = [TaggedDocument(words=TreebankWordTokenizer().tokenize(d), tags=[str(i)]) for i, d in enumerate(X_train)]"
   ]
  },
  {
   "cell_type": "code",
   "execution_count": 65,
   "id": "79452aec",
   "metadata": {},
   "outputs": [
    {
     "data": {
      "text/plain": [
       "[TaggedDocument(words=['2019', 'ct', 'bauer', 'college', 'business', 'graduate', 'magna', 'cum', 'laude', 'aspiring', 'human', 'resources', 'professional', 'houston', 'texas'], tags=['0']),\n",
       " TaggedDocument(words=['native', 'english', 'teacher', 'epik', 'english', 'program', 'korea', 'canada'], tags=['1']),\n",
       " TaggedDocument(words=['aspiring', 'human', 'resources', 'professional', 'raleigh', 'durham', 'north', 'carolina'], tags=['2']),\n",
       " TaggedDocument(words=['people', 'development', 'coordinator', 'ryan', 'denton', 'texas'], tags=['3']),\n",
       " TaggedDocument(words=['aspiring', 'human', 'resources', 'specialist', 'new', 'york', 'city'], tags=['4']),\n",
       " TaggedDocument(words=['student', 'humber', 'college', 'aspiring', 'human', 'resources', 'generalist', 'canada'], tags=['5']),\n",
       " TaggedDocument(words=['hr', 'senior', 'specialist', 'san', 'francisco', 'bay'], tags=['6']),\n",
       " TaggedDocument(words=['seeking', 'human', 'resources', 'hris', 'generalist', 'positions', 'philadelphia'], tags=['7']),\n",
       " TaggedDocument(words=['student', 'chapman', 'university', 'lake', 'forest', 'california'], tags=['8']),\n",
       " TaggedDocument(words=['svp', 'chro', 'marketing', 'communications', 'csr', 'officer', 'engie', 'houston', 'woodlands', 'energy', 'gphr', 'sphr', 'houston', 'texas'], tags=['9']),\n",
       " TaggedDocument(words=['human', 'resources', 'coordinator', 'intercontinental', 'buckhead', 'atlanta', 'atlanta', 'georgia'], tags=['10']),\n",
       " TaggedDocument(words=['aspiring', 'human', 'resources', 'management', 'student', 'seeking', 'internship', 'houston', 'texas'], tags=['11']),\n",
       " TaggedDocument(words=['seeking', 'human', 'resources', 'opportunities', 'chicago', 'illinois'], tags=['12']),\n",
       " TaggedDocument(words=['experienced', 'retail', 'manager', 'aspiring', 'human', 'resources', 'professional', 'austin', 'texas'], tags=['13']),\n",
       " TaggedDocument(words=['human', 'resources', 'staffing', 'recruiting', 'professional', 'jackson', 'mississippi'], tags=['14']),\n",
       " TaggedDocument(words=['human', 'resources', 'specialist', 'luxottica', 'new', 'york', 'city'], tags=['15']),\n",
       " TaggedDocument(words=['director', 'human', 'resources', 'north', 'america', 'groupe', 'beneteau', 'grand', 'rapids', 'michigan'], tags=['16']),\n",
       " TaggedDocument(words=['retired', 'army', 'national', 'guard', 'recruiter', 'office', 'manager', 'seeking', 'position', 'human', 'resources', 'virginia', 'beach', 'virginia'], tags=['17']),\n",
       " TaggedDocument(words=['human', 'resources', 'generalist', 'scottmadden', 'inc', 'raleigh', 'durham', 'north', 'carolina'], tags=['18']),\n",
       " TaggedDocument(words=['business', 'management', 'major', 'aspiring', 'human', 'resources', 'manager', 'monroe', 'louisiana'], tags=['19']),\n",
       " TaggedDocument(words=['aspiring', 'human', 'resources', 'manager', 'seeking', 'internship', 'human', 'resources', 'houston', 'texas'], tags=['20']),\n",
       " TaggedDocument(words=['human', 'resources', 'professional', 'boston'], tags=['21']),\n",
       " TaggedDocument(words=['nortia', 'staffing', 'seeking', 'human', 'resources', 'payroll', 'administrative', 'professionals', 'san', 'jose', 'california'], tags=['22']),\n",
       " TaggedDocument(words=['aspiring', 'human', 'resources', 'professional', 'passionate', 'helping', 'create', 'inclusive', 'engaging', 'work', 'environment', 'new', 'york', 'new', 'york'], tags=['23']),\n",
       " TaggedDocument(words=['human', 'resources', 'conflict', 'management', 'policies', 'procedures', 'talent', 'management', 'benefits', 'compensation', 'dallas', 'fort', 'worth'], tags=['24']),\n",
       " TaggedDocument(words=['liberal', 'arts', 'major', 'aspiring', 'human', 'resources', 'analyst', 'baton', 'rouge', 'louisiana'], tags=['25']),\n",
       " TaggedDocument(words=['junior', 'mes', 'engineer', 'information', 'systems', 'myrtle', 'beach', 'south', 'carolina'], tags=['26']),\n",
       " TaggedDocument(words=['senior', 'human', 'resources', 'business', 'partner', 'heil', 'environmental', 'chattanooga', 'tennessee'], tags=['27']),\n",
       " TaggedDocument(words=['aspiring', 'human', 'resources', 'professional', 'energetic', 'teamfocused', 'leader', 'austin', 'texas'], tags=['28']),\n",
       " TaggedDocument(words=['hr', 'manager', 'endemol', 'shine', 'north', 'america', 'los', 'angeles', 'california'], tags=['29']),\n",
       " TaggedDocument(words=['human', 'resources', 'professional', 'world', 'leader', 'gis', 'software', 'highland', 'california'], tags=['30']),\n",
       " TaggedDocument(words=['rrp', 'brand', 'portfolio', 'executive', 'jti', 'japan', 'tobacco', 'international', 'philadelphia'], tags=['31']),\n",
       " TaggedDocument(words=['information', 'systems', 'specialist', 'programmer', 'love', 'data', 'organization', 'gaithersburg', 'maryland'], tags=['32']),\n",
       " TaggedDocument(words=['bachelor', 'science', 'biology', 'victoria', 'university', 'wellington', 'baltimore', 'maryland'], tags=['33']),\n",
       " TaggedDocument(words=['human', 'resources', 'management', 'major', 'milpitas', 'california'], tags=['34']),\n",
       " TaggedDocument(words=['director', 'human', 'resources', 'ey', 'atlanta'], tags=['35']),\n",
       " TaggedDocument(words=['undergraduate', 'research', 'assistant', 'styczynski', 'lab', 'atlanta'], tags=['36']),\n",
       " TaggedDocument(words=['lead', 'official', 'western', 'illinois', 'university', 'chicago'], tags=['37']),\n",
       " TaggedDocument(words=['seeking', 'employment', 'opportunities', 'within', 'customer', 'service', 'patient', 'care', 'torrance', 'california'], tags=['38']),\n",
       " TaggedDocument(words=['admissions', 'representative', 'community', 'medical', 'center', 'long', 'beach', 'long', 'beach', 'california'], tags=['39']),\n",
       " TaggedDocument(words=['student', 'westfield', 'state', 'university', 'bridgewater', 'massachusetts'], tags=['40']),\n",
       " TaggedDocument(words=['student', 'indiana', 'university', 'kokomo', 'business', 'management', 'retail', 'manager', 'delphi', 'hardware', 'paint', 'lafayette', 'indiana'], tags=['41']),\n",
       " TaggedDocument(words=['student', 'houston', 'texas'], tags=['42']),\n",
       " TaggedDocument(words=['seeking', 'human', 'resources', 'position', 'las', 'vegas', 'nevada'], tags=['43']),\n",
       " TaggedDocument(words=['aspiring', 'human', 'resources', 'manager', 'graduating', 'may', '2020', 'seeking', 'entrylevel', 'human', 'resources', 'position', 'st', 'louis', 'cape', 'girardeau', 'missouri'], tags=['44']),\n",
       " TaggedDocument(words=['human', 'resources', 'generalist', 'loparex', 'raleigh', 'durham', 'north', 'carolina'], tags=['45']),\n",
       " TaggedDocument(words=['business', 'intelligence', 'analytics', 'travelers', 'new', 'york', 'city'], tags=['46']),\n",
       " TaggedDocument(words=['always', 'set', 'success', 'los', 'angeles'], tags=['47']),\n",
       " TaggedDocument(words=['director', 'administration', 'excellence', 'logging', 'katy', 'texas'], tags=['48'])]"
      ]
     },
     "execution_count": 65,
     "metadata": {},
     "output_type": "execute_result"
    }
   ],
   "source": [
    "tagged_data"
   ]
  },
  {
   "cell_type": "markdown",
   "id": "bc311fcb",
   "metadata": {},
   "source": [
    "### Training the Model\n",
    "\n",
    "Now, we'll instantiate a Doc2Vec model with a vector size with 50 dimensions and iterating over the training corpus 40 times. We set the minimum word count to 2 in order to discard words with very few occurrences. (Without a variety of representative examples, retaining such infrequent words can often make a model worse!) Typical iteration counts in the published Paragraph Vector paper <https://cs.stanford.edu/~quocle/paragraph_vector.pdf>__ results, using 10s-of-thousands to millions of docs, are 10-20. More iterations take more time and eventually reach a point of diminishing returns.\n",
    "\n",
    "However, this is a very very small dataset (49 documents) with shortish documents (a few hundred words). Adding training passes can sometimes help with such small datasets."
   ]
  },
  {
   "cell_type": "code",
   "execution_count": 66,
   "id": "8c6a2f52",
   "metadata": {},
   "outputs": [],
   "source": [
    "#d2v_model = gensim.models.doc2vec.Doc2Vec(vector_size=50, min_count=2, epochs=40)\n",
    "d2v_model = Doc2Vec(vector_size=50, min_count=2, epochs=40)"
   ]
  },
  {
   "cell_type": "markdown",
   "id": "63b9da60",
   "metadata": {},
   "source": [
    "#### Build a vocabulary"
   ]
  },
  {
   "cell_type": "code",
   "execution_count": 67,
   "id": "3cddbef7",
   "metadata": {},
   "outputs": [],
   "source": [
    "d2v_model.build_vocab(tagged_data)"
   ]
  },
  {
   "cell_type": "markdown",
   "id": "0509495e",
   "metadata": {},
   "source": [
    "Essentially, the vocabulary is a list (accessible via model.wv.index_to_key) of all of the unique words extracted from the training corpus. Additional attributes for each word are available using the model.wv.get_vecattr() method"
   ]
  },
  {
   "cell_type": "code",
   "execution_count": 68,
   "id": "aef500a4",
   "metadata": {},
   "outputs": [
    {
     "name": "stdout",
     "output_type": "stream",
     "text": [
      "Word 'human' appeared 31 times in the training corpus.\n"
     ]
    }
   ],
   "source": [
    "print(f\"Word 'human' appeared {d2v_model.wv.get_vecattr('human', 'count')} times in the training corpus.\")"
   ]
  },
  {
   "cell_type": "markdown",
   "id": "a218ee03",
   "metadata": {},
   "source": [
    "#### Train the model \n",
    "\n",
    "Train the model on the corpus. If optimized Gensim (with BLAS library) is being used, this should take no more than 3 seconds. If the BLAS library is not being used, this should take no more than 2 minutes, so use optimized Gensim with BLAS "
   ]
  },
  {
   "cell_type": "code",
   "execution_count": 69,
   "id": "7028dbfe",
   "metadata": {},
   "outputs": [],
   "source": [
    "d2v_model.train(tagged_data, total_examples=d2v_model.corpus_count, epochs=d2v_model.epochs)"
   ]
  },
  {
   "cell_type": "markdown",
   "id": "2e4c8b40",
   "metadata": {},
   "source": [
    "#### Assessing the Model\n",
    "\n",
    "To assess our new model, we'll first infer new vectors for each document of the training corpus, compare the inferred vectors with the training corpus, and then returning the rank of the document based on self-similarity. Basically, we're pretending as if the training corpus is some new unseen data and then seeing how they compare with the trained model. The expectation is that we've likely overfit our model (i.e., all of the ranks will be less than 2) and so we should be able to find similar documents very easily. Additionally, we'll keep track of the second ranks for a comparison of less similar documents."
   ]
  },
  {
   "cell_type": "code",
   "execution_count": 70,
   "id": "aa6a2e79",
   "metadata": {},
   "outputs": [
    {
     "data": {
      "text/plain": [
       "TaggedDocument(words=['aspiring', 'human', 'resources', 'professional', 'raleigh', 'durham', 'north', 'carolina'], tags=['2'])"
      ]
     },
     "execution_count": 70,
     "metadata": {},
     "output_type": "execute_result"
    }
   ],
   "source": [
    "tagged_data[2]"
   ]
  },
  {
   "cell_type": "code",
   "execution_count": 71,
   "id": "37ca3f4f",
   "metadata": {},
   "outputs": [],
   "source": [
    "similar_doc = d2v_model.dv.most_similar(2)"
   ]
  },
  {
   "cell_type": "code",
   "execution_count": 72,
   "id": "cd08cb0e",
   "metadata": {},
   "outputs": [
    {
     "name": "stdout",
     "output_type": "stream",
     "text": [
      "bachelor science biology victoria university wellington baltimore maryland 0.4710063934326172\n",
      "business management major aspiring human resources manager monroe louisiana  0.2905260920524597\n",
      "hr manager endemol shine north america los angeles california 0.28008565306663513\n",
      "hr senior specialist san francisco bay  0.24462348222732544\n",
      "human resources generalist loparex raleigh durham north carolina  0.21143315732479095\n",
      "2019 ct bauer college business graduate magna cum laude aspiring human resources professional houston texas 0.20833417773246765\n",
      "human resources management major milpitas california 0.1959018111228943\n",
      "director human resources north america groupe beneteau grand rapids michigan  0.19292792677879333\n",
      "lead official western illinois university chicago  0.18737871944904327\n",
      "svp chro marketing communications csr officer engie houston woodlands energy gphr sphr houston texas  0.15180712938308716\n"
     ]
    }
   ],
   "source": [
    "for doc_num, score in similar_doc:\n",
    "    print(X_train[int(doc_num)], score)"
   ]
  },
  {
   "cell_type": "markdown",
   "id": "6c29abf6",
   "metadata": {},
   "source": [
    "#### Test unseen data"
   ]
  }
 ],
 "metadata": {
  "kernelspec": {
   "display_name": "Python 3 (ipykernel)",
   "language": "python",
   "name": "python3"
  },
  "language_info": {
   "codemirror_mode": {
    "name": "ipython",
    "version": 3
   },
   "file_extension": ".py",
   "mimetype": "text/x-python",
   "name": "python",
   "nbconvert_exporter": "python",
   "pygments_lexer": "ipython3",
   "version": "3.8.11"
  }
 },
 "nbformat": 4,
 "nbformat_minor": 5
}
