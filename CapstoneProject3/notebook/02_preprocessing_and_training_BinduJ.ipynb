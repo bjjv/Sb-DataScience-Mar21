{
 "cells": [
  {
   "cell_type": "markdown",
   "id": "838b35a9",
   "metadata": {},
   "source": [
    "##  Pre-processing and Training Data Development"
   ]
  },
  {
   "cell_type": "code",
   "execution_count": 1,
   "id": "82326a67",
   "metadata": {},
   "outputs": [],
   "source": [
    "import pandas as pd\n",
    "import numpy as np\n",
    "\n",
    "import gensim\n",
    "from gensim.corpora.dictionary import Dictionary\n",
    "from nltk.tokenize import TreebankWordTokenizer\n",
    "\n",
    "from gensim.models.tfidfmodel import TfidfModel\n",
    "\n",
    "import warnings\n",
    "warnings.filterwarnings(\"ignore\")"
   ]
  },
  {
   "cell_type": "code",
   "execution_count": 2,
   "id": "e2df3faf",
   "metadata": {
    "scrolled": false
   },
   "outputs": [
    {
     "data": {
      "text/html": [
       "<div>\n",
       "<style scoped>\n",
       "    .dataframe tbody tr th:only-of-type {\n",
       "        vertical-align: middle;\n",
       "    }\n",
       "\n",
       "    .dataframe tbody tr th {\n",
       "        vertical-align: top;\n",
       "    }\n",
       "\n",
       "    .dataframe thead th {\n",
       "        text-align: right;\n",
       "    }\n",
       "</style>\n",
       "<table border=\"1\" class=\"dataframe\">\n",
       "  <thead>\n",
       "    <tr style=\"text-align: right;\">\n",
       "      <th></th>\n",
       "      <th>job_title</th>\n",
       "      <th>location</th>\n",
       "      <th>connection</th>\n",
       "      <th>job_title_nostop</th>\n",
       "      <th>location_cleaned</th>\n",
       "      <th>combined</th>\n",
       "    </tr>\n",
       "  </thead>\n",
       "  <tbody>\n",
       "    <tr>\n",
       "      <th>0</th>\n",
       "      <td>2019 C.T. Bauer College of Business Graduate (Magna Cum Laude) and aspiring Human Resources professional</td>\n",
       "      <td>houston, texas</td>\n",
       "      <td>85.0</td>\n",
       "      <td>2019 ct bauer college business graduate magna cum laude aspiring human resources professional</td>\n",
       "      <td>houston texas</td>\n",
       "      <td>2019 ct bauer college business graduate magna cum laude aspiring human resources professional houston texas</td>\n",
       "    </tr>\n",
       "    <tr>\n",
       "      <th>1</th>\n",
       "      <td>Native English Teacher at EPIK (English Program in Korea)</td>\n",
       "      <td>canada, canada</td>\n",
       "      <td>500.0</td>\n",
       "      <td>native english teacher epik english program korea</td>\n",
       "      <td>canada canada</td>\n",
       "      <td>native english teacher epik english program korea canada canada</td>\n",
       "    </tr>\n",
       "    <tr>\n",
       "      <th>2</th>\n",
       "      <td>Aspiring Human Resources Professional</td>\n",
       "      <td>raleigh durham, north carolina</td>\n",
       "      <td>44.0</td>\n",
       "      <td>aspiring human resources professional</td>\n",
       "      <td>raleigh durham north carolina</td>\n",
       "      <td>aspiring human resources professional raleigh durham north carolina</td>\n",
       "    </tr>\n",
       "    <tr>\n",
       "      <th>3</th>\n",
       "      <td>People Development Coordinator at Ryan</td>\n",
       "      <td>denton, texas</td>\n",
       "      <td>500.0</td>\n",
       "      <td>people development coordinator ryan</td>\n",
       "      <td>denton texas</td>\n",
       "      <td>people development coordinator ryan denton texas</td>\n",
       "    </tr>\n",
       "    <tr>\n",
       "      <th>4</th>\n",
       "      <td>Aspiring Human Resources Specialist</td>\n",
       "      <td>new york, new york</td>\n",
       "      <td>1.0</td>\n",
       "      <td>aspiring human resources specialist</td>\n",
       "      <td>new york new york</td>\n",
       "      <td>aspiring human resources specialist new york new york</td>\n",
       "    </tr>\n",
       "  </tbody>\n",
       "</table>\n",
       "</div>"
      ],
      "text/plain": [
       "                                                                                                  job_title  \\\n",
       "0  2019 C.T. Bauer College of Business Graduate (Magna Cum Laude) and aspiring Human Resources professional   \n",
       "1                                                 Native English Teacher at EPIK (English Program in Korea)   \n",
       "2                                                                     Aspiring Human Resources Professional   \n",
       "3                                                                    People Development Coordinator at Ryan   \n",
       "4                                                                       Aspiring Human Resources Specialist   \n",
       "\n",
       "                         location  connection  \\\n",
       "0                  houston, texas        85.0   \n",
       "1                  canada, canada       500.0   \n",
       "2  raleigh durham, north carolina        44.0   \n",
       "3                   denton, texas       500.0   \n",
       "4              new york, new york         1.0   \n",
       "\n",
       "                                                                                job_title_nostop  \\\n",
       "0  2019 ct bauer college business graduate magna cum laude aspiring human resources professional   \n",
       "1                                              native english teacher epik english program korea   \n",
       "2                                                          aspiring human resources professional   \n",
       "3                                                            people development coordinator ryan   \n",
       "4                                                            aspiring human resources specialist   \n",
       "\n",
       "                location_cleaned  \\\n",
       "0                  houston texas   \n",
       "1                  canada canada   \n",
       "2  raleigh durham north carolina   \n",
       "3                   denton texas   \n",
       "4              new york new york   \n",
       "\n",
       "                                                                                                      combined  \n",
       "0  2019 ct bauer college business graduate magna cum laude aspiring human resources professional houston texas  \n",
       "1                                              native english teacher epik english program korea canada canada  \n",
       "2                                          aspiring human resources professional raleigh durham north carolina  \n",
       "3                                                             people development coordinator ryan denton texas  \n",
       "4                                                        aspiring human resources specialist new york new york  "
      ]
     },
     "execution_count": 2,
     "metadata": {},
     "output_type": "execute_result"
    }
   ],
   "source": [
    "data = pd.read_csv('../data/data_cleaned_3.csv')\n",
    "\n",
    "pd.set_option('display.max_colwidth',None)\n",
    "data.head()"
   ]
  },
  {
   "cell_type": "markdown",
   "id": "28a3bf1f",
   "metadata": {},
   "source": [
    "### Feature Engineering"
   ]
  },
  {
   "cell_type": "markdown",
   "id": "cd2bfc03",
   "metadata": {},
   "source": [
    "Displaying the combined column which contains the text combined with both the job title and location data"
   ]
  },
  {
   "cell_type": "code",
   "execution_count": 3,
   "id": "f6353bed",
   "metadata": {
    "scrolled": true
   },
   "outputs": [
    {
     "data": {
      "text/plain": [
       "2019 ct bauer college business graduate magna cum laude aspiring human resources professional houston texas                          1\n",
       "liberal arts major aspiring human resources analyst baton rouge louisiana                                                            1\n",
       "senior human resources business partner heil environmental chattanooga tennessee                                                     1\n",
       "aspiring human resources professional energetic teamfocused leader austin texas                                                      1\n",
       "hr manager endemol shine north america los angeles california                                                                        1\n",
       "human resources professional world leader gis software highland california                                                           1\n",
       "rrp brand portfolio executive jti japan tobacco international philadelphia pennsylvania                                              1\n",
       "information systems specialist programmer love data organization gaithersburg maryland                                               1\n",
       "bachelor science biology victoria university wellington baltimore maryland                                                           1\n",
       "human resources management major milpitas california                                                                                 1\n",
       "director human resources ey atlanta georgia                                                                                          1\n",
       "undergraduate research assistant styczynski lab atlanta georgia                                                                      1\n",
       "lead official western illinois university chicago illinois                                                                           1\n",
       "seeking employment opportunities within customer service patient care torrance california                                            1\n",
       "admissions representative community medical center long beach long beach california                                                  1\n",
       "student westfield state university bridgewater massachusetts                                                                         1\n",
       "student indiana university kokomo business management retail manager delphi hardware paint lafayette indiana                         1\n",
       "student houston texas                                                                                                                1\n",
       "seeking human resources position las vegas nevada                                                                                    1\n",
       "aspiring human resources manager graduating may 2020 seeking entrylevel human resources position st louis cape girardeau missouri    1\n",
       "human resources generalist loparex raleigh durham north carolina                                                                     1\n",
       "business intelligence analytics travelers new york new york                                                                          1\n",
       "always set success los angeles california                                                                                            1\n",
       "junior mes engineer information systems myrtle beach south carolina                                                                  1\n",
       "human resources conflict management policies procedures talent management benefits compensation dallas fort worth texas              1\n",
       "native english teacher epik english program korea canada canada                                                                      1\n",
       "aspiring human resources professional passionate helping create inclusive engaging work environment new york new york                1\n",
       "aspiring human resources professional raleigh durham north carolina                                                                  1\n",
       "people development coordinator ryan denton texas                                                                                     1\n",
       "aspiring human resources specialist new york new york                                                                                1\n",
       "student humber college aspiring human resources generalist canada canada                                                             1\n",
       "hr senior specialist san francisco california                                                                                        1\n",
       "seeking human resources hris generalist positions philadelphia pennsylvania                                                          1\n",
       "student chapman university lake forest california                                                                                    1\n",
       "svp chro marketing communications csr officer engie houston woodlands energy gphr sphr houston texas                                 1\n",
       "human resources coordinator intercontinental buckhead atlanta atlanta georgia                                                        1\n",
       "aspiring human resources management student seeking internship houston texas                                                         1\n",
       "seeking human resources opportunities chicago illinois                                                                               1\n",
       "experienced retail manager aspiring human resources professional austin texas                                                        1\n",
       "human resources staffing recruiting professional jackson mississippi                                                                 1\n",
       "human resources specialist luxottica new york new york                                                                               1\n",
       "director human resources north america groupe beneteau grand rapids michigan                                                         1\n",
       "retired army national guard recruiter office manager seeking position human resources virginia beach virginia                        1\n",
       "human resources generalist scottmadden inc raleigh durham north carolina                                                             1\n",
       "business management major aspiring human resources manager monroe louisiana                                                          1\n",
       "aspiring human resources manager seeking internship human resources houston texas                                                    1\n",
       "human resources professional boston massachusetts                                                                                    1\n",
       "nortia staffing seeking human resources payroll administrative professionals  san jose california                                    1\n",
       "director administration excellence logging katy texas                                                                                1\n",
       "Name: combined, dtype: int64"
      ]
     },
     "execution_count": 3,
     "metadata": {},
     "output_type": "execute_result"
    }
   ],
   "source": [
    "data['combined'].value_counts()"
   ]
  },
  {
   "cell_type": "code",
   "execution_count": 4,
   "id": "d94c73dd",
   "metadata": {},
   "outputs": [],
   "source": [
    "# variable to train\n",
    "X_train = data['combined'].values"
   ]
  },
  {
   "cell_type": "code",
   "execution_count": 5,
   "id": "df08d5be",
   "metadata": {
    "scrolled": true
   },
   "outputs": [
    {
     "name": "stdout",
     "output_type": "stream",
     "text": [
      "['2019 ct bauer college business graduate magna cum laude aspiring human resources professional houston texas'\n",
      " 'native english teacher epik english program korea canada canada'\n",
      " 'aspiring human resources professional raleigh durham north carolina'\n",
      " 'people development coordinator ryan denton texas'\n",
      " 'aspiring human resources specialist new york new york'\n",
      " 'student humber college aspiring human resources generalist canada canada'\n",
      " 'hr senior specialist san francisco california'\n",
      " 'seeking human resources hris generalist positions philadelphia pennsylvania'\n",
      " 'student chapman university lake forest california'\n",
      " 'svp chro marketing communications csr officer engie houston woodlands energy gphr sphr houston texas'\n",
      " 'human resources coordinator intercontinental buckhead atlanta atlanta georgia'\n",
      " 'aspiring human resources management student seeking internship houston texas'\n",
      " 'seeking human resources opportunities chicago illinois'\n",
      " 'experienced retail manager aspiring human resources professional austin texas'\n",
      " 'human resources staffing recruiting professional jackson mississippi'\n",
      " 'human resources specialist luxottica new york new york'\n",
      " 'director human resources north america groupe beneteau grand rapids michigan'\n",
      " 'retired army national guard recruiter office manager seeking position human resources virginia beach virginia'\n",
      " 'human resources generalist scottmadden inc raleigh durham north carolina'\n",
      " 'business management major aspiring human resources manager monroe louisiana'\n",
      " 'aspiring human resources manager seeking internship human resources houston texas'\n",
      " 'human resources professional boston massachusetts'\n",
      " 'nortia staffing seeking human resources payroll administrative professionals  san jose california'\n",
      " 'aspiring human resources professional passionate helping create inclusive engaging work environment new york new york'\n",
      " 'human resources conflict management policies procedures talent management benefits compensation dallas fort worth texas'\n",
      " 'liberal arts major aspiring human resources analyst baton rouge louisiana'\n",
      " 'junior mes engineer information systems myrtle beach south carolina'\n",
      " 'senior human resources business partner heil environmental chattanooga tennessee'\n",
      " 'aspiring human resources professional energetic teamfocused leader austin texas'\n",
      " 'hr manager endemol shine north america los angeles california'\n",
      " 'human resources professional world leader gis software highland california'\n",
      " 'rrp brand portfolio executive jti japan tobacco international philadelphia pennsylvania'\n",
      " 'information systems specialist programmer love data organization gaithersburg maryland'\n",
      " 'bachelor science biology victoria university wellington baltimore maryland'\n",
      " 'human resources management major milpitas california'\n",
      " 'director human resources ey atlanta georgia'\n",
      " 'undergraduate research assistant styczynski lab atlanta georgia'\n",
      " 'lead official western illinois university chicago illinois'\n",
      " 'seeking employment opportunities within customer service patient care torrance california'\n",
      " 'admissions representative community medical center long beach long beach california'\n",
      " 'student westfield state university bridgewater massachusetts'\n",
      " 'student indiana university kokomo business management retail manager delphi hardware paint lafayette indiana'\n",
      " 'student houston texas'\n",
      " 'seeking human resources position las vegas nevada'\n",
      " 'aspiring human resources manager graduating may 2020 seeking entrylevel human resources position st louis cape girardeau missouri'\n",
      " 'human resources generalist loparex raleigh durham north carolina'\n",
      " 'business intelligence analytics travelers new york new york'\n",
      " 'always set success los angeles california'\n",
      " 'director administration excellence logging katy texas']\n"
     ]
    }
   ],
   "source": [
    "print(X_train)"
   ]
  },
  {
   "cell_type": "markdown",
   "id": "b568088e",
   "metadata": {},
   "source": [
    "### Generate Document Vectors"
   ]
  },
  {
   "cell_type": "markdown",
   "id": "7ae63694",
   "metadata": {},
   "source": [
    "#### Usuage of Gensim\n",
    "Gensim is an open-source NLP library for building document or word vectors.</br>\n",
    "With these vectors, we can then see relationships among the words or documents based on how near or far they are and also what similar comparisons we find.</br>\n",
    "Gensim allows to build corpora and dictionaries using simple classes and functions."
   ]
  },
  {
   "cell_type": "markdown",
   "id": "178636c6",
   "metadata": {},
   "source": [
    "### Tokenize words"
   ]
  },
  {
   "cell_type": "code",
   "execution_count": 6,
   "id": "9eeb450e",
   "metadata": {},
   "outputs": [],
   "source": [
    "tokenized_docs = [TreebankWordTokenizer().tokenize(doc) for doc in X_train]"
   ]
  },
  {
   "cell_type": "code",
   "execution_count": 7,
   "id": "051d601c",
   "metadata": {
    "scrolled": true
   },
   "outputs": [
    {
     "name": "stdout",
     "output_type": "stream",
     "text": [
      "[['2019', 'ct', 'bauer', 'college', 'business', 'graduate', 'magna', 'cum', 'laude', 'aspiring', 'human', 'resources', 'professional', 'houston', 'texas'], ['native', 'english', 'teacher', 'epik', 'english', 'program', 'korea', 'canada', 'canada'], ['aspiring', 'human', 'resources', 'professional', 'raleigh', 'durham', 'north', 'carolina'], ['people', 'development', 'coordinator', 'ryan', 'denton', 'texas'], ['aspiring', 'human', 'resources', 'specialist', 'new', 'york', 'new', 'york'], ['student', 'humber', 'college', 'aspiring', 'human', 'resources', 'generalist', 'canada', 'canada'], ['hr', 'senior', 'specialist', 'san', 'francisco', 'california'], ['seeking', 'human', 'resources', 'hris', 'generalist', 'positions', 'philadelphia', 'pennsylvania'], ['student', 'chapman', 'university', 'lake', 'forest', 'california'], ['svp', 'chro', 'marketing', 'communications', 'csr', 'officer', 'engie', 'houston', 'woodlands', 'energy', 'gphr', 'sphr', 'houston', 'texas'], ['human', 'resources', 'coordinator', 'intercontinental', 'buckhead', 'atlanta', 'atlanta', 'georgia'], ['aspiring', 'human', 'resources', 'management', 'student', 'seeking', 'internship', 'houston', 'texas'], ['seeking', 'human', 'resources', 'opportunities', 'chicago', 'illinois'], ['experienced', 'retail', 'manager', 'aspiring', 'human', 'resources', 'professional', 'austin', 'texas'], ['human', 'resources', 'staffing', 'recruiting', 'professional', 'jackson', 'mississippi'], ['human', 'resources', 'specialist', 'luxottica', 'new', 'york', 'new', 'york'], ['director', 'human', 'resources', 'north', 'america', 'groupe', 'beneteau', 'grand', 'rapids', 'michigan'], ['retired', 'army', 'national', 'guard', 'recruiter', 'office', 'manager', 'seeking', 'position', 'human', 'resources', 'virginia', 'beach', 'virginia'], ['human', 'resources', 'generalist', 'scottmadden', 'inc', 'raleigh', 'durham', 'north', 'carolina'], ['business', 'management', 'major', 'aspiring', 'human', 'resources', 'manager', 'monroe', 'louisiana'], ['aspiring', 'human', 'resources', 'manager', 'seeking', 'internship', 'human', 'resources', 'houston', 'texas'], ['human', 'resources', 'professional', 'boston', 'massachusetts'], ['nortia', 'staffing', 'seeking', 'human', 'resources', 'payroll', 'administrative', 'professionals', 'san', 'jose', 'california'], ['aspiring', 'human', 'resources', 'professional', 'passionate', 'helping', 'create', 'inclusive', 'engaging', 'work', 'environment', 'new', 'york', 'new', 'york'], ['human', 'resources', 'conflict', 'management', 'policies', 'procedures', 'talent', 'management', 'benefits', 'compensation', 'dallas', 'fort', 'worth', 'texas'], ['liberal', 'arts', 'major', 'aspiring', 'human', 'resources', 'analyst', 'baton', 'rouge', 'louisiana'], ['junior', 'mes', 'engineer', 'information', 'systems', 'myrtle', 'beach', 'south', 'carolina'], ['senior', 'human', 'resources', 'business', 'partner', 'heil', 'environmental', 'chattanooga', 'tennessee'], ['aspiring', 'human', 'resources', 'professional', 'energetic', 'teamfocused', 'leader', 'austin', 'texas'], ['hr', 'manager', 'endemol', 'shine', 'north', 'america', 'los', 'angeles', 'california'], ['human', 'resources', 'professional', 'world', 'leader', 'gis', 'software', 'highland', 'california'], ['rrp', 'brand', 'portfolio', 'executive', 'jti', 'japan', 'tobacco', 'international', 'philadelphia', 'pennsylvania'], ['information', 'systems', 'specialist', 'programmer', 'love', 'data', 'organization', 'gaithersburg', 'maryland'], ['bachelor', 'science', 'biology', 'victoria', 'university', 'wellington', 'baltimore', 'maryland'], ['human', 'resources', 'management', 'major', 'milpitas', 'california'], ['director', 'human', 'resources', 'ey', 'atlanta', 'georgia'], ['undergraduate', 'research', 'assistant', 'styczynski', 'lab', 'atlanta', 'georgia'], ['lead', 'official', 'western', 'illinois', 'university', 'chicago', 'illinois'], ['seeking', 'employment', 'opportunities', 'within', 'customer', 'service', 'patient', 'care', 'torrance', 'california'], ['admissions', 'representative', 'community', 'medical', 'center', 'long', 'beach', 'long', 'beach', 'california'], ['student', 'westfield', 'state', 'university', 'bridgewater', 'massachusetts'], ['student', 'indiana', 'university', 'kokomo', 'business', 'management', 'retail', 'manager', 'delphi', 'hardware', 'paint', 'lafayette', 'indiana'], ['student', 'houston', 'texas'], ['seeking', 'human', 'resources', 'position', 'las', 'vegas', 'nevada'], ['aspiring', 'human', 'resources', 'manager', 'graduating', 'may', '2020', 'seeking', 'entrylevel', 'human', 'resources', 'position', 'st', 'louis', 'cape', 'girardeau', 'missouri'], ['human', 'resources', 'generalist', 'loparex', 'raleigh', 'durham', 'north', 'carolina'], ['business', 'intelligence', 'analytics', 'travelers', 'new', 'york', 'new', 'york'], ['always', 'set', 'success', 'los', 'angeles', 'california'], ['director', 'administration', 'excellence', 'logging', 'katy', 'texas']]\n"
     ]
    }
   ],
   "source": [
    "print(tokenized_docs)"
   ]
  },
  {
   "cell_type": "markdown",
   "id": "16193020",
   "metadata": {},
   "source": [
    "### Create bigram\n",
    "\n",
    "Topic models make more sense when 'New' and 'York' are treated as 'New York' - we can do this by creating a bigram model and modifying our corpus accordingly. </br>\n",
    "Scoring for bigram phrases, the default is the PMI-like scoring as described in Mikolov, et. al: “Distributed Representations of Words and Phrases and their Compositionality”."
   ]
  },
  {
   "cell_type": "code",
   "execution_count": 8,
   "id": "41895b48",
   "metadata": {},
   "outputs": [],
   "source": [
    "from gensim.models.phrases import Phrases"
   ]
  },
  {
   "cell_type": "code",
   "execution_count": 9,
   "id": "a08d8224",
   "metadata": {},
   "outputs": [],
   "source": [
    "#Build a Bigram\n",
    "bigram = Phrases(tokenized_docs, min_count=1, threshold=1) #train model\n",
    "tokenized_docs_bigram= [bigram[line] for line in tokenized_docs]"
   ]
  },
  {
   "cell_type": "code",
   "execution_count": 10,
   "id": "a1111ba1",
   "metadata": {
    "scrolled": true
   },
   "outputs": [
    {
     "name": "stdout",
     "output_type": "stream",
     "text": [
      "aspiring_human 15.31720430107527\n",
      "resources_professional 12.532258064516128\n",
      "houston_texas 34.53333333333333\n",
      "canada_canada 32.375\n",
      "raleigh_durham 115.1111111111111\n",
      "north_carolina 51.800000000000004\n",
      "resources_specialist 4.17741935483871\n",
      "new_york 56.65625\n",
      "resources_generalist 8.35483870967742\n",
      "seeking_human 5.56989247311828\n",
      "philadelphia_pennsylvania 129.5\n",
      "human_resources 16.170655567117585\n",
      "atlanta_georgia 86.33333333333333\n",
      "resources_management 2.78494623655914\n",
      "seeking_internship 28.777777777777775\n",
      "chicago_illinois 86.33333333333333\n",
      "retail_manager 37.0\n",
      "austin_texas 25.900000000000002\n",
      "director_human 5.56989247311828\n",
      "north_america 51.800000000000004\n",
      "manager_seeking 8.222222222222221\n",
      "business_management 17.266666666666666\n",
      "major_aspiring 14.388888888888888\n",
      "resources_manager 4.774193548387097\n",
      "information_systems 129.5\n",
      "los_angeles 129.5\n",
      "management_major 28.777777777777775\n",
      "long_beach 64.75\n",
      "resources_position 5.56989247311828\n"
     ]
    }
   ],
   "source": [
    "for phrase, score in bigram.find_phrases(tokenized_docs).items():\n",
    "    print(phrase, score)"
   ]
  },
  {
   "cell_type": "code",
   "execution_count": 11,
   "id": "3df3f81c",
   "metadata": {},
   "outputs": [
    {
     "data": {
      "text/plain": [
       "[['2019',\n",
       "  'ct',\n",
       "  'bauer',\n",
       "  'college',\n",
       "  'business',\n",
       "  'graduate',\n",
       "  'magna',\n",
       "  'cum',\n",
       "  'laude',\n",
       "  'aspiring_human',\n",
       "  'resources_professional',\n",
       "  'houston_texas'],\n",
       " ['native',\n",
       "  'english',\n",
       "  'teacher',\n",
       "  'epik',\n",
       "  'english',\n",
       "  'program',\n",
       "  'korea',\n",
       "  'canada_canada'],\n",
       " ['aspiring_human',\n",
       "  'resources_professional',\n",
       "  'raleigh_durham',\n",
       "  'north_carolina'],\n",
       " ['people', 'development', 'coordinator', 'ryan', 'denton', 'texas'],\n",
       " ['aspiring_human', 'resources_specialist', 'new_york', 'new_york'],\n",
       " ['student',\n",
       "  'humber',\n",
       "  'college',\n",
       "  'aspiring_human',\n",
       "  'resources_generalist',\n",
       "  'canada_canada'],\n",
       " ['hr', 'senior', 'specialist', 'san', 'francisco', 'california'],\n",
       " ['seeking_human',\n",
       "  'resources',\n",
       "  'hris',\n",
       "  'generalist',\n",
       "  'positions',\n",
       "  'philadelphia_pennsylvania'],\n",
       " ['student', 'chapman', 'university', 'lake', 'forest', 'california'],\n",
       " ['svp',\n",
       "  'chro',\n",
       "  'marketing',\n",
       "  'communications',\n",
       "  'csr',\n",
       "  'officer',\n",
       "  'engie',\n",
       "  'houston',\n",
       "  'woodlands',\n",
       "  'energy',\n",
       "  'gphr',\n",
       "  'sphr',\n",
       "  'houston_texas'],\n",
       " ['human_resources',\n",
       "  'coordinator',\n",
       "  'intercontinental',\n",
       "  'buckhead',\n",
       "  'atlanta',\n",
       "  'atlanta_georgia'],\n",
       " ['aspiring_human',\n",
       "  'resources_management',\n",
       "  'student',\n",
       "  'seeking_internship',\n",
       "  'houston_texas'],\n",
       " ['seeking_human', 'resources', 'opportunities', 'chicago_illinois'],\n",
       " ['experienced',\n",
       "  'retail_manager',\n",
       "  'aspiring_human',\n",
       "  'resources_professional',\n",
       "  'austin_texas'],\n",
       " ['human_resources',\n",
       "  'staffing',\n",
       "  'recruiting',\n",
       "  'professional',\n",
       "  'jackson',\n",
       "  'mississippi'],\n",
       " ['human_resources', 'specialist', 'luxottica', 'new_york', 'new_york'],\n",
       " ['director_human',\n",
       "  'resources',\n",
       "  'north_america',\n",
       "  'groupe',\n",
       "  'beneteau',\n",
       "  'grand',\n",
       "  'rapids',\n",
       "  'michigan'],\n",
       " ['retired',\n",
       "  'army',\n",
       "  'national',\n",
       "  'guard',\n",
       "  'recruiter',\n",
       "  'office',\n",
       "  'manager_seeking',\n",
       "  'position',\n",
       "  'human_resources',\n",
       "  'virginia',\n",
       "  'beach',\n",
       "  'virginia'],\n",
       " ['human_resources',\n",
       "  'generalist',\n",
       "  'scottmadden',\n",
       "  'inc',\n",
       "  'raleigh_durham',\n",
       "  'north_carolina'],\n",
       " ['business_management',\n",
       "  'major_aspiring',\n",
       "  'human_resources',\n",
       "  'manager',\n",
       "  'monroe',\n",
       "  'louisiana'],\n",
       " ['aspiring_human',\n",
       "  'resources_manager',\n",
       "  'seeking_internship',\n",
       "  'human_resources',\n",
       "  'houston_texas'],\n",
       " ['human_resources', 'professional', 'boston', 'massachusetts'],\n",
       " ['nortia',\n",
       "  'staffing',\n",
       "  'seeking_human',\n",
       "  'resources',\n",
       "  'payroll',\n",
       "  'administrative',\n",
       "  'professionals',\n",
       "  'san',\n",
       "  'jose',\n",
       "  'california'],\n",
       " ['aspiring_human',\n",
       "  'resources_professional',\n",
       "  'passionate',\n",
       "  'helping',\n",
       "  'create',\n",
       "  'inclusive',\n",
       "  'engaging',\n",
       "  'work',\n",
       "  'environment',\n",
       "  'new_york',\n",
       "  'new_york'],\n",
       " ['human_resources',\n",
       "  'conflict',\n",
       "  'management',\n",
       "  'policies',\n",
       "  'procedures',\n",
       "  'talent',\n",
       "  'management',\n",
       "  'benefits',\n",
       "  'compensation',\n",
       "  'dallas',\n",
       "  'fort',\n",
       "  'worth',\n",
       "  'texas'],\n",
       " ['liberal',\n",
       "  'arts',\n",
       "  'major_aspiring',\n",
       "  'human_resources',\n",
       "  'analyst',\n",
       "  'baton',\n",
       "  'rouge',\n",
       "  'louisiana'],\n",
       " ['junior',\n",
       "  'mes',\n",
       "  'engineer',\n",
       "  'information_systems',\n",
       "  'myrtle',\n",
       "  'beach',\n",
       "  'south',\n",
       "  'carolina'],\n",
       " ['senior',\n",
       "  'human_resources',\n",
       "  'business',\n",
       "  'partner',\n",
       "  'heil',\n",
       "  'environmental',\n",
       "  'chattanooga',\n",
       "  'tennessee'],\n",
       " ['aspiring_human',\n",
       "  'resources_professional',\n",
       "  'energetic',\n",
       "  'teamfocused',\n",
       "  'leader',\n",
       "  'austin_texas'],\n",
       " ['hr',\n",
       "  'manager',\n",
       "  'endemol',\n",
       "  'shine',\n",
       "  'north_america',\n",
       "  'los_angeles',\n",
       "  'california'],\n",
       " ['human_resources',\n",
       "  'professional',\n",
       "  'world',\n",
       "  'leader',\n",
       "  'gis',\n",
       "  'software',\n",
       "  'highland',\n",
       "  'california'],\n",
       " ['rrp',\n",
       "  'brand',\n",
       "  'portfolio',\n",
       "  'executive',\n",
       "  'jti',\n",
       "  'japan',\n",
       "  'tobacco',\n",
       "  'international',\n",
       "  'philadelphia_pennsylvania'],\n",
       " ['information_systems',\n",
       "  'specialist',\n",
       "  'programmer',\n",
       "  'love',\n",
       "  'data',\n",
       "  'organization',\n",
       "  'gaithersburg',\n",
       "  'maryland'],\n",
       " ['bachelor',\n",
       "  'science',\n",
       "  'biology',\n",
       "  'victoria',\n",
       "  'university',\n",
       "  'wellington',\n",
       "  'baltimore',\n",
       "  'maryland'],\n",
       " ['human_resources', 'management_major', 'milpitas', 'california'],\n",
       " ['director_human', 'resources', 'ey', 'atlanta_georgia'],\n",
       " ['undergraduate',\n",
       "  'research',\n",
       "  'assistant',\n",
       "  'styczynski',\n",
       "  'lab',\n",
       "  'atlanta_georgia'],\n",
       " ['lead', 'official', 'western', 'illinois', 'university', 'chicago_illinois'],\n",
       " ['seeking',\n",
       "  'employment',\n",
       "  'opportunities',\n",
       "  'within',\n",
       "  'customer',\n",
       "  'service',\n",
       "  'patient',\n",
       "  'care',\n",
       "  'torrance',\n",
       "  'california'],\n",
       " ['admissions',\n",
       "  'representative',\n",
       "  'community',\n",
       "  'medical',\n",
       "  'center',\n",
       "  'long_beach',\n",
       "  'long_beach',\n",
       "  'california'],\n",
       " ['student',\n",
       "  'westfield',\n",
       "  'state',\n",
       "  'university',\n",
       "  'bridgewater',\n",
       "  'massachusetts'],\n",
       " ['student',\n",
       "  'indiana',\n",
       "  'university',\n",
       "  'kokomo',\n",
       "  'business_management',\n",
       "  'retail_manager',\n",
       "  'delphi',\n",
       "  'hardware',\n",
       "  'paint',\n",
       "  'lafayette',\n",
       "  'indiana'],\n",
       " ['student', 'houston_texas'],\n",
       " ['seeking_human', 'resources_position', 'las', 'vegas', 'nevada'],\n",
       " ['aspiring_human',\n",
       "  'resources_manager',\n",
       "  'graduating',\n",
       "  'may',\n",
       "  '2020',\n",
       "  'seeking',\n",
       "  'entrylevel',\n",
       "  'human_resources',\n",
       "  'position',\n",
       "  'st',\n",
       "  'louis',\n",
       "  'cape',\n",
       "  'girardeau',\n",
       "  'missouri'],\n",
       " ['human_resources',\n",
       "  'generalist',\n",
       "  'loparex',\n",
       "  'raleigh_durham',\n",
       "  'north_carolina'],\n",
       " ['business',\n",
       "  'intelligence',\n",
       "  'analytics',\n",
       "  'travelers',\n",
       "  'new_york',\n",
       "  'new_york'],\n",
       " ['always', 'set', 'success', 'los_angeles', 'california'],\n",
       " ['director', 'administration', 'excellence', 'logging', 'katy', 'texas']]"
      ]
     },
     "execution_count": 11,
     "metadata": {},
     "output_type": "execute_result"
    }
   ],
   "source": [
    "tokenized_docs_bigram"
   ]
  },
  {
   "cell_type": "markdown",
   "id": "be0a2a02",
   "metadata": {},
   "source": [
    "### Create Dictionary needed for Topic Modeling"
   ]
  },
  {
   "cell_type": "code",
   "execution_count": 12,
   "id": "d1696dff",
   "metadata": {},
   "outputs": [],
   "source": [
    "# create a dictionary from the job_title and location containing the number of times a word appears in the training set.\n",
    "#This creates a mapping for Ids for each token\n",
    "dictionary = Dictionary(tokenized_docs_bigram) "
   ]
  },
  {
   "cell_type": "code",
   "execution_count": 13,
   "id": "0716add4",
   "metadata": {},
   "outputs": [
    {
     "name": "stdout",
     "output_type": "stream",
     "text": [
      "Dictionary(234 unique tokens: ['2019', 'aspiring_human', 'bauer', 'business', 'college']...)\n"
     ]
    }
   ],
   "source": [
    "print(dictionary)"
   ]
  },
  {
   "cell_type": "code",
   "execution_count": 14,
   "id": "d8125b4b",
   "metadata": {},
   "outputs": [
    {
     "name": "stdout",
     "output_type": "stream",
     "text": [
      "{'2019': 0, 'aspiring_human': 1, 'bauer': 2, 'business': 3, 'college': 4, 'ct': 5, 'cum': 6, 'graduate': 7, 'houston_texas': 8, 'laude': 9, 'magna': 10, 'resources_professional': 11, 'canada_canada': 12, 'english': 13, 'epik': 14, 'korea': 15, 'native': 16, 'program': 17, 'teacher': 18, 'north_carolina': 19, 'raleigh_durham': 20, 'coordinator': 21, 'denton': 22, 'development': 23, 'people': 24, 'ryan': 25, 'texas': 26, 'new_york': 27, 'resources_specialist': 28, 'humber': 29, 'resources_generalist': 30, 'student': 31, 'california': 32, 'francisco': 33, 'hr': 34, 'san': 35, 'senior': 36, 'specialist': 37, 'generalist': 38, 'hris': 39, 'philadelphia_pennsylvania': 40, 'positions': 41, 'resources': 42, 'seeking_human': 43, 'chapman': 44, 'forest': 45, 'lake': 46, 'university': 47, 'chro': 48, 'communications': 49, 'csr': 50, 'energy': 51, 'engie': 52, 'gphr': 53, 'houston': 54, 'marketing': 55, 'officer': 56, 'sphr': 57, 'svp': 58, 'woodlands': 59, 'atlanta': 60, 'atlanta_georgia': 61, 'buckhead': 62, 'human_resources': 63, 'intercontinental': 64, 'resources_management': 65, 'seeking_internship': 66, 'chicago_illinois': 67, 'opportunities': 68, 'austin_texas': 69, 'experienced': 70, 'retail_manager': 71, 'jackson': 72, 'mississippi': 73, 'professional': 74, 'recruiting': 75, 'staffing': 76, 'luxottica': 77, 'beneteau': 78, 'director_human': 79, 'grand': 80, 'groupe': 81, 'michigan': 82, 'north_america': 83, 'rapids': 84, 'army': 85, 'beach': 86, 'guard': 87, 'manager_seeking': 88, 'national': 89, 'office': 90, 'position': 91, 'recruiter': 92, 'retired': 93, 'virginia': 94, 'inc': 95, 'scottmadden': 96, 'business_management': 97, 'louisiana': 98, 'major_aspiring': 99, 'manager': 100, 'monroe': 101, 'resources_manager': 102, 'boston': 103, 'massachusetts': 104, 'administrative': 105, 'jose': 106, 'nortia': 107, 'payroll': 108, 'professionals': 109, 'create': 110, 'engaging': 111, 'environment': 112, 'helping': 113, 'inclusive': 114, 'passionate': 115, 'work': 116, 'benefits': 117, 'compensation': 118, 'conflict': 119, 'dallas': 120, 'fort': 121, 'management': 122, 'policies': 123, 'procedures': 124, 'talent': 125, 'worth': 126, 'analyst': 127, 'arts': 128, 'baton': 129, 'liberal': 130, 'rouge': 131, 'carolina': 132, 'engineer': 133, 'information_systems': 134, 'junior': 135, 'mes': 136, 'myrtle': 137, 'south': 138, 'chattanooga': 139, 'environmental': 140, 'heil': 141, 'partner': 142, 'tennessee': 143, 'energetic': 144, 'leader': 145, 'teamfocused': 146, 'endemol': 147, 'los_angeles': 148, 'shine': 149, 'gis': 150, 'highland': 151, 'software': 152, 'world': 153, 'brand': 154, 'executive': 155, 'international': 156, 'japan': 157, 'jti': 158, 'portfolio': 159, 'rrp': 160, 'tobacco': 161, 'data': 162, 'gaithersburg': 163, 'love': 164, 'maryland': 165, 'organization': 166, 'programmer': 167, 'bachelor': 168, 'baltimore': 169, 'biology': 170, 'science': 171, 'victoria': 172, 'wellington': 173, 'management_major': 174, 'milpitas': 175, 'ey': 176, 'assistant': 177, 'lab': 178, 'research': 179, 'styczynski': 180, 'undergraduate': 181, 'illinois': 182, 'lead': 183, 'official': 184, 'western': 185, 'care': 186, 'customer': 187, 'employment': 188, 'patient': 189, 'seeking': 190, 'service': 191, 'torrance': 192, 'within': 193, 'admissions': 194, 'center': 195, 'community': 196, 'long_beach': 197, 'medical': 198, 'representative': 199, 'bridgewater': 200, 'state': 201, 'westfield': 202, 'delphi': 203, 'hardware': 204, 'indiana': 205, 'kokomo': 206, 'lafayette': 207, 'paint': 208, 'las': 209, 'nevada': 210, 'resources_position': 211, 'vegas': 212, '2020': 213, 'cape': 214, 'entrylevel': 215, 'girardeau': 216, 'graduating': 217, 'louis': 218, 'may': 219, 'missouri': 220, 'st': 221, 'loparex': 222, 'analytics': 223, 'intelligence': 224, 'travelers': 225, 'always': 226, 'set': 227, 'success': 228, 'administration': 229, 'director': 230, 'excellence': 231, 'katy': 232, 'logging': 233}\n"
     ]
    }
   ],
   "source": [
    "print(dictionary.token2id)"
   ]
  },
  {
   "cell_type": "markdown",
   "id": "1e0742e4",
   "metadata": {},
   "source": [
    "### Create a Bag of Words Corpus\n",
    "\n",
    "Bag of words corpus in the Gensim library are based on dictionaries and contain the ID of each word along with the frequency of occurrence of the word."
   ]
  },
  {
   "cell_type": "code",
   "execution_count": 15,
   "id": "3c396fcc",
   "metadata": {
    "scrolled": true
   },
   "outputs": [
    {
     "name": "stdout",
     "output_type": "stream",
     "text": [
      "[[(0, 1), (1, 1), (2, 1), (3, 1), (4, 1), (5, 1), (6, 1), (7, 1), (8, 1), (9, 1), (10, 1), (11, 1)], [(12, 1), (13, 2), (14, 1), (15, 1), (16, 1), (17, 1), (18, 1)], [(1, 1), (11, 1), (19, 1), (20, 1)], [(21, 1), (22, 1), (23, 1), (24, 1), (25, 1), (26, 1)], [(1, 1), (27, 2), (28, 1)], [(1, 1), (4, 1), (12, 1), (29, 1), (30, 1), (31, 1)], [(32, 1), (33, 1), (34, 1), (35, 1), (36, 1), (37, 1)], [(38, 1), (39, 1), (40, 1), (41, 1), (42, 1), (43, 1)], [(31, 1), (32, 1), (44, 1), (45, 1), (46, 1), (47, 1)], [(8, 1), (48, 1), (49, 1), (50, 1), (51, 1), (52, 1), (53, 1), (54, 1), (55, 1), (56, 1), (57, 1), (58, 1), (59, 1)], [(21, 1), (60, 1), (61, 1), (62, 1), (63, 1), (64, 1)], [(1, 1), (8, 1), (31, 1), (65, 1), (66, 1)], [(42, 1), (43, 1), (67, 1), (68, 1)], [(1, 1), (11, 1), (69, 1), (70, 1), (71, 1)], [(63, 1), (72, 1), (73, 1), (74, 1), (75, 1), (76, 1)], [(27, 2), (37, 1), (63, 1), (77, 1)], [(42, 1), (78, 1), (79, 1), (80, 1), (81, 1), (82, 1), (83, 1), (84, 1)], [(63, 1), (85, 1), (86, 1), (87, 1), (88, 1), (89, 1), (90, 1), (91, 1), (92, 1), (93, 1), (94, 2)], [(19, 1), (20, 1), (38, 1), (63, 1), (95, 1), (96, 1)], [(63, 1), (97, 1), (98, 1), (99, 1), (100, 1), (101, 1)], [(1, 1), (8, 1), (63, 1), (66, 1), (102, 1)], [(63, 1), (74, 1), (103, 1), (104, 1)], [(32, 1), (35, 1), (42, 1), (43, 1), (76, 1), (105, 1), (106, 1), (107, 1), (108, 1), (109, 1)], [(1, 1), (11, 1), (27, 2), (110, 1), (111, 1), (112, 1), (113, 1), (114, 1), (115, 1), (116, 1)], [(26, 1), (63, 1), (117, 1), (118, 1), (119, 1), (120, 1), (121, 1), (122, 2), (123, 1), (124, 1), (125, 1), (126, 1)], [(63, 1), (98, 1), (99, 1), (127, 1), (128, 1), (129, 1), (130, 1), (131, 1)], [(86, 1), (132, 1), (133, 1), (134, 1), (135, 1), (136, 1), (137, 1), (138, 1)], [(3, 1), (36, 1), (63, 1), (139, 1), (140, 1), (141, 1), (142, 1), (143, 1)], [(1, 1), (11, 1), (69, 1), (144, 1), (145, 1), (146, 1)], [(32, 1), (34, 1), (83, 1), (100, 1), (147, 1), (148, 1), (149, 1)], [(32, 1), (63, 1), (74, 1), (145, 1), (150, 1), (151, 1), (152, 1), (153, 1)], [(40, 1), (154, 1), (155, 1), (156, 1), (157, 1), (158, 1), (159, 1), (160, 1), (161, 1)], [(37, 1), (134, 1), (162, 1), (163, 1), (164, 1), (165, 1), (166, 1), (167, 1)], [(47, 1), (165, 1), (168, 1), (169, 1), (170, 1), (171, 1), (172, 1), (173, 1)], [(32, 1), (63, 1), (174, 1), (175, 1)], [(42, 1), (61, 1), (79, 1), (176, 1)], [(61, 1), (177, 1), (178, 1), (179, 1), (180, 1), (181, 1)], [(47, 1), (67, 1), (182, 1), (183, 1), (184, 1), (185, 1)], [(32, 1), (68, 1), (186, 1), (187, 1), (188, 1), (189, 1), (190, 1), (191, 1), (192, 1), (193, 1)], [(32, 1), (194, 1), (195, 1), (196, 1), (197, 2), (198, 1), (199, 1)], [(31, 1), (47, 1), (104, 1), (200, 1), (201, 1), (202, 1)], [(31, 1), (47, 1), (71, 1), (97, 1), (203, 1), (204, 1), (205, 2), (206, 1), (207, 1), (208, 1)], [(8, 1), (31, 1)], [(43, 1), (209, 1), (210, 1), (211, 1), (212, 1)], [(1, 1), (63, 1), (91, 1), (102, 1), (190, 1), (213, 1), (214, 1), (215, 1), (216, 1), (217, 1), (218, 1), (219, 1), (220, 1), (221, 1)], [(19, 1), (20, 1), (38, 1), (63, 1), (222, 1)], [(3, 1), (27, 2), (223, 1), (224, 1), (225, 1)], [(32, 1), (148, 1), (226, 1), (227, 1), (228, 1)], [(26, 1), (229, 1), (230, 1), (231, 1), (232, 1), (233, 1)]]\n"
     ]
    }
   ],
   "source": [
    "# Create a gensim corpus\n",
    "# This is a bag of words for the text in the format (token_id, token_count) 2 tuples\n",
    "\n",
    "bow_corpus = [dictionary.doc2bow(token) for token in tokenized_docs_bigram]\n",
    "print(bow_corpus)"
   ]
  },
  {
   "cell_type": "markdown",
   "id": "25f520ef",
   "metadata": {},
   "source": [
    "What do these tuples mean? Let’s convert them into human readable format to understand:"
   ]
  },
  {
   "cell_type": "code",
   "execution_count": 16,
   "id": "179d3cba",
   "metadata": {},
   "outputs": [
    {
     "data": {
      "text/plain": [
       "[[('2019', 1),\n",
       "  ('aspiring_human', 1),\n",
       "  ('bauer', 1),\n",
       "  ('business', 1),\n",
       "  ('college', 1),\n",
       "  ('ct', 1),\n",
       "  ('cum', 1),\n",
       "  ('graduate', 1),\n",
       "  ('houston_texas', 1),\n",
       "  ('laude', 1),\n",
       "  ('magna', 1),\n",
       "  ('resources_professional', 1)],\n",
       " [('canada_canada', 1),\n",
       "  ('english', 2),\n",
       "  ('epik', 1),\n",
       "  ('korea', 1),\n",
       "  ('native', 1),\n",
       "  ('program', 1),\n",
       "  ('teacher', 1)],\n",
       " [('aspiring_human', 1),\n",
       "  ('resources_professional', 1),\n",
       "  ('north_carolina', 1),\n",
       "  ('raleigh_durham', 1)]]"
      ]
     },
     "execution_count": 16,
     "metadata": {},
     "output_type": "execute_result"
    }
   ],
   "source": [
    "[[(dictionary[i], freq) for i, freq in doc] for doc in bow_corpus[:3]]"
   ]
  },
  {
   "cell_type": "code",
   "execution_count": 17,
   "id": "7a452c5f",
   "metadata": {},
   "outputs": [
    {
     "name": "stdout",
     "output_type": "stream",
     "text": [
      "Number of unique tokens: 234\n",
      "Number of documents: 49\n"
     ]
    }
   ],
   "source": [
    "print('Number of unique tokens: %d' % len(dictionary))\n",
    "print('Number of documents: %d' % len(bow_corpus))"
   ]
  },
  {
   "cell_type": "markdown",
   "id": "bb48263a",
   "metadata": {},
   "source": [
    "### Create a TF-IDF matrix with Gensim\n",
    "\n",
    "The tf-idf model transforms vectors from the bag-of-words representation to a vector space where the frequency counts are weighted according to the relative rarity of each word in the corpus.\n",
    "\n",
    "During this transformation, it will take a vector and return another vector of the same dimensionality, except that features which were rare in the training corpus will have their value increased."
   ]
  },
  {
   "cell_type": "code",
   "execution_count": 18,
   "id": "0940527f",
   "metadata": {},
   "outputs": [],
   "source": [
    "tfidf = TfidfModel(bow_corpus) # step 1 -- initialize a model\n",
    "\n",
    "#tfidf is treated as a read-only object that can be used to convert any vector from the old \n",
    "#representation (bag-of-words integer counts) to the new representation \n",
    "\n",
    "corpus_tfidf = tfidf[bow_corpus] # step 2 Apply transformation to the entire corpus "
   ]
  },
  {
   "cell_type": "code",
   "execution_count": 19,
   "id": "cf72c196",
   "metadata": {},
   "outputs": [
    {
     "name": "stdout",
     "output_type": "stream",
     "text": [
      "[(0, 0.33249872454322044), (1, 0.13577674153068667), (2, 0.33249872454322044), (3, 0.2386384851773402), (4, 0.2732795068499476), (5, 0.33249872454322044), (6, 0.33249872454322044), (7, 0.33249872454322044), (8, 0.1949959592239595), (9, 0.33249872454322044), (10, 0.33249872454322044), (11, 0.1949959592239595)] 2019 ct bauer college business graduate magna cum laude aspiring human resources professional houston texas\n",
      "\n",
      "[(12, 0.2642287470777187), (13, 0.6429733601593075), (14, 0.32148668007965375), (15, 0.32148668007965375), (16, 0.32148668007965375), (17, 0.32148668007965375), (18, 0.32148668007965375)] native english teacher epik english program korea canada canada\n",
      "\n",
      "[(1, 0.32896328403055086), (11, 0.4724410852392083), (19, 0.5781792882566074), (20, 0.5781792882566074)] aspiring human resources professional raleigh durham north carolina\n",
      "\n",
      "[(21, 0.3607507629467542), (22, 0.4389248573390143), (23, 0.4389248573390143), (24, 0.4389248573390143), (25, 0.4389248573390143), (26, 0.31502184919944604)] people development coordinator ryan denton texas\n",
      "\n",
      "[(1, 0.24297115527199847), (27, 0.7661176011135975), (28, 0.5950032260162437)] aspiring human resources specialist new york new york\n",
      "\n",
      "[(1, 0.2092340491987987), (4, 0.42112792763068607), (12, 0.42112792763068607), (29, 0.5123856538705532), (30, 0.5123856538705532), (31, 0.27648785363941936)] student humber college aspiring human resources generalist canada canada\n",
      "\n",
      "[(32, 0.22541681761461504), (33, 0.5176938284295642), (34, 0.4254906972255252), (35, 0.4254906972255252), (36, 0.4254906972255252), (37, 0.37155532302208966)] hr senior specialist san francisco california\n",
      "\n",
      "[(38, 0.36116491603843615), (39, 0.5032167122721164), (40, 0.4135920074800176), (41, 0.5032167122721164), (42, 0.29511459221935626), (43, 0.32396730268791885)] seeking human resources hris generalist positions philadelphia pennsylvania\n",
      "\n",
      "[(31, 0.275918107841253), (32, 0.22264576263762298), (44, 0.5113298043296391), (45, 0.5113298043296391), (46, 0.5113298043296391), (47, 0.2998725658633223)] student chapman university lake forest california\n",
      "\n",
      "[(8, 0.16692019613615602), (48, 0.28462514062679406), (49, 0.28462514062679406), (50, 0.28462514062679406), (51, 0.28462514062679406), (52, 0.28462514062679406), (53, 0.28462514062679406), (54, 0.28462514062679406), (55, 0.28462514062679406), (56, 0.28462514062679406), (57, 0.28462514062679406), (58, 0.28462514062679406), (59, 0.28462514062679406)] svp chro marketing communications csr officer engie houston woodlands energy gphr sphr houston texas\n",
      "\n",
      "[(21, 0.3971328086262074), (60, 0.4831908322162801), (61, 0.34679209193983823), (62, 0.4831908322162801), (63, 0.14697154917556898), (64, 0.4831908322162801)] human resources coordinator intercontinental buckhead atlanta atlanta georgia\n",
      "\n",
      "[(1, 0.25944158191057837), (8, 0.37259739449411455), (31, 0.34283352256456395), (65, 0.6353370548316362), (66, 0.5221812422480999)] aspiring human resources management student seeking internship houston texas\n",
      "\n",
      "[(42, 0.40378792019079024), (43, 0.4432653850777461), (67, 0.5658935915434428), (68, 0.5658935915434428)] seeking human resources opportunities chicago illinois\n",
      "\n",
      "[(1, 0.2413918306407013), (11, 0.34667521870064044), (69, 0.4858522873020026), (70, 0.5911356753619417), (71, 0.4858522873020026)] experienced retail manager aspiring human resources professional austin texas\n",
      "\n",
      "[(63, 0.14697154917556898), (72, 0.4831908322162801), (73, 0.4831908322162801), (74, 0.34679209193983823), (75, 0.4831908322162801), (76, 0.3971328086262074)] human resources staffing recruiting professional jackson mississippi\n",
      "\n",
      "[(27, 0.7125262000606539), (37, 0.3971688856946003), (63, 0.1683213884386856), (77, 0.5533816049141022)] human resources specialist luxottica new york new york\n",
      "\n",
      "[(42, 0.226653112967579), (78, 0.38647914180065035), (79, 0.3176458178122843), (80, 0.38647914180065035), (81, 0.38647914180065035), (82, 0.38647914180065035), (83, 0.3176458178122843), (84, 0.38647914180065035)] director human resources north america groupe beneteau grand rapids michigan\n",
      "\n",
      "[(63, 0.08622684722466684), (85, 0.28348358783441746), (86, 0.23299414212752356), (87, 0.28348358783441746), (88, 0.28348358783441746), (89, 0.28348358783441746), (90, 0.28348358783441746), (91, 0.23299414212752356), (92, 0.28348358783441746), (93, 0.28348358783441746), (94, 0.5669671756688349)] retired army national guard recruiter office manager seeking position human resources virginia beach virginia\n",
      "\n",
      "[(19, 0.376294587537065), (20, 0.376294587537065), (38, 0.376294587537065), (63, 0.15947479703862016), (95, 0.524297119618457), (96, 0.524297119618457)] human resources generalist scottmadden inc raleigh durham north carolina\n",
      "\n",
      "[(63, 0.15614680602317166), (97, 0.4219253316838673), (98, 0.4219253316838673), (99, 0.4219253316838673), (100, 0.4219253316838673), (101, 0.5133558540647959)] business management major aspiring human resources manager monroe louisiana\n",
      "\n",
      "[(1, 0.2921108473830763), (8, 0.4195154062694388), (63, 0.21758395801363387), (66, 0.5879350720780526), (102, 0.5879350720780526)] aspiring human resources manager seeking internship human resources houston texas\n",
      "\n",
      "[(63, 0.20130194843221616), (74, 0.4749893717523538), (103, 0.6618101022635878), (104, 0.5439393448000953)] human resources professional boston massachusetts\n",
      "\n",
      "[(32, 0.16116880177322984), (35, 0.3042178776329591), (42, 0.21707173562300128), (43, 0.238294366099313), (76, 0.3042178776329591), (105, 0.3701413891666052), (106, 0.3701413891666052), (107, 0.3701413891666052), (108, 0.3701413891666052), (109, 0.3701413891666052)] nortia staffing seeking human resources payroll administrative professionals  san jose california\n",
      "\n",
      "[(1, 0.13486052380870248), (11, 0.19368013184776692), (27, 0.42523163241160866), (110, 0.3302550322839332), (111, 0.3302550322839332), (112, 0.3302550322839332), (113, 0.3302550322839332), (114, 0.3302550322839332), (115, 0.3302550322839332), (116, 0.3302550322839332)] aspiring human resources professional passionate helping create inclusive engaging work environment new york new york\n",
      "\n",
      "[(26, 0.19456255307561474), (63, 0.08245620503375745), (117, 0.27108704069018835), (118, 0.27108704069018835), (119, 0.27108704069018835), (120, 0.27108704069018835), (121, 0.27108704069018835), (122, 0.5421740813803767), (123, 0.27108704069018835), (124, 0.27108704069018835), (125, 0.27108704069018835), (126, 0.27108704069018835)] human resources conflict management policies procedures talent management benefits compensation dallas fort worth texas\n",
      "\n",
      "[(63, 0.11982629151559383), (98, 0.3237834258656697), (99, 0.3237834258656697), (127, 0.3939467593802494), (128, 0.3939467593802494), (129, 0.3939467593802494), (130, 0.3939467593802494), (131, 0.3939467593802494)] liberal arts major aspiring human resources analyst baton rouge louisiana\n",
      "\n",
      "[(86, 0.30313987043991103), (132, 0.36882977959562585), (133, 0.36882977959562585), (134, 0.30313987043991103), (135, 0.36882977959562585), (136, 0.36882977959562585), (137, 0.36882977959562585), (138, 0.36882977959562585)] junior mes engineer information systems myrtle beach south carolina\n",
      "\n",
      "[(3, 0.28632680637728253), (36, 0.3278903165453638), (63, 0.12134617623017423), (139, 0.3989436064858999), (140, 0.3989436064858999), (141, 0.3989436064858999), (142, 0.3989436064858999), (143, 0.3989436064858999)] senior human resources business partner heil environmental chattanooga tennessee\n",
      "\n",
      "[(1, 0.20780000587028477), (11, 0.29843227208588374), (69, 0.4182416110995947), (144, 0.5088738773151936), (145, 0.4182416110995947), (146, 0.5088738773151936)] aspiring human resources professional energetic teamfocused leader austin texas\n",
      "\n",
      "[(32, 0.19687276986294938), (34, 0.3716117235623487), (83, 0.3716117235623487), (100, 0.3716117235623487), (147, 0.4521393701783623), (148, 0.3716117235623487), (149, 0.4521393701783623)] hr manager endemol shine north america los angeles california\n",
      "\n",
      "[(32, 0.18612768702977336), (63, 0.13002062228181369), (74, 0.30679491268453624), (145, 0.35132959539278813), (150, 0.4274621383392991), (151, 0.4274621383392991), (152, 0.4274621383392991), (153, 0.4274621383392991)] human resources professional world leader gis software highland california\n",
      "\n",
      "[(40, 0.2790419393052577), (154, 0.3395098665924086), (155, 0.3395098665924086), (156, 0.3395098665924086), (157, 0.3395098665924086), (158, 0.3395098665924086), (159, 0.3395098665924086), (160, 0.3395098665924086), (161, 0.3395098665924086)] rrp brand portfolio executive jti japan tobacco international philadelphia pennsylvania\n",
      "\n",
      "[(37, 0.2739013775522722), (134, 0.31366119897794986), (162, 0.38163106264726343), (163, 0.38163106264726343), (164, 0.38163106264726343), (165, 0.31366119897794986), (166, 0.38163106264726343), (167, 0.38163106264726343)] information systems specialist programmer love data organization gaithersburg maryland\n",
      "\n",
      "[(47, 0.2213524081785123), (165, 0.31021707930673625), (168, 0.37744060793277384), (169, 0.37744060793277384), (170, 0.37744060793277384), (171, 0.37744060793277384), (172, 0.37744060793277384), (173, 0.37744060793277384)] bachelor science biology victoria university wellington baltimore maryland\n",
      "\n",
      "[(32, 0.288233664988918), (63, 0.20134737116478615), (174, 0.6619594362542489), (175, 0.6619594362542489)] human resources management major milpitas california\n",
      "\n",
      "[(42, 0.368370373677866), (61, 0.4508162543908519), (79, 0.5162572314701016), (176, 0.6281293207041507)] director human resources ey atlanta georgia\n",
      "\n",
      "[(61, 0.3056140828078566), (177, 0.42581686964926896), (178, 0.42581686964926896), (179, 0.42581686964926896), (180, 0.42581686964926896), (181, 0.42581686964926896)] undergraduate research assistant styczynski lab atlanta georgia\n",
      "\n",
      "[(47, 0.2617627191137197), (67, 0.3668506110372215), (182, 0.4463465324341081), (183, 0.4463465324341081), (184, 0.4463465324341081), (185, 0.4463465324341081)] lead official western illinois university chicago illinois\n",
      "\n",
      "[(32, 0.1489939274895736), (68, 0.28123691373503684), (186, 0.3421804883551567), (187, 0.3421804883551567), (188, 0.3421804883551567), (189, 0.3421804883551567), (190, 0.28123691373503684), (191, 0.3421804883551567), (192, 0.3421804883551567), (193, 0.3421804883551567)] seeking employment opportunities within customer service patient care torrance california\n",
      "\n",
      "[(32, 0.14363660878045573), (194, 0.32987683301129406), (195, 0.32987683301129406), (196, 0.32987683301129406), (197, 0.6597536660225881), (198, 0.32987683301129406), (199, 0.32987683301129406)] admissions representative community medical center long beach long beach california\n",
      "\n",
      "[(31, 0.25990169069272123), (47, 0.28246564703568655), (104, 0.3958649862857212), (200, 0.48164827486897593), (201, 0.48164827486897593), (202, 0.48164827486897593)] student westfield state university bridgewater massachusetts\n",
      "\n",
      "[(31, 0.16280082747076532), (47, 0.17693475154743488), (71, 0.2479674032217578), (97, 0.2479674032217578), (203, 0.30170152987285637), (204, 0.30170152987285637), (205, 0.6034030597457127), (206, 0.30170152987285637), (207, 0.30170152987285637), (208, 0.30170152987285637)] student indiana university kokomo business management retail manager delphi hardware paint lafayette indiana\n",
      "\n",
      "[(8, 0.7358877894931631), (31, 0.6771035085382929)] student houston texas\n",
      "\n",
      "[(43, 0.306412782904838), (209, 0.47594936875483734), (210, 0.47594936875483734), (211, 0.47594936875483734), (212, 0.47594936875483734)] seeking human resources position las vegas nevada\n",
      "\n",
      "[(1, 0.12155392853844117), (63, 0.09054160473820438), (91, 0.24465307733984312), (102, 0.24465307733984312), (190, 0.24465307733984312), (213, 0.29766899504739536), (214, 0.29766899504739536), (215, 0.29766899504739536), (216, 0.29766899504739536), (217, 0.29766899504739536), (218, 0.29766899504739536), (219, 0.29766899504739536), (220, 0.29766899504739536), (221, 0.29766899504739536)] aspiring human resources manager graduating may 2020 seeking entrylevel human resources position st louis cape girardeau missouri\n",
      "\n",
      "[(19, 0.4419012872249408), (20, 0.4419012872249408), (38, 0.4419012872249408), (63, 0.1872791170145675), (222, 0.6157079578640066)] human resources generalist loparex raleigh durham north carolina\n",
      "\n",
      "[(3, 0.315558415288832), (27, 0.5661159437242647), (223, 0.439672463242653), (224, 0.439672463242653), (225, 0.439672463242653)] business intelligence analytics travelers new york new york\n",
      "\n",
      "[(32, 0.22147896014712365), (148, 0.418057703817366), (226, 0.5086501176287096), (227, 0.5086501176287096), (228, 0.5086501176287096)] always set success los angeles california\n",
      "\n",
      "[(26, 0.3056140828078566), (229, 0.42581686964926896), (230, 0.42581686964926896), (231, 0.42581686964926896), (232, 0.42581686964926896), (233, 0.42581686964926896)] director administration excellence logging katy texas\n",
      "\n"
     ]
    }
   ],
   "source": [
    "for doc, as_text in zip(corpus_tfidf, X_train):\n",
    "    print(doc, as_text, end='\\n\\n') "
   ]
  },
  {
   "cell_type": "code",
   "execution_count": 20,
   "id": "1a43d383",
   "metadata": {},
   "outputs": [
    {
     "data": {
      "text/plain": [
       "[(12, 0.2642287470777187),\n",
       " (13, 0.6429733601593075),\n",
       " (14, 0.32148668007965375),\n",
       " (15, 0.32148668007965375),\n",
       " (16, 0.32148668007965375),\n",
       " (17, 0.32148668007965375),\n",
       " (18, 0.32148668007965375)]"
      ]
     },
     "execution_count": 20,
     "metadata": {},
     "output_type": "execute_result"
    }
   ],
   "source": [
    "#print the second document \n",
    "# returns a list of tuples, where the first entry is the token ID and the second entry is the tf-idf weighting\n",
    "corpus_tfidf[1]"
   ]
  },
  {
   "cell_type": "markdown",
   "id": "5a0a7148",
   "metadata": {},
   "source": [
    "#### The most relevant term in the second document is then term number 13"
   ]
  },
  {
   "cell_type": "code",
   "execution_count": 21,
   "id": "fd619922",
   "metadata": {},
   "outputs": [
    {
     "data": {
      "text/plain": [
       "'english'"
      ]
     },
     "execution_count": 21,
     "metadata": {},
     "output_type": "execute_result"
    }
   ],
   "source": [
    "#looking up the word in the dictionary\n",
    "dictionary[13]"
   ]
  },
  {
   "cell_type": "markdown",
   "id": "3d053304",
   "metadata": {},
   "source": [
    "'english' is the most relevant term in that document"
   ]
  },
  {
   "cell_type": "markdown",
   "id": "a2f06742",
   "metadata": {},
   "source": [
    "#### similarity queries\n",
    "\n",
    "To query the similarity of a query document against every other document in the corpus\n",
    "And to see the top five terms for a particular document:"
   ]
  },
  {
   "cell_type": "code",
   "execution_count": 22,
   "id": "edbe3d07",
   "metadata": {},
   "outputs": [],
   "source": [
    "from gensim.similarities import SparseMatrixSimilarity"
   ]
  },
  {
   "cell_type": "code",
   "execution_count": 23,
   "id": "f1e24017",
   "metadata": {},
   "outputs": [],
   "source": [
    "index = SparseMatrixSimilarity(corpus_tfidf, num_features = len(dictionary))"
   ]
  },
  {
   "cell_type": "code",
   "execution_count": 24,
   "id": "ac14ee05",
   "metadata": {},
   "outputs": [
    {
     "name": "stdout",
     "output_type": "stream",
     "text": [
      "[(0, 0.0), (1, 1.0), (2, 0.0), (3, 0.0), (4, 0.0), (5, 0.11127411), (6, 0.0), (7, 0.0), (8, 0.0), (9, 0.0), (10, 0.0), (11, 0.0), (12, 0.0), (13, 0.0), (14, 0.0), (15, 0.0), (16, 0.0), (17, 0.0), (18, 0.0), (19, 0.0), (20, 0.0), (21, 0.0), (22, 0.0), (23, 0.0), (24, 0.0), (25, 0.0), (26, 0.0), (27, 0.0), (28, 0.0), (29, 0.0), (30, 0.0), (31, 0.0), (32, 0.0), (33, 0.0), (34, 0.0), (35, 0.0), (36, 0.0), (37, 0.0), (38, 0.0), (39, 0.0), (40, 0.0), (41, 0.0), (42, 0.0), (43, 0.0), (44, 0.0), (45, 0.0), (46, 0.0), (47, 0.0), (48, 0.0)]\n"
     ]
    }
   ],
   "source": [
    "sims = index[corpus_tfidf[1]]\n",
    "print(list(enumerate(sims)))"
   ]
  },
  {
   "cell_type": "markdown",
   "id": "dc646d69",
   "metadata": {},
   "source": [
    "Here the 2nd job title is closest to the 6th title"
   ]
  },
  {
   "cell_type": "code",
   "execution_count": 25,
   "id": "22a5a33b",
   "metadata": {},
   "outputs": [
    {
     "name": "stdout",
     "output_type": "stream",
     "text": [
      "native english teacher epik english program korea canada canada\n",
      "student humber college aspiring human resources generalist canada canada\n"
     ]
    }
   ],
   "source": [
    "print(data['combined'].iloc[1])\n",
    "print(data['combined'].iloc[5])"
   ]
  },
  {
   "cell_type": "markdown",
   "id": "9bea2b1f",
   "metadata": {},
   "source": [
    "### Check for unseen data"
   ]
  },
  {
   "cell_type": "code",
   "execution_count": 26,
   "id": "db3bb6bb",
   "metadata": {},
   "outputs": [],
   "source": [
    "query_doc = \"aspiring human resources\".split()\n",
    "query_bow = dictionary.doc2bow(query_doc)"
   ]
  },
  {
   "cell_type": "code",
   "execution_count": 27,
   "id": "c5414627",
   "metadata": {},
   "outputs": [],
   "source": [
    "sims1 = index[tfidf[query_bow]]"
   ]
  },
  {
   "cell_type": "code",
   "execution_count": 28,
   "id": "07db5847",
   "metadata": {},
   "outputs": [
    {
     "data": {
      "text/plain": [
       "[(7, 0.2951146),\n",
       " (12, 0.4037879),\n",
       " (16, 0.22665311),\n",
       " (22, 0.21707174),\n",
       " (35, 0.36837038)]"
      ]
     },
     "execution_count": 28,
     "metadata": {},
     "output_type": "execute_result"
    }
   ],
   "source": [
    "result = list(enumerate(sims1))\n",
    "[x for x in result if x[1] > 0]"
   ]
  },
  {
   "cell_type": "code",
   "execution_count": 29,
   "id": "3ddec085",
   "metadata": {},
   "outputs": [
    {
     "name": "stdout",
     "output_type": "stream",
     "text": [
      "seeking human resources opportunities chicago illinois\n",
      "director human resources ey atlanta georgia\n",
      "seeking human resources hris generalist positions philadelphia pennsylvania\n",
      "director human resources north america groupe beneteau grand rapids michigan\n",
      "nortia staffing seeking human resources payroll administrative professionals  san jose california\n"
     ]
    }
   ],
   "source": [
    "#print the documents that are closest to the unseen data\n",
    "print(data['combined'].iloc[12])\n",
    "print(data['combined'].iloc[35])\n",
    "print(data['combined'].iloc[7])\n",
    "print(data['combined'].iloc[16])\n",
    "print(data['combined'].iloc[22])"
   ]
  },
  {
   "cell_type": "code",
   "execution_count": 30,
   "id": "8f35f219",
   "metadata": {},
   "outputs": [],
   "source": [
    "# Saving corpus\n",
    "corpus_tfidf.save('x.corpus_tfidf')"
   ]
  },
  {
   "cell_type": "markdown",
   "id": "8c19ce83",
   "metadata": {},
   "source": [
    "### Topic Modelling\n",
    "\n",
    "Topic Modelling refers to the probabilistic modelling of text documents as topics.\n",
    "Topic modeling is family of techniques that can be used to describe and summarize the documents in a corpus according to a set of latent \"topics\"."
   ]
  },
  {
   "cell_type": "code",
   "execution_count": 31,
   "id": "4873d42a",
   "metadata": {},
   "outputs": [],
   "source": [
    "from gensim.models import LdaModel, LsiModel"
   ]
  },
  {
   "cell_type": "markdown",
   "id": "0c76c691",
   "metadata": {},
   "source": [
    "#### LSI - Latent Semantic Indexing\n",
    "\n",
    "This transforms documents from either bag-of-words or (preferrably) TfIdf-weighted space into a latent space of a lower dimensionality."
   ]
  },
  {
   "cell_type": "code",
   "execution_count": 32,
   "id": "80ae4be5",
   "metadata": {},
   "outputs": [
    {
     "data": {
      "text/plain": [
       "[(0,\n",
       "  '0.470*\"new_york\" + 0.357*\"aspiring_human\" + 0.313*\"houston_texas\" + 0.249*\"student\" + 0.238*\"raleigh_durham\" + 0.238*\"north_carolina\" + 0.234*\"resources_professional\" + 0.226*\"seeking_internship\" + 0.169*\"human_resources\" + 0.134*\"resources_manager\"'),\n",
       " (1,\n",
       "  '0.682*\"new_york\" + -0.330*\"houston_texas\" + -0.295*\"student\" + -0.214*\"seeking_internship\" + 0.173*\"resources_specialist\" + 0.168*\"luxottica\" + 0.145*\"specialist\" + -0.136*\"resources_management\" + -0.127*\"raleigh_durham\" + -0.127*\"north_carolina\"'),\n",
       " (2,\n",
       "  '-0.446*\"raleigh_durham\" + -0.446*\"north_carolina\" + 0.327*\"houston_texas\" + -0.325*\"generalist\" + 0.305*\"student\" + -0.213*\"loparex\" + 0.200*\"seeking_internship\" + -0.173*\"inc\" + -0.173*\"scottmadden\" + -0.152*\"resources_professional\"'),\n",
       " (3,\n",
       "  '0.400*\"resources\" + 0.333*\"seeking_human\" + 0.238*\"california\" + 0.232*\"chicago_illinois\" + 0.221*\"opportunities\" + 0.185*\"director_human\" + 0.162*\"san\" + 0.153*\"atlanta_georgia\" + 0.149*\"ey\" + 0.139*\"hr\"'),\n",
       " (4,\n",
       "  '0.274*\"resources\" + -0.257*\"california\" + -0.247*\"professional\" + -0.233*\"human_resources\" + 0.227*\"seeking_human\" + -0.191*\"manager\" + -0.178*\"hr\" + -0.174*\"massachusetts\" + 0.169*\"chicago_illinois\" + -0.160*\"los_angeles\"'),\n",
       " (5,\n",
       "  '-0.424*\"austin_texas\" + -0.371*\"resources_professional\" + -0.273*\"experienced\" + -0.252*\"leader\" + -0.243*\"teamfocused\" + -0.243*\"energetic\" + -0.236*\"retail_manager\" + -0.219*\"aspiring_human\" + 0.193*\"generalist\" + 0.154*\"student\"'),\n",
       " (6,\n",
       "  '-0.320*\"massachusetts\" + -0.286*\"university\" + -0.252*\"professional\" + -0.209*\"boston\" + -0.181*\"state\" + -0.181*\"westfield\" + -0.181*\"bridgewater\" + 0.173*\"seeking_internship\" + 0.171*\"hr\" + 0.171*\"manager\"'),\n",
       " (7,\n",
       "  '0.276*\"professional\" + 0.270*\"atlanta_georgia\" + 0.236*\"human_resources\" + 0.186*\"boston\" + 0.183*\"coordinator\" + -0.182*\"california\" + -0.176*\"hr\" + 0.151*\"atlanta\" + 0.151*\"buckhead\" + 0.151*\"intercontinental\"'),\n",
       " (8,\n",
       "  '-0.277*\"louisiana\" + -0.277*\"major_aspiring\" + -0.245*\"business_management\" + -0.205*\"monroe\" + 0.199*\"professional\" + -0.197*\"university\" + -0.194*\"manager\" + -0.186*\"indiana\" + -0.147*\"atlanta_georgia\" + 0.141*\"staffing\"'),\n",
       " (9,\n",
       "  '-0.299*\"atlanta_georgia\" + 0.248*\"louisiana\" + 0.248*\"major_aspiring\" + 0.213*\"seeking_human\" + -0.193*\"coordinator\" + -0.184*\"director_human\" + 0.165*\"monroe\" + -0.162*\"ey\" + -0.146*\"buckhead\" + -0.146*\"intercontinental\"')]"
      ]
     },
     "execution_count": 32,
     "metadata": {},
     "output_type": "execute_result"
    }
   ],
   "source": [
    "lsimodel = LsiModel(corpus_tfidf, num_topics=10, id2word=dictionary, chunksize=49)\n",
    "\n",
    "#Get the most significant topics\n",
    "lsimodel.show_topics(num_topics=-1, num_words=10, formatted=True) "
   ]
  },
  {
   "cell_type": "markdown",
   "id": "0636fdec",
   "metadata": {},
   "source": [
    "#### Determine the optimum number of topics for LSI"
   ]
  },
  {
   "cell_type": "code",
   "execution_count": 33,
   "id": "2550abec",
   "metadata": {},
   "outputs": [],
   "source": [
    "from gensim.models.coherencemodel import CoherenceModel\n",
    "\n",
    "def compute_coherence_values(dictionary, corpus, texts, start, stop, step):\n",
    "\n",
    "    coherence_values = []\n",
    "    model_list = []\n",
    "    for num_topics in range(start, stop, step):\n",
    "        # generate LSI model\n",
    "        model_lsi = LsiModel(corpus, num_topics=num_topics, id2word = dictionary, chunksize=49)  # train model\n",
    "        model_list.append(model_lsi)\n",
    "        coherencemodel = CoherenceModel(model=model_lsi, texts=texts, dictionary=dictionary, coherence='c_v')\n",
    "        coherence_values.append(coherencemodel.get_coherence())\n",
    "    return model_list, coherence_values"
   ]
  },
  {
   "cell_type": "code",
   "execution_count": 34,
   "id": "8f76f02a",
   "metadata": {},
   "outputs": [],
   "source": [
    "import matplotlib.pyplot as plt\n",
    "\n",
    "def plot_graph(start, stop, step):\n",
    "    model_list, coherence_values = compute_coherence_values(dictionary, corpus_tfidf, tokenized_docs_bigram, start, stop, step)\n",
    "    # Show graph\n",
    "    x = range(start, stop, step)\n",
    "    plt.plot(x, coherence_values)\n",
    "    plt.xlabel(\"Number of Topics\")\n",
    "    plt.xticks(np.arange(start, stop, step))\n",
    "    plt.ylabel(\"Coherence score\")\n",
    "    #plt.legend((\"coherence_values\"), loc='best')\n",
    "    plt.show()"
   ]
  },
  {
   "cell_type": "code",
   "execution_count": 35,
   "id": "78f51189",
   "metadata": {},
   "outputs": [
    {
     "data": {
      "image/png": "[encoded data removed]",
      "text/plain": [
       "<Figure size 432x288 with 1 Axes>"
      ]
     },
     "metadata": {
      "needs_background": "light"
     },
     "output_type": "display_data"
    }
   ],
   "source": [
    "start,stop,step=2,20,1\n",
    "plot_graph(start,stop,step)"
   ]
  },
  {
   "cell_type": "markdown",
   "id": "be38c7fd",
   "metadata": {},
   "source": [
    "This graph shows that the optimum number of topics for LSI model is 9"
   ]
  },
  {
   "cell_type": "markdown",
   "id": "b040e819",
   "metadata": {},
   "source": [
    "#### Creating LSI model with optimum topics"
   ]
  },
  {
   "cell_type": "code",
   "execution_count": 36,
   "id": "212aebf0",
   "metadata": {
    "scrolled": true
   },
   "outputs": [],
   "source": [
    "lsimodel_optimum = LsiModel(corpus_tfidf, num_topics=9, id2word=dictionary, chunksize=49)"
   ]
  },
  {
   "cell_type": "markdown",
   "id": "71ca49c1",
   "metadata": {},
   "source": [
    "#### Latent Dirichlet Allocation (LDA)"
   ]
  },
  {
   "cell_type": "code",
   "execution_count": 37,
   "id": "5c6cf4c8",
   "metadata": {
    "scrolled": true
   },
   "outputs": [
    {
     "data": {
      "text/plain": [
       "[(0,\n",
       "  '0.024*\"professional\" + 0.020*\"management\" + 0.018*\"jackson\" + 0.018*\"recruiting\" + 0.018*\"mississippi\" + 0.017*\"highland\" + 0.017*\"software\" + 0.017*\"world\" + 0.017*\"gis\" + 0.016*\"staffing\"'),\n",
       " (1,\n",
       "  '0.031*\"new_york\" + 0.025*\"indiana\" + 0.025*\"resources_specialist\" + 0.014*\"paint\" + 0.014*\"kokomo\" + 0.014*\"hardware\" + 0.014*\"delphi\" + 0.014*\"lafayette\" + 0.012*\"retail_manager\" + 0.012*\"business_management\"'),\n",
       " (2,\n",
       "  '0.022*\"north_carolina\" + 0.022*\"raleigh_durham\" + 0.021*\"new_york\" + 0.019*\"resources_professional\" + 0.018*\"business\" + 0.018*\"hr\" + 0.017*\"senior\" + 0.015*\"north_america\" + 0.015*\"boston\" + 0.014*\"loparex\"'),\n",
       " (3,\n",
       "  '0.035*\"student\" + 0.028*\"houston_texas\" + 0.020*\"forest\" + 0.020*\"chapman\" + 0.020*\"lake\" + 0.015*\"rrp\" + 0.015*\"portfolio\" + 0.015*\"brand\" + 0.015*\"tobacco\" + 0.015*\"international\"'),\n",
       " (4,\n",
       "  '0.029*\"seeking_internship\" + 0.021*\"houston_texas\" + 0.021*\"human_resources\" + 0.019*\"new_york\" + 0.018*\"specialist\" + 0.017*\"resources_management\" + 0.016*\"resources_manager\" + 0.016*\"virginia\" + 0.016*\"chicago_illinois\" + 0.016*\"opportunities\"'),\n",
       " (5,\n",
       "  '0.021*\"management_major\" + 0.021*\"milpitas\" + 0.020*\"english\" + 0.019*\"experienced\" + 0.016*\"retail_manager\" + 0.016*\"austin_texas\" + 0.015*\"california\" + 0.013*\"administrative\" + 0.013*\"professionals\" + 0.013*\"nortia\"'),\n",
       " (6,\n",
       "  '0.022*\"atlanta_georgia\" + 0.019*\"ey\" + 0.016*\"director_human\" + 0.016*\"resources_generalist\" + 0.016*\"humber\" + 0.014*\"people\" + 0.014*\"denton\" + 0.014*\"ryan\" + 0.014*\"development\" + 0.014*\"undergraduate\"'),\n",
       " (7,\n",
       "  '0.018*\"success\" + 0.018*\"always\" + 0.018*\"set\" + 0.016*\"western\" + 0.016*\"lead\" + 0.016*\"illinois\" + 0.016*\"official\" + 0.015*\"los_angeles\" + 0.014*\"arts\" + 0.014*\"analyst\"'),\n",
       " (8,\n",
       "  '0.021*\"hris\" + 0.021*\"positions\" + 0.018*\"philadelphia_pennsylvania\" + 0.016*\"generalist\" + 0.015*\"care\" + 0.015*\"patient\" + 0.015*\"within\" + 0.015*\"service\" + 0.015*\"employment\" + 0.015*\"torrance\"'),\n",
       " (9,\n",
       "  '0.022*\"long_beach\" + 0.018*\"scottmadden\" + 0.018*\"inc\" + 0.017*\"teamfocused\" + 0.017*\"energetic\" + 0.017*\"westfield\" + 0.017*\"bridgewater\" + 0.017*\"state\" + 0.016*\"vegas\" + 0.016*\"nevada\"')]"
      ]
     },
     "execution_count": 37,
     "metadata": {},
     "output_type": "execute_result"
    }
   ],
   "source": [
    "# Set training parameters.\n",
    "num_topics = 10\n",
    "passes = 20\n",
    "iterations = 400\n",
    "eval_every = None  # Don't evaluate model perplexity, takes too much time.\n",
    "\n",
    "ldamodel = LdaModel(corpus_tfidf, \n",
    "               id2word=dictionary,\n",
    "               num_topics=num_topics, \n",
    "               passes = passes, \n",
    "               alpha='auto',\n",
    "               eta='auto',\n",
    "               iterations=iterations,\n",
    "               random_state=1)\n",
    "\n",
    "# each element of the list is a tuple \n",
    "# containing the topic and word / probability list\n",
    "#topics = ldamodel.show_topics(num_words = 10, formatted = False)num_topics=5\n",
    "ldamodel.show_topics(num_topics=-1, num_words = 10, formatted = True)"
   ]
  },
  {
   "cell_type": "markdown",
   "id": "c1727770",
   "metadata": {},
   "source": [
    "show_topics() from the model, will output the most probable words that appear in each topic. For the gensim library, the default printing behavior is to print a linear combination of the top words sorted in decreasing order of the probability of the word appearing in that topic. Thus words that appear towards the left are the ones that are more indicative of the topic."
   ]
  },
  {
   "cell_type": "code",
   "execution_count": 38,
   "id": "c29eaaef",
   "metadata": {},
   "outputs": [
    {
     "name": "stdout",
     "output_type": "stream",
     "text": [
      "[(4, 0.010774954)]\n"
     ]
    }
   ],
   "source": [
    "print(ldamodel.get_term_topics('human_resources'))"
   ]
  },
  {
   "cell_type": "markdown",
   "id": "09f6dff2",
   "metadata": {},
   "source": [
    "The get_document_topics method outputs the topic distribution of the document. Apart from this, it also let us know the topic distribution for each word in the document."
   ]
  },
  {
   "cell_type": "markdown",
   "id": "0974149c",
   "metadata": {},
   "source": [
    "#### Determine the optimum number of topics for LDA"
   ]
  },
  {
   "cell_type": "markdown",
   "id": "9b9d261a",
   "metadata": {},
   "source": [
    "Topic Coherence measures score a single topic by measuring the degree of semantic similarity between high scoring words in the topic. These measurements help distinguish between topics that are semantically interpretable topics and topics that are artifacts of statistical inference,"
   ]
  },
  {
   "cell_type": "code",
   "execution_count": 39,
   "id": "03ef97eb",
   "metadata": {},
   "outputs": [
    {
     "data": {
      "image/png": "[encoded data removed]",
      "text/plain": [
       "<Figure size 432x288 with 1 Axes>"
      ]
     },
     "metadata": {
      "needs_background": "light"
     },
     "output_type": "display_data"
    }
   ],
   "source": [
    "def compute_coherence_values_lda(dictionary, corpus, texts, start, stop, step):\n",
    "    coherence_values = []\n",
    "    model_list = []\n",
    "    for num_topics in range(start, stop, step):\n",
    "        model_lda=model_lda=LdaModel(corpus=corpus, \n",
    "                           id2word=dictionary, \n",
    "                           num_topics=num_topics, \n",
    "                           passes = passes, \n",
    "                           alpha='auto',\n",
    "                           eta='auto',\n",
    "                           iterations=iterations,\n",
    "                           random_state=1)\n",
    "        model_list.append(model_lda)\n",
    "        coherencemodel_lda = CoherenceModel(model=model_lda, texts=texts, dictionary=dictionary, coherence='c_v')\n",
    "        coherence_values.append(coherencemodel_lda.get_coherence())\n",
    "\n",
    "    return model_list, coherence_values\n",
    "\n",
    "#Create a model list and plot Coherence score against a number of topics\n",
    "\n",
    "start=2; stop = 20; step=1;\n",
    "model_list, coherence_values = compute_coherence_values_lda(dictionary, corpus_tfidf, tokenized_docs_bigram, start, stop, step)\n",
    "# Show graph\n",
    "\n",
    "x = range(start, stop, step)\n",
    "plt.plot(x, coherence_values)\n",
    "plt.xticks(np.arange(start, stop, step))\n",
    "plt.xlabel(\"Number of Topics\")\n",
    "plt.ylabel(\"Coherence score\")\n",
    "plt.show()"
   ]
  },
  {
   "cell_type": "markdown",
   "id": "ddda20bd",
   "metadata": {},
   "source": [
    "The last step is to find the optimal number of topics.We need to build many LDA models with different values of the number of topics (k) and pick the one that gives the highest coherence value. Choosing a ‘k’ that marks the end of a rapid growth of topic coherence usually offers meaningful and interpretable topics. Picking an even higher value can sometimes provide more granular sub-topics. If you see the same keywords being repeated in multiple topics, it’s probably a sign that the ‘k’ is too large."
   ]
  },
  {
   "cell_type": "code",
   "execution_count": 40,
   "id": "e27d0a59",
   "metadata": {},
   "outputs": [
    {
     "name": "stdout",
     "output_type": "stream",
     "text": [
      "Num Topics = 2  has Coherence Value of 0.595\n",
      "Num Topics = 3  has Coherence Value of 0.6171\n",
      "Num Topics = 4  has Coherence Value of 0.5689\n",
      "Num Topics = 5  has Coherence Value of 0.5664\n",
      "Num Topics = 6  has Coherence Value of 0.5075\n",
      "Num Topics = 7  has Coherence Value of 0.4931\n",
      "Num Topics = 8  has Coherence Value of 0.4627\n",
      "Num Topics = 9  has Coherence Value of 0.4388\n",
      "Num Topics = 10  has Coherence Value of 0.4399\n",
      "Num Topics = 11  has Coherence Value of 0.4384\n",
      "Num Topics = 12  has Coherence Value of 0.4036\n",
      "Num Topics = 13  has Coherence Value of 0.3911\n",
      "Num Topics = 14  has Coherence Value of 0.3885\n",
      "Num Topics = 15  has Coherence Value of 0.3968\n",
      "Num Topics = 16  has Coherence Value of 0.3959\n",
      "Num Topics = 17  has Coherence Value of 0.3775\n",
      "Num Topics = 18  has Coherence Value of 0.4016\n",
      "Num Topics = 19  has Coherence Value of 0.3829\n"
     ]
    }
   ],
   "source": [
    "# Print the coherence scores\n",
    "for m, cv in zip(x, coherence_values):\n",
    "    print(\"Num Topics =\", m, \" has Coherence Value of\", round(cv, 4))"
   ]
  },
  {
   "cell_type": "code",
   "execution_count": 41,
   "id": "4643db86",
   "metadata": {
    "scrolled": true
   },
   "outputs": [
    {
     "name": "stdout",
     "output_type": "stream",
     "text": [
      "The 3 topics gives the highest coherence score \\\n",
      "of 0.6171343231168103\n"
     ]
    }
   ],
   "source": [
    "best_result_index = coherence_values.index(max(coherence_values))\n",
    "optimal_model = model_list[best_result_index]\n",
    "# Select the model and print the topics\n",
    "model_topics = optimal_model.show_topics(formatted=False)\n",
    "print(f'''The {x[best_result_index]} topics gives the highest coherence score \\\\\n",
    "of {coherence_values[best_result_index]}''')"
   ]
  },
  {
   "cell_type": "markdown",
   "id": "11aebe97",
   "metadata": {},
   "source": [
    "### Model Evaluation\n",
    "#### Topic Coherence is a measure that is used to evaluate topic models.\n",
    "\n",
    "After evaluating the coherence metrics LDA with 3 topics had a higher value than LSI with 9 topics\n"
   ]
  },
  {
   "cell_type": "markdown",
   "id": "d67852dc",
   "metadata": {},
   "source": [
    "### Visualization with PyLDAvis"
   ]
  },
  {
   "cell_type": "code",
   "execution_count": 42,
   "id": "4db78595",
   "metadata": {},
   "outputs": [],
   "source": [
    "import pyLDAvis\n",
    "import pyLDAvis.gensim_models as gensimvis"
   ]
  },
  {
   "cell_type": "code",
   "execution_count": 43,
   "id": "629ff857",
   "metadata": {},
   "outputs": [],
   "source": [
    "# Set training parameters.\n",
    "num_topics = 6\n",
    "passes = 20\n",
    "iterations = 400\n",
    "eval_every = None  # Don't evaluate model perplexity, takes too much time.\n",
    "\n",
    "ldamodel_final = LdaModel(corpus_tfidf, \n",
    "               id2word=dictionary,\n",
    "               num_topics=num_topics, \n",
    "               passes = passes, \n",
    "               alpha='auto',\n",
    "               eta='auto',\n",
    "               iterations=iterations,\n",
    "               random_state=1)"
   ]
  },
  {
   "cell_type": "code",
   "execution_count": 44,
   "id": "1a2c2947",
   "metadata": {},
   "outputs": [],
   "source": [
    "pyLDAvis.enable_notebook()\n",
    "\n",
    "# feed the LDA model into the pyLDAvis instance\n",
    "lda_viz = gensimvis.prepare(ldamodel_final, corpus_tfidf, dictionary)"
   ]
  },
  {
   "cell_type": "code",
   "execution_count": 45,
   "id": "51b25cd7",
   "metadata": {
    "scrolled": true
   },
   "outputs": [
    {
     "data": {
      "text/html": [
       "\n",
       "<link rel=\"stylesheet\" type=\"text/css\" href=\"https://cdn.jsdelivr.net/gh/bmabey/pyLDAvis@3.3.1/pyLDAvis/js/ldavis.v1.0.0.css\">\n",
       "\n",
       "\n",
       "<div id=\"ldavis_el3018822105953043841509596445\"></div>\n",
       "<script type=\"text/javascript\">\n",
       "\n",
       "var ldavis_el3018822105953043841509596445_data = {\"mdsDat\": {\"x\": [-0.04142858510263339, 0.058625968270587595, -0.017012551508151605, 0.0055416812536230224, -0.013137973704932367, 0.007411460791506698], \"y\": [0.03552900821948646, 0.005724217219347305, -0.05649901761951476, 0.02466779381755513, -0.005268566456501513, -0.004153435180372575], \"topics\": [1, 2, 3, 4, 5, 6], \"cluster\": [1, 1, 1, 1, 1, 1], \"Freq\": [25.353434689028308, 20.291925414342295, 17.92965686504399, 16.387178177846966, 10.641137039919274, 9.396667813819173]}, \"tinfo\": {\"Term\": [\"new_york\", \"long_beach\", \"resources_management\", \"seeking_internship\", \"management_major\", \"milpitas\", \"student\", \"houston_texas\", \"scottmadden\", \"inc\", \"california\", \"hr\", \"los_angeles\", \"austin_texas\", \"raleigh_durham\", \"north_carolina\", \"katy\", \"excellence\", \"logging\", \"director\", \"administration\", \"wellington\", \"science\", \"baltimore\", \"victoria\", \"bachelor\", \"biology\", \"staffing\", \"director_human\", \"indiana\", \"loparex\", \"management\", \"westfield\", \"state\", \"bridgewater\", \"vegas\", \"resources_position\", \"nevada\", \"las\", \"business\", \"intelligence\", \"travelers\", \"analytics\", \"ryan\", \"development\", \"denton\", \"people\", \"world\", \"highland\", \"software\", \"gis\", \"heil\", \"partner\", \"environmental\", \"chattanooga\", \"tennessee\", \"organization\", \"data\", \"programmer\", \"gaithersburg\", \"seeking_human\", \"opportunities\", \"texas\", \"new_york\", \"chicago_illinois\", \"human_resources\", \"generalist\", \"north_carolina\", \"raleigh_durham\", \"austin_texas\", \"boston\", \"ey\", \"experienced\", \"virginia\", \"student\", \"beach\", \"monroe\", \"humber\", \"resources_generalist\", \"forest\", \"chapman\", \"lake\", \"energetic\", \"teamfocused\", \"official\", \"western\", \"illinois\", \"lead\", \"carolina\", \"junior\", \"myrtle\", \"mes\", \"south\", \"engineer\", \"director_human\", \"retail_manager\", \"college\", \"office\", \"manager_seeking\", \"business_management\", \"massachusetts\", \"houston_texas\", \"resources_professional\", \"university\", \"aspiring_human\", \"canada_canada\", \"major_aspiring\", \"professional\", \"atlanta_georgia\", \"human_resources\", \"hr\", \"los_angeles\", \"english\", \"francisco\", \"always\", \"success\", \"set\", \"positions\", \"hris\", \"intercontinental\", \"atlanta\", \"buckhead\", \"endemol\", \"shine\", \"undergraduate\", \"styczynski\", \"lab\", \"assistant\", \"research\", \"resources_manager\", \"seeking_internship\", \"employment\", \"customer\", \"service\", \"care\", \"within\", \"torrance\", \"patient\", \"atlanta_georgia\", \"teacher\", \"california\", \"san\", \"philadelphia_pennsylvania\", \"senior\", \"coordinator\", \"north_america\", \"houston_texas\", \"manager\", \"indiana\", \"resources_specialist\", \"luxottica\", \"recruiting\", \"jackson\", \"mississippi\", \"new_york\", \"arts\", \"baton\", \"liberal\", \"rouge\", \"analyst\", \"japan\", \"tobacco\", \"rrp\", \"executive\", \"brand\", \"jti\", \"international\", \"portfolio\", \"kokomo\", \"paint\", \"lafayette\", \"delphi\", \"hardware\", \"svp\", \"sphr\", \"engie\", \"csr\", \"marketing\", \"staffing\", \"raleigh_durham\", \"north_carolina\", \"aspiring_human\", \"resources_professional\", \"specialist\", \"human_resources\", \"professional\", \"louisiana\", \"major_aspiring\", \"management_major\", \"milpitas\", \"scottmadden\", \"inc\", \"katy\", \"excellence\", \"logging\", \"director\", \"administration\", \"beneteau\", \"michigan\", \"grand\", \"rapids\", \"groupe\", \"payroll\", \"professionals\", \"jose\", \"nortia\", \"administrative\", \"north_america\", \"staffing\", \"san\", \"director_human\", \"texas\", \"generalist\", \"resources\", \"raleigh_durham\", \"north_carolina\", \"california\", \"seeking_human\", \"human_resources\", \"long_beach\", \"resources_management\", \"wellington\", \"baltimore\", \"science\", \"victoria\", \"bachelor\", \"biology\", \"cum\", \"magna\", \"2019\", \"graduate\", \"ct\", \"bauer\", \"laude\", \"medical\", \"community\", \"admissions\", \"center\", \"representative\", \"seeking_internship\", \"maryland\", \"college\", \"houston_texas\", \"business\", \"aspiring_human\", \"university\", \"student\", \"resources_professional\", \"professionals\", \"california\"], \"Freq\": [1.0, 0.0, 0.0, 0.0, 0.0, 0.0, 1.0, 0.0, 0.0, 0.0, 0.0, 0.0, 0.0, 0.0, 0.0, 0.0, 0.0, 0.0, 0.0, 0.0, 0.0, 0.0, 0.0, 0.0, 0.0, 0.0, 0.0, 0.0, 0.0, 0.0, 0.34293700729752075, 0.3107046856795254, 0.2841729008641626, 0.2841727569482823, 0.2841727569482823, 0.28167452118181563, 0.28167443483228743, 0.28167443483228743, 0.2816743772659353, 0.3369134081267469, 0.2657725935522616, 0.26577247841955737, 0.2657723632868531, 0.2654450697918304, 0.2654450697918304, 0.26544504100865435, 0.2654449258759501, 0.26042062101176294, 0.2604205634454108, 0.2604205058790587, 0.2604203907463545, 0.2479195695500397, 0.2479194832005115, 0.2479194832005115, 0.24791945441733543, 0.24791945441733543, 0.24033052539109023, 0.2403305109995022, 0.2403305109995022, 0.2403305109995022, 0.4017850742554573, 0.3211360540831975, 0.29645330049818, 0.5076630375617233, 0.32113162147408364, 0.341340922618425, 0.26680018172091907, 0.26679799419953826, 0.2667979654163622, 0.4128721759469297, 0.3194480881897159, 0.3064609328547569, 0.2921962859375894, 0.28287781256335237, 0.5385848208260885, 0.27098827622658844, 0.26220483624934343, 0.26183078512912994, 0.2618307620921699, 0.261423606860375, 0.261423606860375, 0.26142351471253483, 0.26047662654389925, 0.2604766035069392, 0.23636612112623692, 0.2363660980892769, 0.23636598290447666, 0.23636598290447666, 0.20647571154473832, 0.20647568850777828, 0.2064756424338582, 0.2064755963599381, 0.20647557332297806, 0.20647552724905796, 0.26333770179640387, 0.25161603578747116, 0.2266509973739845, 0.17356550205604082, 0.17356550205604082, 0.22696236492592178, 0.27399625817328543, 0.3480928202308249, 0.313087007597922, 0.2808899993551868, 0.3182458122820468, 0.22665583513559348, 0.22696006122991752, 0.24742734052770507, 0.23808986166143284, 0.2353446853549031, 0.34505890927753713, 0.34239735384113257, 0.2898747257832928, 0.24501946826129764, 0.24178133339992136, 0.24178129268966048, 0.24178123162426915, 0.2398360750038597, 0.23983605464872923, 0.23266591923938365, 0.23266587852912277, 0.23266585817399232, 0.2215483540931918, 0.2215482116072787, 0.21212358266015816, 0.21212358266015816, 0.21212358266015816, 0.21212354194989727, 0.21212348088450594, 0.27016727523438006, 0.2701740331376877, 0.182178315702866, 0.18217829534773555, 0.18217823428234423, 0.18217823428234423, 0.18217823428234423, 0.18217823428234423, 0.18217823428234423, 0.29325156050351814, 0.17476845792227522, 0.3435597539202977, 0.21200969570532102, 0.20774924477249881, 0.21199795079505454, 0.2018410256750617, 0.19271832437782485, 0.2098472277122858, 0.19270755651381968, 0.2607484948272604, 0.257902809977647, 0.24380941348592614, 0.2200424447221356, 0.22004242611814603, 0.220042295890219, 0.5570623481518836, 0.18982309146150125, 0.18982307285751168, 0.1898230542535221, 0.1898230542535221, 0.18982299844155337, 0.1713897562813708, 0.17138973767738122, 0.17138971907339165, 0.17138971907339165, 0.17138971907339165, 0.17138970046940205, 0.17138964465743334, 0.17138960744945417, 0.15858686273460412, 0.15858686273460412, 0.15858684413061455, 0.15858682552662495, 0.15858680692263538, 0.1528046590562699, 0.1528046590562699, 0.1528046590562699, 0.1528046590562699, 0.1528046590562699, 0.19090292282849097, 0.25219201771330224, 0.25219199910931267, 0.2500676839555286, 0.21637915173861347, 0.19090018804202322, 0.20372125768660615, 0.17383106481354907, 0.16605483902242996, 0.1660548018144508, 0.20889193001810372, 0.20889178505042197, 0.1741874160067178, 0.17418735560351706, 0.14936023874948326, 0.14936023874948326, 0.1493601783462825, 0.1493601783462825, 0.14936013002372195, 0.1394432050118125, 0.13944319293117238, 0.13944318085053223, 0.13944318085053223, 0.13944316876989207, 0.13532447988303786, 0.13532445572175758, 0.13532444364111743, 0.13532443156047727, 0.13532441947983714, 0.12208807281376484, 0.11870379020265877, 0.11870258213864418, 0.1220804257685525, 0.11903674472571928, 0.13685920440717006, 0.15386206513856396, 0.13685880574604523, 0.1368587936654051, 0.15529445456002045, 0.10205144924509747, 0.13293090640901484, 0.19029052902264657, 0.18466820245969184, 0.12528369828153224, 0.12528368761370962, 0.12528368761370962, 0.12528366627806437, 0.12528365561024174, 0.12528364494241911, 0.11493515292362115, 0.11493514225579853, 0.11493514225579853, 0.1149351315879759, 0.11493511025233066, 0.11493509958450804, 0.11493508891668543, 0.11433107679987653, 0.1143310661320539, 0.11433103412858604, 0.11433102346076342, 0.11433102346076342, 0.1586089413711767, 0.10979754021710315, 0.10129309868441791, 0.1690558973927678, 0.09330342226449312, 0.129357099671188, 0.08932123609215939, 0.11727005126417774, 0.0832536132773531, 0.038377150509224245, 0.07142302999397764], \"Total\": [1.0, 0.0, 0.0, 0.0, 0.0, 0.0, 1.0, 0.0, 0.0, 0.0, 0.0, 0.0, 0.0, 0.0, 0.0, 0.0, 0.0, 0.0, 0.0, 0.0, 0.0, 0.0, 0.0, 0.0, 0.0, 0.0, 0.0, 0.0, 0.0, 0.0, 0.6037047196199451, 0.5714721902095562, 0.5449403775765931, 0.5449403241213557, 0.5449403253697827, 0.5424420901048334, 0.5424420427705113, 0.542442042846028, 0.542442050281035, 0.6526074048651991, 0.5265401014628454, 0.526540068335604, 0.5265400433357933, 0.5262125726100175, 0.5262125875394602, 0.5262125732949242, 0.5262125212555114, 0.5211880831405379, 0.5211880429489503, 0.5211880440487148, 0.5211879904271012, 0.5086869763774415, 0.5086869413252586, 0.5086869573307957, 0.5086869403471799, 0.5086869406443304, 0.5010979774503757, 0.5010979689998745, 0.5010979831941527, 0.5010979874831032, 0.8385190513326075, 0.6825600457874808, 0.6342412850053668, 1.269059342750122, 0.7233194389466153, 1.1418550912348504, 0.7516955115545902, 0.8181654627756558, 0.8181654622555704, 0.6824309252319262, 0.5890069237208237, 0.5760197689909433, 0.5617552178068843, 0.5524363666874526, 1.0559083253344235, 0.5405470295518308, 0.5317635485348191, 0.5313894587213056, 0.5313894400319447, 0.5309822983275716, 0.530982306337863, 0.5309822934642947, 0.5300353147413825, 0.5300352879153948, 0.5059247250354634, 0.5059247317871991, 0.5059247160944204, 0.5059247257023827, 0.47603419111193873, 0.4760341935572806, 0.47603417153295113, 0.4760341682066164, 0.4760341629025002, 0.4760341457105576, 0.612960854100779, 0.6051163141125993, 0.5591259995154315, 0.44312396965429074, 0.44312397474307336, 0.5804656950668428, 0.7170697998429104, 0.9549840519537242, 0.8723247725115981, 0.7850691124410611, 1.0893443741882123, 0.5907960836088582, 0.6061387651123973, 0.7688637719275765, 0.7412278383547924, 1.1418550912348504, 0.6192105995729138, 0.6165491547753307, 0.5640262644746549, 0.5191710215105805, 0.5159328675170186, 0.515932902005438, 0.5159328663526632, 0.5139876130432144, 0.5139876129112779, 0.5068174496327156, 0.5068174583213584, 0.5068174584188204, 0.4956997991412103, 0.4956997945064711, 0.4862750726650388, 0.486275073880768, 0.48627508362135863, 0.4862750742919085, 0.4862750853063733, 0.6515492404201356, 0.6645580007521761, 0.45632965552395416, 0.456329640527628, 0.45632961863356053, 0.4563296219215334, 0.45632962914081526, 0.4563296398453999, 0.45632965036197454, 0.7412278383547924, 0.4489199139368358, 0.931441151523532, 0.5628477447054931, 0.5763772907643179, 0.629876900974522, 0.6341286841981841, 0.5469418107787045, 0.9549840519537242, 0.6295519657797706, 0.5381375825773352, 0.5352924661319352, 0.5211990130169895, 0.4974316298089042, 0.4974316277792509, 0.49743161820389054, 1.269059342750122, 0.4672121482966987, 0.46721214898180136, 0.46721214634056935, 0.4672121553267093, 0.46721214894656354, 0.4487787540405843, 0.44877874610441737, 0.44877873581611033, 0.44877874941506196, 0.44877875369935905, 0.4487787581604978, 0.44877875928155014, 0.44877875493710767, 0.43597590571649286, 0.4359759108052755, 0.4359759017083937, 0.43597589177572854, 0.4359758903383583, 0.43019358383292805, 0.43019358513766986, 0.4301935903966535, 0.4301935920523839, 0.43019359285745684, 0.5449797213070088, 0.8181654622555704, 0.8181654627756558, 1.0893443741882123, 0.8723247725115981, 0.7213806441693598, 1.1418550912348504, 0.7688637719275765, 0.606138713697424, 0.6061387651123973, 0.5006998221594859, 0.5006999164875999, 0.46599513667672937, 0.46599516424437676, 0.4411679456601985, 0.44116797180131745, 0.44116796923369994, 0.4411679841866103, 0.44116800561110997, 0.4312508277648149, 0.4312508216877328, 0.43125081997835374, 0.43125082220752414, 0.4312508323712277, 0.4271320338554171, 0.4271320167221873, 0.42713204202926897, 0.42713206449127356, 0.4271320580991472, 0.5469418107787045, 0.5449797213070088, 0.5628477447054931, 0.612960854100779, 0.6342412850053668, 0.7516955115545902, 0.8703712004076499, 0.8181654622555704, 0.8181654627756558, 0.931441151523532, 0.8385190513326075, 1.1418550912348504, 0.4857378147802274, 0.4801154142476732, 0.4207307130212685, 0.4207307122875093, 0.42073071817996666, 0.42073070610991453, 0.42073073599828664, 0.4207307368254563, 0.4103820636471766, 0.4103820536586539, 0.4103820696822558, 0.4103820944207794, 0.4103820811564986, 0.41038209834823963, 0.4103821152213224, 0.409778141337547, 0.4097781507833402, 0.40977815753468994, 0.4097781699038273, 0.40977817941174577, 0.6645580007521761, 0.5427363738902575, 0.5591259995154315, 0.9549840519537242, 0.6526074048651991, 1.0893443741882123, 0.7850691124410611, 1.0559083253344235, 0.8723247725115981, 0.4271320167221873, 0.931441151523532], \"Category\": [\"Default\", \"Default\", \"Default\", \"Default\", \"Default\", \"Default\", \"Default\", \"Default\", \"Default\", \"Default\", \"Default\", \"Default\", \"Default\", \"Default\", \"Default\", \"Default\", \"Default\", \"Default\", \"Default\", \"Default\", \"Default\", \"Default\", \"Default\", \"Default\", \"Default\", \"Default\", \"Default\", \"Default\", \"Default\", \"Default\", \"Topic1\", \"Topic1\", \"Topic1\", \"Topic1\", \"Topic1\", \"Topic1\", \"Topic1\", \"Topic1\", \"Topic1\", \"Topic1\", \"Topic1\", \"Topic1\", \"Topic1\", \"Topic1\", \"Topic1\", \"Topic1\", \"Topic1\", \"Topic1\", \"Topic1\", \"Topic1\", \"Topic1\", \"Topic1\", \"Topic1\", \"Topic1\", \"Topic1\", \"Topic1\", \"Topic1\", \"Topic1\", \"Topic1\", \"Topic1\", \"Topic1\", \"Topic1\", \"Topic1\", \"Topic1\", \"Topic1\", \"Topic1\", \"Topic1\", \"Topic1\", \"Topic1\", \"Topic2\", \"Topic2\", \"Topic2\", \"Topic2\", \"Topic2\", \"Topic2\", \"Topic2\", \"Topic2\", \"Topic2\", \"Topic2\", \"Topic2\", \"Topic2\", \"Topic2\", \"Topic2\", \"Topic2\", \"Topic2\", \"Topic2\", \"Topic2\", \"Topic2\", \"Topic2\", \"Topic2\", \"Topic2\", \"Topic2\", \"Topic2\", \"Topic2\", \"Topic2\", \"Topic2\", \"Topic2\", \"Topic2\", \"Topic2\", \"Topic2\", \"Topic2\", \"Topic2\", \"Topic2\", \"Topic2\", \"Topic2\", \"Topic2\", \"Topic2\", \"Topic2\", \"Topic2\", \"Topic2\", \"Topic3\", \"Topic3\", \"Topic3\", \"Topic3\", \"Topic3\", \"Topic3\", \"Topic3\", \"Topic3\", \"Topic3\", \"Topic3\", \"Topic3\", \"Topic3\", \"Topic3\", \"Topic3\", \"Topic3\", \"Topic3\", \"Topic3\", \"Topic3\", \"Topic3\", \"Topic3\", \"Topic3\", \"Topic3\", \"Topic3\", \"Topic3\", \"Topic3\", \"Topic3\", \"Topic3\", \"Topic3\", \"Topic3\", \"Topic3\", \"Topic3\", \"Topic3\", \"Topic3\", \"Topic3\", \"Topic3\", \"Topic3\", \"Topic3\", \"Topic3\", \"Topic4\", \"Topic4\", \"Topic4\", \"Topic4\", \"Topic4\", \"Topic4\", \"Topic4\", \"Topic4\", \"Topic4\", \"Topic4\", \"Topic4\", \"Topic4\", \"Topic4\", \"Topic4\", \"Topic4\", \"Topic4\", \"Topic4\", \"Topic4\", \"Topic4\", \"Topic4\", \"Topic4\", \"Topic4\", \"Topic4\", \"Topic4\", \"Topic4\", \"Topic4\", \"Topic4\", \"Topic4\", \"Topic4\", \"Topic4\", \"Topic4\", \"Topic4\", \"Topic4\", \"Topic4\", \"Topic4\", \"Topic4\", \"Topic4\", \"Topic4\", \"Topic4\", \"Topic4\", \"Topic5\", \"Topic5\", \"Topic5\", \"Topic5\", \"Topic5\", \"Topic5\", \"Topic5\", \"Topic5\", \"Topic5\", \"Topic5\", \"Topic5\", \"Topic5\", \"Topic5\", \"Topic5\", \"Topic5\", \"Topic5\", \"Topic5\", \"Topic5\", \"Topic5\", \"Topic5\", \"Topic5\", \"Topic5\", \"Topic5\", \"Topic5\", \"Topic5\", \"Topic5\", \"Topic5\", \"Topic5\", \"Topic5\", \"Topic5\", \"Topic5\", \"Topic6\", \"Topic6\", \"Topic6\", \"Topic6\", \"Topic6\", \"Topic6\", \"Topic6\", \"Topic6\", \"Topic6\", \"Topic6\", \"Topic6\", \"Topic6\", \"Topic6\", \"Topic6\", \"Topic6\", \"Topic6\", \"Topic6\", \"Topic6\", \"Topic6\", \"Topic6\", \"Topic6\", \"Topic6\", \"Topic6\", \"Topic6\", \"Topic6\", \"Topic6\", \"Topic6\", \"Topic6\", \"Topic6\", \"Topic6\", \"Topic6\"], \"logprob\": [30.0, 29.0, 28.0, 27.0, 26.0, 25.0, 24.0, 23.0, 22.0, 21.0, 20.0, 19.0, 18.0, 17.0, 16.0, 15.0, 14.0, 13.0, 12.0, 11.0, 10.0, 9.0, 8.0, 7.0, 6.0, 5.0, 4.0, 3.0, 2.0, 1.0, -4.5011, -4.5999, -4.6891, -4.6891, -4.6891, -4.6979, -4.6979, -4.6979, -4.6979, -4.5189, -4.7561, -4.7561, -4.7561, -4.7573, -4.7573, -4.7573, -4.7573, -4.7764, -4.7764, -4.7764, -4.7764, -4.8256, -4.8256, -4.8256, -4.8256, -4.8256, -4.8567, -4.8567, -4.8567, -4.8567, -4.3428, -4.5668, -4.6468, -4.1089, -4.5668, -4.5058, -4.7522, -4.7522, -4.7522, -4.0929, -4.3494, -4.3909, -4.4386, -4.471, -3.8271, -4.5139, -4.5469, -4.5483, -4.5483, -4.5499, -4.5499, -4.5499, -4.5535, -4.5535, -4.6506, -4.6506, -4.6506, -4.6506, -4.7858, -4.7858, -4.7858, -4.7858, -4.7858, -4.7858, -4.5426, -4.5881, -4.6926, -4.9594, -4.9594, -4.6912, -4.5029, -4.2635, -4.3695, -4.478, -4.3532, -4.6926, -4.6912, -4.6049, -4.6434, -4.655, -4.1485, -4.1563, -4.3228, -4.4909, -4.5042, -4.5042, -4.5042, -4.5123, -4.5123, -4.5426, -4.5426, -4.5426, -4.5916, -4.5916, -4.6351, -4.6351, -4.6351, -4.6351, -4.6351, -4.3932, -4.3932, -4.7873, -4.7873, -4.7873, -4.7873, -4.7873, -4.7873, -4.7873, -4.3112, -4.8288, -4.1529, -4.6356, -4.6559, -4.6357, -4.6848, -4.731, -4.6459, -4.7311, -4.3387, -4.3497, -4.4059, -4.5085, -4.5085, -4.5085, -3.5796, -4.6562, -4.6562, -4.6562, -4.6562, -4.6562, -4.7583, -4.7583, -4.7583, -4.7583, -4.7583, -4.7583, -4.7583, -4.7583, -4.836, -4.836, -4.836, -4.836, -4.836, -4.8731, -4.8731, -4.8731, -4.8731, -4.8731, -4.6505, -4.3721, -4.3721, -4.3805, -4.5252, -4.6505, -4.5855, -4.7442, -4.79, -4.79, -4.1287, -4.1287, -4.3104, -4.3104, -4.4641, -4.4641, -4.4641, -4.4641, -4.4641, -4.5329, -4.5329, -4.5329, -4.5329, -4.5329, -4.5628, -4.5628, -4.5628, -4.5628, -4.5628, -4.6658, -4.6939, -4.6939, -4.6658, -4.6911, -4.5516, -4.4345, -4.5516, -4.5516, -4.4252, -4.845, -4.5807, -4.0976, -4.1276, -4.5156, -4.5156, -4.5156, -4.5156, -4.5156, -4.5156, -4.6018, -4.6018, -4.6018, -4.6018, -4.6018, -4.6018, -4.6018, -4.607, -4.607, -4.607, -4.607, -4.607, -4.2797, -4.6475, -4.7281, -4.2159, -4.8103, -4.4836, -4.8539, -4.5817, -4.9242, -5.6987, -5.0775], \"loglift\": [30.0, 29.0, 28.0, 27.0, 26.0, 25.0, 24.0, 23.0, 22.0, 21.0, 20.0, 19.0, 18.0, 17.0, 16.0, 15.0, 14.0, 13.0, 12.0, 11.0, 10.0, 9.0, 8.0, 7.0, 6.0, 5.0, 4.0, 3.0, 2.0, 1.0, 0.8067, 0.7629, 0.7212, 0.7212, 0.7212, 0.7169, 0.7169, 0.7169, 0.7169, 0.7111, 0.6886, 0.6886, 0.6886, 0.688, 0.688, 0.688, 0.688, 0.6784, 0.6784, 0.6784, 0.6784, 0.6535, 0.6535, 0.6535, 0.6535, 0.6535, 0.6375, 0.6375, 0.6375, 0.6375, 0.6365, 0.6183, 0.6117, 0.456, 0.5603, 0.1647, 0.3364, 0.2517, 0.2517, 1.0924, 0.9831, 0.9639, 0.9413, 0.9256, 0.9217, 0.9044, 0.8879, 0.8872, 0.8872, 0.8864, 0.8864, 0.8864, 0.8845, 0.8845, 0.8339, 0.8339, 0.8339, 0.8339, 0.7596, 0.7596, 0.7596, 0.7596, 0.7596, 0.7596, 0.7501, 0.7174, 0.692, 0.6577, 0.6577, 0.6559, 0.6329, 0.5857, 0.5703, 0.5671, 0.3644, 0.6369, 0.6126, 0.4612, 0.4593, 0.0156, 1.134, 1.1305, 1.0531, 0.9678, 0.9608, 0.9608, 0.9608, 0.9565, 0.9565, 0.9402, 0.9402, 0.9402, 0.9134, 0.9134, 0.8891, 0.8891, 0.8891, 0.8891, 0.8891, 0.8384, 0.8187, 0.8005, 0.8005, 0.8005, 0.8005, 0.8005, 0.8005, 0.8005, 0.7914, 0.7753, 0.7213, 0.7423, 0.6983, 0.6298, 0.5739, 0.6756, 0.2034, 0.5349, 1.0841, 1.0784, 1.0489, 0.993, 0.993, 0.993, 0.9853, 0.908, 0.908, 0.908, 0.908, 0.908, 0.8461, 0.8461, 0.8461, 0.8461, 0.8461, 0.8461, 0.8461, 0.8461, 0.7974, 0.7974, 0.7974, 0.7974, 0.7974, 0.7736, 0.7736, 0.7736, 0.7736, 0.7736, 0.7597, 0.6318, 0.6318, 0.3371, 0.4145, 0.4793, 0.085, 0.3218, 0.5139, 0.5139, 1.3663, 1.3663, 1.2564, 1.2564, 1.1574, 1.1574, 1.1574, 1.1574, 1.1574, 1.1114, 1.1114, 1.1114, 1.1114, 1.1114, 1.091, 1.091, 1.091, 1.091, 1.091, 0.7408, 0.7163, 0.6841, 0.6268, 0.5674, 0.5371, 0.5076, 0.4523, 0.4523, 0.449, 0.1343, 0.0899, 1.4277, 1.4093, 1.1534, 1.1534, 1.1534, 1.1534, 1.1534, 1.1534, 1.0921, 1.0921, 1.0921, 1.0921, 1.0921, 1.0921, 1.0921, 1.0883, 1.0883, 1.0883, 1.0883, 1.0883, 0.9321, 0.7668, 0.6565, 0.6333, 0.4197, 0.2341, 0.1913, 0.1671, 0.0155, -0.0448, -0.2033]}, \"token.table\": {\"Topic\": [1, 4, 2], \"Freq\": [0.7879852157527516, 0.7879852157527516, 0.9470519135108473], \"Term\": [\"new_york\", \"new_york\", \"student\"]}, \"R\": 30, \"lambda.step\": 0.01, \"plot.opts\": {\"xlab\": \"PC1\", \"ylab\": \"PC2\"}, \"topic.order\": [3, 4, 6, 2, 1, 5]};\n",
       "\n",
       "function LDAvis_load_lib(url, callback){\n",
       "  var s = document.createElement('script');\n",
       "  s.src = url;\n",
       "  s.async = true;\n",
       "  s.onreadystatechange = s.onload = callback;\n",
       "  s.onerror = function(){console.warn(\"failed to load library \" + url);};\n",
       "  document.getElementsByTagName(\"head\")[0].appendChild(s);\n",
       "}\n",
       "\n",
       "if(typeof(LDAvis) !== \"undefined\"){\n",
       "   // already loaded: just create the visualization\n",
       "   !function(LDAvis){\n",
       "       new LDAvis(\"#\" + \"ldavis_el3018822105953043841509596445\", ldavis_el3018822105953043841509596445_data);\n",
       "   }(LDAvis);\n",
       "}else if(typeof define === \"function\" && define.amd){\n",
       "   // require.js is available: use it to load d3/LDAvis\n",
       "   require.config({paths: {d3: \"https://d3js.org/d3.v5\"}});\n",
       "   require([\"d3\"], function(d3){\n",
       "      window.d3 = d3;\n",
       "      LDAvis_load_lib(\"https://cdn.jsdelivr.net/gh/bmabey/pyLDAvis@3.3.1/pyLDAvis/js/ldavis.v3.0.0.js\", function(){\n",
       "        new LDAvis(\"#\" + \"ldavis_el3018822105953043841509596445\", ldavis_el3018822105953043841509596445_data);\n",
       "      });\n",
       "    });\n",
       "}else{\n",
       "    // require.js not available: dynamically load d3 & LDAvis\n",
       "    LDAvis_load_lib(\"https://d3js.org/d3.v5.js\", function(){\n",
       "         LDAvis_load_lib(\"https://cdn.jsdelivr.net/gh/bmabey/pyLDAvis@3.3.1/pyLDAvis/js/ldavis.v3.0.0.js\", function(){\n",
       "                 new LDAvis(\"#\" + \"ldavis_el3018822105953043841509596445\", ldavis_el3018822105953043841509596445_data);\n",
       "            })\n",
       "         });\n",
       "}\n",
       "</script>"
      ],
      "text/plain": [
       "PreparedData(topic_coordinates=              x         y  topics  cluster       Freq\n",
       "topic                                                \n",
       "2     -0.041429  0.035529       1        1  25.353435\n",
       "3      0.058626  0.005724       2        1  20.291925\n",
       "5     -0.017013 -0.056499       3        1  17.929657\n",
       "1      0.005542  0.024668       4        1  16.387178\n",
       "0     -0.013138 -0.005269       5        1  10.641137\n",
       "4      0.007411 -0.004153       6        1   9.396668, topic_info=                       Term      Freq     Total Category  logprob  loglift\n",
       "27                 new_york  1.000000  1.000000  Default  30.0000  30.0000\n",
       "197              long_beach  0.000000  0.000000  Default  29.0000  29.0000\n",
       "65     resources_management  0.000000  0.000000  Default  28.0000  28.0000\n",
       "66       seeking_internship  0.000000  0.000000  Default  27.0000  27.0000\n",
       "174        management_major  0.000000  0.000000  Default  26.0000  26.0000\n",
       "..                      ...       ...       ...      ...      ...      ...\n",
       "47               university  0.089321  0.785069   Topic6  -4.8539   0.1913\n",
       "31                  student  0.117270  1.055908   Topic6  -4.5817   0.1671\n",
       "11   resources_professional  0.083254  0.872325   Topic6  -4.9242   0.0155\n",
       "109           professionals  0.038377  0.427132   Topic6  -5.6987  -0.0448\n",
       "32               california  0.071423  0.931441   Topic6  -5.0775  -0.2033\n",
       "\n",
       "[250 rows x 6 columns], token_table=      Topic      Freq      Term\n",
       "term                           \n",
       "27        1  0.787985  new_york\n",
       "27        4  0.787985  new_york\n",
       "31        2  0.947052   student, R=30, lambda_step=0.01, plot_opts={'xlab': 'PC1', 'ylab': 'PC2'}, topic_order=[3, 4, 6, 2, 1, 5])"
      ]
     },
     "execution_count": 45,
     "metadata": {},
     "output_type": "execute_result"
    }
   ],
   "source": [
    "lda_viz"
   ]
  },
  {
   "cell_type": "code",
   "execution_count": 46,
   "id": "1777b096",
   "metadata": {},
   "outputs": [],
   "source": [
    "pyLDAvis.save_html(lda_viz, 'lda.html')"
   ]
  },
  {
   "cell_type": "markdown",
   "id": "a7bc01bc",
   "metadata": {},
   "source": [
    "#### Interpret pyLDAvis’s output"
   ]
  },
  {
   "cell_type": "markdown",
   "id": "f687d7e6",
   "metadata": {},
   "source": [
    "* A good topic model will have fairly big, non-overlapping bubbles scattered throughout the chart instead of being clustered in one quadrant.</br>\n",
    "* Each bubble on the left-hand side plot represents a topic. The larger the bubble, the more prevalent is that topic.</br>\n",
    "\n",
    "* Blue bars represent the overall frequency of each word in the corpus. If no topic is selected, the blue bars of the most frequently used words will be displayed.</br>\n",
    "* Red bars give the estimated number of times a given term was generated by a given topic\n",
    "* The word with the longest red bar is the word that is used the most by the texts belonging to that topic."
   ]
  },
  {
   "cell_type": "markdown",
   "id": "7421deef",
   "metadata": {},
   "source": [
    "### Testing model on unseen data"
   ]
  },
  {
   "cell_type": "markdown",
   "id": "eee81671",
   "metadata": {},
   "source": [
    "#### Using LDA model"
   ]
  },
  {
   "cell_type": "markdown",
   "id": "6b3cddff",
   "metadata": {},
   "source": [
    "#### Print the topic associations with the documents for LDA"
   ]
  },
  {
   "cell_type": "code",
   "execution_count": 47,
   "id": "f56192ff",
   "metadata": {
    "scrolled": true
   },
   "outputs": [
    {
     "name": "stdout",
     "output_type": "stream",
     "text": [
      "doc :  0 [(4, 0.96107537)]\n",
      "doc :  1 [(1, 0.010442298), (2, 0.01421108), (3, 0.013043406), (5, 0.94676864)]\n",
      "doc :  2 [(0, 0.015233415), (1, 0.89833456), (2, 0.026714917), (3, 0.024514012), (4, 0.013951466), (5, 0.021251641)]\n",
      "doc :  3 [(0, 0.010583503), (1, 0.013629727), (2, 0.9343078), (3, 0.0170208), (5, 0.014765316)]\n",
      "doc :  4 [(0, 0.015233246), (1, 0.8983479), (2, 0.026711727), (3, 0.024504429), (4, 0.013951332), (5, 0.021251427)]\n",
      "doc :  5 [(0, 0.010583361), (1, 0.013629768), (2, 0.01854994), (3, 0.9327795), (5, 0.014764678)]\n",
      "doc :  6 [(0, 0.010583389), (1, 0.013629843), (2, 0.018554263), (3, 0.017020859), (5, 0.93051887)]\n",
      "doc :  7 [(0, 0.010583568), (1, 0.013629897), (2, 0.018577868), (3, 0.017023997), (5, 0.93049175)]\n",
      "doc :  8 [(0, 0.01058351), (1, 0.013629743), (2, 0.018553864), (3, 0.93277115), (5, 0.014768903)]\n",
      "doc :  9 [(1, 0.96585524)]\n",
      "doc :  10 [(0, 0.010583427), (1, 0.013629947), (2, 0.0185621), (3, 0.017024888), (5, 0.9305068)]\n",
      "doc :  11 [(0, 0.012489609), (1, 0.016085101), (2, 0.021894936), (3, 0.020113578), (4, 0.91199166), (5, 0.017425165)]\n",
      "doc :  12 [(0, 0.015233502), (1, 0.019618079), (2, 0.905437), (3, 0.024506826), (4, 0.013951529), (5, 0.02125309)]\n",
      "doc :  13 [(0, 0.012489546), (1, 0.016085045), (2, 0.02189159), (3, 0.9206716), (4, 0.011438522), (5, 0.017423676)]\n",
      "doc :  14 [(0, 0.01058345), (1, 0.92937356), (2, 0.01855893), (3, 0.017026436), (5, 0.014764761)]\n",
      "doc :  15 [(0, 0.012489566), (1, 0.91664445), (2, 0.021913385), (3, 0.020089256), (4, 0.011438525), (5, 0.017424757)]\n",
      "doc :  16 [(0, 0.943564), (1, 0.010442173), (2, 0.014212589), (3, 0.013043226), (5, 0.0113119995)]\n",
      "doc :  17 [(3, 0.96490854)]\n",
      "doc :  18 [(0, 0.92631716), (1, 0.013630721), (2, 0.018570883), (3, 0.017023217), (5, 0.014765259)]\n",
      "doc :  19 [(0, 0.010583461), (1, 0.013630362), (2, 0.018555984), (3, 0.93277204), (5, 0.014765292)]\n",
      "doc :  20 [(0, 0.012489772), (1, 0.016086241), (2, 0.02190974), (3, 0.020112721), (4, 0.011438728), (5, 0.91796285)]\n",
      "doc :  21 [(0, 0.015233471), (1, 0.019618971), (2, 0.02672584), (3, 0.90321785), (4, 0.013951518), (5, 0.021252284)]\n",
      "doc :  22 [(0, 0.9542536), (2, 0.011526734), (3, 0.0105693145)]\n",
      "doc :  23 [(2, 0.9627309)]\n",
      "doc :  24 [(2, 0.96823907)]\n",
      "doc :  25 [(1, 0.9458937), (2, 0.014214825), (3, 0.013045164), (5, 0.011311794)]\n",
      "doc :  26 [(1, 0.010442268), (2, 0.014213704), (3, 0.94849795), (5, 0.011311616)]\n",
      "doc :  27 [(1, 0.010442317), (2, 0.9496698), (3, 0.013041117), (5, 0.011312296)]\n",
      "doc :  28 [(0, 0.010583338), (1, 0.013629933), (2, 0.01855357), (3, 0.93277603), (5, 0.014764367)]\n",
      "doc :  29 [(1, 0.011824781), (2, 0.016092721), (3, 0.014769098), (5, 0.9397221)]\n",
      "doc :  30 [(1, 0.010442691), (2, 0.9496587), (3, 0.013048175), (5, 0.011315669)]\n",
      "doc :  31 [(1, 0.9515653), (2, 0.012723338), (3, 0.011675173), (5, 0.01012795)]\n",
      "doc :  32 [(1, 0.010442684), (2, 0.94966835), (3, 0.013041833), (5, 0.011312377)]\n",
      "doc :  33 [(1, 0.010442307), (2, 0.014215856), (3, 0.013044854), (4, 0.94287705), (5, 0.011311575)]\n",
      "doc :  34 [(0, 0.89395076), (1, 0.019618634), (2, 0.026718335), (3, 0.024505949), (4, 0.013951477), (5, 0.021254858)]\n",
      "doc :  35 [(0, 0.015233566), (1, 0.019618154), (2, 0.026709964), (3, 0.90323204), (4, 0.013951578), (5, 0.021254672)]\n",
      "doc :  36 [(0, 0.010583423), (1, 0.013629627), (2, 0.018548675), (3, 0.017021907), (5, 0.9305235)]\n",
      "doc :  37 [(0, 0.010583446), (1, 0.013629697), (2, 0.018559048), (3, 0.9327706), (5, 0.014764361)]\n",
      "doc :  38 [(2, 0.011523793), (3, 0.010568819), (5, 0.95685416)]\n",
      "doc :  39 [(1, 0.010442339), (2, 0.01421408), (3, 0.01304249), (4, 0.9428767), (5, 0.011315885)]\n",
      "doc :  40 [(0, 0.010583543), (1, 0.013629906), (2, 0.6701962), (3, 0.2811329), (5, 0.014764503)]\n",
      "doc :  41 [(1, 0.7893019), (2, 0.010522895), (3, 0.18030064)]\n",
      "doc :  42 [(0, 0.027171912), (1, 0.034993034), (2, 0.047625434), (3, 0.82741606), (4, 0.024885347), (5, 0.037908208)]\n",
      "doc :  43 [(0, 0.012489673), (1, 0.016084544), (2, 0.9224769), (3, 0.020086344), (4, 0.0114386305), (5, 0.017423877)]\n",
      "doc :  44 [(2, 0.97041774)]\n",
      "doc :  45 [(0, 0.012489738), (1, 0.016086048), (2, 0.92247224), (3, 0.02008859), (4, 0.011438647), (5, 0.017424747)]\n",
      "doc :  46 [(0, 0.010583369), (1, 0.013630521), (2, 0.9343085), (3, 0.017020551), (5, 0.014764247)]\n",
      "doc :  47 [(0, 0.012489567), (1, 0.016084401), (2, 0.021889916), (3, 0.020086555), (4, 0.011438531), (5, 0.918011)]\n",
      "doc :  48 [(0, 0.92633575), (1, 0.013629643), (2, 0.01855682), (3, 0.017020676), (5, 0.0147643415)]\n"
     ]
    }
   ],
   "source": [
    "# printing the topic associations with the original documents for the LDA model\n",
    "count = 0\n",
    "for i in ldamodel_final[bow_corpus]:\n",
    "    print('doc : ', count, i)\n",
    "    count += 1"
   ]
  },
  {
   "cell_type": "code",
   "execution_count": 48,
   "id": "2bc45ed9",
   "metadata": {},
   "outputs": [],
   "source": [
    "# creating a dataframe to store the associated topics for each document\n",
    "def get_max(doc):\n",
    "        idx,l = zip(*doc)\n",
    "        return idx[np.argmax(l)]\n",
    "\n",
    "data['doc_topic'] = [get_max(doc) for doc in ldamodel_final.get_document_topics(corpus_tfidf)]"
   ]
  },
  {
   "cell_type": "code",
   "execution_count": 49,
   "id": "4e8ee54c",
   "metadata": {},
   "outputs": [
    {
     "data": {
      "text/html": [
       "<div>\n",
       "<style scoped>\n",
       "    .dataframe tbody tr th:only-of-type {\n",
       "        vertical-align: middle;\n",
       "    }\n",
       "\n",
       "    .dataframe tbody tr th {\n",
       "        vertical-align: top;\n",
       "    }\n",
       "\n",
       "    .dataframe thead th {\n",
       "        text-align: right;\n",
       "    }\n",
       "</style>\n",
       "<table border=\"1\" class=\"dataframe\">\n",
       "  <thead>\n",
       "    <tr style=\"text-align: right;\">\n",
       "      <th></th>\n",
       "      <th>combined</th>\n",
       "      <th>doc_topic</th>\n",
       "    </tr>\n",
       "  </thead>\n",
       "  <tbody>\n",
       "    <tr>\n",
       "      <th>0</th>\n",
       "      <td>2019 ct bauer college business graduate magna cum laude aspiring human resources professional houston texas</td>\n",
       "      <td>4</td>\n",
       "    </tr>\n",
       "    <tr>\n",
       "      <th>1</th>\n",
       "      <td>native english teacher epik english program korea canada canada</td>\n",
       "      <td>5</td>\n",
       "    </tr>\n",
       "    <tr>\n",
       "      <th>2</th>\n",
       "      <td>aspiring human resources professional raleigh durham north carolina</td>\n",
       "      <td>1</td>\n",
       "    </tr>\n",
       "    <tr>\n",
       "      <th>3</th>\n",
       "      <td>people development coordinator ryan denton texas</td>\n",
       "      <td>2</td>\n",
       "    </tr>\n",
       "    <tr>\n",
       "      <th>4</th>\n",
       "      <td>aspiring human resources specialist new york new york</td>\n",
       "      <td>1</td>\n",
       "    </tr>\n",
       "    <tr>\n",
       "      <th>5</th>\n",
       "      <td>student humber college aspiring human resources generalist canada canada</td>\n",
       "      <td>3</td>\n",
       "    </tr>\n",
       "    <tr>\n",
       "      <th>6</th>\n",
       "      <td>hr senior specialist san francisco california</td>\n",
       "      <td>5</td>\n",
       "    </tr>\n",
       "    <tr>\n",
       "      <th>7</th>\n",
       "      <td>seeking human resources hris generalist positions philadelphia pennsylvania</td>\n",
       "      <td>5</td>\n",
       "    </tr>\n",
       "    <tr>\n",
       "      <th>8</th>\n",
       "      <td>student chapman university lake forest california</td>\n",
       "      <td>3</td>\n",
       "    </tr>\n",
       "    <tr>\n",
       "      <th>9</th>\n",
       "      <td>svp chro marketing communications csr officer engie houston woodlands energy gphr sphr houston texas</td>\n",
       "      <td>1</td>\n",
       "    </tr>\n",
       "  </tbody>\n",
       "</table>\n",
       "</div>"
      ],
      "text/plain": [
       "                                                                                                      combined  \\\n",
       "0  2019 ct bauer college business graduate magna cum laude aspiring human resources professional houston texas   \n",
       "1                                              native english teacher epik english program korea canada canada   \n",
       "2                                          aspiring human resources professional raleigh durham north carolina   \n",
       "3                                                             people development coordinator ryan denton texas   \n",
       "4                                                        aspiring human resources specialist new york new york   \n",
       "5                                     student humber college aspiring human resources generalist canada canada   \n",
       "6                                                                hr senior specialist san francisco california   \n",
       "7                                  seeking human resources hris generalist positions philadelphia pennsylvania   \n",
       "8                                                            student chapman university lake forest california   \n",
       "9         svp chro marketing communications csr officer engie houston woodlands energy gphr sphr houston texas   \n",
       "\n",
       "   doc_topic  \n",
       "0          4  \n",
       "1          5  \n",
       "2          1  \n",
       "3          2  \n",
       "4          1  \n",
       "5          3  \n",
       "6          5  \n",
       "7          5  \n",
       "8          3  \n",
       "9          1  "
      ]
     },
     "execution_count": 49,
     "metadata": {},
     "output_type": "execute_result"
    }
   ],
   "source": [
    "df1 = data[['combined', 'doc_topic']]\n",
    "df1.head(10)"
   ]
  },
  {
   "cell_type": "markdown",
   "id": "6aabbf1b",
   "metadata": {},
   "source": [
    "#### Unseen Text - 1"
   ]
  },
  {
   "cell_type": "code",
   "execution_count": 50,
   "id": "cda2b0f1",
   "metadata": {
    "scrolled": true
   },
   "outputs": [
    {
     "name": "stdout",
     "output_type": "stream",
     "text": [
      "[(0, 0.68885577), (1, 0.05754202), (2, 0.07842874), (3, 0.07191027), (4, 0.04092138), (5, 0.062341847)]\n"
     ]
    }
   ],
   "source": [
    "test_doc = 'aspiring human resources'\n",
    "bow_test_doc = dictionary.doc2bow(test_doc.split())\n",
    "\n",
    "print(ldamodel_final.get_document_topics(bow_test_doc))"
   ]
  },
  {
   "cell_type": "markdown",
   "id": "d3f01a67",
   "metadata": {},
   "source": [
    "The unseen text has a higher probability with topic 0"
   ]
  },
  {
   "cell_type": "code",
   "execution_count": 51,
   "id": "6af22405",
   "metadata": {
    "scrolled": true
   },
   "outputs": [
    {
     "data": {
      "text/html": [
       "<div>\n",
       "<style scoped>\n",
       "    .dataframe tbody tr th:only-of-type {\n",
       "        vertical-align: middle;\n",
       "    }\n",
       "\n",
       "    .dataframe tbody tr th {\n",
       "        vertical-align: top;\n",
       "    }\n",
       "\n",
       "    .dataframe thead th {\n",
       "        text-align: right;\n",
       "    }\n",
       "</style>\n",
       "<table border=\"1\" class=\"dataframe\">\n",
       "  <thead>\n",
       "    <tr style=\"text-align: right;\">\n",
       "      <th></th>\n",
       "      <th>combined</th>\n",
       "      <th>doc_topic</th>\n",
       "    </tr>\n",
       "  </thead>\n",
       "  <tbody>\n",
       "    <tr>\n",
       "      <th>16</th>\n",
       "      <td>director human resources north america groupe beneteau grand rapids michigan</td>\n",
       "      <td>0</td>\n",
       "    </tr>\n",
       "    <tr>\n",
       "      <th>18</th>\n",
       "      <td>human resources generalist scottmadden inc raleigh durham north carolina</td>\n",
       "      <td>0</td>\n",
       "    </tr>\n",
       "    <tr>\n",
       "      <th>22</th>\n",
       "      <td>nortia staffing seeking human resources payroll administrative professionals  san jose california</td>\n",
       "      <td>0</td>\n",
       "    </tr>\n",
       "    <tr>\n",
       "      <th>34</th>\n",
       "      <td>human resources management major milpitas california</td>\n",
       "      <td>0</td>\n",
       "    </tr>\n",
       "    <tr>\n",
       "      <th>48</th>\n",
       "      <td>director administration excellence logging katy texas</td>\n",
       "      <td>0</td>\n",
       "    </tr>\n",
       "  </tbody>\n",
       "</table>\n",
       "</div>"
      ],
      "text/plain": [
       "                                                                                             combined  \\\n",
       "16                       director human resources north america groupe beneteau grand rapids michigan   \n",
       "18                           human resources generalist scottmadden inc raleigh durham north carolina   \n",
       "22  nortia staffing seeking human resources payroll administrative professionals  san jose california   \n",
       "34                                               human resources management major milpitas california   \n",
       "48                                              director administration excellence logging katy texas   \n",
       "\n",
       "    doc_topic  \n",
       "16          0  \n",
       "18          0  \n",
       "22          0  \n",
       "34          0  \n",
       "48          0  "
      ]
     },
     "execution_count": 51,
     "metadata": {},
     "output_type": "execute_result"
    }
   ],
   "source": [
    "df1.loc[df1['doc_topic'] == 0]"
   ]
  },
  {
   "cell_type": "markdown",
   "id": "6e62f26a",
   "metadata": {},
   "source": [
    "The above list shows all the documents that are displayed for the unseen text"
   ]
  },
  {
   "cell_type": "markdown",
   "id": "e178a57e",
   "metadata": {},
   "source": [
    "#### Unseen Text - 2"
   ]
  },
  {
   "cell_type": "markdown",
   "id": "6856f741",
   "metadata": {},
   "source": [
    "#### Similarity Queries and Unseen Data"
   ]
  },
  {
   "cell_type": "code",
   "execution_count": 52,
   "id": "83c91099",
   "metadata": {},
   "outputs": [],
   "source": [
    "from gensim import similarities\n",
    "index = similarities.MatrixSimilarity(ldamodel_final[corpus_tfidf])  # transform corpus to LDA space and index it"
   ]
  },
  {
   "cell_type": "code",
   "execution_count": 53,
   "id": "48f5a7c8",
   "metadata": {
    "scrolled": true
   },
   "outputs": [
    {
     "name": "stdout",
     "output_type": "stream",
     "text": [
      "[(0, 0.019522646), (1, 0.025141822), (2, 0.03422938), (3, 0.031397156), (4, 0.017879764), (5, 0.8718293)]\n"
     ]
    }
   ],
   "source": [
    "doc = \"Seeking english teacher\"\n",
    "vec_bow = dictionary.doc2bow(doc.lower().split())\n",
    "vec_lda = ldamodel_final[vec_bow]  # convert the query to LSI space\n",
    "print(vec_lda)"
   ]
  },
  {
   "cell_type": "markdown",
   "id": "4f447dfa",
   "metadata": {},
   "source": [
    "The unseen text has a higher probability with topic 5"
   ]
  },
  {
   "cell_type": "code",
   "execution_count": 54,
   "id": "41f409c6",
   "metadata": {},
   "outputs": [
    {
     "data": {
      "text/html": [
       "<div>\n",
       "<style scoped>\n",
       "    .dataframe tbody tr th:only-of-type {\n",
       "        vertical-align: middle;\n",
       "    }\n",
       "\n",
       "    .dataframe tbody tr th {\n",
       "        vertical-align: top;\n",
       "    }\n",
       "\n",
       "    .dataframe thead th {\n",
       "        text-align: right;\n",
       "    }\n",
       "</style>\n",
       "<table border=\"1\" class=\"dataframe\">\n",
       "  <thead>\n",
       "    <tr style=\"text-align: right;\">\n",
       "      <th></th>\n",
       "      <th>combined</th>\n",
       "      <th>doc_topic</th>\n",
       "    </tr>\n",
       "  </thead>\n",
       "  <tbody>\n",
       "    <tr>\n",
       "      <th>1</th>\n",
       "      <td>native english teacher epik english program korea canada canada</td>\n",
       "      <td>5</td>\n",
       "    </tr>\n",
       "    <tr>\n",
       "      <th>6</th>\n",
       "      <td>hr senior specialist san francisco california</td>\n",
       "      <td>5</td>\n",
       "    </tr>\n",
       "    <tr>\n",
       "      <th>7</th>\n",
       "      <td>seeking human resources hris generalist positions philadelphia pennsylvania</td>\n",
       "      <td>5</td>\n",
       "    </tr>\n",
       "    <tr>\n",
       "      <th>10</th>\n",
       "      <td>human resources coordinator intercontinental buckhead atlanta atlanta georgia</td>\n",
       "      <td>5</td>\n",
       "    </tr>\n",
       "    <tr>\n",
       "      <th>20</th>\n",
       "      <td>aspiring human resources manager seeking internship human resources houston texas</td>\n",
       "      <td>5</td>\n",
       "    </tr>\n",
       "    <tr>\n",
       "      <th>29</th>\n",
       "      <td>hr manager endemol shine north america los angeles california</td>\n",
       "      <td>5</td>\n",
       "    </tr>\n",
       "    <tr>\n",
       "      <th>36</th>\n",
       "      <td>undergraduate research assistant styczynski lab atlanta georgia</td>\n",
       "      <td>5</td>\n",
       "    </tr>\n",
       "    <tr>\n",
       "      <th>38</th>\n",
       "      <td>seeking employment opportunities within customer service patient care torrance california</td>\n",
       "      <td>5</td>\n",
       "    </tr>\n",
       "    <tr>\n",
       "      <th>47</th>\n",
       "      <td>always set success los angeles california</td>\n",
       "      <td>5</td>\n",
       "    </tr>\n",
       "  </tbody>\n",
       "</table>\n",
       "</div>"
      ],
      "text/plain": [
       "                                                                                     combined  \\\n",
       "1                             native english teacher epik english program korea canada canada   \n",
       "6                                               hr senior specialist san francisco california   \n",
       "7                 seeking human resources hris generalist positions philadelphia pennsylvania   \n",
       "10              human resources coordinator intercontinental buckhead atlanta atlanta georgia   \n",
       "20          aspiring human resources manager seeking internship human resources houston texas   \n",
       "29                              hr manager endemol shine north america los angeles california   \n",
       "36                            undergraduate research assistant styczynski lab atlanta georgia   \n",
       "38  seeking employment opportunities within customer service patient care torrance california   \n",
       "47                                                  always set success los angeles california   \n",
       "\n",
       "    doc_topic  \n",
       "1           5  \n",
       "6           5  \n",
       "7           5  \n",
       "10          5  \n",
       "20          5  \n",
       "29          5  \n",
       "36          5  \n",
       "38          5  \n",
       "47          5  "
      ]
     },
     "execution_count": 54,
     "metadata": {},
     "output_type": "execute_result"
    }
   ],
   "source": [
    "df1.loc[df1['doc_topic'] == 5]"
   ]
  },
  {
   "cell_type": "code",
   "execution_count": null,
   "id": "00d4ae91",
   "metadata": {},
   "outputs": [],
   "source": []
  },
  {
   "cell_type": "markdown",
   "id": "99c4f986",
   "metadata": {},
   "source": [
    "## Using Doc2Vec\n",
    "\n",
    "Doc2Vec is a Model that represents each Document as a Vector. </br>\n",
    "\n",
    "In Gensim, Paragraph Vector model is referred as Doc2Vec.</br>\n",
    "\n",
    "Le and Mikolov in 2014 introduced the Doc2Vec algorithm <https://cs.stanford.edu/~quocle/paragraph_vector.pdf>, which usually outperforms such simple-averaging of Word2Vec vectors.</br>\n",
    "\n",
    "There are two implementations:</br>\n",
    "\n",
    "* Paragraph Vector - Distributed Memory (PV-DM)\n",
    "* Paragraph Vector - Distributed Bag of Words (PV-DBOW)\n",
    "\n",
    "PV-DM is analogous to Word2Vec CBOW. The doc-vectors are obtained by training a neural network on the synthetic task of predicting a center word based an average of both context word-vectors and the full document's doc-vector.</br>\n",
    "\n",
    "PV-DBOW is analogous to Word2Vec SG. The doc-vectors are obtained by training a neural network on the synthetic task of predicting a target word just from the full document's doc-vector. (It is also common to combine this with skip-gram testing, using both the doc-vector and nearby word-vectors to predict a single target word, but only one at a time.)</br>\n",
    "\n",
    "To train the model, need to associate a tag/number with each document of the training corpus."
   ]
  },
  {
   "cell_type": "code",
   "execution_count": 55,
   "id": "7d2ef866",
   "metadata": {},
   "outputs": [],
   "source": [
    "from gensim.models.doc2vec import Doc2Vec, TaggedDocument"
   ]
  },
  {
   "cell_type": "code",
   "execution_count": 56,
   "id": "61ab402a",
   "metadata": {},
   "outputs": [],
   "source": [
    "tagged_data = [TaggedDocument(words=TreebankWordTokenizer().tokenize(d), tags=[i]) for i, d in enumerate(X_train)]"
   ]
  },
  {
   "cell_type": "code",
   "execution_count": 57,
   "id": "c3ea8135",
   "metadata": {
    "scrolled": true
   },
   "outputs": [
    {
     "data": {
      "text/plain": [
       "[TaggedDocument(words=['2019', 'ct', 'bauer', 'college', 'business', 'graduate', 'magna', 'cum', 'laude', 'aspiring', 'human', 'resources', 'professional', 'houston', 'texas'], tags=[0]),\n",
       " TaggedDocument(words=['native', 'english', 'teacher', 'epik', 'english', 'program', 'korea', 'canada', 'canada'], tags=[1]),\n",
       " TaggedDocument(words=['aspiring', 'human', 'resources', 'professional', 'raleigh', 'durham', 'north', 'carolina'], tags=[2]),\n",
       " TaggedDocument(words=['people', 'development', 'coordinator', 'ryan', 'denton', 'texas'], tags=[3]),\n",
       " TaggedDocument(words=['aspiring', 'human', 'resources', 'specialist', 'new', 'york', 'new', 'york'], tags=[4]),\n",
       " TaggedDocument(words=['student', 'humber', 'college', 'aspiring', 'human', 'resources', 'generalist', 'canada', 'canada'], tags=[5]),\n",
       " TaggedDocument(words=['hr', 'senior', 'specialist', 'san', 'francisco', 'california'], tags=[6]),\n",
       " TaggedDocument(words=['seeking', 'human', 'resources', 'hris', 'generalist', 'positions', 'philadelphia', 'pennsylvania'], tags=[7]),\n",
       " TaggedDocument(words=['student', 'chapman', 'university', 'lake', 'forest', 'california'], tags=[8]),\n",
       " TaggedDocument(words=['svp', 'chro', 'marketing', 'communications', 'csr', 'officer', 'engie', 'houston', 'woodlands', 'energy', 'gphr', 'sphr', 'houston', 'texas'], tags=[9])]"
      ]
     },
     "execution_count": 57,
     "metadata": {},
     "output_type": "execute_result"
    }
   ],
   "source": [
    "tagged_data[:10]"
   ]
  },
  {
   "cell_type": "markdown",
   "id": "cb4c0b80",
   "metadata": {},
   "source": [
    "### Training the Model\n",
    "\n",
    "Now, we'll instantiate a Doc2Vec model with a vector size with 50 dimensions and iterating over the training corpus 40 times. We set the minimum word count to 2 in order to discard words with very few occurrences. (Without a variety of representative examples, retaining such infrequent words can often make a model worse!) Typical iteration counts in the published Paragraph Vector paper <https://cs.stanford.edu/~quocle/paragraph_vector.pdf>__ results, using 10s-of-thousands to millions of docs, are 10-20. More iterations take more time and eventually reach a point of diminishing returns.\n",
    "\n",
    "However, this is a very very small dataset (49 documents) with shortish documents (a few hundred words). Adding training passes can sometimes help with such small datasets."
   ]
  },
  {
   "cell_type": "code",
   "execution_count": 58,
   "id": "8f17773b",
   "metadata": {},
   "outputs": [],
   "source": [
    "#d2v_model = Doc2Vec(vector_size=50, min_count=1, epochs=20)\n",
    "d2v_model = Doc2Vec(dm=1, vector_size=10, min_count=2, epochs=200)"
   ]
  },
  {
   "cell_type": "markdown",
   "id": "e70b6fdc",
   "metadata": {},
   "source": [
    "#### Build a vocabulary"
   ]
  },
  {
   "cell_type": "code",
   "execution_count": 59,
   "id": "c13faa2e",
   "metadata": {},
   "outputs": [],
   "source": [
    "d2v_model.build_vocab(tagged_data)"
   ]
  },
  {
   "cell_type": "markdown",
   "id": "0e16fc51",
   "metadata": {},
   "source": [
    "Essentially, the vocabulary is a list (accessible via model.wv.index_to_key) of all of the unique words extracted from the training corpus. Additional attributes for each word are available using the model.wv.get_vecattr() method"
   ]
  },
  {
   "cell_type": "code",
   "execution_count": 60,
   "id": "17b28b58",
   "metadata": {},
   "outputs": [
    {
     "name": "stdout",
     "output_type": "stream",
     "text": [
      "Word 'english' appeared 2 times in the training corpus.\n"
     ]
    }
   ],
   "source": [
    "print(f\"Word 'english' appeared {d2v_model.wv.get_vecattr('english', 'count')} times in the training corpus.\")"
   ]
  },
  {
   "cell_type": "markdown",
   "id": "cc26ada7",
   "metadata": {},
   "source": [
    "#### Train the model \n",
    "\n",
    "Train the model on the corpus. If optimized Gensim (with BLAS library) is being used, this should take no more than 3 seconds. If the BLAS library is not being used, this should take no more than 2 minutes, so use optimized Gensim with BLAS "
   ]
  },
  {
   "cell_type": "code",
   "execution_count": 61,
   "id": "b0601214",
   "metadata": {},
   "outputs": [],
   "source": [
    "d2v_model.train(tagged_data, total_examples=d2v_model.corpus_count, epochs=d2v_model.epochs)"
   ]
  },
  {
   "cell_type": "code",
   "execution_count": 62,
   "id": "37190433",
   "metadata": {},
   "outputs": [],
   "source": [
    "#save the model\n",
    "d2v_model.save(\"d2v.model\")"
   ]
  },
  {
   "cell_type": "markdown",
   "id": "0498de69",
   "metadata": {},
   "source": [
    "#### Assessing the Model\n",
    "\n",
    "To assess our new model, we'll first infer new vectors for each document of the training corpus, compare the inferred vectors with the training corpus, and then returning the rank of the document based on self-similarity. Basically, we're pretending as if the training corpus is some new unseen data and then seeing how they compare with the trained model. The expectation is that we've likely overfit our model (i.e., all of the ranks will be less than 2) and so we should be able to find similar documents very easily. Additionally, we'll keep track of the second ranks for a comparison of less similar documents."
   ]
  },
  {
   "cell_type": "code",
   "execution_count": 63,
   "id": "f7ab2e0d",
   "metadata": {},
   "outputs": [],
   "source": [
    "ranks = []\n",
    "second_ranks = []\n",
    "for doc_id in range(len(tagged_data)):\n",
    "    inferred_vector = d2v_model.infer_vector(tagged_data[doc_id].words)\n",
    "    sims = d2v_model.dv.most_similar([inferred_vector], topn=len(d2v_model.dv))\n",
    "    rank = [docid for docid, sim in sims].index(doc_id)\n",
    "    ranks.append(rank)\n",
    "\n",
    "    second_ranks.append(sims[1])"
   ]
  },
  {
   "cell_type": "code",
   "execution_count": 64,
   "id": "b7de3d15",
   "metadata": {},
   "outputs": [
    {
     "name": "stdout",
     "output_type": "stream",
     "text": [
      "Counter({0: 27, 1: 11, 2: 5, 3: 2, 8: 1, 33: 1, 4: 1, 14: 1})\n"
     ]
    }
   ],
   "source": [
    "import collections\n",
    "\n",
    "counter = collections.Counter(ranks)\n",
    "print(counter)"
   ]
  },
  {
   "cell_type": "markdown",
   "id": "b8e7d8e0",
   "metadata": {},
   "source": [
    "#### Getting other similar documents"
   ]
  },
  {
   "cell_type": "code",
   "execution_count": 65,
   "id": "46810fd1",
   "metadata": {},
   "outputs": [
    {
     "name": "stdout",
     "output_type": "stream",
     "text": [
      "Test Data :  TaggedDocument(['aspiring', 'human', 'resources', 'professional', 'raleigh', 'durham', 'north', 'carolina'], [2])\n",
      "0.9879245162010193 | hr manager endemol shine north america los angeles california\n",
      "0.9846591949462891 | seeking human resources opportunities chicago illinois\n",
      "0.9822432994842529 | seeking employment opportunities within customer service patient care torrance california\n",
      "0.9812532663345337 | bachelor science biology victoria university wellington baltimore maryland\n",
      "0.9765986800193787 | always set success los angeles california\n",
      "0.9731391072273254 | senior human resources business partner heil environmental chattanooga tennessee\n",
      "0.9726248979568481 | people development coordinator ryan denton texas\n",
      "0.9718512892723083 | lead official western illinois university chicago illinois\n",
      "0.9710590243339539 | human resources coordinator intercontinental buckhead atlanta atlanta georgia\n",
      "0.9707838892936707 | human resources professional boston massachusetts\n"
     ]
    }
   ],
   "source": [
    "print('Test Data : ', tagged_data[2])\n",
    "similar_doc = d2v_model.dv.most_similar(2)\n",
    "for doc_num, score in similar_doc:\n",
    "    print(score, '|' , X_train[int(doc_num)])"
   ]
  },
  {
   "cell_type": "markdown",
   "id": "301c5ba2",
   "metadata": {},
   "source": [
    "#### Test unseen data"
   ]
  },
  {
   "cell_type": "code",
   "execution_count": 66,
   "id": "1e87a88c",
   "metadata": {},
   "outputs": [],
   "source": [
    "model = Doc2Vec.load(\"d2v.model\")"
   ]
  },
  {
   "cell_type": "code",
   "execution_count": 67,
   "id": "839c2047",
   "metadata": {},
   "outputs": [],
   "source": [
    "unseen_text = \"seeking english teacher\".split()"
   ]
  },
  {
   "cell_type": "code",
   "execution_count": 68,
   "id": "e3111427",
   "metadata": {},
   "outputs": [
    {
     "name": "stdout",
     "output_type": "stream",
     "text": [
      "0.9936826825141907 | native english teacher epik english program korea canada canada\n",
      "0.9859849214553833 | director human resources north america groupe beneteau grand rapids michigan\n",
      "0.9830997586250305 | undergraduate research assistant styczynski lab atlanta georgia\n",
      "0.9803407788276672 | hr senior specialist san francisco california\n",
      "0.9794735312461853 | director human resources ey atlanta georgia\n",
      "0.9790735244750977 | director administration excellence logging katy texas\n",
      "0.9788565635681152 | people development coordinator ryan denton texas\n",
      "0.971490740776062 | aspiring human resources professional energetic teamfocused leader austin texas\n",
      "0.9714484810829163 | experienced retail manager aspiring human resources professional austin texas\n",
      "0.9714024066925049 | human resources coordinator intercontinental buckhead atlanta atlanta georgia\n"
     ]
    }
   ],
   "source": [
    "test_doc_vector = model.infer_vector(unseen_text)\n",
    "sims = model.dv.most_similar(positive = [test_doc_vector])\n",
    "for s in sims:\n",
    "    print(f\"{(s[1])} | {data['combined'].iloc[s[0]]}\")"
   ]
  },
  {
   "cell_type": "code",
   "execution_count": null,
   "id": "013835c9",
   "metadata": {},
   "outputs": [],
   "source": []
  },
  {
   "cell_type": "code",
   "execution_count": null,
   "id": "42b5c58a",
   "metadata": {},
   "outputs": [],
   "source": []
  },
  {
   "cell_type": "code",
   "execution_count": null,
   "id": "4359233f",
   "metadata": {},
   "outputs": [],
   "source": []
  }
 ],
 "metadata": {
  "kernelspec": {
   "display_name": "Python 3 (ipykernel)",
   "language": "python",
   "name": "python3"
  },
  "language_info": {
   "codemirror_mode": {
    "name": "ipython",
    "version": 3
   },
   "file_extension": ".py",
   "mimetype": "text/x-python",
   "name": "python",
   "nbconvert_exporter": "python",
   "pygments_lexer": "ipython3",
   "version": "3.8.11"
  }
 },
 "nbformat": 4,
 "nbformat_minor": 5
}
