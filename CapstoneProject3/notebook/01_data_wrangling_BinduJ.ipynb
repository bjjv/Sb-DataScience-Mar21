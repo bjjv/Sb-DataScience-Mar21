{
 "cells": [
  {
   "cell_type": "markdown",
   "id": "664a92bf",
   "metadata": {},
   "source": [
    "## Data Wrangling"
   ]
  },
  {
   "cell_type": "code",
   "execution_count": 1,
   "id": "603b3e12",
   "metadata": {},
   "outputs": [],
   "source": [
    "import pandas as pd\n",
    "import numpy as np"
   ]
  },
  {
   "cell_type": "markdown",
   "id": "f9e5587e",
   "metadata": {},
   "source": [
    "#### Loading data "
   ]
  },
  {
   "cell_type": "code",
   "execution_count": 2,
   "id": "a3ada9de",
   "metadata": {},
   "outputs": [],
   "source": [
    "data = pd.read_excel('../raw_data/potential-talents.xlsx')"
   ]
  },
  {
   "cell_type": "code",
   "execution_count": 3,
   "id": "37e4af62",
   "metadata": {},
   "outputs": [
    {
     "data": {
      "text/html": [
       "<div>\n",
       "<style scoped>\n",
       "    .dataframe tbody tr th:only-of-type {\n",
       "        vertical-align: middle;\n",
       "    }\n",
       "\n",
       "    .dataframe tbody tr th {\n",
       "        vertical-align: top;\n",
       "    }\n",
       "\n",
       "    .dataframe thead th {\n",
       "        text-align: right;\n",
       "    }\n",
       "</style>\n",
       "<table border=\"1\" class=\"dataframe\">\n",
       "  <thead>\n",
       "    <tr style=\"text-align: right;\">\n",
       "      <th></th>\n",
       "      <th>id</th>\n",
       "      <th>job_title</th>\n",
       "      <th>location</th>\n",
       "      <th>connection</th>\n",
       "      <th>fit</th>\n",
       "    </tr>\n",
       "  </thead>\n",
       "  <tbody>\n",
       "    <tr>\n",
       "      <th>0</th>\n",
       "      <td>1.0</td>\n",
       "      <td>2019 C.T. Bauer College of Business Graduate (Magna Cum Laude) and aspiring Human Resources professional</td>\n",
       "      <td>Houston, Texas</td>\n",
       "      <td>85.0</td>\n",
       "      <td>NaN</td>\n",
       "    </tr>\n",
       "    <tr>\n",
       "      <th>1</th>\n",
       "      <td>2.0</td>\n",
       "      <td>Native English Teacher at EPIK (English Program in Korea)</td>\n",
       "      <td>Kanada</td>\n",
       "      <td>500+</td>\n",
       "      <td>NaN</td>\n",
       "    </tr>\n",
       "    <tr>\n",
       "      <th>2</th>\n",
       "      <td>3.0</td>\n",
       "      <td>Aspiring Human Resources Professional</td>\n",
       "      <td>Raleigh-Durham, North Carolina Area</td>\n",
       "      <td>44.0</td>\n",
       "      <td>NaN</td>\n",
       "    </tr>\n",
       "    <tr>\n",
       "      <th>3</th>\n",
       "      <td>4.0</td>\n",
       "      <td>People Development Coordinator at Ryan</td>\n",
       "      <td>Denton, Texas</td>\n",
       "      <td>500+</td>\n",
       "      <td>NaN</td>\n",
       "    </tr>\n",
       "    <tr>\n",
       "      <th>4</th>\n",
       "      <td>5.0</td>\n",
       "      <td>Advisory Board Member at Celal Bayar University</td>\n",
       "      <td>İzmir, Türkiye</td>\n",
       "      <td>500+</td>\n",
       "      <td>NaN</td>\n",
       "    </tr>\n",
       "  </tbody>\n",
       "</table>\n",
       "</div>"
      ],
      "text/plain": [
       "    id  \\\n",
       "0  1.0   \n",
       "1  2.0   \n",
       "2  3.0   \n",
       "3  4.0   \n",
       "4  5.0   \n",
       "\n",
       "                                                                                                  job_title  \\\n",
       "0  2019 C.T. Bauer College of Business Graduate (Magna Cum Laude) and aspiring Human Resources professional   \n",
       "1                                                 Native English Teacher at EPIK (English Program in Korea)   \n",
       "2                                                                     Aspiring Human Resources Professional   \n",
       "3                                                                    People Development Coordinator at Ryan   \n",
       "4                                                           Advisory Board Member at Celal Bayar University   \n",
       "\n",
       "                              location connection  fit  \n",
       "0                       Houston, Texas       85.0  NaN  \n",
       "1                               Kanada      500+   NaN  \n",
       "2  Raleigh-Durham, North Carolina Area       44.0  NaN  \n",
       "3                        Denton, Texas      500+   NaN  \n",
       "4                       İzmir, Türkiye      500+   NaN  "
      ]
     },
     "execution_count": 3,
     "metadata": {},
     "output_type": "execute_result"
    }
   ],
   "source": [
    "pd.set_option('display.max_colwidth',None)\n",
    "data.head()"
   ]
  },
  {
   "cell_type": "markdown",
   "id": "c9716a57",
   "metadata": {},
   "source": [
    "#### drop id ( an id assigned ) and fit columns as they are not needed"
   ]
  },
  {
   "cell_type": "code",
   "execution_count": 4,
   "id": "5de0a949",
   "metadata": {},
   "outputs": [],
   "source": [
    "cols_to_drop = ['id', 'fit']\n",
    "data.drop(cols_to_drop, axis=1, inplace=True)"
   ]
  },
  {
   "cell_type": "markdown",
   "id": "dd08d0bb",
   "metadata": {},
   "source": [
    "#### check data types"
   ]
  },
  {
   "cell_type": "code",
   "execution_count": 5,
   "id": "b8ca09ea",
   "metadata": {},
   "outputs": [
    {
     "name": "stdout",
     "output_type": "stream",
     "text": [
      "<class 'pandas.core.frame.DataFrame'>\n",
      "RangeIndex: 104 entries, 0 to 103\n",
      "Data columns (total 3 columns):\n",
      " #   Column      Non-Null Count  Dtype \n",
      "---  ------      --------------  ----- \n",
      " 0   job_title   104 non-null    object\n",
      " 1   location    104 non-null    object\n",
      " 2   connection  104 non-null    object\n",
      "dtypes: object(3)\n",
      "memory usage: 2.6+ KB\n"
     ]
    }
   ],
   "source": [
    "data.info()"
   ]
  },
  {
   "cell_type": "code",
   "execution_count": 6,
   "id": "0c2b2a52",
   "metadata": {},
   "outputs": [
    {
     "data": {
      "text/plain": [
       "job_title     0\n",
       "location      0\n",
       "connection    0\n",
       "dtype: int64"
      ]
     },
     "execution_count": 6,
     "metadata": {},
     "output_type": "execute_result"
    }
   ],
   "source": [
    "data.isnull().sum()"
   ]
  },
  {
   "cell_type": "markdown",
   "id": "875ea8b9",
   "metadata": {},
   "source": [
    "* There are no missing data in this data set\n",
    "* The data has 3 variables and 104 observations"
   ]
  },
  {
   "cell_type": "markdown",
   "id": "f26b2d45",
   "metadata": {},
   "source": [
    "#### Check for duplicates and remove "
   ]
  },
  {
   "cell_type": "code",
   "execution_count": 7,
   "id": "4d854060",
   "metadata": {},
   "outputs": [
    {
     "name": "stdout",
     "output_type": "stream",
     "text": [
      "<class 'pandas.core.frame.DataFrame'>\n",
      "Int64Index: 51 entries, 8 to 64\n",
      "Data columns (total 3 columns):\n",
      " #   Column      Non-Null Count  Dtype \n",
      "---  ------      --------------  ----- \n",
      " 0   job_title   51 non-null     object\n",
      " 1   location    51 non-null     object\n",
      " 2   connection  51 non-null     object\n",
      "dtypes: object(3)\n",
      "memory usage: 1.6+ KB\n"
     ]
    }
   ],
   "source": [
    "data_duplicate = data[data.duplicated()]\n",
    "data_duplicate.info()"
   ]
  },
  {
   "cell_type": "code",
   "execution_count": 8,
   "id": "9bfd2e1e",
   "metadata": {},
   "outputs": [
    {
     "data": {
      "text/html": [
       "<div>\n",
       "<style scoped>\n",
       "    .dataframe tbody tr th:only-of-type {\n",
       "        vertical-align: middle;\n",
       "    }\n",
       "\n",
       "    .dataframe tbody tr th {\n",
       "        vertical-align: top;\n",
       "    }\n",
       "\n",
       "    .dataframe thead th {\n",
       "        text-align: right;\n",
       "    }\n",
       "</style>\n",
       "<table border=\"1\" class=\"dataframe\">\n",
       "  <thead>\n",
       "    <tr style=\"text-align: right;\">\n",
       "      <th></th>\n",
       "      <th>job_title</th>\n",
       "      <th>location</th>\n",
       "      <th>connection</th>\n",
       "    </tr>\n",
       "  </thead>\n",
       "  <tbody>\n",
       "    <tr>\n",
       "      <th>8</th>\n",
       "      <td>Student at Humber College and Aspiring Human Resources Generalist</td>\n",
       "      <td>Kanada</td>\n",
       "      <td>61.0</td>\n",
       "    </tr>\n",
       "    <tr>\n",
       "      <th>13</th>\n",
       "      <td>2019 C.T. Bauer College of Business Graduate (Magna Cum Laude) and aspiring Human Resources professional</td>\n",
       "      <td>Houston, Texas</td>\n",
       "      <td>85.0</td>\n",
       "    </tr>\n",
       "    <tr>\n",
       "      <th>14</th>\n",
       "      <td>2019 C.T. Bauer College of Business Graduate (Magna Cum Laude) and aspiring Human Resources professional</td>\n",
       "      <td>Houston, Texas</td>\n",
       "      <td>85.0</td>\n",
       "    </tr>\n",
       "    <tr>\n",
       "      <th>15</th>\n",
       "      <td>Native English Teacher at EPIK (English Program in Korea)</td>\n",
       "      <td>Kanada</td>\n",
       "      <td>500+</td>\n",
       "    </tr>\n",
       "    <tr>\n",
       "      <th>16</th>\n",
       "      <td>Aspiring Human Resources Professional</td>\n",
       "      <td>Raleigh-Durham, North Carolina Area</td>\n",
       "      <td>44.0</td>\n",
       "    </tr>\n",
       "  </tbody>\n",
       "</table>\n",
       "</div>"
      ],
      "text/plain": [
       "                                                                                                   job_title  \\\n",
       "8                                          Student at Humber College and Aspiring Human Resources Generalist   \n",
       "13  2019 C.T. Bauer College of Business Graduate (Magna Cum Laude) and aspiring Human Resources professional   \n",
       "14  2019 C.T. Bauer College of Business Graduate (Magna Cum Laude) and aspiring Human Resources professional   \n",
       "15                                                 Native English Teacher at EPIK (English Program in Korea)   \n",
       "16                                                                     Aspiring Human Resources Professional   \n",
       "\n",
       "                               location connection  \n",
       "8                                Kanada       61.0  \n",
       "13                       Houston, Texas       85.0  \n",
       "14                       Houston, Texas       85.0  \n",
       "15                               Kanada      500+   \n",
       "16  Raleigh-Durham, North Carolina Area       44.0  "
      ]
     },
     "execution_count": 8,
     "metadata": {},
     "output_type": "execute_result"
    }
   ],
   "source": [
    "data_duplicate.head()"
   ]
  },
  {
   "cell_type": "code",
   "execution_count": 9,
   "id": "37d89d8f",
   "metadata": {},
   "outputs": [],
   "source": [
    "data.drop_duplicates(subset=['job_title'], inplace=True)"
   ]
  },
  {
   "cell_type": "code",
   "execution_count": 10,
   "id": "e2c165df",
   "metadata": {},
   "outputs": [
    {
     "data": {
      "text/plain": [
       "(52, 3)"
      ]
     },
     "execution_count": 10,
     "metadata": {},
     "output_type": "execute_result"
    }
   ],
   "source": [
    "data.shape"
   ]
  },
  {
   "cell_type": "markdown",
   "id": "cad5570f",
   "metadata": {},
   "source": [
    "### Further cleaning of data\n",
    "* Here Kanada should be changed to Canada\n",
    "* Remove İzmir, Türkiye and Amerika Birleşik Devletleri as we are only considering US and Canada cities"
   ]
  },
  {
   "cell_type": "code",
   "execution_count": 11,
   "id": "29b3f0a1",
   "metadata": {},
   "outputs": [],
   "source": [
    "data.reset_index(drop=True, inplace=True)"
   ]
  },
  {
   "cell_type": "code",
   "execution_count": 12,
   "id": "f7af0100",
   "metadata": {},
   "outputs": [],
   "source": [
    "data.replace(to_replace = 'Kanada', value = 'Canada', inplace=True)"
   ]
  },
  {
   "cell_type": "code",
   "execution_count": 13,
   "id": "2c2a7bff",
   "metadata": {},
   "outputs": [],
   "source": [
    "index_names = data[(data['location'] == 'İzmir, Türkiye') | (data['location'] == 'Amerika Birleşik Devletleri')].index"
   ]
  },
  {
   "cell_type": "code",
   "execution_count": 14,
   "id": "fd1d8ccc",
   "metadata": {},
   "outputs": [],
   "source": [
    "data.drop(index_names, inplace = True)"
   ]
  },
  {
   "cell_type": "code",
   "execution_count": 15,
   "id": "db442f3d",
   "metadata": {},
   "outputs": [
    {
     "data": {
      "text/plain": [
       "(49, 3)"
      ]
     },
     "execution_count": 15,
     "metadata": {},
     "output_type": "execute_result"
    }
   ],
   "source": [
    "data.shape"
   ]
  },
  {
   "cell_type": "code",
   "execution_count": 16,
   "id": "b06027ef",
   "metadata": {},
   "outputs": [],
   "source": [
    "data.reset_index(drop=True, inplace=True)"
   ]
  },
  {
   "cell_type": "code",
   "execution_count": 17,
   "id": "2fdacdd2",
   "metadata": {},
   "outputs": [],
   "source": [
    "# save the data to a new csv file\n",
    "data.to_csv('../data/data_cleaned.csv', index=False)"
   ]
  },
  {
   "cell_type": "markdown",
   "id": "579dc80a",
   "metadata": {},
   "source": [
    "## Text preprocessing\n",
    "\n",
    "#### Perform the following steps\n",
    "\n",
    "* Remove punctuations and other special characters\n",
    "* Tokenization - Split the text into sentences and then into words. Remove punctuation and lowercase the words\n",
    "* Remove all stop words\n",
    "* Words are lemmatized - words in third person are changed to first person and verbs in past and future tenses are changed to present\n",
    "* Words are stemmed - words are reduced to their root form"
   ]
  },
  {
   "cell_type": "code",
   "execution_count": 18,
   "id": "7cf6cc3f",
   "metadata": {},
   "outputs": [],
   "source": [
    "data_df = pd.read_csv('../data/data_cleaned.csv')"
   ]
  },
  {
   "cell_type": "code",
   "execution_count": 19,
   "id": "e14a9dc8",
   "metadata": {},
   "outputs": [
    {
     "data": {
      "text/html": [
       "<div>\n",
       "<style scoped>\n",
       "    .dataframe tbody tr th:only-of-type {\n",
       "        vertical-align: middle;\n",
       "    }\n",
       "\n",
       "    .dataframe tbody tr th {\n",
       "        vertical-align: top;\n",
       "    }\n",
       "\n",
       "    .dataframe thead th {\n",
       "        text-align: right;\n",
       "    }\n",
       "</style>\n",
       "<table border=\"1\" class=\"dataframe\">\n",
       "  <thead>\n",
       "    <tr style=\"text-align: right;\">\n",
       "      <th></th>\n",
       "      <th>job_title</th>\n",
       "      <th>location</th>\n",
       "      <th>connection</th>\n",
       "    </tr>\n",
       "  </thead>\n",
       "  <tbody>\n",
       "    <tr>\n",
       "      <th>0</th>\n",
       "      <td>2019 C.T. Bauer College of Business Graduate (Magna Cum Laude) and aspiring Human Resources professional</td>\n",
       "      <td>Houston, Texas</td>\n",
       "      <td>85.0</td>\n",
       "    </tr>\n",
       "    <tr>\n",
       "      <th>1</th>\n",
       "      <td>Native English Teacher at EPIK (English Program in Korea)</td>\n",
       "      <td>Canada</td>\n",
       "      <td>500+</td>\n",
       "    </tr>\n",
       "    <tr>\n",
       "      <th>2</th>\n",
       "      <td>Aspiring Human Resources Professional</td>\n",
       "      <td>Raleigh-Durham, North Carolina Area</td>\n",
       "      <td>44.0</td>\n",
       "    </tr>\n",
       "    <tr>\n",
       "      <th>3</th>\n",
       "      <td>People Development Coordinator at Ryan</td>\n",
       "      <td>Denton, Texas</td>\n",
       "      <td>500+</td>\n",
       "    </tr>\n",
       "    <tr>\n",
       "      <th>4</th>\n",
       "      <td>Aspiring Human Resources Specialist</td>\n",
       "      <td>Greater New York City Area</td>\n",
       "      <td>1.0</td>\n",
       "    </tr>\n",
       "  </tbody>\n",
       "</table>\n",
       "</div>"
      ],
      "text/plain": [
       "                                                                                                  job_title  \\\n",
       "0  2019 C.T. Bauer College of Business Graduate (Magna Cum Laude) and aspiring Human Resources professional   \n",
       "1                                                 Native English Teacher at EPIK (English Program in Korea)   \n",
       "2                                                                     Aspiring Human Resources Professional   \n",
       "3                                                                    People Development Coordinator at Ryan   \n",
       "4                                                                       Aspiring Human Resources Specialist   \n",
       "\n",
       "                              location connection  \n",
       "0                       Houston, Texas       85.0  \n",
       "1                               Canada      500+   \n",
       "2  Raleigh-Durham, North Carolina Area       44.0  \n",
       "3                        Denton, Texas      500+   \n",
       "4           Greater New York City Area        1.0  "
      ]
     },
     "execution_count": 19,
     "metadata": {},
     "output_type": "execute_result"
    }
   ],
   "source": [
    "data_df.head()"
   ]
  },
  {
   "cell_type": "code",
   "execution_count": 20,
   "id": "a8466c50",
   "metadata": {},
   "outputs": [],
   "source": [
    "#remove words within brackets ()\n",
    "data_df['job_title'] = data_df['job_title'].str.replace(r\" \\(.*\\)\",\"\", regex=True)  "
   ]
  },
  {
   "cell_type": "markdown",
   "id": "3e99bd75",
   "metadata": {},
   "source": [
    "### Remove punctuation and digits, stopwords and Tokenize"
   ]
  },
  {
   "cell_type": "code",
   "execution_count": 21,
   "id": "ce92ab12",
   "metadata": {},
   "outputs": [
    {
     "name": "stderr",
     "output_type": "stream",
     "text": [
      "[nltk_data] Downloading package stopwords to\n",
      "[nltk_data]     C:\\Users\\Home\\AppData\\Roaming\\nltk_data...\n",
      "[nltk_data]   Package stopwords is already up-to-date!\n"
     ]
    }
   ],
   "source": [
    "import re\n",
    "import string\n",
    "import nltk\n",
    "nltk.download('stopwords')\n",
    "\n",
    "stopwords = nltk.corpus.stopwords.words('english')"
   ]
  },
  {
   "cell_type": "code",
   "execution_count": 22,
   "id": "c133bf82",
   "metadata": {},
   "outputs": [],
   "source": [
    "def clean_text(text):\n",
    "    text = \"\".join([word for word in text if word not in (string.punctuation + string.digits)])\n",
    "    tokens = re.split('\\W+', text)\n",
    "    text = [word for word in tokens if word not in stopwords]\n",
    "    return text\n",
    "\n",
    "data_df['job_title_nostop'] = data_df['job_title'].apply(lambda x: clean_text(x.lower()))"
   ]
  },
  {
   "cell_type": "markdown",
   "id": "54eadd36",
   "metadata": {},
   "source": [
    "### Stem text"
   ]
  },
  {
   "cell_type": "code",
   "execution_count": 23,
   "id": "a59f1acf",
   "metadata": {},
   "outputs": [],
   "source": [
    "import nltk\n",
    "\n",
    "ps = nltk.PorterStemmer()"
   ]
  },
  {
   "cell_type": "code",
   "execution_count": 24,
   "id": "61c86f7e",
   "metadata": {},
   "outputs": [
    {
     "data": {
      "text/html": [
       "<div>\n",
       "<style scoped>\n",
       "    .dataframe tbody tr th:only-of-type {\n",
       "        vertical-align: middle;\n",
       "    }\n",
       "\n",
       "    .dataframe tbody tr th {\n",
       "        vertical-align: top;\n",
       "    }\n",
       "\n",
       "    .dataframe thead th {\n",
       "        text-align: right;\n",
       "    }\n",
       "</style>\n",
       "<table border=\"1\" class=\"dataframe\">\n",
       "  <thead>\n",
       "    <tr style=\"text-align: right;\">\n",
       "      <th></th>\n",
       "      <th>job_title</th>\n",
       "      <th>location</th>\n",
       "      <th>connection</th>\n",
       "      <th>job_title_nostop</th>\n",
       "      <th>job_title_stemmed</th>\n",
       "    </tr>\n",
       "  </thead>\n",
       "  <tbody>\n",
       "    <tr>\n",
       "      <th>0</th>\n",
       "      <td>2019 C.T. Bauer College of Business Graduate and aspiring Human Resources professional</td>\n",
       "      <td>Houston, Texas</td>\n",
       "      <td>85.0</td>\n",
       "      <td>[, ct, bauer, college, business, graduate, aspiring, human, resources, professional]</td>\n",
       "      <td>[, ct, bauer, colleg, busi, graduat, aspir, human, resourc, profession]</td>\n",
       "    </tr>\n",
       "    <tr>\n",
       "      <th>1</th>\n",
       "      <td>Native English Teacher at EPIK</td>\n",
       "      <td>Canada</td>\n",
       "      <td>500+</td>\n",
       "      <td>[native, english, teacher, epik]</td>\n",
       "      <td>[nativ, english, teacher, epik]</td>\n",
       "    </tr>\n",
       "    <tr>\n",
       "      <th>2</th>\n",
       "      <td>Aspiring Human Resources Professional</td>\n",
       "      <td>Raleigh-Durham, North Carolina Area</td>\n",
       "      <td>44.0</td>\n",
       "      <td>[aspiring, human, resources, professional]</td>\n",
       "      <td>[aspir, human, resourc, profession]</td>\n",
       "    </tr>\n",
       "    <tr>\n",
       "      <th>3</th>\n",
       "      <td>People Development Coordinator at Ryan</td>\n",
       "      <td>Denton, Texas</td>\n",
       "      <td>500+</td>\n",
       "      <td>[people, development, coordinator, ryan]</td>\n",
       "      <td>[peopl, develop, coordin, ryan]</td>\n",
       "    </tr>\n",
       "    <tr>\n",
       "      <th>4</th>\n",
       "      <td>Aspiring Human Resources Specialist</td>\n",
       "      <td>Greater New York City Area</td>\n",
       "      <td>1.0</td>\n",
       "      <td>[aspiring, human, resources, specialist]</td>\n",
       "      <td>[aspir, human, resourc, specialist]</td>\n",
       "    </tr>\n",
       "  </tbody>\n",
       "</table>\n",
       "</div>"
      ],
      "text/plain": [
       "                                                                                job_title  \\\n",
       "0  2019 C.T. Bauer College of Business Graduate and aspiring Human Resources professional   \n",
       "1                                                          Native English Teacher at EPIK   \n",
       "2                                                   Aspiring Human Resources Professional   \n",
       "3                                                  People Development Coordinator at Ryan   \n",
       "4                                                     Aspiring Human Resources Specialist   \n",
       "\n",
       "                              location connection  \\\n",
       "0                       Houston, Texas       85.0   \n",
       "1                               Canada      500+    \n",
       "2  Raleigh-Durham, North Carolina Area       44.0   \n",
       "3                        Denton, Texas      500+    \n",
       "4           Greater New York City Area        1.0   \n",
       "\n",
       "                                                                       job_title_nostop  \\\n",
       "0  [, ct, bauer, college, business, graduate, aspiring, human, resources, professional]   \n",
       "1                                                      [native, english, teacher, epik]   \n",
       "2                                            [aspiring, human, resources, professional]   \n",
       "3                                              [people, development, coordinator, ryan]   \n",
       "4                                              [aspiring, human, resources, specialist]   \n",
       "\n",
       "                                                         job_title_stemmed  \n",
       "0  [, ct, bauer, colleg, busi, graduat, aspir, human, resourc, profession]  \n",
       "1                                          [nativ, english, teacher, epik]  \n",
       "2                                      [aspir, human, resourc, profession]  \n",
       "3                                          [peopl, develop, coordin, ryan]  \n",
       "4                                      [aspir, human, resourc, specialist]  "
      ]
     },
     "execution_count": 24,
     "metadata": {},
     "output_type": "execute_result"
    }
   ],
   "source": [
    "def stemming(tokenized_text):\n",
    "    text = [ps.stem(word) for word in tokenized_text]\n",
    "    return text\n",
    "\n",
    "data_df['job_title_stemmed'] = data_df['job_title_nostop'].apply(lambda x: stemming(x))\n",
    "\n",
    "data_df.head()"
   ]
  },
  {
   "cell_type": "markdown",
   "id": "b9c88fc8",
   "metadata": {},
   "source": [
    "### Lemmatize text"
   ]
  },
  {
   "cell_type": "code",
   "execution_count": 25,
   "id": "6360fc33",
   "metadata": {},
   "outputs": [
    {
     "name": "stderr",
     "output_type": "stream",
     "text": [
      "[nltk_data] Downloading package wordnet to\n",
      "[nltk_data]     C:\\Users\\Home\\AppData\\Roaming\\nltk_data...\n",
      "[nltk_data]   Package wordnet is already up-to-date!\n"
     ]
    },
    {
     "data": {
      "text/plain": [
       "True"
      ]
     },
     "execution_count": 25,
     "metadata": {},
     "output_type": "execute_result"
    }
   ],
   "source": [
    "wn = nltk.WordNetLemmatizer()\n",
    "nltk.download('wordnet')"
   ]
  },
  {
   "cell_type": "code",
   "execution_count": 26,
   "id": "62ed2b8c",
   "metadata": {},
   "outputs": [
    {
     "data": {
      "text/html": [
       "<div>\n",
       "<style scoped>\n",
       "    .dataframe tbody tr th:only-of-type {\n",
       "        vertical-align: middle;\n",
       "    }\n",
       "\n",
       "    .dataframe tbody tr th {\n",
       "        vertical-align: top;\n",
       "    }\n",
       "\n",
       "    .dataframe thead th {\n",
       "        text-align: right;\n",
       "    }\n",
       "</style>\n",
       "<table border=\"1\" class=\"dataframe\">\n",
       "  <thead>\n",
       "    <tr style=\"text-align: right;\">\n",
       "      <th></th>\n",
       "      <th>job_title</th>\n",
       "      <th>location</th>\n",
       "      <th>connection</th>\n",
       "      <th>job_title_nostop</th>\n",
       "      <th>job_title_stemmed</th>\n",
       "      <th>job_title_lemmatized</th>\n",
       "    </tr>\n",
       "  </thead>\n",
       "  <tbody>\n",
       "    <tr>\n",
       "      <th>0</th>\n",
       "      <td>2019 C.T. Bauer College of Business Graduate and aspiring Human Resources professional</td>\n",
       "      <td>Houston, Texas</td>\n",
       "      <td>85.0</td>\n",
       "      <td>[, ct, bauer, college, business, graduate, aspiring, human, resources, professional]</td>\n",
       "      <td>[, ct, bauer, colleg, busi, graduat, aspir, human, resourc, profession]</td>\n",
       "      <td>[, ct, bauer, college, business, graduate, aspiring, human, resource, professional]</td>\n",
       "    </tr>\n",
       "    <tr>\n",
       "      <th>1</th>\n",
       "      <td>Native English Teacher at EPIK</td>\n",
       "      <td>Canada</td>\n",
       "      <td>500+</td>\n",
       "      <td>[native, english, teacher, epik]</td>\n",
       "      <td>[nativ, english, teacher, epik]</td>\n",
       "      <td>[native, english, teacher, epik]</td>\n",
       "    </tr>\n",
       "    <tr>\n",
       "      <th>2</th>\n",
       "      <td>Aspiring Human Resources Professional</td>\n",
       "      <td>Raleigh-Durham, North Carolina Area</td>\n",
       "      <td>44.0</td>\n",
       "      <td>[aspiring, human, resources, professional]</td>\n",
       "      <td>[aspir, human, resourc, profession]</td>\n",
       "      <td>[aspiring, human, resource, professional]</td>\n",
       "    </tr>\n",
       "    <tr>\n",
       "      <th>3</th>\n",
       "      <td>People Development Coordinator at Ryan</td>\n",
       "      <td>Denton, Texas</td>\n",
       "      <td>500+</td>\n",
       "      <td>[people, development, coordinator, ryan]</td>\n",
       "      <td>[peopl, develop, coordin, ryan]</td>\n",
       "      <td>[people, development, coordinator, ryan]</td>\n",
       "    </tr>\n",
       "    <tr>\n",
       "      <th>4</th>\n",
       "      <td>Aspiring Human Resources Specialist</td>\n",
       "      <td>Greater New York City Area</td>\n",
       "      <td>1.0</td>\n",
       "      <td>[aspiring, human, resources, specialist]</td>\n",
       "      <td>[aspir, human, resourc, specialist]</td>\n",
       "      <td>[aspiring, human, resource, specialist]</td>\n",
       "    </tr>\n",
       "  </tbody>\n",
       "</table>\n",
       "</div>"
      ],
      "text/plain": [
       "                                                                                job_title  \\\n",
       "0  2019 C.T. Bauer College of Business Graduate and aspiring Human Resources professional   \n",
       "1                                                          Native English Teacher at EPIK   \n",
       "2                                                   Aspiring Human Resources Professional   \n",
       "3                                                  People Development Coordinator at Ryan   \n",
       "4                                                     Aspiring Human Resources Specialist   \n",
       "\n",
       "                              location connection  \\\n",
       "0                       Houston, Texas       85.0   \n",
       "1                               Canada      500+    \n",
       "2  Raleigh-Durham, North Carolina Area       44.0   \n",
       "3                        Denton, Texas      500+    \n",
       "4           Greater New York City Area        1.0   \n",
       "\n",
       "                                                                       job_title_nostop  \\\n",
       "0  [, ct, bauer, college, business, graduate, aspiring, human, resources, professional]   \n",
       "1                                                      [native, english, teacher, epik]   \n",
       "2                                            [aspiring, human, resources, professional]   \n",
       "3                                              [people, development, coordinator, ryan]   \n",
       "4                                              [aspiring, human, resources, specialist]   \n",
       "\n",
       "                                                         job_title_stemmed  \\\n",
       "0  [, ct, bauer, colleg, busi, graduat, aspir, human, resourc, profession]   \n",
       "1                                          [nativ, english, teacher, epik]   \n",
       "2                                      [aspir, human, resourc, profession]   \n",
       "3                                          [peopl, develop, coordin, ryan]   \n",
       "4                                      [aspir, human, resourc, specialist]   \n",
       "\n",
       "                                                                  job_title_lemmatized  \n",
       "0  [, ct, bauer, college, business, graduate, aspiring, human, resource, professional]  \n",
       "1                                                     [native, english, teacher, epik]  \n",
       "2                                            [aspiring, human, resource, professional]  \n",
       "3                                             [people, development, coordinator, ryan]  \n",
       "4                                              [aspiring, human, resource, specialist]  "
      ]
     },
     "execution_count": 26,
     "metadata": {},
     "output_type": "execute_result"
    }
   ],
   "source": [
    "def lemmatizing(tokenized_text):\n",
    "    text = [wn.lemmatize(word) for word in tokenized_text]\n",
    "    return text\n",
    "\n",
    "data_df['job_title_lemmatized'] = data_df['job_title_nostop'].apply(lambda x: lemmatizing(x))\n",
    "\n",
    "data_df.head()"
   ]
  },
  {
   "cell_type": "markdown",
   "id": "5db4559a",
   "metadata": {},
   "source": [
    "### Exploratory Data Analysis"
   ]
  },
  {
   "cell_type": "code",
   "execution_count": 27,
   "id": "ff79af0f",
   "metadata": {},
   "outputs": [],
   "source": [
    "import matplotlib.pyplot as plt\n",
    "import seaborn as sns\n",
    "%matplotlib inline"
   ]
  },
  {
   "cell_type": "code",
   "execution_count": 28,
   "id": "1495491b",
   "metadata": {},
   "outputs": [
    {
     "data": {
      "image/png": "[encoded data removed]",
      "text/plain": [
       "<Figure size 432x1080 with 1 Axes>"
      ]
     },
     "metadata": {},
     "output_type": "display_data"
    }
   ],
   "source": [
    "sns.set_theme(style=\"whitegrid\")\n",
    "f, ax = plt.subplots(figsize=(6, 15))\n",
    "sns.set_color_codes(\"pastel\")\n",
    "\n",
    "locations = data_df['location'].value_counts()\n",
    "sns.barplot(y=locations.index, x=locations, data=data_df, color='b')\n",
    "\n",
    "ax.set(xlim=(0, 4), ylabel=\"\",\n",
    "       xlabel=\"Locations\")\n",
    "sns.despine(left=True, bottom=True)"
   ]
  },
  {
   "cell_type": "code",
   "execution_count": 29,
   "id": "d7e10890",
   "metadata": {},
   "outputs": [
    {
     "data": {
      "image/png": "[encoded data removed]",
      "text/plain": [
       "<Figure size 432x1080 with 1 Axes>"
      ]
     },
     "metadata": {},
     "output_type": "display_data"
    }
   ],
   "source": [
    "sns.set_theme(style=\"whitegrid\")\n",
    "f, ax = plt.subplots(figsize=(6, 15))\n",
    "sns.set_color_codes(\"pastel\")\n",
    "\n",
    "connection = data_df['connection'].value_counts()\n",
    "sns.barplot(y=connection.index, x=connection, data=data_df, color='b')\n",
    "\n",
    "ax.set(xlim=(0, 16), ylabel=\"\",\n",
    "       xlabel=\"Connections\")\n",
    "sns.despine(left=True, bottom=True)"
   ]
  },
  {
   "cell_type": "code",
   "execution_count": null,
   "id": "980852bb",
   "metadata": {},
   "outputs": [],
   "source": []
  },
  {
   "cell_type": "code",
   "execution_count": null,
   "id": "6a59128e",
   "metadata": {},
   "outputs": [],
   "source": []
  }
 ],
 "metadata": {
  "kernelspec": {
   "display_name": "Python 3 (ipykernel)",
   "language": "python",
   "name": "python3"
  },
  "language_info": {
   "codemirror_mode": {
    "name": "ipython",
    "version": 3
   },
   "file_extension": ".py",
   "mimetype": "text/x-python",
   "name": "python",
   "nbconvert_exporter": "python",
   "pygments_lexer": "ipython3",
   "version": "3.8.11"
  }
 },
 "nbformat": 4,
 "nbformat_minor": 5
}
